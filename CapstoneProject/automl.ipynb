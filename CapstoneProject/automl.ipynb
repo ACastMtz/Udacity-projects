{
 "cells": [
  {
   "cell_type": "markdown",
   "metadata": {},
   "source": [
    "# Automated ML\n"
   ]
  },
  {
   "cell_type": "markdown",
   "metadata": {},
   "source": [
    "Due to the new update to the xgboost framework, models are now saved differently.\n",
    "This however has not been taken into consideration in the azure core package so problems arose\n",
    "when trying to retrieve and save the trained model. Hence, the xgboost version is changed to the last one still handling models in .pkl format. "
   ]
  },
  {
   "cell_type": "code",
   "execution_count": 1,
   "metadata": {
    "gather": {
     "logged": 1615132311882
    },
    "jupyter": {
     "outputs_hidden": false,
     "source_hidden": false
    },
    "nteract": {
     "transient": {
      "deleting": false
     }
    }
   },
   "outputs": [
    {
     "name": "stdout",
     "output_type": "stream",
     "text": [
      "Collecting package metadata (repodata.json): done\n",
      "Solving environment: failed\n",
      "\n",
      "PackagesNotFoundError: The following packages are missing from the target environment:\n",
      "  - xgboost\n",
      "\n",
      "\n",
      "\n",
      "Note: you may need to restart the kernel to use updated packages.\n",
      "Collecting xgboost==0.90\n",
      "  Downloading xgboost-0.90-py2.py3-none-manylinux1_x86_64.whl (142.8 MB)\n",
      "\u001b[K     |████████████████████████████████| 142.8 MB 25 kB/s /s eta 0:00:01███▉                     | 48.5 MB 6.2 MB/s eta 0:00:161\n",
      "\u001b[?25hRequirement already satisfied: scipy in /anaconda/envs/azureml_py36/lib/python3.6/site-packages (from xgboost==0.90) (1.5.2)\n",
      "Requirement already satisfied: numpy in /anaconda/envs/azureml_py36/lib/python3.6/site-packages (from xgboost==0.90) (1.18.5)\n",
      "Installing collected packages: xgboost\n",
      "  Attempting uninstall: xgboost\n",
      "    Found existing installation: xgboost 1.3.3\n",
      "    Uninstalling xgboost-1.3.3:\n",
      "      Successfully uninstalled xgboost-1.3.3\n",
      "Successfully installed xgboost-0.90\n",
      "Note: you may need to restart the kernel to use updated packages.\n",
      "0.90\n"
     ]
    }
   ],
   "source": [
    "# Pin the xgboost dependency to an older version\n",
    "%conda remove xgboost\n",
    "%pip install xgboost==0.90\n",
    "\n",
    "import xgboost\n",
    "print(xgboost.__version__)"
   ]
  },
  {
   "cell_type": "markdown",
   "metadata": {},
   "source": [
    "TODO: Import Dependencies. In the cell below, import all the dependencies that you will need to complete the project."
   ]
  },
  {
   "cell_type": "code",
   "execution_count": 2,
   "metadata": {
    "gather": {
     "logged": 1615132344048
    },
    "jupyter": {
     "outputs_hidden": false,
     "source_hidden": false
    },
    "nteract": {
     "transient": {
      "deleting": false
     }
    }
   },
   "outputs": [],
   "source": [
    "from azureml.core import Workspace, Experiment\n",
    "from azureml.core.compute import ComputeTarget, AmlCompute\n",
    "from azureml.core.compute_target import ComputeTargetException\n",
    "from azureml.widgets import RunDetails\n",
    "from azureml.train.sklearn import SKLearn\n",
    "from azureml.core.environment import Environment \n",
    "from azureml.train.automl import AutoMLConfig\n",
    "from azureml.core.dataset import Dataset\n",
    "from azureml.core.model import InferenceConfig \n",
    "from azureml.core.webservice import AciWebservice, Webservice\n",
    "from azureml.core.model import Model\n",
    "\n",
    "\n",
    "import os\n",
    "import joblib\n",
    "import pandas as pd\n",
    "import json\n",
    "import logging\n",
    "from train import data_process"
   ]
  },
  {
   "cell_type": "markdown",
   "metadata": {},
   "source": [
    "## Workspace Configuration"
   ]
  },
  {
   "cell_type": "code",
   "execution_count": 3,
   "metadata": {
    "gather": {
     "logged": 1615132381858
    }
   },
   "outputs": [
    {
     "name": "stdout",
     "output_type": "stream",
     "text": [
      "Workspace name: quick-starts-ws-140376\n",
      "Azure region: southcentralus\n",
      "Subscription id: d4ad7261-832d-46b2-b093-22156001df5b\n",
      "Resource group: aml-quickstarts-140376\n"
     ]
    }
   ],
   "source": [
    "ws = Workspace.from_config()\n",
    "exp = Experiment(workspace=ws, name=\"udacity-project\")\n",
    "\n",
    "print('Workspace name: ' + ws.name, \n",
    "      'Azure region: ' + ws.location, \n",
    "      'Subscription id: ' + ws.subscription_id, \n",
    "      'Resource group: ' + ws.resource_group, sep = '\\n')\n",
    "\n",
    "run = exp.start_logging()"
   ]
  },
  {
   "cell_type": "markdown",
   "metadata": {},
   "source": [
    "## Create compute cluster"
   ]
  },
  {
   "cell_type": "code",
   "execution_count": 4,
   "metadata": {
    "gather": {
     "logged": 1615132426283
    },
    "jupyter": {
     "outputs_hidden": false,
     "source_hidden": false
    },
    "nteract": {
     "transient": {
      "deleting": false
     }
    }
   },
   "outputs": [
    {
     "name": "stdout",
     "output_type": "stream",
     "text": [
      "Creating\n",
      "Succeeded\n",
      "AmlCompute wait for completion finished\n",
      "\n",
      "Minimum number of nodes requested have been provisioned\n"
     ]
    }
   ],
   "source": [
    "# Choose a name for your cluster.\n",
    "cpu_cluster_name = \"cpu-cluster\"\n",
    "\n",
    "# Verify that cluster does not exist already\n",
    "try:\n",
    "    compute_target = ComputeTarget(workspace=ws, name=cpu_cluster_name)\n",
    "    print('Found existing cluster, use it.')\n",
    "except ComputeTargetException:\n",
    "    compute_config = AmlCompute.provisioning_configuration(vm_size='STANDARD_D2_V2',\n",
    "                                                           max_nodes=4)\n",
    "    compute_target = ComputeTarget.create(ws, cpu_cluster_name, compute_config)\n",
    "\n",
    "compute_target.wait_for_completion(show_output=True)"
   ]
  },
  {
   "cell_type": "markdown",
   "metadata": {},
   "source": [
    "## Dataset\n",
    "\n",
    "### Overview\n",
    "\n",
    "In this project, the *lending club* dataset from the LendingClub American peer-to-peer lending company was used. The purpose is to use data for risk analytics and minimization in a banking and financial context. To achieve that, statistical information about past loan applicants is used to build a model using supervised learning, where the labels are whether or not the applicant failed to fully repay the loan, to be able to predict if a new applicant is likely to repay the loan. The aim is for the model to identify patterns in the dataset that can be used to determine the outcome of the new application based on the financial history of the applicant. In this way, the probability of defaulting the loan can be assessed and lenders can make an informed decision accordingly that may reduce the loss of business for the company by cutting down the credit loss, e.g. by denying the loan, raising interest rates, offering a different loan amount, etc.\n",
    "\n",
    "The task at hand is therefore, not only to train an accurate predicitive model using a logistic regression algorithm for classification, but also to gain an insight into the most important features that determine the result yielded by the model. This allows the company to understand which variables are strong indicators of loan default and apply this knowledge in future risk assessment.\n",
    "\n",
    "Please note that here only an overview of the dataset is provided and the actual EDA process is carried out in the `train.py` script.\n",
    "\n",
    "Below is a table with all the information available in the dataset for training the model.\n",
    "\n",
    "\n",
    "|      LoanStatNew     |                                                                                                Description                                                                                               |\n",
    "|:--------------------:|:--------------------------------------------------------------------------------------------------------------------------------------------------------------------------------------------------------:|\n",
    "| loan_amnt            | The listed amount of the loan applied for by the borrower. If at some point in time, the credit department reduces the loan amount, then it will be reflected in this value.                             |\n",
    "| term                 | The number of payments on the loan. Values are in months and can be either 36 or 60.                                                                                                                     |\n",
    "| int_rate             | Interest Rate on the loan                                                                                                                                                                                |\n",
    "| installment          | The monthly payment owed by the borrower if the loan originates.                                                                                                                                         |\n",
    "| grade                | LC assigned loan grade                                                                                                                                                                                   |\n",
    "| sub_grade            | LC assigned loan subgrade                                                                                                                                                                                |\n",
    "| emp_title            | The job title supplied by the Borrower when applying for the loan.*                                                                                                                                      |\n",
    "| emp_length           | Employment length in years. Possible values are between 0 and 10 where 0 means less than one year and 10 means ten or more years.                                                                        |\n",
    "| home_ownership       | The home ownership status provided by the borrower during registration or obtained from the credit report. Our values are: RENT, OWN, MORTGAGE, OTHER                                                    |\n",
    "| annual_inc           | The self-reported annual income provided by the borrower during registration.                                                                                                                            |\n",
    "| verification_status  | Indicates if income was verified by LC, not verified, or if the income source was verified                                                                                                               |\n",
    "| issue_d              | The month which the loan was funded                                                                                                                                                                      |\n",
    "| loan_status          | Current status of the loan                                                                                                                                                                               |\n",
    "| purpose              | A category provided by the borrower for the loan request.                                                                                                                                                |\n",
    "| title                | The loan title provided by the borrower                                                                                                                                                                  |\n",
    "| zip_code             | The first 3 numbers of the zip code provided by the borrower in the loan application.                                                                                                                    |\n",
    "| addr_state           | The state provided by the borrower in the loan application                                                                                                                                               |\n",
    "| dti                  | A ratio calculated using the borrower’s total monthly debt payments on the total debt obligations, excluding mortgage and the requested LC loan, divided by the borrower’s self-reported monthly income. |\n",
    "| earliest_cr_line     | The month the borrower's earliest reported credit line was opened                                                                                                                                        |\n",
    "| open_acc             | The number of open credit lines in the borrower's credit file.                                                                                                                                           |\n",
    "| pub_rec              | Number of derogatory public records                                                                                                                                                                      |\n",
    "| revol_bal            | Total credit revolving balance                                                                                                                                                                           |\n",
    "| revol_util           | Revolving line utilization rate, or the amount of credit the borrower is using relative to all available revolving credit.                                                                               |\n",
    "| total_acc            | The total number of credit lines currently in the borrower's credit file                                                                                                                                 |\n",
    "| initial_list_status  | The initial listing status of the loan. Possible values are – W, F                                                                                                                                       |\n",
    "| application_type     | Indicates whether the loan is an individual application or a joint application with two co-borrowers                                                                                                     |\n",
    "| mort_acc             | Number of mortgage accounts.                                                                                                                                                                             |\n",
    "| pub_rec_bankruptcies | Number of public record bankruptcies                                                                                                                                                                     |\n"
   ]
  },
  {
   "cell_type": "markdown",
   "metadata": {},
   "source": [
    "TODO: Get data. In the cell below, write code to access the data you will be using in this project. Remember that the dataset needs to be external."
   ]
  },
  {
   "cell_type": "code",
   "execution_count": 5,
   "metadata": {
    "gather": {
     "logged": 1615132481818
    },
    "scrolled": false
   },
   "outputs": [
    {
     "name": "stdout",
     "output_type": "stream",
     "text": [
      "Uploading an estimated of 10 files\n",
      "Uploading ./.amlignore\n",
      "Uploaded ./.amlignore, 1 files out of an estimated total of 10\n",
      "Uploading ./.amlignore.amltmp\n",
      "Uploaded ./.amlignore.amltmp, 2 files out of an estimated total of 10\n",
      "Uploading ./automl.ipynb\n",
      "Uploaded ./automl.ipynb, 3 files out of an estimated total of 10\n",
      "Uploading ./endpoint.py\n",
      "Uploaded ./endpoint.py, 4 files out of an estimated total of 10\n",
      "Uploading ./hyperparameter_tuning.ipynb\n",
      "Uploaded ./hyperparameter_tuning.ipynb, 5 files out of an estimated total of 10\n",
      "Uploading ./train.py\n",
      "Uploaded ./train.py, 6 files out of an estimated total of 10\n",
      "Uploading ./.ipynb_checkpoints/automl-checkpoint.ipynb\n",
      "Uploaded ./.ipynb_checkpoints/automl-checkpoint.ipynb, 7 files out of an estimated total of 10\n",
      "Uploading ./__pycache__/train.cpython-36.pyc\n",
      "Uploaded ./__pycache__/train.cpython-36.pyc, 8 files out of an estimated total of 10\n",
      "Uploading ./data.csv\n",
      "Uploaded ./data.csv, 9 files out of an estimated total of 10\n",
      "Uploading ./Data/lending_club_loan.csv\n",
      "Uploaded ./Data/lending_club_loan.csv, 10 files out of an estimated total of 10\n",
      "Uploaded 10 files\n"
     ]
    }
   ],
   "source": [
    "# Data was uploaded from a local file\n",
    "df = pd.read_csv('./Data/lending_club_loan.csv')\n",
    "\n",
    "# Use the clean_data function to clean your data.\n",
    "x, y = data_process(df)\n",
    "ds_df = pd.concat([x,y],axis=1)\n",
    "\n",
    "# Save data to a csv and then upload it for the automl run\n",
    "pd.DataFrame(ds_df).to_csv('./data.csv', index=False)\n",
    "\n",
    "dataset = ws.get_default_datastore()\n",
    "dataset.upload(src_dir = './', overwrite = True, show_progress = True)\n",
    "train_data = Dataset.Tabular.from_delimited_files(\n",
    "    path = dataset.path('./data.csv')\n",
    ")"
   ]
  },
  {
   "cell_type": "markdown",
   "metadata": {},
   "source": [
    "## AutoML Configuration\n",
    "\n",
    "The automl settings and cofiguration in order of appearance are:\n",
    "\n",
    "`enable_early_stopping` : this parameter allows for the run to be stopped if the model's score has not benn iteratively improving.\n",
    "\n",
    "`max_concurrent_iterations': the maximum number of iterations allowed to be executed parallelly.\n",
    "\n",
    "`max_cores_per_iteration`: cores from compute that are to be used per each iteration during training (-1 means all available).\n",
    "\n",
    "`verbosity` : amount of information included in the training logs\n",
    "\n",
    "`compute_traget` : compute to be used for training\n",
    "\n",
    "`experiment_timeout_minutes` : defines how long the experiment can be run, if too low the experiment might not run, if too high experiment time out failures may occur and lead to unnecessary expenses.\n",
    "\n",
    "`task` : type of experiment, in this case, classification.\n",
    "\n",
    "`primary_metric` : main metric for the model to look at during training.\n",
    "\n",
    "`training_data` : data to use for training the model.\n",
    "\n",
    "`label_column_name` : name of column containing the labels for supervised training.\n",
    "\n",
    "`n_cross_validations` : number of cross validations to perform after the normal training run. Useful if no validation set is provided, the metrics' values are averaged over (in this case 3) different sets of values. \n",
    "\n"
   ]
  },
  {
   "cell_type": "code",
   "execution_count": 6,
   "metadata": {
    "gather": {
     "logged": 1615132512400
    }
   },
   "outputs": [],
   "source": [
    "# TODO: Put your automl settings here\n",
    "automl_settings = {\n",
    "    'enable_early_stopping': True,\n",
    "    'max_concurrent_iterations': 4,\n",
    "    'max_cores_per_iteration': -1,\n",
    "    'verbosity' : logging.INFO\n",
    "}\n",
    "\n",
    "# TODO: Put your automl config here\n",
    "automl_config = AutoMLConfig(\n",
    "    compute_target = compute_target,\n",
    "    experiment_timeout_minutes=60,\n",
    "    task='classification',\n",
    "    primary_metric = 'accuracy',\n",
    "    training_data=train_data,\n",
    "    label_column_name='loan_repaid',\n",
    "    n_cross_validations = 3,\n",
    "    **automl_settings\n",
    ")"
   ]
  },
  {
   "cell_type": "code",
   "execution_count": 7,
   "metadata": {
    "gather": {
     "logged": 1615136579669
    }
   },
   "outputs": [
    {
     "name": "stdout",
     "output_type": "stream",
     "text": [
      "Running on remote.\n",
      "No run_configuration provided, running on cpu-cluster with default configuration\n",
      "Running on remote compute: cpu-cluster\n",
      "Parent Run ID: AutoML_3c68e43a-bb2a-4c74-96e1-40f97c633e82\n",
      "\n",
      "Current status: DatasetEvaluation. Gathering dataset statistics.\n",
      "Current status: FeaturesGeneration. Generating features for the dataset.\n",
      "Current status: DatasetFeaturization. Beginning to fit featurizers and featurize the dataset.\n",
      "Current status: DatasetCrossValidationSplit. Generating individually featurized CV splits.\n",
      "Current status: ModelSelection. Beginning model selection.\n",
      "\n",
      "****************************************************************************************************\n",
      "DATA GUARDRAILS: \n",
      "\n",
      "TYPE:         Class balancing detection\n",
      "STATUS:       PASSED\n",
      "DESCRIPTION:  Your inputs were analyzed, and all classes are balanced in your training data.\n",
      "              Learn more about imbalanced data: https://aka.ms/AutomatedMLImbalancedData\n",
      "\n",
      "****************************************************************************************************\n",
      "\n",
      "TYPE:         Missing feature values imputation\n",
      "STATUS:       PASSED\n",
      "DESCRIPTION:  No feature missing values were detected in the training data.\n",
      "              Learn more about missing value imputation: https://aka.ms/AutomatedMLFeaturization\n",
      "\n",
      "****************************************************************************************************\n",
      "\n",
      "TYPE:         High cardinality feature detection\n",
      "STATUS:       PASSED\n",
      "DESCRIPTION:  Your inputs were analyzed, and no high cardinality features were detected.\n",
      "              Learn more about high cardinality feature handling: https://aka.ms/AutomatedMLFeaturization\n",
      "\n",
      "****************************************************************************************************\n",
      "\n",
      "****************************************************************************************************\n",
      "ITERATION: The iteration being evaluated.\n",
      "PIPELINE: A summary description of the pipeline being evaluated.\n",
      "DURATION: Time taken for the current iteration.\n",
      "METRIC: The result of computing score on the fitted pipeline.\n",
      "BEST: The best observed score thus far.\n",
      "****************************************************************************************************\n",
      "\n",
      " ITERATION   PIPELINE                                       DURATION      METRIC      BEST\n",
      "         3   MaxAbsScaler RandomForest                      0:01:23       0.8038    0.8038\n",
      "         2   MaxAbsScaler RandomForest                      0:01:22       0.8658    0.8658\n",
      "         5   MaxAbsScaler RandomForest                      0:01:11       0.7297    0.8658\n",
      "         0   MaxAbsScaler LightGBM                          0:03:44       0.8896    0.8896\n",
      "         4   MaxAbsScaler RandomForest                      0:04:08       0.7658    0.8896\n",
      "         1   MaxAbsScaler XGBoostClassifier                 0:04:54       0.8885    0.8896\n",
      "         6   SparseNormalizer XGBoostClassifier             0:02:44       0.8883    0.8896\n",
      "         9   SparseNormalizer XGBoostClassifier             0:01:46       0.8881    0.8896\n",
      "         7   SparseNormalizer XGBoostClassifier             0:03:37       0.8888    0.8896\n",
      "         8   SparseNormalizer XGBoostClassifier             0:03:59       0.8889    0.8896\n",
      "        12   StandardScalerWrapper RandomForest             0:01:37       0.8850    0.8896\n",
      "        10   MaxAbsScaler GradientBoosting                  0:04:08       0.8595    0.8896\n",
      "        13   MaxAbsScaler RandomForest                      0:02:03       0.8038    0.8896\n",
      "        11   MaxAbsScaler RandomForest                      0:04:38       0.8038    0.8896\n",
      "        14   MaxAbsScaler LogisticRegression                0:02:05       0.8888    0.8896\n",
      "        16   MaxAbsScaler LightGBM                          0:01:22       0.8038    0.8896\n",
      "        17   MaxAbsScaler LightGBM                          0:01:13       0.8038    0.8896\n",
      "        18   SparseNormalizer XGBoostClassifier             0:02:30       0.8888    0.8896\n",
      "        20   StandardScalerWrapper ExtremeRandomTrees       0:02:11       0.8555    0.8896\n",
      "        15   MaxAbsScaler ExtremeRandomTrees                0:06:09       0.8038    0.8896\n",
      "        21   StandardScalerWrapper ExtremeRandomTrees       0:01:28       0.8045    0.8896\n",
      "        19   SparseNormalizer XGBoostClassifier             0:05:15       0.8889    0.8896\n",
      "        24   MaxAbsScaler LightGBM                          0:01:21       0.8069    0.8896\n",
      "        22   SparseNormalizer XGBoostClassifier             0:02:26       0.8886    0.8896\n",
      "        25   MaxAbsScaler LightGBM                          0:01:10       0.8038    0.8896\n",
      "        23   StandardScalerWrapper LogisticRegression       0:03:54       0.8890    0.8896\n",
      "        26   SparseNormalizer XGBoostClassifier             0:03:26       0.8881    0.8896\n",
      "        30   SparseNormalizer LightGBM                      0:01:31       0.8654    0.8896\n",
      "        28   SparseNormalizer XGBoostClassifier             0:05:47       0.8889    0.8896\n",
      "        27   SparseNormalizer XGBoostClassifier             0:08:18       0.8889    0.8896\n",
      "        31   SparseNormalizer XGBoostClassifier             0:03:53       0.8889    0.8896\n",
      "        34   MaxAbsScaler LightGBM                          0:02:06       0.8888    0.8896\n",
      "        33   SparseNormalizer XGBoostClassifier             0:03:13       0.8889    0.8896\n",
      "        29   SparseNormalizer XGBoostClassifier             0:10:07          nan    0.8896\n",
      "        32   SparseNormalizer XGBoostClassifier             0:04:56          nan    0.8896\n",
      "        35                                                  0:00:17          nan    0.8896\n",
      "        36    VotingEnsemble                                0:04:28       0.8897    0.8897\n",
      "        37    StackEnsemble                                 0:06:13       0.8895    0.8897\n"
     ]
    },
    {
     "data": {
      "text/plain": [
       "{'runId': 'AutoML_3c68e43a-bb2a-4c74-96e1-40f97c633e82',\n",
       " 'target': 'cpu-cluster',\n",
       " 'status': 'Completed',\n",
       " 'startTimeUtc': '2021-03-13T20:53:00.616099Z',\n",
       " 'endTimeUtc': '2021-03-13T22:05:22.877194Z',\n",
       " 'properties': {'num_iterations': '1000',\n",
       "  'training_type': 'TrainFull',\n",
       "  'acquisition_function': 'EI',\n",
       "  'primary_metric': 'accuracy',\n",
       "  'train_split': '0',\n",
       "  'acquisition_parameter': '0',\n",
       "  'num_cross_validation': '3',\n",
       "  'target': 'cpu-cluster',\n",
       "  'AMLSettingsJsonString': '{\"path\":null,\"name\":\"udacity-project\",\"subscription_id\":\"d4ad7261-832d-46b2-b093-22156001df5b\",\"resource_group\":\"aml-quickstarts-140376\",\"workspace_name\":\"quick-starts-ws-140376\",\"region\":\"southcentralus\",\"compute_target\":\"cpu-cluster\",\"spark_service\":null,\"azure_service\":\"remote\",\"many_models\":false,\"pipeline_fetch_max_batch_size\":1,\"iterations\":1000,\"primary_metric\":\"accuracy\",\"task_type\":\"classification\",\"data_script\":null,\"validation_size\":0.0,\"n_cross_validations\":3,\"y_min\":null,\"y_max\":null,\"num_classes\":null,\"featurization\":\"auto\",\"_ignore_package_version_incompatibilities\":false,\"is_timeseries\":false,\"max_cores_per_iteration\":-1,\"max_concurrent_iterations\":4,\"iteration_timeout_minutes\":null,\"mem_in_mb\":null,\"enforce_time_on_windows\":false,\"experiment_timeout_minutes\":60,\"experiment_exit_score\":null,\"whitelist_models\":null,\"blacklist_algos\":[\"TensorFlowLinearClassifier\",\"TensorFlowDNN\"],\"supported_models\":[\"SGD\",\"LinearSVM\",\"XGBoostClassifier\",\"MultinomialNaiveBayes\",\"AveragedPerceptronClassifier\",\"LogisticRegression\",\"RandomForest\",\"GradientBoosting\",\"SVM\",\"BernoulliNaiveBayes\",\"KNN\",\"LightGBM\",\"ExtremeRandomTrees\",\"TensorFlowLinearClassifier\",\"TensorFlowDNN\",\"DecisionTree\"],\"private_models\":[],\"auto_blacklist\":true,\"blacklist_samples_reached\":false,\"exclude_nan_labels\":true,\"verbosity\":20,\"_debug_log\":\"azureml_automl.log\",\"show_warnings\":false,\"model_explainability\":true,\"service_url\":null,\"sdk_url\":null,\"sdk_packages\":null,\"enable_onnx_compatible_models\":false,\"enable_split_onnx_featurizer_estimator_models\":false,\"vm_type\":\"STANDARD_D2_V2\",\"telemetry_verbosity\":20,\"send_telemetry\":true,\"enable_dnn\":false,\"scenario\":\"SDK-1.13.0\",\"environment_label\":null,\"force_text_dnn\":false,\"enable_feature_sweeping\":true,\"enable_early_stopping\":true,\"early_stopping_n_iters\":10,\"metrics\":null,\"enable_ensembling\":true,\"enable_stack_ensembling\":true,\"ensemble_iterations\":15,\"enable_tf\":false,\"enable_subsampling\":null,\"subsample_seed\":null,\"enable_nimbusml\":false,\"enable_streaming\":false,\"force_streaming\":false,\"track_child_runs\":true,\"allowed_private_models\":[],\"label_column_name\":\"loan_repaid\",\"weight_column_name\":null,\"cv_split_column_names\":null,\"enable_local_managed\":false,\"_local_managed_run_id\":null,\"cost_mode\":1,\"lag_length\":0,\"metric_operation\":\"maximize\",\"preprocess\":true}',\n",
       "  'DataPrepJsonString': '{\\\\\"training_data\\\\\": \\\\\"{\\\\\\\\\\\\\"blocks\\\\\\\\\\\\\": [{\\\\\\\\\\\\\"id\\\\\\\\\\\\\": \\\\\\\\\\\\\"a0648dad-22be-4b41-83be-39e31686e028\\\\\\\\\\\\\", \\\\\\\\\\\\\"type\\\\\\\\\\\\\": \\\\\\\\\\\\\"Microsoft.DPrep.GetDatastoreFilesBlock\\\\\\\\\\\\\", \\\\\\\\\\\\\"arguments\\\\\\\\\\\\\": {\\\\\\\\\\\\\"datastores\\\\\\\\\\\\\": [{\\\\\\\\\\\\\"datastoreName\\\\\\\\\\\\\": \\\\\\\\\\\\\"workspaceblobstore\\\\\\\\\\\\\", \\\\\\\\\\\\\"path\\\\\\\\\\\\\": \\\\\\\\\\\\\"./data.csv\\\\\\\\\\\\\", \\\\\\\\\\\\\"resourceGroup\\\\\\\\\\\\\": \\\\\\\\\\\\\"aml-quickstarts-140376\\\\\\\\\\\\\", \\\\\\\\\\\\\"subscription\\\\\\\\\\\\\": \\\\\\\\\\\\\"d4ad7261-832d-46b2-b093-22156001df5b\\\\\\\\\\\\\", \\\\\\\\\\\\\"workspaceName\\\\\\\\\\\\\": \\\\\\\\\\\\\"quick-starts-ws-140376\\\\\\\\\\\\\"}]}, \\\\\\\\\\\\\"localData\\\\\\\\\\\\\": {}, \\\\\\\\\\\\\"isEnabled\\\\\\\\\\\\\": true, \\\\\\\\\\\\\"name\\\\\\\\\\\\\": null, \\\\\\\\\\\\\"annotation\\\\\\\\\\\\\": null}, {\\\\\\\\\\\\\"id\\\\\\\\\\\\\": \\\\\\\\\\\\\"bfdd2294-a36c-4f35-9cce-b89967591772\\\\\\\\\\\\\", \\\\\\\\\\\\\"type\\\\\\\\\\\\\": \\\\\\\\\\\\\"Microsoft.DPrep.ParseDelimitedBlock\\\\\\\\\\\\\", \\\\\\\\\\\\\"arguments\\\\\\\\\\\\\": {\\\\\\\\\\\\\"columnHeadersMode\\\\\\\\\\\\\": 3, \\\\\\\\\\\\\"fileEncoding\\\\\\\\\\\\\": 0, \\\\\\\\\\\\\"handleQuotedLineBreaks\\\\\\\\\\\\\": false, \\\\\\\\\\\\\"preview\\\\\\\\\\\\\": false, \\\\\\\\\\\\\"separator\\\\\\\\\\\\\": \\\\\\\\\\\\\",\\\\\\\\\\\\\", \\\\\\\\\\\\\"skipRows\\\\\\\\\\\\\": 0, \\\\\\\\\\\\\"skipRowsMode\\\\\\\\\\\\\": 0}, \\\\\\\\\\\\\"localData\\\\\\\\\\\\\": {}, \\\\\\\\\\\\\"isEnabled\\\\\\\\\\\\\": true, \\\\\\\\\\\\\"name\\\\\\\\\\\\\": null, \\\\\\\\\\\\\"annotation\\\\\\\\\\\\\": null}, {\\\\\\\\\\\\\"id\\\\\\\\\\\\\": \\\\\\\\\\\\\"7e118d5b-3253-4ad8-ac14-b80044a08320\\\\\\\\\\\\\", \\\\\\\\\\\\\"type\\\\\\\\\\\\\": \\\\\\\\\\\\\"Microsoft.DPrep.DropColumnsBlock\\\\\\\\\\\\\", \\\\\\\\\\\\\"arguments\\\\\\\\\\\\\": {\\\\\\\\\\\\\"columns\\\\\\\\\\\\\": {\\\\\\\\\\\\\"type\\\\\\\\\\\\\": 0, \\\\\\\\\\\\\"details\\\\\\\\\\\\\": {\\\\\\\\\\\\\"selectedColumns\\\\\\\\\\\\\": [\\\\\\\\\\\\\"Path\\\\\\\\\\\\\"]}}}, \\\\\\\\\\\\\"localData\\\\\\\\\\\\\": {}, \\\\\\\\\\\\\"isEnabled\\\\\\\\\\\\\": true, \\\\\\\\\\\\\"name\\\\\\\\\\\\\": null, \\\\\\\\\\\\\"annotation\\\\\\\\\\\\\": null}, {\\\\\\\\\\\\\"id\\\\\\\\\\\\\": \\\\\\\\\\\\\"99af727e-2b2a-47c6-bf80-d338a4644609\\\\\\\\\\\\\", \\\\\\\\\\\\\"type\\\\\\\\\\\\\": \\\\\\\\\\\\\"Microsoft.DPrep.SetColumnTypesBlock\\\\\\\\\\\\\", \\\\\\\\\\\\\"arguments\\\\\\\\\\\\\": {\\\\\\\\\\\\\"columnConversion\\\\\\\\\\\\\": [{\\\\\\\\\\\\\"column\\\\\\\\\\\\\": {\\\\\\\\\\\\\"type\\\\\\\\\\\\\": 2, \\\\\\\\\\\\\"details\\\\\\\\\\\\\": {\\\\\\\\\\\\\"selectedColumn\\\\\\\\\\\\\": \\\\\\\\\\\\\"loan_amnt\\\\\\\\\\\\\"}}, \\\\\\\\\\\\\"typeProperty\\\\\\\\\\\\\": 3}, {\\\\\\\\\\\\\"column\\\\\\\\\\\\\": {\\\\\\\\\\\\\"type\\\\\\\\\\\\\": 2, \\\\\\\\\\\\\"details\\\\\\\\\\\\\": {\\\\\\\\\\\\\"selectedColumn\\\\\\\\\\\\\": \\\\\\\\\\\\\"term\\\\\\\\\\\\\"}}, \\\\\\\\\\\\\"typeProperty\\\\\\\\\\\\\": 2}, {\\\\\\\\\\\\\"column\\\\\\\\\\\\\": {\\\\\\\\\\\\\"type\\\\\\\\\\\\\": 2, \\\\\\\\\\\\\"details\\\\\\\\\\\\\": {\\\\\\\\\\\\\"selectedColumn\\\\\\\\\\\\\": \\\\\\\\\\\\\"int_rate\\\\\\\\\\\\\"}}, \\\\\\\\\\\\\"typeProperty\\\\\\\\\\\\\": 3}, {\\\\\\\\\\\\\"column\\\\\\\\\\\\\": {\\\\\\\\\\\\\"type\\\\\\\\\\\\\": 2, \\\\\\\\\\\\\"details\\\\\\\\\\\\\": {\\\\\\\\\\\\\"selectedColumn\\\\\\\\\\\\\": \\\\\\\\\\\\\"installment\\\\\\\\\\\\\"}}, \\\\\\\\\\\\\"typeProperty\\\\\\\\\\\\\": 3}, {\\\\\\\\\\\\\"column\\\\\\\\\\\\\": {\\\\\\\\\\\\\"type\\\\\\\\\\\\\": 2, \\\\\\\\\\\\\"details\\\\\\\\\\\\\": {\\\\\\\\\\\\\"selectedColumn\\\\\\\\\\\\\": \\\\\\\\\\\\\"annual_inc\\\\\\\\\\\\\"}}, \\\\\\\\\\\\\"typeProperty\\\\\\\\\\\\\": 3}, {\\\\\\\\\\\\\"column\\\\\\\\\\\\\": {\\\\\\\\\\\\\"type\\\\\\\\\\\\\": 2, \\\\\\\\\\\\\"details\\\\\\\\\\\\\": {\\\\\\\\\\\\\"selectedColumn\\\\\\\\\\\\\": \\\\\\\\\\\\\"dti\\\\\\\\\\\\\"}}, \\\\\\\\\\\\\"typeProperty\\\\\\\\\\\\\": 3}, {\\\\\\\\\\\\\"column\\\\\\\\\\\\\": {\\\\\\\\\\\\\"type\\\\\\\\\\\\\": 2, \\\\\\\\\\\\\"details\\\\\\\\\\\\\": {\\\\\\\\\\\\\"selectedColumn\\\\\\\\\\\\\": \\\\\\\\\\\\\"earliest_cr_line\\\\\\\\\\\\\"}}, \\\\\\\\\\\\\"typeProperty\\\\\\\\\\\\\": 2}, {\\\\\\\\\\\\\"column\\\\\\\\\\\\\": {\\\\\\\\\\\\\"type\\\\\\\\\\\\\": 2, \\\\\\\\\\\\\"details\\\\\\\\\\\\\": {\\\\\\\\\\\\\"selectedColumn\\\\\\\\\\\\\": \\\\\\\\\\\\\"open_acc\\\\\\\\\\\\\"}}, \\\\\\\\\\\\\"typeProperty\\\\\\\\\\\\\": 3}, {\\\\\\\\\\\\\"column\\\\\\\\\\\\\": {\\\\\\\\\\\\\"type\\\\\\\\\\\\\": 2, \\\\\\\\\\\\\"details\\\\\\\\\\\\\": {\\\\\\\\\\\\\"selectedColumn\\\\\\\\\\\\\": \\\\\\\\\\\\\"pub_rec\\\\\\\\\\\\\"}}, \\\\\\\\\\\\\"typeProperty\\\\\\\\\\\\\": 3}, {\\\\\\\\\\\\\"column\\\\\\\\\\\\\": {\\\\\\\\\\\\\"type\\\\\\\\\\\\\": 2, \\\\\\\\\\\\\"details\\\\\\\\\\\\\": {\\\\\\\\\\\\\"selectedColumn\\\\\\\\\\\\\": \\\\\\\\\\\\\"revol_bal\\\\\\\\\\\\\"}}, \\\\\\\\\\\\\"typeProperty\\\\\\\\\\\\\": 3}, {\\\\\\\\\\\\\"column\\\\\\\\\\\\\": {\\\\\\\\\\\\\"type\\\\\\\\\\\\\": 2, \\\\\\\\\\\\\"details\\\\\\\\\\\\\": {\\\\\\\\\\\\\"selectedColumn\\\\\\\\\\\\\": \\\\\\\\\\\\\"revol_util\\\\\\\\\\\\\"}}, \\\\\\\\\\\\\"typeProperty\\\\\\\\\\\\\": 3}, {\\\\\\\\\\\\\"column\\\\\\\\\\\\\": {\\\\\\\\\\\\\"type\\\\\\\\\\\\\": 2, \\\\\\\\\\\\\"details\\\\\\\\\\\\\": {\\\\\\\\\\\\\"selectedColumn\\\\\\\\\\\\\": \\\\\\\\\\\\\"total_acc\\\\\\\\\\\\\"}}, \\\\\\\\\\\\\"typeProperty\\\\\\\\\\\\\": 3}, {\\\\\\\\\\\\\"column\\\\\\\\\\\\\": {\\\\\\\\\\\\\"type\\\\\\\\\\\\\": 2, \\\\\\\\\\\\\"details\\\\\\\\\\\\\": {\\\\\\\\\\\\\"selectedColumn\\\\\\\\\\\\\": \\\\\\\\\\\\\"mort_acc\\\\\\\\\\\\\"}}, \\\\\\\\\\\\\"typeProperty\\\\\\\\\\\\\": 3}, {\\\\\\\\\\\\\"column\\\\\\\\\\\\\": {\\\\\\\\\\\\\"type\\\\\\\\\\\\\": 2, \\\\\\\\\\\\\"details\\\\\\\\\\\\\": {\\\\\\\\\\\\\"selectedColumn\\\\\\\\\\\\\": \\\\\\\\\\\\\"pub_rec_bankruptcies\\\\\\\\\\\\\"}}, \\\\\\\\\\\\\"typeProperty\\\\\\\\\\\\\": 3}, {\\\\\\\\\\\\\"column\\\\\\\\\\\\\": {\\\\\\\\\\\\\"type\\\\\\\\\\\\\": 2, \\\\\\\\\\\\\"details\\\\\\\\\\\\\": {\\\\\\\\\\\\\"selectedColumn\\\\\\\\\\\\\": \\\\\\\\\\\\\"zip_code\\\\\\\\\\\\\"}}, \\\\\\\\\\\\\"typeProperty\\\\\\\\\\\\\": 2}, {\\\\\\\\\\\\\"column\\\\\\\\\\\\\": {\\\\\\\\\\\\\"type\\\\\\\\\\\\\": 2, \\\\\\\\\\\\\"details\\\\\\\\\\\\\": {\\\\\\\\\\\\\"selectedColumn\\\\\\\\\\\\\": \\\\\\\\\\\\\"sub_grade_A2\\\\\\\\\\\\\"}}, \\\\\\\\\\\\\"typeProperty\\\\\\\\\\\\\": 2}, {\\\\\\\\\\\\\"column\\\\\\\\\\\\\": {\\\\\\\\\\\\\"type\\\\\\\\\\\\\": 2, \\\\\\\\\\\\\"details\\\\\\\\\\\\\": {\\\\\\\\\\\\\"selectedColumn\\\\\\\\\\\\\": \\\\\\\\\\\\\"sub_grade_A3\\\\\\\\\\\\\"}}, \\\\\\\\\\\\\"typeProperty\\\\\\\\\\\\\": 2}, {\\\\\\\\\\\\\"column\\\\\\\\\\\\\": {\\\\\\\\\\\\\"type\\\\\\\\\\\\\": 2, \\\\\\\\\\\\\"details\\\\\\\\\\\\\": {\\\\\\\\\\\\\"selectedColumn\\\\\\\\\\\\\": \\\\\\\\\\\\\"sub_grade_A4\\\\\\\\\\\\\"}}, \\\\\\\\\\\\\"typeProperty\\\\\\\\\\\\\": 2}, {\\\\\\\\\\\\\"column\\\\\\\\\\\\\": {\\\\\\\\\\\\\"type\\\\\\\\\\\\\": 2, \\\\\\\\\\\\\"details\\\\\\\\\\\\\": {\\\\\\\\\\\\\"selectedColumn\\\\\\\\\\\\\": \\\\\\\\\\\\\"sub_grade_A5\\\\\\\\\\\\\"}}, \\\\\\\\\\\\\"typeProperty\\\\\\\\\\\\\": 2}, {\\\\\\\\\\\\\"column\\\\\\\\\\\\\": {\\\\\\\\\\\\\"type\\\\\\\\\\\\\": 2, \\\\\\\\\\\\\"details\\\\\\\\\\\\\": {\\\\\\\\\\\\\"selectedColumn\\\\\\\\\\\\\": \\\\\\\\\\\\\"sub_grade_B1\\\\\\\\\\\\\"}}, \\\\\\\\\\\\\"typeProperty\\\\\\\\\\\\\": 2}, {\\\\\\\\\\\\\"column\\\\\\\\\\\\\": {\\\\\\\\\\\\\"type\\\\\\\\\\\\\": 2, \\\\\\\\\\\\\"details\\\\\\\\\\\\\": {\\\\\\\\\\\\\"selectedColumn\\\\\\\\\\\\\": \\\\\\\\\\\\\"sub_grade_B2\\\\\\\\\\\\\"}}, \\\\\\\\\\\\\"typeProperty\\\\\\\\\\\\\": 2}, {\\\\\\\\\\\\\"column\\\\\\\\\\\\\": {\\\\\\\\\\\\\"type\\\\\\\\\\\\\": 2, \\\\\\\\\\\\\"details\\\\\\\\\\\\\": {\\\\\\\\\\\\\"selectedColumn\\\\\\\\\\\\\": \\\\\\\\\\\\\"sub_grade_B3\\\\\\\\\\\\\"}}, \\\\\\\\\\\\\"typeProperty\\\\\\\\\\\\\": 2}, {\\\\\\\\\\\\\"column\\\\\\\\\\\\\": {\\\\\\\\\\\\\"type\\\\\\\\\\\\\": 2, \\\\\\\\\\\\\"details\\\\\\\\\\\\\": {\\\\\\\\\\\\\"selectedColumn\\\\\\\\\\\\\": \\\\\\\\\\\\\"sub_grade_B4\\\\\\\\\\\\\"}}, \\\\\\\\\\\\\"typeProperty\\\\\\\\\\\\\": 2}, {\\\\\\\\\\\\\"column\\\\\\\\\\\\\": {\\\\\\\\\\\\\"type\\\\\\\\\\\\\": 2, \\\\\\\\\\\\\"details\\\\\\\\\\\\\": {\\\\\\\\\\\\\"selectedColumn\\\\\\\\\\\\\": \\\\\\\\\\\\\"sub_grade_B5\\\\\\\\\\\\\"}}, \\\\\\\\\\\\\"typeProperty\\\\\\\\\\\\\": 2}, {\\\\\\\\\\\\\"column\\\\\\\\\\\\\": {\\\\\\\\\\\\\"type\\\\\\\\\\\\\": 2, \\\\\\\\\\\\\"details\\\\\\\\\\\\\": {\\\\\\\\\\\\\"selectedColumn\\\\\\\\\\\\\": \\\\\\\\\\\\\"sub_grade_C1\\\\\\\\\\\\\"}}, \\\\\\\\\\\\\"typeProperty\\\\\\\\\\\\\": 2}, {\\\\\\\\\\\\\"column\\\\\\\\\\\\\": {\\\\\\\\\\\\\"type\\\\\\\\\\\\\": 2, \\\\\\\\\\\\\"details\\\\\\\\\\\\\": {\\\\\\\\\\\\\"selectedColumn\\\\\\\\\\\\\": \\\\\\\\\\\\\"sub_grade_C2\\\\\\\\\\\\\"}}, \\\\\\\\\\\\\"typeProperty\\\\\\\\\\\\\": 2}, {\\\\\\\\\\\\\"column\\\\\\\\\\\\\": {\\\\\\\\\\\\\"type\\\\\\\\\\\\\": 2, \\\\\\\\\\\\\"details\\\\\\\\\\\\\": {\\\\\\\\\\\\\"selectedColumn\\\\\\\\\\\\\": \\\\\\\\\\\\\"sub_grade_C3\\\\\\\\\\\\\"}}, \\\\\\\\\\\\\"typeProperty\\\\\\\\\\\\\": 2}, {\\\\\\\\\\\\\"column\\\\\\\\\\\\\": {\\\\\\\\\\\\\"type\\\\\\\\\\\\\": 2, \\\\\\\\\\\\\"details\\\\\\\\\\\\\": {\\\\\\\\\\\\\"selectedColumn\\\\\\\\\\\\\": \\\\\\\\\\\\\"sub_grade_C4\\\\\\\\\\\\\"}}, \\\\\\\\\\\\\"typeProperty\\\\\\\\\\\\\": 2}, {\\\\\\\\\\\\\"column\\\\\\\\\\\\\": {\\\\\\\\\\\\\"type\\\\\\\\\\\\\": 2, \\\\\\\\\\\\\"details\\\\\\\\\\\\\": {\\\\\\\\\\\\\"selectedColumn\\\\\\\\\\\\\": \\\\\\\\\\\\\"sub_grade_C5\\\\\\\\\\\\\"}}, \\\\\\\\\\\\\"typeProperty\\\\\\\\\\\\\": 2}, {\\\\\\\\\\\\\"column\\\\\\\\\\\\\": {\\\\\\\\\\\\\"type\\\\\\\\\\\\\": 2, \\\\\\\\\\\\\"details\\\\\\\\\\\\\": {\\\\\\\\\\\\\"selectedColumn\\\\\\\\\\\\\": \\\\\\\\\\\\\"sub_grade_D1\\\\\\\\\\\\\"}}, \\\\\\\\\\\\\"typeProperty\\\\\\\\\\\\\": 2}, {\\\\\\\\\\\\\"column\\\\\\\\\\\\\": {\\\\\\\\\\\\\"type\\\\\\\\\\\\\": 2, \\\\\\\\\\\\\"details\\\\\\\\\\\\\": {\\\\\\\\\\\\\"selectedColumn\\\\\\\\\\\\\": \\\\\\\\\\\\\"sub_grade_D2\\\\\\\\\\\\\"}}, \\\\\\\\\\\\\"typeProperty\\\\\\\\\\\\\": 2}, {\\\\\\\\\\\\\"column\\\\\\\\\\\\\": {\\\\\\\\\\\\\"type\\\\\\\\\\\\\": 2, \\\\\\\\\\\\\"details\\\\\\\\\\\\\": {\\\\\\\\\\\\\"selectedColumn\\\\\\\\\\\\\": \\\\\\\\\\\\\"sub_grade_D3\\\\\\\\\\\\\"}}, \\\\\\\\\\\\\"typeProperty\\\\\\\\\\\\\": 2}, {\\\\\\\\\\\\\"column\\\\\\\\\\\\\": {\\\\\\\\\\\\\"type\\\\\\\\\\\\\": 2, \\\\\\\\\\\\\"details\\\\\\\\\\\\\": {\\\\\\\\\\\\\"selectedColumn\\\\\\\\\\\\\": \\\\\\\\\\\\\"sub_grade_D4\\\\\\\\\\\\\"}}, \\\\\\\\\\\\\"typeProperty\\\\\\\\\\\\\": 2}, {\\\\\\\\\\\\\"column\\\\\\\\\\\\\": {\\\\\\\\\\\\\"type\\\\\\\\\\\\\": 2, \\\\\\\\\\\\\"details\\\\\\\\\\\\\": {\\\\\\\\\\\\\"selectedColumn\\\\\\\\\\\\\": \\\\\\\\\\\\\"sub_grade_D5\\\\\\\\\\\\\"}}, \\\\\\\\\\\\\"typeProperty\\\\\\\\\\\\\": 2}, {\\\\\\\\\\\\\"column\\\\\\\\\\\\\": {\\\\\\\\\\\\\"type\\\\\\\\\\\\\": 2, \\\\\\\\\\\\\"details\\\\\\\\\\\\\": {\\\\\\\\\\\\\"selectedColumn\\\\\\\\\\\\\": \\\\\\\\\\\\\"sub_grade_E1\\\\\\\\\\\\\"}}, \\\\\\\\\\\\\"typeProperty\\\\\\\\\\\\\": 2}, {\\\\\\\\\\\\\"column\\\\\\\\\\\\\": {\\\\\\\\\\\\\"type\\\\\\\\\\\\\": 2, \\\\\\\\\\\\\"details\\\\\\\\\\\\\": {\\\\\\\\\\\\\"selectedColumn\\\\\\\\\\\\\": \\\\\\\\\\\\\"sub_grade_E2\\\\\\\\\\\\\"}}, \\\\\\\\\\\\\"typeProperty\\\\\\\\\\\\\": 2}, {\\\\\\\\\\\\\"column\\\\\\\\\\\\\": {\\\\\\\\\\\\\"type\\\\\\\\\\\\\": 2, \\\\\\\\\\\\\"details\\\\\\\\\\\\\": {\\\\\\\\\\\\\"selectedColumn\\\\\\\\\\\\\": \\\\\\\\\\\\\"sub_grade_E3\\\\\\\\\\\\\"}}, \\\\\\\\\\\\\"typeProperty\\\\\\\\\\\\\": 2}, {\\\\\\\\\\\\\"column\\\\\\\\\\\\\": {\\\\\\\\\\\\\"type\\\\\\\\\\\\\": 2, \\\\\\\\\\\\\"details\\\\\\\\\\\\\": {\\\\\\\\\\\\\"selectedColumn\\\\\\\\\\\\\": \\\\\\\\\\\\\"sub_grade_E4\\\\\\\\\\\\\"}}, \\\\\\\\\\\\\"typeProperty\\\\\\\\\\\\\": 2}, {\\\\\\\\\\\\\"column\\\\\\\\\\\\\": {\\\\\\\\\\\\\"type\\\\\\\\\\\\\": 2, \\\\\\\\\\\\\"details\\\\\\\\\\\\\": {\\\\\\\\\\\\\"selectedColumn\\\\\\\\\\\\\": \\\\\\\\\\\\\"sub_grade_E5\\\\\\\\\\\\\"}}, \\\\\\\\\\\\\"typeProperty\\\\\\\\\\\\\": 2}, {\\\\\\\\\\\\\"column\\\\\\\\\\\\\": {\\\\\\\\\\\\\"type\\\\\\\\\\\\\": 2, \\\\\\\\\\\\\"details\\\\\\\\\\\\\": {\\\\\\\\\\\\\"selectedColumn\\\\\\\\\\\\\": \\\\\\\\\\\\\"sub_grade_F1\\\\\\\\\\\\\"}}, \\\\\\\\\\\\\"typeProperty\\\\\\\\\\\\\": 2}, {\\\\\\\\\\\\\"column\\\\\\\\\\\\\": {\\\\\\\\\\\\\"type\\\\\\\\\\\\\": 2, \\\\\\\\\\\\\"details\\\\\\\\\\\\\": {\\\\\\\\\\\\\"selectedColumn\\\\\\\\\\\\\": \\\\\\\\\\\\\"sub_grade_F2\\\\\\\\\\\\\"}}, \\\\\\\\\\\\\"typeProperty\\\\\\\\\\\\\": 2}, {\\\\\\\\\\\\\"column\\\\\\\\\\\\\": {\\\\\\\\\\\\\"type\\\\\\\\\\\\\": 2, \\\\\\\\\\\\\"details\\\\\\\\\\\\\": {\\\\\\\\\\\\\"selectedColumn\\\\\\\\\\\\\": \\\\\\\\\\\\\"sub_grade_F3\\\\\\\\\\\\\"}}, \\\\\\\\\\\\\"typeProperty\\\\\\\\\\\\\": 2}, {\\\\\\\\\\\\\"column\\\\\\\\\\\\\": {\\\\\\\\\\\\\"type\\\\\\\\\\\\\": 2, \\\\\\\\\\\\\"details\\\\\\\\\\\\\": {\\\\\\\\\\\\\"selectedColumn\\\\\\\\\\\\\": \\\\\\\\\\\\\"sub_grade_F4\\\\\\\\\\\\\"}}, \\\\\\\\\\\\\"typeProperty\\\\\\\\\\\\\": 2}, {\\\\\\\\\\\\\"column\\\\\\\\\\\\\": {\\\\\\\\\\\\\"type\\\\\\\\\\\\\": 2, \\\\\\\\\\\\\"details\\\\\\\\\\\\\": {\\\\\\\\\\\\\"selectedColumn\\\\\\\\\\\\\": \\\\\\\\\\\\\"sub_grade_F5\\\\\\\\\\\\\"}}, \\\\\\\\\\\\\"typeProperty\\\\\\\\\\\\\": 2}, {\\\\\\\\\\\\\"column\\\\\\\\\\\\\": {\\\\\\\\\\\\\"type\\\\\\\\\\\\\": 2, \\\\\\\\\\\\\"details\\\\\\\\\\\\\": {\\\\\\\\\\\\\"selectedColumn\\\\\\\\\\\\\": \\\\\\\\\\\\\"sub_grade_G1\\\\\\\\\\\\\"}}, \\\\\\\\\\\\\"typeProperty\\\\\\\\\\\\\": 2}, {\\\\\\\\\\\\\"column\\\\\\\\\\\\\": {\\\\\\\\\\\\\"type\\\\\\\\\\\\\": 2, \\\\\\\\\\\\\"details\\\\\\\\\\\\\": {\\\\\\\\\\\\\"selectedColumn\\\\\\\\\\\\\": \\\\\\\\\\\\\"sub_grade_G2\\\\\\\\\\\\\"}}, \\\\\\\\\\\\\"typeProperty\\\\\\\\\\\\\": 2}, {\\\\\\\\\\\\\"column\\\\\\\\\\\\\": {\\\\\\\\\\\\\"type\\\\\\\\\\\\\": 2, \\\\\\\\\\\\\"details\\\\\\\\\\\\\": {\\\\\\\\\\\\\"selectedColumn\\\\\\\\\\\\\": \\\\\\\\\\\\\"sub_grade_G3\\\\\\\\\\\\\"}}, \\\\\\\\\\\\\"typeProperty\\\\\\\\\\\\\": 2}, {\\\\\\\\\\\\\"column\\\\\\\\\\\\\": {\\\\\\\\\\\\\"type\\\\\\\\\\\\\": 2, \\\\\\\\\\\\\"details\\\\\\\\\\\\\": {\\\\\\\\\\\\\"selectedColumn\\\\\\\\\\\\\": \\\\\\\\\\\\\"sub_grade_G4\\\\\\\\\\\\\"}}, \\\\\\\\\\\\\"typeProperty\\\\\\\\\\\\\": 2}, {\\\\\\\\\\\\\"column\\\\\\\\\\\\\": {\\\\\\\\\\\\\"type\\\\\\\\\\\\\": 2, \\\\\\\\\\\\\"details\\\\\\\\\\\\\": {\\\\\\\\\\\\\"selectedColumn\\\\\\\\\\\\\": \\\\\\\\\\\\\"sub_grade_G5\\\\\\\\\\\\\"}}, \\\\\\\\\\\\\"typeProperty\\\\\\\\\\\\\": 2}, {\\\\\\\\\\\\\"column\\\\\\\\\\\\\": {\\\\\\\\\\\\\"type\\\\\\\\\\\\\": 2, \\\\\\\\\\\\\"details\\\\\\\\\\\\\": {\\\\\\\\\\\\\"selectedColumn\\\\\\\\\\\\\": \\\\\\\\\\\\\"verification_status_Source Verified\\\\\\\\\\\\\"}}, \\\\\\\\\\\\\"typeProperty\\\\\\\\\\\\\": 2}, {\\\\\\\\\\\\\"column\\\\\\\\\\\\\": {\\\\\\\\\\\\\"type\\\\\\\\\\\\\": 2, \\\\\\\\\\\\\"details\\\\\\\\\\\\\": {\\\\\\\\\\\\\"selectedColumn\\\\\\\\\\\\\": \\\\\\\\\\\\\"verification_status_Verified\\\\\\\\\\\\\"}}, \\\\\\\\\\\\\"typeProperty\\\\\\\\\\\\\": 2}, {\\\\\\\\\\\\\"column\\\\\\\\\\\\\": {\\\\\\\\\\\\\"type\\\\\\\\\\\\\": 2, \\\\\\\\\\\\\"details\\\\\\\\\\\\\": {\\\\\\\\\\\\\"selectedColumn\\\\\\\\\\\\\": \\\\\\\\\\\\\"application_type_INDIVIDUAL\\\\\\\\\\\\\"}}, \\\\\\\\\\\\\"typeProperty\\\\\\\\\\\\\": 2}, {\\\\\\\\\\\\\"column\\\\\\\\\\\\\": {\\\\\\\\\\\\\"type\\\\\\\\\\\\\": 2, \\\\\\\\\\\\\"details\\\\\\\\\\\\\": {\\\\\\\\\\\\\"selectedColumn\\\\\\\\\\\\\": \\\\\\\\\\\\\"application_type_JOINT\\\\\\\\\\\\\"}}, \\\\\\\\\\\\\"typeProperty\\\\\\\\\\\\\": 2}, {\\\\\\\\\\\\\"column\\\\\\\\\\\\\": {\\\\\\\\\\\\\"type\\\\\\\\\\\\\": 2, \\\\\\\\\\\\\"details\\\\\\\\\\\\\": {\\\\\\\\\\\\\"selectedColumn\\\\\\\\\\\\\": \\\\\\\\\\\\\"initial_list_status_w\\\\\\\\\\\\\"}}, \\\\\\\\\\\\\"typeProperty\\\\\\\\\\\\\": 2}, {\\\\\\\\\\\\\"column\\\\\\\\\\\\\": {\\\\\\\\\\\\\"type\\\\\\\\\\\\\": 2, \\\\\\\\\\\\\"details\\\\\\\\\\\\\": {\\\\\\\\\\\\\"selectedColumn\\\\\\\\\\\\\": \\\\\\\\\\\\\"home_ownership_OTHER\\\\\\\\\\\\\"}}, \\\\\\\\\\\\\"typeProperty\\\\\\\\\\\\\": 2}, {\\\\\\\\\\\\\"column\\\\\\\\\\\\\": {\\\\\\\\\\\\\"type\\\\\\\\\\\\\": 2, \\\\\\\\\\\\\"details\\\\\\\\\\\\\": {\\\\\\\\\\\\\"selectedColumn\\\\\\\\\\\\\": \\\\\\\\\\\\\"home_ownership_OWN\\\\\\\\\\\\\"}}, \\\\\\\\\\\\\"typeProperty\\\\\\\\\\\\\": 2}, {\\\\\\\\\\\\\"column\\\\\\\\\\\\\": {\\\\\\\\\\\\\"type\\\\\\\\\\\\\": 2, \\\\\\\\\\\\\"details\\\\\\\\\\\\\": {\\\\\\\\\\\\\"selectedColumn\\\\\\\\\\\\\": \\\\\\\\\\\\\"home_ownership_RENT\\\\\\\\\\\\\"}}, \\\\\\\\\\\\\"typeProperty\\\\\\\\\\\\\": 2}, {\\\\\\\\\\\\\"column\\\\\\\\\\\\\": {\\\\\\\\\\\\\"type\\\\\\\\\\\\\": 2, \\\\\\\\\\\\\"details\\\\\\\\\\\\\": {\\\\\\\\\\\\\"selectedColumn\\\\\\\\\\\\\": \\\\\\\\\\\\\"purpose_credit_card\\\\\\\\\\\\\"}}, \\\\\\\\\\\\\"typeProperty\\\\\\\\\\\\\": 2}, {\\\\\\\\\\\\\"column\\\\\\\\\\\\\": {\\\\\\\\\\\\\"type\\\\\\\\\\\\\": 2, \\\\\\\\\\\\\"details\\\\\\\\\\\\\": {\\\\\\\\\\\\\"selectedColumn\\\\\\\\\\\\\": \\\\\\\\\\\\\"purpose_debt_consolidation\\\\\\\\\\\\\"}}, \\\\\\\\\\\\\"typeProperty\\\\\\\\\\\\\": 2}, {\\\\\\\\\\\\\"column\\\\\\\\\\\\\": {\\\\\\\\\\\\\"type\\\\\\\\\\\\\": 2, \\\\\\\\\\\\\"details\\\\\\\\\\\\\": {\\\\\\\\\\\\\"selectedColumn\\\\\\\\\\\\\": \\\\\\\\\\\\\"purpose_educational\\\\\\\\\\\\\"}}, \\\\\\\\\\\\\"typeProperty\\\\\\\\\\\\\": 2}, {\\\\\\\\\\\\\"column\\\\\\\\\\\\\": {\\\\\\\\\\\\\"type\\\\\\\\\\\\\": 2, \\\\\\\\\\\\\"details\\\\\\\\\\\\\": {\\\\\\\\\\\\\"selectedColumn\\\\\\\\\\\\\": \\\\\\\\\\\\\"purpose_home_improvement\\\\\\\\\\\\\"}}, \\\\\\\\\\\\\"typeProperty\\\\\\\\\\\\\": 2}, {\\\\\\\\\\\\\"column\\\\\\\\\\\\\": {\\\\\\\\\\\\\"type\\\\\\\\\\\\\": 2, \\\\\\\\\\\\\"details\\\\\\\\\\\\\": {\\\\\\\\\\\\\"selectedColumn\\\\\\\\\\\\\": \\\\\\\\\\\\\"purpose_house\\\\\\\\\\\\\"}}, \\\\\\\\\\\\\"typeProperty\\\\\\\\\\\\\": 2}, {\\\\\\\\\\\\\"column\\\\\\\\\\\\\": {\\\\\\\\\\\\\"type\\\\\\\\\\\\\": 2, \\\\\\\\\\\\\"details\\\\\\\\\\\\\": {\\\\\\\\\\\\\"selectedColumn\\\\\\\\\\\\\": \\\\\\\\\\\\\"purpose_major_purchase\\\\\\\\\\\\\"}}, \\\\\\\\\\\\\"typeProperty\\\\\\\\\\\\\": 2}, {\\\\\\\\\\\\\"column\\\\\\\\\\\\\": {\\\\\\\\\\\\\"type\\\\\\\\\\\\\": 2, \\\\\\\\\\\\\"details\\\\\\\\\\\\\": {\\\\\\\\\\\\\"selectedColumn\\\\\\\\\\\\\": \\\\\\\\\\\\\"purpose_medical\\\\\\\\\\\\\"}}, \\\\\\\\\\\\\"typeProperty\\\\\\\\\\\\\": 2}, {\\\\\\\\\\\\\"column\\\\\\\\\\\\\": {\\\\\\\\\\\\\"type\\\\\\\\\\\\\": 2, \\\\\\\\\\\\\"details\\\\\\\\\\\\\": {\\\\\\\\\\\\\"selectedColumn\\\\\\\\\\\\\": \\\\\\\\\\\\\"purpose_moving\\\\\\\\\\\\\"}}, \\\\\\\\\\\\\"typeProperty\\\\\\\\\\\\\": 2}, {\\\\\\\\\\\\\"column\\\\\\\\\\\\\": {\\\\\\\\\\\\\"type\\\\\\\\\\\\\": 2, \\\\\\\\\\\\\"details\\\\\\\\\\\\\": {\\\\\\\\\\\\\"selectedColumn\\\\\\\\\\\\\": \\\\\\\\\\\\\"purpose_other\\\\\\\\\\\\\"}}, \\\\\\\\\\\\\"typeProperty\\\\\\\\\\\\\": 2}, {\\\\\\\\\\\\\"column\\\\\\\\\\\\\": {\\\\\\\\\\\\\"type\\\\\\\\\\\\\": 2, \\\\\\\\\\\\\"details\\\\\\\\\\\\\": {\\\\\\\\\\\\\"selectedColumn\\\\\\\\\\\\\": \\\\\\\\\\\\\"purpose_renewable_energy\\\\\\\\\\\\\"}}, \\\\\\\\\\\\\"typeProperty\\\\\\\\\\\\\": 2}, {\\\\\\\\\\\\\"column\\\\\\\\\\\\\": {\\\\\\\\\\\\\"type\\\\\\\\\\\\\": 2, \\\\\\\\\\\\\"details\\\\\\\\\\\\\": {\\\\\\\\\\\\\"selectedColumn\\\\\\\\\\\\\": \\\\\\\\\\\\\"purpose_small_business\\\\\\\\\\\\\"}}, \\\\\\\\\\\\\"typeProperty\\\\\\\\\\\\\": 2}, {\\\\\\\\\\\\\"column\\\\\\\\\\\\\": {\\\\\\\\\\\\\"type\\\\\\\\\\\\\": 2, \\\\\\\\\\\\\"details\\\\\\\\\\\\\": {\\\\\\\\\\\\\"selectedColumn\\\\\\\\\\\\\": \\\\\\\\\\\\\"purpose_vacation\\\\\\\\\\\\\"}}, \\\\\\\\\\\\\"typeProperty\\\\\\\\\\\\\": 2}, {\\\\\\\\\\\\\"column\\\\\\\\\\\\\": {\\\\\\\\\\\\\"type\\\\\\\\\\\\\": 2, \\\\\\\\\\\\\"details\\\\\\\\\\\\\": {\\\\\\\\\\\\\"selectedColumn\\\\\\\\\\\\\": \\\\\\\\\\\\\"purpose_wedding\\\\\\\\\\\\\"}}, \\\\\\\\\\\\\"typeProperty\\\\\\\\\\\\\": 2}, {\\\\\\\\\\\\\"column\\\\\\\\\\\\\": {\\\\\\\\\\\\\"type\\\\\\\\\\\\\": 2, \\\\\\\\\\\\\"details\\\\\\\\\\\\\": {\\\\\\\\\\\\\"selectedColumn\\\\\\\\\\\\\": \\\\\\\\\\\\\"loan_repaid\\\\\\\\\\\\\"}}, \\\\\\\\\\\\\"typeProperty\\\\\\\\\\\\\": 2}]}, \\\\\\\\\\\\\"localData\\\\\\\\\\\\\": {}, \\\\\\\\\\\\\"isEnabled\\\\\\\\\\\\\": true, \\\\\\\\\\\\\"name\\\\\\\\\\\\\": null, \\\\\\\\\\\\\"annotation\\\\\\\\\\\\\": null}], \\\\\\\\\\\\\"inspectors\\\\\\\\\\\\\": [], \\\\\\\\\\\\\"meta\\\\\\\\\\\\\": {\\\\\\\\\\\\\"savedDatasetId\\\\\\\\\\\\\": \\\\\\\\\\\\\"52f69d25-263b-4dd5-96a1-3328d0cf99bc\\\\\\\\\\\\\", \\\\\\\\\\\\\"datasetType\\\\\\\\\\\\\": \\\\\\\\\\\\\"tabular\\\\\\\\\\\\\", \\\\\\\\\\\\\"subscriptionId\\\\\\\\\\\\\": \\\\\\\\\\\\\"d4ad7261-832d-46b2-b093-22156001df5b\\\\\\\\\\\\\", \\\\\\\\\\\\\"workspaceId\\\\\\\\\\\\\": \\\\\\\\\\\\\"c2327c3d-aea3-413c-a388-ba1eeb07fc45\\\\\\\\\\\\\", \\\\\\\\\\\\\"workspaceLocation\\\\\\\\\\\\\": \\\\\\\\\\\\\"southcentralus\\\\\\\\\\\\\"}}\\\\\", \\\\\"activities\\\\\": 0}',\n",
       "  'EnableSubsampling': None,\n",
       "  'runTemplate': 'AutoML',\n",
       "  'azureml.runsource': 'automl',\n",
       "  'display_task_type': 'classification',\n",
       "  'dependencies_versions': '{\"azureml-widgets\": \"1.22.0\", \"azureml-train\": \"1.22.0\", \"azureml-train-restclients-hyperdrive\": \"1.22.0\", \"azureml-train-core\": \"1.22.0\", \"azureml-train-automl\": \"1.22.0\", \"azureml-train-automl-runtime\": \"1.22.0\", \"azureml-train-automl-client\": \"1.22.0\", \"azureml-tensorboard\": \"1.22.0\", \"azureml-telemetry\": \"1.22.0\", \"azureml-sdk\": \"1.22.0\", \"azureml-samples\": \"0+unknown\", \"azureml-pipeline\": \"1.22.0\", \"azureml-pipeline-steps\": \"1.22.0\", \"azureml-pipeline-core\": \"1.22.0\", \"azureml-opendatasets\": \"1.22.0\", \"azureml-model-management-sdk\": \"1.0.1b6.post1\", \"azureml-mlflow\": \"1.22.0\", \"azureml-interpret\": \"1.22.0\", \"azureml-explain-model\": \"1.22.0\", \"azureml-defaults\": \"1.22.0\", \"azureml-dataset-runtime\": \"1.22.0\", \"azureml-dataprep\": \"2.9.1\", \"azureml-dataprep-rslex\": \"1.7.0\", \"azureml-dataprep-native\": \"29.0.0\", \"azureml-datadrift\": \"1.22.0\", \"azureml-core\": \"1.22.0\", \"azureml-contrib-services\": \"1.22.0\", \"azureml-contrib-server\": \"1.22.0\", \"azureml-contrib-reinforcementlearning\": \"1.22.0\", \"azureml-contrib-pipeline-steps\": \"1.22.0\", \"azureml-contrib-notebook\": \"1.22.0\", \"azureml-contrib-interpret\": \"1.22.0\", \"azureml-contrib-gbdt\": \"1.22.0\", \"azureml-contrib-fairness\": \"1.22.0\", \"azureml-contrib-dataset\": \"1.22.0\", \"azureml-cli-common\": \"1.22.0\", \"azureml-automl-runtime\": \"1.22.0\", \"azureml-automl-core\": \"1.22.0\", \"azureml-accel-models\": \"1.22.0\"}',\n",
       "  '_aml_system_scenario_identification': 'Remote.Parent',\n",
       "  'ClientType': 'SDK',\n",
       "  'environment_cpu_name': 'AzureML-AutoML',\n",
       "  'environment_cpu_label': 'prod',\n",
       "  'environment_gpu_name': 'AzureML-AutoML-GPU',\n",
       "  'environment_gpu_label': 'prod',\n",
       "  'root_attribution': 'automl',\n",
       "  'attribution': 'AutoML',\n",
       "  'Orchestrator': 'AutoML',\n",
       "  'CancelUri': 'https://southcentralus.experiments.azureml.net/jasmine/v1.0/subscriptions/d4ad7261-832d-46b2-b093-22156001df5b/resourceGroups/aml-quickstarts-140376/providers/Microsoft.MachineLearningServices/workspaces/quick-starts-ws-140376/experimentids/c2ff9bc7-d3e6-49b9-99d7-1b20a44b53dc/cancel/AutoML_3c68e43a-bb2a-4c74-96e1-40f97c633e82',\n",
       "  'ClientSdkVersion': '1.23.0',\n",
       "  'snapshotId': '00000000-0000-0000-0000-000000000000',\n",
       "  'SetupRunId': 'AutoML_3c68e43a-bb2a-4c74-96e1-40f97c633e82_setup',\n",
       "  'SetupRunContainerId': 'dcid.AutoML_3c68e43a-bb2a-4c74-96e1-40f97c633e82_setup',\n",
       "  'FeaturizationRunJsonPath': 'featurizer_container.json',\n",
       "  'FeaturizationRunId': 'AutoML_3c68e43a-bb2a-4c74-96e1-40f97c633e82_featurize',\n",
       "  'ProblemInfoJsonString': '{\"dataset_num_categorical\": 0, \"is_sparse\": true, \"subsampling\": false, \"dataset_classes\": 2, \"dataset_features\": 79, \"dataset_samples\": 395219, \"single_frequency_class_detected\": false}',\n",
       "  'ModelExplainRunId': 'AutoML_3c68e43a-bb2a-4c74-96e1-40f97c633e82_ModelExplain'},\n",
       " 'inputDatasets': [{'dataset': {'id': '52f69d25-263b-4dd5-96a1-3328d0cf99bc'}, 'consumptionDetails': {'type': 'RunInput', 'inputName': 'training_data', 'mechanism': 'Direct'}}],\n",
       " 'outputDatasets': [],\n",
       " 'logFiles': {},\n",
       " 'submittedBy': 'ODL_User 140376'}"
      ]
     },
     "execution_count": 7,
     "metadata": {},
     "output_type": "execute_result"
    }
   ],
   "source": [
    "# Submit your automl run\n",
    "\n",
    "remote_run = exp.submit(config= automl_config, show_output=True)\n",
    "remote_run.wait_for_completion()"
   ]
  },
  {
   "cell_type": "markdown",
   "metadata": {},
   "source": [
    "## Run Details\n",
    "\n",
    "OPTIONAL: Write about the different models trained and their performance. Why do you think some models did better than others?\n",
    "\n",
    "TODO: In the cell below, use the `RunDetails` widget to show the different experiments."
   ]
  },
  {
   "cell_type": "code",
   "execution_count": 9,
   "metadata": {
    "gather": {
     "logged": 1615136928402
    }
   },
   "outputs": [
    {
     "data": {
      "application/vnd.jupyter.widget-view+json": {
       "model_id": "30156431177743528ef99790411a69a9",
       "version_major": 2,
       "version_minor": 0
      },
      "text/plain": [
       "_AutoMLWidget(widget_settings={'childWidgetDisplay': 'popup', 'send_telemetry': False, 'log_level': 'INFO', 's…"
      ]
     },
     "metadata": {},
     "output_type": "display_data"
    },
    {
     "data": {
      "application/aml.mini.widget.v1": "{\"status\": \"Completed\", \"workbench_run_details_uri\": \"https://ml.azure.com/experiments/udacity-project/runs/AutoML_3c68e43a-bb2a-4c74-96e1-40f97c633e82?wsid=/subscriptions/d4ad7261-832d-46b2-b093-22156001df5b/resourcegroups/aml-quickstarts-140376/workspaces/quick-starts-ws-140376\", \"run_id\": \"AutoML_3c68e43a-bb2a-4c74-96e1-40f97c633e82\", \"run_properties\": {\"run_id\": \"AutoML_3c68e43a-bb2a-4c74-96e1-40f97c633e82\", \"created_utc\": \"2021-03-13T20:52:40.370408Z\", \"properties\": {\"num_iterations\": \"1000\", \"training_type\": \"TrainFull\", \"acquisition_function\": \"EI\", \"primary_metric\": \"accuracy\", \"train_split\": \"0\", \"acquisition_parameter\": \"0\", \"num_cross_validation\": \"3\", \"target\": \"cpu-cluster\", \"AMLSettingsJsonString\": \"{\\\"path\\\":null,\\\"name\\\":\\\"udacity-project\\\",\\\"subscription_id\\\":\\\"d4ad7261-832d-46b2-b093-22156001df5b\\\",\\\"resource_group\\\":\\\"aml-quickstarts-140376\\\",\\\"workspace_name\\\":\\\"quick-starts-ws-140376\\\",\\\"region\\\":\\\"southcentralus\\\",\\\"compute_target\\\":\\\"cpu-cluster\\\",\\\"spark_service\\\":null,\\\"azure_service\\\":\\\"remote\\\",\\\"many_models\\\":false,\\\"pipeline_fetch_max_batch_size\\\":1,\\\"iterations\\\":1000,\\\"primary_metric\\\":\\\"accuracy\\\",\\\"task_type\\\":\\\"classification\\\",\\\"data_script\\\":null,\\\"validation_size\\\":0.0,\\\"n_cross_validations\\\":3,\\\"y_min\\\":null,\\\"y_max\\\":null,\\\"num_classes\\\":null,\\\"featurization\\\":\\\"auto\\\",\\\"_ignore_package_version_incompatibilities\\\":false,\\\"is_timeseries\\\":false,\\\"max_cores_per_iteration\\\":-1,\\\"max_concurrent_iterations\\\":4,\\\"iteration_timeout_minutes\\\":null,\\\"mem_in_mb\\\":null,\\\"enforce_time_on_windows\\\":false,\\\"experiment_timeout_minutes\\\":60,\\\"experiment_exit_score\\\":null,\\\"whitelist_models\\\":null,\\\"blacklist_algos\\\":[\\\"TensorFlowLinearClassifier\\\",\\\"TensorFlowDNN\\\"],\\\"supported_models\\\":[\\\"SGD\\\",\\\"LinearSVM\\\",\\\"XGBoostClassifier\\\",\\\"MultinomialNaiveBayes\\\",\\\"AveragedPerceptronClassifier\\\",\\\"LogisticRegression\\\",\\\"RandomForest\\\",\\\"GradientBoosting\\\",\\\"SVM\\\",\\\"BernoulliNaiveBayes\\\",\\\"KNN\\\",\\\"LightGBM\\\",\\\"ExtremeRandomTrees\\\",\\\"TensorFlowLinearClassifier\\\",\\\"TensorFlowDNN\\\",\\\"DecisionTree\\\"],\\\"private_models\\\":[],\\\"auto_blacklist\\\":true,\\\"blacklist_samples_reached\\\":false,\\\"exclude_nan_labels\\\":true,\\\"verbosity\\\":20,\\\"_debug_log\\\":\\\"azureml_automl.log\\\",\\\"show_warnings\\\":false,\\\"model_explainability\\\":true,\\\"service_url\\\":null,\\\"sdk_url\\\":null,\\\"sdk_packages\\\":null,\\\"enable_onnx_compatible_models\\\":false,\\\"enable_split_onnx_featurizer_estimator_models\\\":false,\\\"vm_type\\\":\\\"STANDARD_D2_V2\\\",\\\"telemetry_verbosity\\\":20,\\\"send_telemetry\\\":true,\\\"enable_dnn\\\":false,\\\"scenario\\\":\\\"SDK-1.13.0\\\",\\\"environment_label\\\":null,\\\"force_text_dnn\\\":false,\\\"enable_feature_sweeping\\\":true,\\\"enable_early_stopping\\\":true,\\\"early_stopping_n_iters\\\":10,\\\"metrics\\\":null,\\\"enable_ensembling\\\":true,\\\"enable_stack_ensembling\\\":true,\\\"ensemble_iterations\\\":15,\\\"enable_tf\\\":false,\\\"enable_subsampling\\\":null,\\\"subsample_seed\\\":null,\\\"enable_nimbusml\\\":false,\\\"enable_streaming\\\":false,\\\"force_streaming\\\":false,\\\"track_child_runs\\\":true,\\\"allowed_private_models\\\":[],\\\"label_column_name\\\":\\\"loan_repaid\\\",\\\"weight_column_name\\\":null,\\\"cv_split_column_names\\\":null,\\\"enable_local_managed\\\":false,\\\"_local_managed_run_id\\\":null,\\\"cost_mode\\\":1,\\\"lag_length\\\":0,\\\"metric_operation\\\":\\\"maximize\\\",\\\"preprocess\\\":true}\", \"DataPrepJsonString\": \"{\\\\\\\"training_data\\\\\\\": \\\\\\\"{\\\\\\\\\\\\\\\"blocks\\\\\\\\\\\\\\\": [{\\\\\\\\\\\\\\\"id\\\\\\\\\\\\\\\": \\\\\\\\\\\\\\\"a0648dad-22be-4b41-83be-39e31686e028\\\\\\\\\\\\\\\", \\\\\\\\\\\\\\\"type\\\\\\\\\\\\\\\": \\\\\\\\\\\\\\\"Microsoft.DPrep.GetDatastoreFilesBlock\\\\\\\\\\\\\\\", \\\\\\\\\\\\\\\"arguments\\\\\\\\\\\\\\\": {\\\\\\\\\\\\\\\"datastores\\\\\\\\\\\\\\\": [{\\\\\\\\\\\\\\\"datastoreName\\\\\\\\\\\\\\\": \\\\\\\\\\\\\\\"workspaceblobstore\\\\\\\\\\\\\\\", \\\\\\\\\\\\\\\"path\\\\\\\\\\\\\\\": \\\\\\\\\\\\\\\"./data.csv\\\\\\\\\\\\\\\", \\\\\\\\\\\\\\\"resourceGroup\\\\\\\\\\\\\\\": \\\\\\\\\\\\\\\"aml-quickstarts-140376\\\\\\\\\\\\\\\", \\\\\\\\\\\\\\\"subscription\\\\\\\\\\\\\\\": \\\\\\\\\\\\\\\"d4ad7261-832d-46b2-b093-22156001df5b\\\\\\\\\\\\\\\", \\\\\\\\\\\\\\\"workspaceName\\\\\\\\\\\\\\\": \\\\\\\\\\\\\\\"quick-starts-ws-140376\\\\\\\\\\\\\\\"}]}, \\\\\\\\\\\\\\\"localData\\\\\\\\\\\\\\\": {}, \\\\\\\\\\\\\\\"isEnabled\\\\\\\\\\\\\\\": true, \\\\\\\\\\\\\\\"name\\\\\\\\\\\\\\\": null, \\\\\\\\\\\\\\\"annotation\\\\\\\\\\\\\\\": null}, {\\\\\\\\\\\\\\\"id\\\\\\\\\\\\\\\": \\\\\\\\\\\\\\\"bfdd2294-a36c-4f35-9cce-b89967591772\\\\\\\\\\\\\\\", \\\\\\\\\\\\\\\"type\\\\\\\\\\\\\\\": \\\\\\\\\\\\\\\"Microsoft.DPrep.ParseDelimitedBlock\\\\\\\\\\\\\\\", \\\\\\\\\\\\\\\"arguments\\\\\\\\\\\\\\\": {\\\\\\\\\\\\\\\"columnHeadersMode\\\\\\\\\\\\\\\": 3, \\\\\\\\\\\\\\\"fileEncoding\\\\\\\\\\\\\\\": 0, \\\\\\\\\\\\\\\"handleQuotedLineBreaks\\\\\\\\\\\\\\\": false, \\\\\\\\\\\\\\\"preview\\\\\\\\\\\\\\\": false, \\\\\\\\\\\\\\\"separator\\\\\\\\\\\\\\\": \\\\\\\\\\\\\\\",\\\\\\\\\\\\\\\", \\\\\\\\\\\\\\\"skipRows\\\\\\\\\\\\\\\": 0, \\\\\\\\\\\\\\\"skipRowsMode\\\\\\\\\\\\\\\": 0}, \\\\\\\\\\\\\\\"localData\\\\\\\\\\\\\\\": {}, \\\\\\\\\\\\\\\"isEnabled\\\\\\\\\\\\\\\": true, \\\\\\\\\\\\\\\"name\\\\\\\\\\\\\\\": null, \\\\\\\\\\\\\\\"annotation\\\\\\\\\\\\\\\": null}, {\\\\\\\\\\\\\\\"id\\\\\\\\\\\\\\\": \\\\\\\\\\\\\\\"7e118d5b-3253-4ad8-ac14-b80044a08320\\\\\\\\\\\\\\\", \\\\\\\\\\\\\\\"type\\\\\\\\\\\\\\\": \\\\\\\\\\\\\\\"Microsoft.DPrep.DropColumnsBlock\\\\\\\\\\\\\\\", \\\\\\\\\\\\\\\"arguments\\\\\\\\\\\\\\\": {\\\\\\\\\\\\\\\"columns\\\\\\\\\\\\\\\": {\\\\\\\\\\\\\\\"type\\\\\\\\\\\\\\\": 0, \\\\\\\\\\\\\\\"details\\\\\\\\\\\\\\\": {\\\\\\\\\\\\\\\"selectedColumns\\\\\\\\\\\\\\\": [\\\\\\\\\\\\\\\"Path\\\\\\\\\\\\\\\"]}}}, \\\\\\\\\\\\\\\"localData\\\\\\\\\\\\\\\": {}, \\\\\\\\\\\\\\\"isEnabled\\\\\\\\\\\\\\\": true, \\\\\\\\\\\\\\\"name\\\\\\\\\\\\\\\": null, \\\\\\\\\\\\\\\"annotation\\\\\\\\\\\\\\\": null}, {\\\\\\\\\\\\\\\"id\\\\\\\\\\\\\\\": \\\\\\\\\\\\\\\"99af727e-2b2a-47c6-bf80-d338a4644609\\\\\\\\\\\\\\\", \\\\\\\\\\\\\\\"type\\\\\\\\\\\\\\\": \\\\\\\\\\\\\\\"Microsoft.DPrep.SetColumnTypesBlock\\\\\\\\\\\\\\\", \\\\\\\\\\\\\\\"arguments\\\\\\\\\\\\\\\": {\\\\\\\\\\\\\\\"columnConversion\\\\\\\\\\\\\\\": [{\\\\\\\\\\\\\\\"column\\\\\\\\\\\\\\\": {\\\\\\\\\\\\\\\"type\\\\\\\\\\\\\\\": 2, \\\\\\\\\\\\\\\"details\\\\\\\\\\\\\\\": {\\\\\\\\\\\\\\\"selectedColumn\\\\\\\\\\\\\\\": \\\\\\\\\\\\\\\"loan_amnt\\\\\\\\\\\\\\\"}}, \\\\\\\\\\\\\\\"typeProperty\\\\\\\\\\\\\\\": 3}, {\\\\\\\\\\\\\\\"column\\\\\\\\\\\\\\\": {\\\\\\\\\\\\\\\"type\\\\\\\\\\\\\\\": 2, \\\\\\\\\\\\\\\"details\\\\\\\\\\\\\\\": {\\\\\\\\\\\\\\\"selectedColumn\\\\\\\\\\\\\\\": \\\\\\\\\\\\\\\"term\\\\\\\\\\\\\\\"}}, \\\\\\\\\\\\\\\"typeProperty\\\\\\\\\\\\\\\": 2}, {\\\\\\\\\\\\\\\"column\\\\\\\\\\\\\\\": {\\\\\\\\\\\\\\\"type\\\\\\\\\\\\\\\": 2, \\\\\\\\\\\\\\\"details\\\\\\\\\\\\\\\": {\\\\\\\\\\\\\\\"selectedColumn\\\\\\\\\\\\\\\": \\\\\\\\\\\\\\\"int_rate\\\\\\\\\\\\\\\"}}, \\\\\\\\\\\\\\\"typeProperty\\\\\\\\\\\\\\\": 3}, {\\\\\\\\\\\\\\\"column\\\\\\\\\\\\\\\": {\\\\\\\\\\\\\\\"type\\\\\\\\\\\\\\\": 2, \\\\\\\\\\\\\\\"details\\\\\\\\\\\\\\\": {\\\\\\\\\\\\\\\"selectedColumn\\\\\\\\\\\\\\\": \\\\\\\\\\\\\\\"installment\\\\\\\\\\\\\\\"}}, \\\\\\\\\\\\\\\"typeProperty\\\\\\\\\\\\\\\": 3}, {\\\\\\\\\\\\\\\"column\\\\\\\\\\\\\\\": {\\\\\\\\\\\\\\\"type\\\\\\\\\\\\\\\": 2, \\\\\\\\\\\\\\\"details\\\\\\\\\\\\\\\": {\\\\\\\\\\\\\\\"selectedColumn\\\\\\\\\\\\\\\": \\\\\\\\\\\\\\\"annual_inc\\\\\\\\\\\\\\\"}}, \\\\\\\\\\\\\\\"typeProperty\\\\\\\\\\\\\\\": 3}, {\\\\\\\\\\\\\\\"column\\\\\\\\\\\\\\\": {\\\\\\\\\\\\\\\"type\\\\\\\\\\\\\\\": 2, \\\\\\\\\\\\\\\"details\\\\\\\\\\\\\\\": {\\\\\\\\\\\\\\\"selectedColumn\\\\\\\\\\\\\\\": \\\\\\\\\\\\\\\"dti\\\\\\\\\\\\\\\"}}, \\\\\\\\\\\\\\\"typeProperty\\\\\\\\\\\\\\\": 3}, {\\\\\\\\\\\\\\\"column\\\\\\\\\\\\\\\": {\\\\\\\\\\\\\\\"type\\\\\\\\\\\\\\\": 2, \\\\\\\\\\\\\\\"details\\\\\\\\\\\\\\\": {\\\\\\\\\\\\\\\"selectedColumn\\\\\\\\\\\\\\\": \\\\\\\\\\\\\\\"earliest_cr_line\\\\\\\\\\\\\\\"}}, \\\\\\\\\\\\\\\"typeProperty\\\\\\\\\\\\\\\": 2}, {\\\\\\\\\\\\\\\"column\\\\\\\\\\\\\\\": {\\\\\\\\\\\\\\\"type\\\\\\\\\\\\\\\": 2, \\\\\\\\\\\\\\\"details\\\\\\\\\\\\\\\": {\\\\\\\\\\\\\\\"selectedColumn\\\\\\\\\\\\\\\": \\\\\\\\\\\\\\\"open_acc\\\\\\\\\\\\\\\"}}, \\\\\\\\\\\\\\\"typeProperty\\\\\\\\\\\\\\\": 3}, {\\\\\\\\\\\\\\\"column\\\\\\\\\\\\\\\": {\\\\\\\\\\\\\\\"type\\\\\\\\\\\\\\\": 2, \\\\\\\\\\\\\\\"details\\\\\\\\\\\\\\\": {\\\\\\\\\\\\\\\"selectedColumn\\\\\\\\\\\\\\\": \\\\\\\\\\\\\\\"pub_rec\\\\\\\\\\\\\\\"}}, \\\\\\\\\\\\\\\"typeProperty\\\\\\\\\\\\\\\": 3}, {\\\\\\\\\\\\\\\"column\\\\\\\\\\\\\\\": {\\\\\\\\\\\\\\\"type\\\\\\\\\\\\\\\": 2, \\\\\\\\\\\\\\\"details\\\\\\\\\\\\\\\": {\\\\\\\\\\\\\\\"selectedColumn\\\\\\\\\\\\\\\": \\\\\\\\\\\\\\\"revol_bal\\\\\\\\\\\\\\\"}}, \\\\\\\\\\\\\\\"typeProperty\\\\\\\\\\\\\\\": 3}, {\\\\\\\\\\\\\\\"column\\\\\\\\\\\\\\\": {\\\\\\\\\\\\\\\"type\\\\\\\\\\\\\\\": 2, \\\\\\\\\\\\\\\"details\\\\\\\\\\\\\\\": {\\\\\\\\\\\\\\\"selectedColumn\\\\\\\\\\\\\\\": \\\\\\\\\\\\\\\"revol_util\\\\\\\\\\\\\\\"}}, \\\\\\\\\\\\\\\"typeProperty\\\\\\\\\\\\\\\": 3}, {\\\\\\\\\\\\\\\"column\\\\\\\\\\\\\\\": {\\\\\\\\\\\\\\\"type\\\\\\\\\\\\\\\": 2, \\\\\\\\\\\\\\\"details\\\\\\\\\\\\\\\": {\\\\\\\\\\\\\\\"selectedColumn\\\\\\\\\\\\\\\": \\\\\\\\\\\\\\\"total_acc\\\\\\\\\\\\\\\"}}, \\\\\\\\\\\\\\\"typeProperty\\\\\\\\\\\\\\\": 3}, {\\\\\\\\\\\\\\\"column\\\\\\\\\\\\\\\": {\\\\\\\\\\\\\\\"type\\\\\\\\\\\\\\\": 2, \\\\\\\\\\\\\\\"details\\\\\\\\\\\\\\\": {\\\\\\\\\\\\\\\"selectedColumn\\\\\\\\\\\\\\\": \\\\\\\\\\\\\\\"mort_acc\\\\\\\\\\\\\\\"}}, \\\\\\\\\\\\\\\"typeProperty\\\\\\\\\\\\\\\": 3}, {\\\\\\\\\\\\\\\"column\\\\\\\\\\\\\\\": {\\\\\\\\\\\\\\\"type\\\\\\\\\\\\\\\": 2, \\\\\\\\\\\\\\\"details\\\\\\\\\\\\\\\": {\\\\\\\\\\\\\\\"selectedColumn\\\\\\\\\\\\\\\": \\\\\\\\\\\\\\\"pub_rec_bankruptcies\\\\\\\\\\\\\\\"}}, \\\\\\\\\\\\\\\"typeProperty\\\\\\\\\\\\\\\": 3}, {\\\\\\\\\\\\\\\"column\\\\\\\\\\\\\\\": {\\\\\\\\\\\\\\\"type\\\\\\\\\\\\\\\": 2, \\\\\\\\\\\\\\\"details\\\\\\\\\\\\\\\": {\\\\\\\\\\\\\\\"selectedColumn\\\\\\\\\\\\\\\": \\\\\\\\\\\\\\\"zip_code\\\\\\\\\\\\\\\"}}, \\\\\\\\\\\\\\\"typeProperty\\\\\\\\\\\\\\\": 2}, {\\\\\\\\\\\\\\\"column\\\\\\\\\\\\\\\": {\\\\\\\\\\\\\\\"type\\\\\\\\\\\\\\\": 2, \\\\\\\\\\\\\\\"details\\\\\\\\\\\\\\\": {\\\\\\\\\\\\\\\"selectedColumn\\\\\\\\\\\\\\\": \\\\\\\\\\\\\\\"sub_grade_A2\\\\\\\\\\\\\\\"}}, \\\\\\\\\\\\\\\"typeProperty\\\\\\\\\\\\\\\": 2}, {\\\\\\\\\\\\\\\"column\\\\\\\\\\\\\\\": {\\\\\\\\\\\\\\\"type\\\\\\\\\\\\\\\": 2, \\\\\\\\\\\\\\\"details\\\\\\\\\\\\\\\": {\\\\\\\\\\\\\\\"selectedColumn\\\\\\\\\\\\\\\": \\\\\\\\\\\\\\\"sub_grade_A3\\\\\\\\\\\\\\\"}}, \\\\\\\\\\\\\\\"typeProperty\\\\\\\\\\\\\\\": 2}, {\\\\\\\\\\\\\\\"column\\\\\\\\\\\\\\\": {\\\\\\\\\\\\\\\"type\\\\\\\\\\\\\\\": 2, \\\\\\\\\\\\\\\"details\\\\\\\\\\\\\\\": {\\\\\\\\\\\\\\\"selectedColumn\\\\\\\\\\\\\\\": \\\\\\\\\\\\\\\"sub_grade_A4\\\\\\\\\\\\\\\"}}, \\\\\\\\\\\\\\\"typeProperty\\\\\\\\\\\\\\\": 2}, {\\\\\\\\\\\\\\\"column\\\\\\\\\\\\\\\": {\\\\\\\\\\\\\\\"type\\\\\\\\\\\\\\\": 2, \\\\\\\\\\\\\\\"details\\\\\\\\\\\\\\\": {\\\\\\\\\\\\\\\"selectedColumn\\\\\\\\\\\\\\\": \\\\\\\\\\\\\\\"sub_grade_A5\\\\\\\\\\\\\\\"}}, \\\\\\\\\\\\\\\"typeProperty\\\\\\\\\\\\\\\": 2}, {\\\\\\\\\\\\\\\"column\\\\\\\\\\\\\\\": {\\\\\\\\\\\\\\\"type\\\\\\\\\\\\\\\": 2, \\\\\\\\\\\\\\\"details\\\\\\\\\\\\\\\": {\\\\\\\\\\\\\\\"selectedColumn\\\\\\\\\\\\\\\": \\\\\\\\\\\\\\\"sub_grade_B1\\\\\\\\\\\\\\\"}}, \\\\\\\\\\\\\\\"typeProperty\\\\\\\\\\\\\\\": 2}, {\\\\\\\\\\\\\\\"column\\\\\\\\\\\\\\\": {\\\\\\\\\\\\\\\"type\\\\\\\\\\\\\\\": 2, \\\\\\\\\\\\\\\"details\\\\\\\\\\\\\\\": {\\\\\\\\\\\\\\\"selectedColumn\\\\\\\\\\\\\\\": \\\\\\\\\\\\\\\"sub_grade_B2\\\\\\\\\\\\\\\"}}, \\\\\\\\\\\\\\\"typeProperty\\\\\\\\\\\\\\\": 2}, {\\\\\\\\\\\\\\\"column\\\\\\\\\\\\\\\": {\\\\\\\\\\\\\\\"type\\\\\\\\\\\\\\\": 2, \\\\\\\\\\\\\\\"details\\\\\\\\\\\\\\\": {\\\\\\\\\\\\\\\"selectedColumn\\\\\\\\\\\\\\\": \\\\\\\\\\\\\\\"sub_grade_B3\\\\\\\\\\\\\\\"}}, \\\\\\\\\\\\\\\"typeProperty\\\\\\\\\\\\\\\": 2}, {\\\\\\\\\\\\\\\"column\\\\\\\\\\\\\\\": {\\\\\\\\\\\\\\\"type\\\\\\\\\\\\\\\": 2, \\\\\\\\\\\\\\\"details\\\\\\\\\\\\\\\": {\\\\\\\\\\\\\\\"selectedColumn\\\\\\\\\\\\\\\": \\\\\\\\\\\\\\\"sub_grade_B4\\\\\\\\\\\\\\\"}}, \\\\\\\\\\\\\\\"typeProperty\\\\\\\\\\\\\\\": 2}, {\\\\\\\\\\\\\\\"column\\\\\\\\\\\\\\\": {\\\\\\\\\\\\\\\"type\\\\\\\\\\\\\\\": 2, \\\\\\\\\\\\\\\"details\\\\\\\\\\\\\\\": {\\\\\\\\\\\\\\\"selectedColumn\\\\\\\\\\\\\\\": \\\\\\\\\\\\\\\"sub_grade_B5\\\\\\\\\\\\\\\"}}, \\\\\\\\\\\\\\\"typeProperty\\\\\\\\\\\\\\\": 2}, {\\\\\\\\\\\\\\\"column\\\\\\\\\\\\\\\": {\\\\\\\\\\\\\\\"type\\\\\\\\\\\\\\\": 2, \\\\\\\\\\\\\\\"details\\\\\\\\\\\\\\\": {\\\\\\\\\\\\\\\"selectedColumn\\\\\\\\\\\\\\\": \\\\\\\\\\\\\\\"sub_grade_C1\\\\\\\\\\\\\\\"}}, \\\\\\\\\\\\\\\"typeProperty\\\\\\\\\\\\\\\": 2}, {\\\\\\\\\\\\\\\"column\\\\\\\\\\\\\\\": {\\\\\\\\\\\\\\\"type\\\\\\\\\\\\\\\": 2, \\\\\\\\\\\\\\\"details\\\\\\\\\\\\\\\": {\\\\\\\\\\\\\\\"selectedColumn\\\\\\\\\\\\\\\": \\\\\\\\\\\\\\\"sub_grade_C2\\\\\\\\\\\\\\\"}}, \\\\\\\\\\\\\\\"typeProperty\\\\\\\\\\\\\\\": 2}, {\\\\\\\\\\\\\\\"column\\\\\\\\\\\\\\\": {\\\\\\\\\\\\\\\"type\\\\\\\\\\\\\\\": 2, \\\\\\\\\\\\\\\"details\\\\\\\\\\\\\\\": {\\\\\\\\\\\\\\\"selectedColumn\\\\\\\\\\\\\\\": \\\\\\\\\\\\\\\"sub_grade_C3\\\\\\\\\\\\\\\"}}, \\\\\\\\\\\\\\\"typeProperty\\\\\\\\\\\\\\\": 2}, {\\\\\\\\\\\\\\\"column\\\\\\\\\\\\\\\": {\\\\\\\\\\\\\\\"type\\\\\\\\\\\\\\\": 2, \\\\\\\\\\\\\\\"details\\\\\\\\\\\\\\\": {\\\\\\\\\\\\\\\"selectedColumn\\\\\\\\\\\\\\\": \\\\\\\\\\\\\\\"sub_grade_C4\\\\\\\\\\\\\\\"}}, \\\\\\\\\\\\\\\"typeProperty\\\\\\\\\\\\\\\": 2}, {\\\\\\\\\\\\\\\"column\\\\\\\\\\\\\\\": {\\\\\\\\\\\\\\\"type\\\\\\\\\\\\\\\": 2, \\\\\\\\\\\\\\\"details\\\\\\\\\\\\\\\": {\\\\\\\\\\\\\\\"selectedColumn\\\\\\\\\\\\\\\": \\\\\\\\\\\\\\\"sub_grade_C5\\\\\\\\\\\\\\\"}}, \\\\\\\\\\\\\\\"typeProperty\\\\\\\\\\\\\\\": 2}, {\\\\\\\\\\\\\\\"column\\\\\\\\\\\\\\\": {\\\\\\\\\\\\\\\"type\\\\\\\\\\\\\\\": 2, \\\\\\\\\\\\\\\"details\\\\\\\\\\\\\\\": {\\\\\\\\\\\\\\\"selectedColumn\\\\\\\\\\\\\\\": \\\\\\\\\\\\\\\"sub_grade_D1\\\\\\\\\\\\\\\"}}, \\\\\\\\\\\\\\\"typeProperty\\\\\\\\\\\\\\\": 2}, {\\\\\\\\\\\\\\\"column\\\\\\\\\\\\\\\": {\\\\\\\\\\\\\\\"type\\\\\\\\\\\\\\\": 2, \\\\\\\\\\\\\\\"details\\\\\\\\\\\\\\\": {\\\\\\\\\\\\\\\"selectedColumn\\\\\\\\\\\\\\\": \\\\\\\\\\\\\\\"sub_grade_D2\\\\\\\\\\\\\\\"}}, \\\\\\\\\\\\\\\"typeProperty\\\\\\\\\\\\\\\": 2}, {\\\\\\\\\\\\\\\"column\\\\\\\\\\\\\\\": {\\\\\\\\\\\\\\\"type\\\\\\\\\\\\\\\": 2, \\\\\\\\\\\\\\\"details\\\\\\\\\\\\\\\": {\\\\\\\\\\\\\\\"selectedColumn\\\\\\\\\\\\\\\": \\\\\\\\\\\\\\\"sub_grade_D3\\\\\\\\\\\\\\\"}}, \\\\\\\\\\\\\\\"typeProperty\\\\\\\\\\\\\\\": 2}, {\\\\\\\\\\\\\\\"column\\\\\\\\\\\\\\\": {\\\\\\\\\\\\\\\"type\\\\\\\\\\\\\\\": 2, \\\\\\\\\\\\\\\"details\\\\\\\\\\\\\\\": {\\\\\\\\\\\\\\\"selectedColumn\\\\\\\\\\\\\\\": \\\\\\\\\\\\\\\"sub_grade_D4\\\\\\\\\\\\\\\"}}, \\\\\\\\\\\\\\\"typeProperty\\\\\\\\\\\\\\\": 2}, {\\\\\\\\\\\\\\\"column\\\\\\\\\\\\\\\": {\\\\\\\\\\\\\\\"type\\\\\\\\\\\\\\\": 2, \\\\\\\\\\\\\\\"details\\\\\\\\\\\\\\\": {\\\\\\\\\\\\\\\"selectedColumn\\\\\\\\\\\\\\\": \\\\\\\\\\\\\\\"sub_grade_D5\\\\\\\\\\\\\\\"}}, \\\\\\\\\\\\\\\"typeProperty\\\\\\\\\\\\\\\": 2}, {\\\\\\\\\\\\\\\"column\\\\\\\\\\\\\\\": {\\\\\\\\\\\\\\\"type\\\\\\\\\\\\\\\": 2, \\\\\\\\\\\\\\\"details\\\\\\\\\\\\\\\": {\\\\\\\\\\\\\\\"selectedColumn\\\\\\\\\\\\\\\": \\\\\\\\\\\\\\\"sub_grade_E1\\\\\\\\\\\\\\\"}}, \\\\\\\\\\\\\\\"typeProperty\\\\\\\\\\\\\\\": 2}, {\\\\\\\\\\\\\\\"column\\\\\\\\\\\\\\\": {\\\\\\\\\\\\\\\"type\\\\\\\\\\\\\\\": 2, \\\\\\\\\\\\\\\"details\\\\\\\\\\\\\\\": {\\\\\\\\\\\\\\\"selectedColumn\\\\\\\\\\\\\\\": \\\\\\\\\\\\\\\"sub_grade_E2\\\\\\\\\\\\\\\"}}, \\\\\\\\\\\\\\\"typeProperty\\\\\\\\\\\\\\\": 2}, {\\\\\\\\\\\\\\\"column\\\\\\\\\\\\\\\": {\\\\\\\\\\\\\\\"type\\\\\\\\\\\\\\\": 2, \\\\\\\\\\\\\\\"details\\\\\\\\\\\\\\\": {\\\\\\\\\\\\\\\"selectedColumn\\\\\\\\\\\\\\\": \\\\\\\\\\\\\\\"sub_grade_E3\\\\\\\\\\\\\\\"}}, \\\\\\\\\\\\\\\"typeProperty\\\\\\\\\\\\\\\": 2}, {\\\\\\\\\\\\\\\"column\\\\\\\\\\\\\\\": {\\\\\\\\\\\\\\\"type\\\\\\\\\\\\\\\": 2, \\\\\\\\\\\\\\\"details\\\\\\\\\\\\\\\": {\\\\\\\\\\\\\\\"selectedColumn\\\\\\\\\\\\\\\": \\\\\\\\\\\\\\\"sub_grade_E4\\\\\\\\\\\\\\\"}}, \\\\\\\\\\\\\\\"typeProperty\\\\\\\\\\\\\\\": 2}, {\\\\\\\\\\\\\\\"column\\\\\\\\\\\\\\\": {\\\\\\\\\\\\\\\"type\\\\\\\\\\\\\\\": 2, \\\\\\\\\\\\\\\"details\\\\\\\\\\\\\\\": {\\\\\\\\\\\\\\\"selectedColumn\\\\\\\\\\\\\\\": \\\\\\\\\\\\\\\"sub_grade_E5\\\\\\\\\\\\\\\"}}, \\\\\\\\\\\\\\\"typeProperty\\\\\\\\\\\\\\\": 2}, {\\\\\\\\\\\\\\\"column\\\\\\\\\\\\\\\": {\\\\\\\\\\\\\\\"type\\\\\\\\\\\\\\\": 2, \\\\\\\\\\\\\\\"details\\\\\\\\\\\\\\\": {\\\\\\\\\\\\\\\"selectedColumn\\\\\\\\\\\\\\\": \\\\\\\\\\\\\\\"sub_grade_F1\\\\\\\\\\\\\\\"}}, \\\\\\\\\\\\\\\"typeProperty\\\\\\\\\\\\\\\": 2}, {\\\\\\\\\\\\\\\"column\\\\\\\\\\\\\\\": {\\\\\\\\\\\\\\\"type\\\\\\\\\\\\\\\": 2, \\\\\\\\\\\\\\\"details\\\\\\\\\\\\\\\": {\\\\\\\\\\\\\\\"selectedColumn\\\\\\\\\\\\\\\": \\\\\\\\\\\\\\\"sub_grade_F2\\\\\\\\\\\\\\\"}}, \\\\\\\\\\\\\\\"typeProperty\\\\\\\\\\\\\\\": 2}, {\\\\\\\\\\\\\\\"column\\\\\\\\\\\\\\\": {\\\\\\\\\\\\\\\"type\\\\\\\\\\\\\\\": 2, \\\\\\\\\\\\\\\"details\\\\\\\\\\\\\\\": {\\\\\\\\\\\\\\\"selectedColumn\\\\\\\\\\\\\\\": \\\\\\\\\\\\\\\"sub_grade_F3\\\\\\\\\\\\\\\"}}, \\\\\\\\\\\\\\\"typeProperty\\\\\\\\\\\\\\\": 2}, {\\\\\\\\\\\\\\\"column\\\\\\\\\\\\\\\": {\\\\\\\\\\\\\\\"type\\\\\\\\\\\\\\\": 2, \\\\\\\\\\\\\\\"details\\\\\\\\\\\\\\\": {\\\\\\\\\\\\\\\"selectedColumn\\\\\\\\\\\\\\\": \\\\\\\\\\\\\\\"sub_grade_F4\\\\\\\\\\\\\\\"}}, \\\\\\\\\\\\\\\"typeProperty\\\\\\\\\\\\\\\": 2}, {\\\\\\\\\\\\\\\"column\\\\\\\\\\\\\\\": {\\\\\\\\\\\\\\\"type\\\\\\\\\\\\\\\": 2, \\\\\\\\\\\\\\\"details\\\\\\\\\\\\\\\": {\\\\\\\\\\\\\\\"selectedColumn\\\\\\\\\\\\\\\": \\\\\\\\\\\\\\\"sub_grade_F5\\\\\\\\\\\\\\\"}}, \\\\\\\\\\\\\\\"typeProperty\\\\\\\\\\\\\\\": 2}, {\\\\\\\\\\\\\\\"column\\\\\\\\\\\\\\\": {\\\\\\\\\\\\\\\"type\\\\\\\\\\\\\\\": 2, \\\\\\\\\\\\\\\"details\\\\\\\\\\\\\\\": {\\\\\\\\\\\\\\\"selectedColumn\\\\\\\\\\\\\\\": \\\\\\\\\\\\\\\"sub_grade_G1\\\\\\\\\\\\\\\"}}, \\\\\\\\\\\\\\\"typeProperty\\\\\\\\\\\\\\\": 2}, {\\\\\\\\\\\\\\\"column\\\\\\\\\\\\\\\": {\\\\\\\\\\\\\\\"type\\\\\\\\\\\\\\\": 2, \\\\\\\\\\\\\\\"details\\\\\\\\\\\\\\\": {\\\\\\\\\\\\\\\"selectedColumn\\\\\\\\\\\\\\\": \\\\\\\\\\\\\\\"sub_grade_G2\\\\\\\\\\\\\\\"}}, \\\\\\\\\\\\\\\"typeProperty\\\\\\\\\\\\\\\": 2}, {\\\\\\\\\\\\\\\"column\\\\\\\\\\\\\\\": {\\\\\\\\\\\\\\\"type\\\\\\\\\\\\\\\": 2, \\\\\\\\\\\\\\\"details\\\\\\\\\\\\\\\": {\\\\\\\\\\\\\\\"selectedColumn\\\\\\\\\\\\\\\": \\\\\\\\\\\\\\\"sub_grade_G3\\\\\\\\\\\\\\\"}}, \\\\\\\\\\\\\\\"typeProperty\\\\\\\\\\\\\\\": 2}, {\\\\\\\\\\\\\\\"column\\\\\\\\\\\\\\\": {\\\\\\\\\\\\\\\"type\\\\\\\\\\\\\\\": 2, \\\\\\\\\\\\\\\"details\\\\\\\\\\\\\\\": {\\\\\\\\\\\\\\\"selectedColumn\\\\\\\\\\\\\\\": \\\\\\\\\\\\\\\"sub_grade_G4\\\\\\\\\\\\\\\"}}, \\\\\\\\\\\\\\\"typeProperty\\\\\\\\\\\\\\\": 2}, {\\\\\\\\\\\\\\\"column\\\\\\\\\\\\\\\": {\\\\\\\\\\\\\\\"type\\\\\\\\\\\\\\\": 2, \\\\\\\\\\\\\\\"details\\\\\\\\\\\\\\\": {\\\\\\\\\\\\\\\"selectedColumn\\\\\\\\\\\\\\\": \\\\\\\\\\\\\\\"sub_grade_G5\\\\\\\\\\\\\\\"}}, \\\\\\\\\\\\\\\"typeProperty\\\\\\\\\\\\\\\": 2}, {\\\\\\\\\\\\\\\"column\\\\\\\\\\\\\\\": {\\\\\\\\\\\\\\\"type\\\\\\\\\\\\\\\": 2, \\\\\\\\\\\\\\\"details\\\\\\\\\\\\\\\": {\\\\\\\\\\\\\\\"selectedColumn\\\\\\\\\\\\\\\": \\\\\\\\\\\\\\\"verification_status_Source Verified\\\\\\\\\\\\\\\"}}, \\\\\\\\\\\\\\\"typeProperty\\\\\\\\\\\\\\\": 2}, {\\\\\\\\\\\\\\\"column\\\\\\\\\\\\\\\": {\\\\\\\\\\\\\\\"type\\\\\\\\\\\\\\\": 2, \\\\\\\\\\\\\\\"details\\\\\\\\\\\\\\\": {\\\\\\\\\\\\\\\"selectedColumn\\\\\\\\\\\\\\\": \\\\\\\\\\\\\\\"verification_status_Verified\\\\\\\\\\\\\\\"}}, \\\\\\\\\\\\\\\"typeProperty\\\\\\\\\\\\\\\": 2}, {\\\\\\\\\\\\\\\"column\\\\\\\\\\\\\\\": {\\\\\\\\\\\\\\\"type\\\\\\\\\\\\\\\": 2, \\\\\\\\\\\\\\\"details\\\\\\\\\\\\\\\": {\\\\\\\\\\\\\\\"selectedColumn\\\\\\\\\\\\\\\": \\\\\\\\\\\\\\\"application_type_INDIVIDUAL\\\\\\\\\\\\\\\"}}, \\\\\\\\\\\\\\\"typeProperty\\\\\\\\\\\\\\\": 2}, {\\\\\\\\\\\\\\\"column\\\\\\\\\\\\\\\": {\\\\\\\\\\\\\\\"type\\\\\\\\\\\\\\\": 2, \\\\\\\\\\\\\\\"details\\\\\\\\\\\\\\\": {\\\\\\\\\\\\\\\"selectedColumn\\\\\\\\\\\\\\\": \\\\\\\\\\\\\\\"application_type_JOINT\\\\\\\\\\\\\\\"}}, \\\\\\\\\\\\\\\"typeProperty\\\\\\\\\\\\\\\": 2}, {\\\\\\\\\\\\\\\"column\\\\\\\\\\\\\\\": {\\\\\\\\\\\\\\\"type\\\\\\\\\\\\\\\": 2, \\\\\\\\\\\\\\\"details\\\\\\\\\\\\\\\": {\\\\\\\\\\\\\\\"selectedColumn\\\\\\\\\\\\\\\": \\\\\\\\\\\\\\\"initial_list_status_w\\\\\\\\\\\\\\\"}}, \\\\\\\\\\\\\\\"typeProperty\\\\\\\\\\\\\\\": 2}, {\\\\\\\\\\\\\\\"column\\\\\\\\\\\\\\\": {\\\\\\\\\\\\\\\"type\\\\\\\\\\\\\\\": 2, \\\\\\\\\\\\\\\"details\\\\\\\\\\\\\\\": {\\\\\\\\\\\\\\\"selectedColumn\\\\\\\\\\\\\\\": \\\\\\\\\\\\\\\"home_ownership_OTHER\\\\\\\\\\\\\\\"}}, \\\\\\\\\\\\\\\"typeProperty\\\\\\\\\\\\\\\": 2}, {\\\\\\\\\\\\\\\"column\\\\\\\\\\\\\\\": {\\\\\\\\\\\\\\\"type\\\\\\\\\\\\\\\": 2, \\\\\\\\\\\\\\\"details\\\\\\\\\\\\\\\": {\\\\\\\\\\\\\\\"selectedColumn\\\\\\\\\\\\\\\": \\\\\\\\\\\\\\\"home_ownership_OWN\\\\\\\\\\\\\\\"}}, \\\\\\\\\\\\\\\"typeProperty\\\\\\\\\\\\\\\": 2}, {\\\\\\\\\\\\\\\"column\\\\\\\\\\\\\\\": {\\\\\\\\\\\\\\\"type\\\\\\\\\\\\\\\": 2, \\\\\\\\\\\\\\\"details\\\\\\\\\\\\\\\": {\\\\\\\\\\\\\\\"selectedColumn\\\\\\\\\\\\\\\": \\\\\\\\\\\\\\\"home_ownership_RENT\\\\\\\\\\\\\\\"}}, \\\\\\\\\\\\\\\"typeProperty\\\\\\\\\\\\\\\": 2}, {\\\\\\\\\\\\\\\"column\\\\\\\\\\\\\\\": {\\\\\\\\\\\\\\\"type\\\\\\\\\\\\\\\": 2, \\\\\\\\\\\\\\\"details\\\\\\\\\\\\\\\": {\\\\\\\\\\\\\\\"selectedColumn\\\\\\\\\\\\\\\": \\\\\\\\\\\\\\\"purpose_credit_card\\\\\\\\\\\\\\\"}}, \\\\\\\\\\\\\\\"typeProperty\\\\\\\\\\\\\\\": 2}, {\\\\\\\\\\\\\\\"column\\\\\\\\\\\\\\\": {\\\\\\\\\\\\\\\"type\\\\\\\\\\\\\\\": 2, \\\\\\\\\\\\\\\"details\\\\\\\\\\\\\\\": {\\\\\\\\\\\\\\\"selectedColumn\\\\\\\\\\\\\\\": \\\\\\\\\\\\\\\"purpose_debt_consolidation\\\\\\\\\\\\\\\"}}, \\\\\\\\\\\\\\\"typeProperty\\\\\\\\\\\\\\\": 2}, {\\\\\\\\\\\\\\\"column\\\\\\\\\\\\\\\": {\\\\\\\\\\\\\\\"type\\\\\\\\\\\\\\\": 2, \\\\\\\\\\\\\\\"details\\\\\\\\\\\\\\\": {\\\\\\\\\\\\\\\"selectedColumn\\\\\\\\\\\\\\\": \\\\\\\\\\\\\\\"purpose_educational\\\\\\\\\\\\\\\"}}, \\\\\\\\\\\\\\\"typeProperty\\\\\\\\\\\\\\\": 2}, {\\\\\\\\\\\\\\\"column\\\\\\\\\\\\\\\": {\\\\\\\\\\\\\\\"type\\\\\\\\\\\\\\\": 2, \\\\\\\\\\\\\\\"details\\\\\\\\\\\\\\\": {\\\\\\\\\\\\\\\"selectedColumn\\\\\\\\\\\\\\\": \\\\\\\\\\\\\\\"purpose_home_improvement\\\\\\\\\\\\\\\"}}, \\\\\\\\\\\\\\\"typeProperty\\\\\\\\\\\\\\\": 2}, {\\\\\\\\\\\\\\\"column\\\\\\\\\\\\\\\": {\\\\\\\\\\\\\\\"type\\\\\\\\\\\\\\\": 2, \\\\\\\\\\\\\\\"details\\\\\\\\\\\\\\\": {\\\\\\\\\\\\\\\"selectedColumn\\\\\\\\\\\\\\\": \\\\\\\\\\\\\\\"purpose_house\\\\\\\\\\\\\\\"}}, \\\\\\\\\\\\\\\"typeProperty\\\\\\\\\\\\\\\": 2}, {\\\\\\\\\\\\\\\"column\\\\\\\\\\\\\\\": {\\\\\\\\\\\\\\\"type\\\\\\\\\\\\\\\": 2, \\\\\\\\\\\\\\\"details\\\\\\\\\\\\\\\": {\\\\\\\\\\\\\\\"selectedColumn\\\\\\\\\\\\\\\": \\\\\\\\\\\\\\\"purpose_major_purchase\\\\\\\\\\\\\\\"}}, \\\\\\\\\\\\\\\"typeProperty\\\\\\\\\\\\\\\": 2}, {\\\\\\\\\\\\\\\"column\\\\\\\\\\\\\\\": {\\\\\\\\\\\\\\\"type\\\\\\\\\\\\\\\": 2, \\\\\\\\\\\\\\\"details\\\\\\\\\\\\\\\": {\\\\\\\\\\\\\\\"selectedColumn\\\\\\\\\\\\\\\": \\\\\\\\\\\\\\\"purpose_medical\\\\\\\\\\\\\\\"}}, \\\\\\\\\\\\\\\"typeProperty\\\\\\\\\\\\\\\": 2}, {\\\\\\\\\\\\\\\"column\\\\\\\\\\\\\\\": {\\\\\\\\\\\\\\\"type\\\\\\\\\\\\\\\": 2, \\\\\\\\\\\\\\\"details\\\\\\\\\\\\\\\": {\\\\\\\\\\\\\\\"selectedColumn\\\\\\\\\\\\\\\": \\\\\\\\\\\\\\\"purpose_moving\\\\\\\\\\\\\\\"}}, \\\\\\\\\\\\\\\"typeProperty\\\\\\\\\\\\\\\": 2}, {\\\\\\\\\\\\\\\"column\\\\\\\\\\\\\\\": {\\\\\\\\\\\\\\\"type\\\\\\\\\\\\\\\": 2, \\\\\\\\\\\\\\\"details\\\\\\\\\\\\\\\": {\\\\\\\\\\\\\\\"selectedColumn\\\\\\\\\\\\\\\": \\\\\\\\\\\\\\\"purpose_other\\\\\\\\\\\\\\\"}}, \\\\\\\\\\\\\\\"typeProperty\\\\\\\\\\\\\\\": 2}, {\\\\\\\\\\\\\\\"column\\\\\\\\\\\\\\\": {\\\\\\\\\\\\\\\"type\\\\\\\\\\\\\\\": 2, \\\\\\\\\\\\\\\"details\\\\\\\\\\\\\\\": {\\\\\\\\\\\\\\\"selectedColumn\\\\\\\\\\\\\\\": \\\\\\\\\\\\\\\"purpose_renewable_energy\\\\\\\\\\\\\\\"}}, \\\\\\\\\\\\\\\"typeProperty\\\\\\\\\\\\\\\": 2}, {\\\\\\\\\\\\\\\"column\\\\\\\\\\\\\\\": {\\\\\\\\\\\\\\\"type\\\\\\\\\\\\\\\": 2, \\\\\\\\\\\\\\\"details\\\\\\\\\\\\\\\": {\\\\\\\\\\\\\\\"selectedColumn\\\\\\\\\\\\\\\": \\\\\\\\\\\\\\\"purpose_small_business\\\\\\\\\\\\\\\"}}, \\\\\\\\\\\\\\\"typeProperty\\\\\\\\\\\\\\\": 2}, {\\\\\\\\\\\\\\\"column\\\\\\\\\\\\\\\": {\\\\\\\\\\\\\\\"type\\\\\\\\\\\\\\\": 2, \\\\\\\\\\\\\\\"details\\\\\\\\\\\\\\\": {\\\\\\\\\\\\\\\"selectedColumn\\\\\\\\\\\\\\\": \\\\\\\\\\\\\\\"purpose_vacation\\\\\\\\\\\\\\\"}}, \\\\\\\\\\\\\\\"typeProperty\\\\\\\\\\\\\\\": 2}, {\\\\\\\\\\\\\\\"column\\\\\\\\\\\\\\\": {\\\\\\\\\\\\\\\"type\\\\\\\\\\\\\\\": 2, \\\\\\\\\\\\\\\"details\\\\\\\\\\\\\\\": {\\\\\\\\\\\\\\\"selectedColumn\\\\\\\\\\\\\\\": \\\\\\\\\\\\\\\"purpose_wedding\\\\\\\\\\\\\\\"}}, \\\\\\\\\\\\\\\"typeProperty\\\\\\\\\\\\\\\": 2}, {\\\\\\\\\\\\\\\"column\\\\\\\\\\\\\\\": {\\\\\\\\\\\\\\\"type\\\\\\\\\\\\\\\": 2, \\\\\\\\\\\\\\\"details\\\\\\\\\\\\\\\": {\\\\\\\\\\\\\\\"selectedColumn\\\\\\\\\\\\\\\": \\\\\\\\\\\\\\\"loan_repaid\\\\\\\\\\\\\\\"}}, \\\\\\\\\\\\\\\"typeProperty\\\\\\\\\\\\\\\": 2}]}, \\\\\\\\\\\\\\\"localData\\\\\\\\\\\\\\\": {}, \\\\\\\\\\\\\\\"isEnabled\\\\\\\\\\\\\\\": true, \\\\\\\\\\\\\\\"name\\\\\\\\\\\\\\\": null, \\\\\\\\\\\\\\\"annotation\\\\\\\\\\\\\\\": null}], \\\\\\\\\\\\\\\"inspectors\\\\\\\\\\\\\\\": [], \\\\\\\\\\\\\\\"meta\\\\\\\\\\\\\\\": {\\\\\\\\\\\\\\\"savedDatasetId\\\\\\\\\\\\\\\": \\\\\\\\\\\\\\\"52f69d25-263b-4dd5-96a1-3328d0cf99bc\\\\\\\\\\\\\\\", \\\\\\\\\\\\\\\"datasetType\\\\\\\\\\\\\\\": \\\\\\\\\\\\\\\"tabular\\\\\\\\\\\\\\\", \\\\\\\\\\\\\\\"subscriptionId\\\\\\\\\\\\\\\": \\\\\\\\\\\\\\\"d4ad7261-832d-46b2-b093-22156001df5b\\\\\\\\\\\\\\\", \\\\\\\\\\\\\\\"workspaceId\\\\\\\\\\\\\\\": \\\\\\\\\\\\\\\"c2327c3d-aea3-413c-a388-ba1eeb07fc45\\\\\\\\\\\\\\\", \\\\\\\\\\\\\\\"workspaceLocation\\\\\\\\\\\\\\\": \\\\\\\\\\\\\\\"southcentralus\\\\\\\\\\\\\\\"}}\\\\\\\", \\\\\\\"activities\\\\\\\": 0}\", \"EnableSubsampling\": null, \"runTemplate\": \"AutoML\", \"azureml.runsource\": \"automl\", \"display_task_type\": \"classification\", \"dependencies_versions\": \"{\\\"azureml-widgets\\\": \\\"1.22.0\\\", \\\"azureml-train\\\": \\\"1.22.0\\\", \\\"azureml-train-restclients-hyperdrive\\\": \\\"1.22.0\\\", \\\"azureml-train-core\\\": \\\"1.22.0\\\", \\\"azureml-train-automl\\\": \\\"1.22.0\\\", \\\"azureml-train-automl-runtime\\\": \\\"1.22.0\\\", \\\"azureml-train-automl-client\\\": \\\"1.22.0\\\", \\\"azureml-tensorboard\\\": \\\"1.22.0\\\", \\\"azureml-telemetry\\\": \\\"1.22.0\\\", \\\"azureml-sdk\\\": \\\"1.22.0\\\", \\\"azureml-samples\\\": \\\"0+unknown\\\", \\\"azureml-pipeline\\\": \\\"1.22.0\\\", \\\"azureml-pipeline-steps\\\": \\\"1.22.0\\\", \\\"azureml-pipeline-core\\\": \\\"1.22.0\\\", \\\"azureml-opendatasets\\\": \\\"1.22.0\\\", \\\"azureml-model-management-sdk\\\": \\\"1.0.1b6.post1\\\", \\\"azureml-mlflow\\\": \\\"1.22.0\\\", \\\"azureml-interpret\\\": \\\"1.22.0\\\", \\\"azureml-explain-model\\\": \\\"1.22.0\\\", \\\"azureml-defaults\\\": \\\"1.22.0\\\", \\\"azureml-dataset-runtime\\\": \\\"1.22.0\\\", \\\"azureml-dataprep\\\": \\\"2.9.1\\\", \\\"azureml-dataprep-rslex\\\": \\\"1.7.0\\\", \\\"azureml-dataprep-native\\\": \\\"29.0.0\\\", \\\"azureml-datadrift\\\": \\\"1.22.0\\\", \\\"azureml-core\\\": \\\"1.22.0\\\", \\\"azureml-contrib-services\\\": \\\"1.22.0\\\", \\\"azureml-contrib-server\\\": \\\"1.22.0\\\", \\\"azureml-contrib-reinforcementlearning\\\": \\\"1.22.0\\\", \\\"azureml-contrib-pipeline-steps\\\": \\\"1.22.0\\\", \\\"azureml-contrib-notebook\\\": \\\"1.22.0\\\", \\\"azureml-contrib-interpret\\\": \\\"1.22.0\\\", \\\"azureml-contrib-gbdt\\\": \\\"1.22.0\\\", \\\"azureml-contrib-fairness\\\": \\\"1.22.0\\\", \\\"azureml-contrib-dataset\\\": \\\"1.22.0\\\", \\\"azureml-cli-common\\\": \\\"1.22.0\\\", \\\"azureml-automl-runtime\\\": \\\"1.22.0\\\", \\\"azureml-automl-core\\\": \\\"1.22.0\\\", \\\"azureml-accel-models\\\": \\\"1.22.0\\\"}\", \"_aml_system_scenario_identification\": \"Remote.Parent\", \"ClientType\": \"SDK\", \"environment_cpu_name\": \"AzureML-AutoML\", \"environment_cpu_label\": \"prod\", \"environment_gpu_name\": \"AzureML-AutoML-GPU\", \"environment_gpu_label\": \"prod\", \"root_attribution\": \"automl\", \"attribution\": \"AutoML\", \"Orchestrator\": \"AutoML\", \"CancelUri\": \"https://southcentralus.experiments.azureml.net/jasmine/v1.0/subscriptions/d4ad7261-832d-46b2-b093-22156001df5b/resourceGroups/aml-quickstarts-140376/providers/Microsoft.MachineLearningServices/workspaces/quick-starts-ws-140376/experimentids/c2ff9bc7-d3e6-49b9-99d7-1b20a44b53dc/cancel/AutoML_3c68e43a-bb2a-4c74-96e1-40f97c633e82\", \"ClientSdkVersion\": \"1.23.0\", \"snapshotId\": \"00000000-0000-0000-0000-000000000000\", \"SetupRunId\": \"AutoML_3c68e43a-bb2a-4c74-96e1-40f97c633e82_setup\", \"SetupRunContainerId\": \"dcid.AutoML_3c68e43a-bb2a-4c74-96e1-40f97c633e82_setup\", \"FeaturizationRunJsonPath\": \"featurizer_container.json\", \"FeaturizationRunId\": \"AutoML_3c68e43a-bb2a-4c74-96e1-40f97c633e82_featurize\", \"ProblemInfoJsonString\": \"{\\\"dataset_num_categorical\\\": 0, \\\"is_sparse\\\": true, \\\"subsampling\\\": false, \\\"dataset_classes\\\": 2, \\\"dataset_features\\\": 79, \\\"dataset_samples\\\": 395219, \\\"single_frequency_class_detected\\\": false}\", \"ModelExplainRunId\": \"AutoML_3c68e43a-bb2a-4c74-96e1-40f97c633e82_ModelExplain\"}, \"tags\": {\"model_explain_run\": \"best_run\", \"_aml_system_azureml.automlComponent\": \"AutoML\", \"pipeline_id\": \"\", \"score\": \"\", \"predicted_cost\": \"\", \"fit_time\": \"\", \"training_percent\": \"\", \"iteration\": \"\", \"run_preprocessor\": \"\", \"run_algorithm\": \"\", \"dynamic_whitelisting_iterations\": \"<25>;<30>;<35>;\", \"automl_best_child_run_id\": \"AutoML_3c68e43a-bb2a-4c74-96e1-40f97c633e82_36\", \"model_explain_best_run_child_id\": \"AutoML_3c68e43a-bb2a-4c74-96e1-40f97c633e82_36\"}, \"end_time_utc\": \"2021-03-13T22:05:22.877194Z\", \"status\": \"Completed\", \"log_files\": {}, \"log_groups\": [], \"run_duration\": \"1:12:42\", \"run_number\": \"2\", \"run_queued_details\": {\"status\": \"Completed\", \"details\": null}}, \"child_runs\": [{\"run_id\": \"AutoML_3c68e43a-bb2a-4c74-96e1-40f97c633e82_0\", \"run_number\": 6, \"metric\": null, \"status\": \"Completed\", \"run_type\": \"azureml.scriptrun\", \"training_percent\": \"100\", \"start_time\": \"2021-03-13T21:28:12.620746Z\", \"end_time\": \"2021-03-13T21:31:56.174209Z\", \"created_time\": \"2021-03-13T21:25:32.405424Z\", \"created_time_dt\": \"2021-03-13T21:25:32.405424Z\", \"duration\": \"0:06:23\", \"iteration\": \"0\", \"goal\": \"accuracy_max\", \"run_name\": \"MaxAbsScaler, LightGBM\", \"run_properties\": \"copy=True\", \"primary_metric\": 0.88957515, \"best_metric\": 0.88957515}, {\"run_id\": \"AutoML_3c68e43a-bb2a-4c74-96e1-40f97c633e82_3\", \"run_number\": 7, \"metric\": null, \"status\": \"Completed\", \"run_type\": \"azureml.scriptrun\", \"training_percent\": \"100\", \"start_time\": \"2021-03-13T21:25:41.872771Z\", \"end_time\": \"2021-03-13T21:27:05.124654Z\", \"created_time\": \"2021-03-13T21:25:32.524622Z\", \"created_time_dt\": \"2021-03-13T21:25:32.524622Z\", \"duration\": \"0:01:32\", \"iteration\": \"3\", \"goal\": \"accuracy_max\", \"run_name\": \"MaxAbsScaler, RandomForest\", \"run_properties\": \"copy=True\", \"primary_metric\": 0.80384799, \"best_metric\": 0.88957515}, {\"run_id\": \"AutoML_3c68e43a-bb2a-4c74-96e1-40f97c633e82_2\", \"run_number\": 8, \"metric\": null, \"status\": \"Completed\", \"run_type\": \"azureml.scriptrun\", \"training_percent\": \"100\", \"start_time\": \"2021-03-13T21:27:24.378961Z\", \"end_time\": \"2021-03-13T21:28:46.589306Z\", \"created_time\": \"2021-03-13T21:25:32.598349Z\", \"created_time_dt\": \"2021-03-13T21:25:32.598349Z\", \"duration\": \"0:03:13\", \"iteration\": \"2\", \"goal\": \"accuracy_max\", \"run_name\": \"MaxAbsScaler, RandomForest\", \"run_properties\": \"copy=True\", \"primary_metric\": 0.86581366, \"best_metric\": 0.88957515}, {\"run_id\": \"AutoML_3c68e43a-bb2a-4c74-96e1-40f97c633e82_1\", \"run_number\": 9, \"metric\": null, \"status\": \"Completed\", \"run_type\": \"azureml.scriptrun\", \"training_percent\": \"100\", \"start_time\": \"2021-03-13T21:28:16.084538Z\", \"end_time\": \"2021-03-13T21:33:09.895618Z\", \"created_time\": \"2021-03-13T21:25:32.681988Z\", \"created_time_dt\": \"2021-03-13T21:25:32.681988Z\", \"duration\": \"0:07:37\", \"iteration\": \"1\", \"goal\": \"accuracy_max\", \"run_name\": \"MaxAbsScaler, XGBoostClassifier\", \"run_properties\": \"copy=True\", \"primary_metric\": 0.88847449, \"best_metric\": 0.88957515}, {\"run_id\": \"AutoML_3c68e43a-bb2a-4c74-96e1-40f97c633e82_4\", \"run_number\": 10, \"metric\": null, \"status\": \"Completed\", \"run_type\": \"azureml.scriptrun\", \"training_percent\": \"100\", \"start_time\": \"2021-03-13T21:28:16.191077Z\", \"end_time\": \"2021-03-13T21:32:24.176359Z\", \"created_time\": \"2021-03-13T21:27:08.491908Z\", \"created_time_dt\": \"2021-03-13T21:27:08.491908Z\", \"duration\": \"0:05:15\", \"iteration\": \"4\", \"goal\": \"accuracy_max\", \"run_name\": \"MaxAbsScaler, RandomForest\", \"run_properties\": \"copy=True\", \"primary_metric\": 0.76575268, \"best_metric\": 0.88957515}, {\"run_id\": \"AutoML_3c68e43a-bb2a-4c74-96e1-40f97c633e82_5\", \"run_number\": 11, \"metric\": null, \"status\": \"Completed\", \"run_type\": \"azureml.scriptrun\", \"training_percent\": \"100\", \"start_time\": \"2021-03-13T21:29:04.832979Z\", \"end_time\": \"2021-03-13T21:30:15.930029Z\", \"created_time\": \"2021-03-13T21:28:50.312571Z\", \"created_time_dt\": \"2021-03-13T21:28:50.312571Z\", \"duration\": \"0:01:25\", \"iteration\": \"5\", \"goal\": \"accuracy_max\", \"run_name\": \"MaxAbsScaler, RandomForest\", \"run_properties\": \"copy=True\", \"primary_metric\": 0.72965371, \"best_metric\": 0.88957515}, {\"run_id\": \"AutoML_3c68e43a-bb2a-4c74-96e1-40f97c633e82_6\", \"run_number\": 12, \"metric\": null, \"status\": \"Completed\", \"run_type\": \"azureml.scriptrun\", \"training_percent\": \"100\", \"start_time\": \"2021-03-13T21:30:37.414235Z\", \"end_time\": \"2021-03-13T21:33:21.387157Z\", \"created_time\": \"2021-03-13T21:30:19.458771Z\", \"created_time_dt\": \"2021-03-13T21:30:19.458771Z\", \"duration\": \"0:03:01\", \"iteration\": \"6\", \"goal\": \"accuracy_max\", \"run_name\": \"SparseNormalizer, XGBoostClassifier\", \"run_properties\": \"<azureml.automl.runtime.shared.model_wrappers.SparseNormalizer object at 0x7f78d9561198\", \"primary_metric\": 0.88828725, \"best_metric\": 0.88957515}, {\"run_id\": \"AutoML_3c68e43a-bb2a-4c74-96e1-40f97c633e82_7\", \"run_number\": 13, \"metric\": null, \"status\": \"Completed\", \"run_type\": \"azureml.scriptrun\", \"training_percent\": \"100\", \"start_time\": \"2021-03-13T21:32:11.83826Z\", \"end_time\": \"2021-03-13T21:35:49.033977Z\", \"created_time\": \"2021-03-13T21:31:59.141358Z\", \"created_time_dt\": \"2021-03-13T21:31:59.141358Z\", \"duration\": \"0:03:49\", \"iteration\": \"7\", \"goal\": \"accuracy_max\", \"run_name\": \"SparseNormalizer, XGBoostClassifier\", \"run_properties\": \"<azureml.automl.runtime.shared.model_wrappers.SparseNormalizer object at 0x7f4ae7ccf710\", \"primary_metric\": 0.88883632, \"best_metric\": 0.88957515}, {\"run_id\": \"AutoML_3c68e43a-bb2a-4c74-96e1-40f97c633e82_8\", \"run_number\": 14, \"metric\": null, \"status\": \"Completed\", \"run_type\": \"azureml.scriptrun\", \"training_percent\": \"100\", \"start_time\": \"2021-03-13T21:32:40.320054Z\", \"end_time\": \"2021-03-13T21:36:38.820618Z\", \"created_time\": \"2021-03-13T21:32:26.333055Z\", \"created_time_dt\": \"2021-03-13T21:32:26.333055Z\", \"duration\": \"0:04:12\", \"iteration\": \"8\", \"goal\": \"accuracy_max\", \"run_name\": \"SparseNormalizer, XGBoostClassifier\", \"run_properties\": \"<azureml.automl.runtime.shared.model_wrappers.SparseNormalizer object at 0x7f410253b160\", \"primary_metric\": 0.88891476, \"best_metric\": 0.88957515}, {\"run_id\": \"AutoML_3c68e43a-bb2a-4c74-96e1-40f97c633e82_9\", \"run_number\": 15, \"metric\": null, \"status\": \"Completed\", \"run_type\": \"azureml.scriptrun\", \"training_percent\": \"100\", \"start_time\": \"2021-03-13T21:33:19.567643Z\", \"end_time\": \"2021-03-13T21:35:05.716219Z\", \"created_time\": \"2021-03-13T21:33:11.648132Z\", \"created_time_dt\": \"2021-03-13T21:33:11.648132Z\", \"duration\": \"0:01:54\", \"iteration\": \"9\", \"goal\": \"accuracy_max\", \"run_name\": \"SparseNormalizer, XGBoostClassifier\", \"run_properties\": \"<azureml.automl.runtime.shared.model_wrappers.SparseNormalizer object at 0x7fc2a1ddd5c0\", \"primary_metric\": 0.88809243, \"best_metric\": 0.88957515}, {\"run_id\": \"AutoML_3c68e43a-bb2a-4c74-96e1-40f97c633e82_10\", \"run_number\": 16, \"metric\": null, \"status\": \"Completed\", \"run_type\": \"azureml.scriptrun\", \"training_percent\": \"100\", \"start_time\": \"2021-03-13T21:33:33.526815Z\", \"end_time\": \"2021-03-13T21:37:42.000534Z\", \"created_time\": \"2021-03-13T21:33:23.836901Z\", \"created_time_dt\": \"2021-03-13T21:33:23.836901Z\", \"duration\": \"0:04:18\", \"iteration\": \"10\", \"goal\": \"accuracy_max\", \"run_name\": \"MaxAbsScaler, GradientBoosting\", \"run_properties\": \"copy=True\", \"primary_metric\": 0.85948803, \"best_metric\": 0.88957515}, {\"run_id\": \"AutoML_3c68e43a-bb2a-4c74-96e1-40f97c633e82_11\", \"run_number\": 17, \"metric\": null, \"status\": \"Completed\", \"run_type\": \"azureml.scriptrun\", \"training_percent\": \"100\", \"start_time\": \"2021-03-13T21:35:20.090631Z\", \"end_time\": \"2021-03-13T21:39:58.2924Z\", \"created_time\": \"2021-03-13T21:35:08.323137Z\", \"created_time_dt\": \"2021-03-13T21:35:08.323137Z\", \"duration\": \"0:04:49\", \"iteration\": \"11\", \"goal\": \"accuracy_max\", \"run_name\": \"MaxAbsScaler, RandomForest\", \"run_properties\": \"copy=True\", \"primary_metric\": 0.80384799, \"best_metric\": 0.88957515}, {\"run_id\": \"AutoML_3c68e43a-bb2a-4c74-96e1-40f97c633e82_12\", \"run_number\": 18, \"metric\": null, \"status\": \"Completed\", \"run_type\": \"azureml.scriptrun\", \"training_percent\": \"100\", \"start_time\": \"2021-03-13T21:36:00.973871Z\", \"end_time\": \"2021-03-13T21:37:37.538387Z\", \"created_time\": \"2021-03-13T21:35:50.835269Z\", \"created_time_dt\": \"2021-03-13T21:35:50.835269Z\", \"duration\": \"0:01:46\", \"iteration\": \"12\", \"goal\": \"accuracy_max\", \"run_name\": \"StandardScalerWrapper, RandomForest\", \"run_properties\": \"<azureml.automl.runtime.shared.model_wrappers.StandardScalerWrapper object at 0x7f669f497208\", \"primary_metric\": 0.88498783, \"best_metric\": 0.88957515}, {\"run_id\": \"AutoML_3c68e43a-bb2a-4c74-96e1-40f97c633e82_13\", \"run_number\": 19, \"metric\": null, \"status\": \"Completed\", \"run_type\": \"azureml.scriptrun\", \"training_percent\": \"100\", \"start_time\": \"2021-03-13T21:36:53.218242Z\", \"end_time\": \"2021-03-13T21:38:56.48087Z\", \"created_time\": \"2021-03-13T21:36:41.018029Z\", \"created_time_dt\": \"2021-03-13T21:36:41.018029Z\", \"duration\": \"0:02:15\", \"iteration\": \"13\", \"goal\": \"accuracy_max\", \"run_name\": \"MaxAbsScaler, RandomForest\", \"run_properties\": \"copy=True\", \"primary_metric\": 0.80384799, \"best_metric\": 0.88957515}, {\"run_id\": \"AutoML_3c68e43a-bb2a-4c74-96e1-40f97c633e82_14\", \"run_number\": 20, \"metric\": null, \"status\": \"Completed\", \"run_type\": \"azureml.scriptrun\", \"training_percent\": \"100\", \"start_time\": \"2021-03-13T21:37:51.776417Z\", \"end_time\": \"2021-03-13T21:39:57.245519Z\", \"created_time\": \"2021-03-13T21:37:41.077775Z\", \"created_time_dt\": \"2021-03-13T21:37:41.077775Z\", \"duration\": \"0:02:16\", \"iteration\": \"14\", \"goal\": \"accuracy_max\", \"run_name\": \"MaxAbsScaler, LogisticRegression\", \"run_properties\": \"copy=True\", \"primary_metric\": 0.888768, \"best_metric\": 0.88957515}, {\"run_id\": \"AutoML_3c68e43a-bb2a-4c74-96e1-40f97c633e82_15\", \"run_number\": 21, \"metric\": null, \"status\": \"Completed\", \"run_type\": \"azureml.scriptrun\", \"training_percent\": \"100\", \"start_time\": \"2021-03-13T21:37:58.338894Z\", \"end_time\": \"2021-03-13T21:44:07.623347Z\", \"created_time\": \"2021-03-13T21:37:44.536228Z\", \"created_time_dt\": \"2021-03-13T21:37:44.536228Z\", \"duration\": \"0:06:23\", \"iteration\": \"15\", \"goal\": \"accuracy_max\", \"run_name\": \"MaxAbsScaler, ExtremeRandomTrees\", \"run_properties\": \"copy=True\", \"primary_metric\": 0.80384799, \"best_metric\": 0.88957515}, {\"run_id\": \"AutoML_3c68e43a-bb2a-4c74-96e1-40f97c633e82_16\", \"run_number\": 22, \"metric\": null, \"status\": \"Completed\", \"run_type\": \"azureml.scriptrun\", \"training_percent\": \"100\", \"start_time\": \"2021-03-13T21:39:12.073548Z\", \"end_time\": \"2021-03-13T21:40:33.626417Z\", \"created_time\": \"2021-03-13T21:38:58.158928Z\", \"created_time_dt\": \"2021-03-13T21:38:58.158928Z\", \"duration\": \"0:01:35\", \"iteration\": \"16\", \"goal\": \"accuracy_max\", \"run_name\": \"MaxAbsScaler, LightGBM\", \"run_properties\": \"copy=True\", \"primary_metric\": 0.80384799, \"best_metric\": 0.88957515}, {\"run_id\": \"AutoML_3c68e43a-bb2a-4c74-96e1-40f97c633e82_17\", \"run_number\": 23, \"metric\": null, \"status\": \"Completed\", \"run_type\": \"azureml.scriptrun\", \"training_percent\": \"100\", \"start_time\": \"2021-03-13T21:40:11.234645Z\", \"end_time\": \"2021-03-13T21:41:24.43878Z\", \"created_time\": \"2021-03-13T21:39:59.024886Z\", \"created_time_dt\": \"2021-03-13T21:39:59.024886Z\", \"duration\": \"0:01:25\", \"iteration\": \"17\", \"goal\": \"accuracy_max\", \"run_name\": \"MaxAbsScaler, LightGBM\", \"run_properties\": \"copy=True\", \"primary_metric\": 0.80384799, \"best_metric\": 0.88957515}, {\"run_id\": \"AutoML_3c68e43a-bb2a-4c74-96e1-40f97c633e82_18\", \"run_number\": 24, \"metric\": null, \"status\": \"Completed\", \"run_type\": \"azureml.scriptrun\", \"training_percent\": \"100\", \"start_time\": \"2021-03-13T21:40:14.203377Z\", \"end_time\": \"2021-03-13T21:42:43.826396Z\", \"created_time\": \"2021-03-13T21:40:03.252862Z\", \"created_time_dt\": \"2021-03-13T21:40:03.252862Z\", \"duration\": \"0:02:40\", \"iteration\": \"18\", \"goal\": \"accuracy_max\", \"run_name\": \"SparseNormalizer, XGBoostClassifier\", \"run_properties\": \"<azureml.automl.runtime.shared.model_wrappers.SparseNormalizer object at 0x7f829c308e48\", \"primary_metric\": 0.88876041, \"best_metric\": 0.88957515}, {\"run_id\": \"AutoML_3c68e43a-bb2a-4c74-96e1-40f97c633e82_19\", \"run_number\": 25, \"metric\": null, \"status\": \"Completed\", \"run_type\": \"azureml.scriptrun\", \"training_percent\": \"100\", \"start_time\": \"2021-03-13T21:40:49.947302Z\", \"end_time\": \"2021-03-13T21:46:04.986112Z\", \"created_time\": \"2021-03-13T21:40:36.698843Z\", \"created_time_dt\": \"2021-03-13T21:40:36.698843Z\", \"duration\": \"0:05:28\", \"iteration\": \"19\", \"goal\": \"accuracy_max\", \"run_name\": \"SparseNormalizer, XGBoostClassifier\", \"run_properties\": \"<azureml.automl.runtime.shared.model_wrappers.SparseNormalizer object at 0x7f396efec128\", \"primary_metric\": 0.88888439, \"best_metric\": 0.88957515}, {\"run_id\": \"AutoML_3c68e43a-bb2a-4c74-96e1-40f97c633e82_20\", \"run_number\": 26, \"metric\": null, \"status\": \"Completed\", \"run_type\": \"azureml.scriptrun\", \"training_percent\": \"100\", \"start_time\": \"2021-03-13T21:41:40.248534Z\", \"end_time\": \"2021-03-13T21:43:51.175141Z\", \"created_time\": \"2021-03-13T21:41:26.040301Z\", \"created_time_dt\": \"2021-03-13T21:41:26.040301Z\", \"duration\": \"0:02:25\", \"iteration\": \"20\", \"goal\": \"accuracy_max\", \"run_name\": \"StandardScalerWrapper, ExtremeRandomTrees\", \"run_properties\": \"<azureml.automl.runtime.shared.model_wrappers.StandardScalerWrapper object at 0x7f88aa898a20\", \"primary_metric\": 0.85549028, \"best_metric\": 0.88957515}, {\"run_id\": \"AutoML_3c68e43a-bb2a-4c74-96e1-40f97c633e82_21\", \"run_number\": 27, \"metric\": null, \"status\": \"Completed\", \"run_type\": \"azureml.scriptrun\", \"training_percent\": \"100\", \"start_time\": \"2021-03-13T21:42:59.571772Z\", \"end_time\": \"2021-03-13T21:44:27.363482Z\", \"created_time\": \"2021-03-13T21:42:46.374144Z\", \"created_time_dt\": \"2021-03-13T21:42:46.374144Z\", \"duration\": \"0:01:40\", \"iteration\": \"21\", \"goal\": \"accuracy_max\", \"run_name\": \"StandardScalerWrapper, ExtremeRandomTrees\", \"run_properties\": \"<azureml.automl.runtime.shared.model_wrappers.StandardScalerWrapper object at 0x7f3650b450f0\", \"primary_metric\": 0.8045261, \"best_metric\": 0.88957515}, {\"run_id\": \"AutoML_3c68e43a-bb2a-4c74-96e1-40f97c633e82_22\", \"run_number\": 28, \"metric\": null, \"status\": \"Completed\", \"run_type\": \"azureml.scriptrun\", \"training_percent\": \"100\", \"start_time\": \"2021-03-13T21:44:05.289801Z\", \"end_time\": \"2021-03-13T21:46:31.511316Z\", \"created_time\": \"2021-03-13T21:43:54.729415Z\", \"created_time_dt\": \"2021-03-13T21:43:54.729415Z\", \"duration\": \"0:02:36\", \"iteration\": \"22\", \"goal\": \"accuracy_max\", \"run_name\": \"SparseNormalizer, XGBoostClassifier\", \"run_properties\": \"<azureml.automl.runtime.shared.model_wrappers.SparseNormalizer object at 0x7f5957d48dd8\", \"primary_metric\": 0.88857064, \"best_metric\": 0.88957515}, {\"run_id\": \"AutoML_3c68e43a-bb2a-4c74-96e1-40f97c633e82_23\", \"run_number\": 29, \"metric\": null, \"status\": \"Completed\", \"run_type\": \"azureml.scriptrun\", \"training_percent\": \"100\", \"start_time\": \"2021-03-13T21:44:22.269332Z\", \"end_time\": \"2021-03-13T21:48:16.318567Z\", \"created_time\": \"2021-03-13T21:44:09.735884Z\", \"created_time_dt\": \"2021-03-13T21:44:09.735884Z\", \"duration\": \"0:04:06\", \"iteration\": \"23\", \"goal\": \"accuracy_max\", \"run_name\": \"StandardScalerWrapper, LogisticRegression\", \"run_properties\": \"<azureml.automl.runtime.shared.model_wrappers.StandardScalerWrapper object at 0x7fda286e3eb8\", \"primary_metric\": 0.88902862, \"best_metric\": 0.88957515}, {\"run_id\": \"AutoML_3c68e43a-bb2a-4c74-96e1-40f97c633e82_24\", \"run_number\": 30, \"metric\": null, \"status\": \"Completed\", \"run_type\": \"azureml.scriptrun\", \"training_percent\": \"100\", \"start_time\": \"2021-03-13T21:44:43.117184Z\", \"end_time\": \"2021-03-13T21:46:03.791644Z\", \"created_time\": \"2021-03-13T21:44:29.494924Z\", \"created_time_dt\": \"2021-03-13T21:44:29.494924Z\", \"duration\": \"0:01:34\", \"iteration\": \"24\", \"goal\": \"accuracy_max\", \"run_name\": \"MaxAbsScaler, LightGBM\", \"run_properties\": \"copy=True\", \"primary_metric\": 0.80689694, \"best_metric\": 0.88957515}, {\"run_id\": \"AutoML_3c68e43a-bb2a-4c74-96e1-40f97c633e82_25\", \"run_number\": 31, \"metric\": null, \"status\": \"Completed\", \"run_type\": \"azureml.scriptrun\", \"training_percent\": \"100\", \"start_time\": \"2021-03-13T21:46:16.442613Z\", \"end_time\": \"2021-03-13T21:47:26.362771Z\", \"created_time\": \"2021-03-13T21:46:08.367424Z\", \"created_time_dt\": \"2021-03-13T21:46:08.367424Z\", \"duration\": \"0:01:17\", \"iteration\": \"25\", \"goal\": \"accuracy_max\", \"run_name\": \"MaxAbsScaler, LightGBM\", \"run_properties\": \"copy=True\", \"primary_metric\": 0.80384799, \"best_metric\": 0.88957515}, {\"run_id\": \"AutoML_3c68e43a-bb2a-4c74-96e1-40f97c633e82_26\", \"run_number\": 32, \"metric\": null, \"status\": \"Completed\", \"run_type\": \"azureml.scriptrun\", \"training_percent\": \"100\", \"start_time\": \"2021-03-13T21:46:20.60142Z\", \"end_time\": \"2021-03-13T21:49:47.024138Z\", \"created_time\": \"2021-03-13T21:46:08.498886Z\", \"created_time_dt\": \"2021-03-13T21:46:08.498886Z\", \"duration\": \"0:03:38\", \"iteration\": \"26\", \"goal\": \"accuracy_max\", \"run_name\": \"SparseNormalizer, XGBoostClassifier\", \"run_properties\": \"<azureml.automl.runtime.shared.model_wrappers.SparseNormalizer object at 0x7f2707f680b8\", \"primary_metric\": 0.88812279, \"best_metric\": 0.88957515}, {\"run_id\": \"AutoML_3c68e43a-bb2a-4c74-96e1-40f97c633e82_27\", \"run_number\": 33, \"metric\": null, \"status\": \"Completed\", \"run_type\": \"azureml.scriptrun\", \"training_percent\": \"100\", \"start_time\": \"2021-03-13T21:46:46.163937Z\", \"end_time\": \"2021-03-13T21:55:04.149077Z\", \"created_time\": \"2021-03-13T21:46:33.839502Z\", \"created_time_dt\": \"2021-03-13T21:46:33.839502Z\", \"duration\": \"0:08:30\", \"iteration\": \"27\", \"goal\": \"accuracy_max\", \"run_name\": \"SparseNormalizer, XGBoostClassifier\", \"run_properties\": \"<azureml.automl.runtime.shared.model_wrappers.SparseNormalizer object at 0x7f3f23c9aef0\", \"primary_metric\": 0.88890969, \"best_metric\": 0.88957515}, {\"run_id\": \"AutoML_3c68e43a-bb2a-4c74-96e1-40f97c633e82_28\", \"run_number\": 34, \"metric\": null, \"status\": \"Completed\", \"run_type\": \"azureml.scriptrun\", \"training_percent\": \"100\", \"start_time\": \"2021-03-13T21:47:43.171288Z\", \"end_time\": \"2021-03-13T21:53:30.211996Z\", \"created_time\": \"2021-03-13T21:47:28.475679Z\", \"created_time_dt\": \"2021-03-13T21:47:28.475679Z\", \"duration\": \"0:06:01\", \"iteration\": \"28\", \"goal\": \"accuracy_max\", \"run_name\": \"SparseNormalizer, XGBoostClassifier\", \"run_properties\": \"<azureml.automl.runtime.shared.model_wrappers.SparseNormalizer object at 0x7f1364dc3e10\", \"primary_metric\": 0.8888768, \"best_metric\": 0.88957515}, {\"run_id\": \"AutoML_3c68e43a-bb2a-4c74-96e1-40f97c633e82_29\", \"run_number\": 35, \"metric\": null, \"status\": \"Canceled\", \"run_type\": \"azureml.scriptrun\", \"training_percent\": \"100\", \"start_time\": \"2021-03-13T21:48:29.840227Z\", \"end_time\": \"2021-03-13T21:58:37.132786Z\", \"created_time\": \"2021-03-13T21:48:18.725286Z\", \"created_time_dt\": \"2021-03-13T21:48:18.725286Z\", \"duration\": \"0:10:18\", \"iteration\": \"29\", \"goal\": null, \"run_name\": \"SparseNormalizer, XGBoostClassifier\", \"run_properties\": null}, {\"run_id\": \"AutoML_3c68e43a-bb2a-4c74-96e1-40f97c633e82_30\", \"run_number\": 36, \"metric\": null, \"status\": \"Completed\", \"run_type\": \"azureml.scriptrun\", \"training_percent\": \"100\", \"start_time\": \"2021-03-13T21:50:06.242535Z\", \"end_time\": \"2021-03-13T21:51:37.470122Z\", \"created_time\": \"2021-03-13T21:49:55.89344Z\", \"created_time_dt\": \"2021-03-13T21:49:55.89344Z\", \"duration\": \"0:01:41\", \"iteration\": \"30\", \"goal\": \"accuracy_max\", \"run_name\": \"SparseNormalizer, LightGBM\", \"run_properties\": \"<azureml.automl.runtime.shared.model_wrappers.SparseNormalizer object at 0x7fcb5d5dd9e8\", \"primary_metric\": 0.86539615, \"best_metric\": 0.88957515}, {\"run_id\": \"AutoML_3c68e43a-bb2a-4c74-96e1-40f97c633e82_31\", \"run_number\": 37, \"metric\": null, \"status\": \"Completed\", \"run_type\": \"azureml.scriptrun\", \"training_percent\": \"100\", \"start_time\": \"2021-03-13T21:51:52.837822Z\", \"end_time\": \"2021-03-13T21:55:46.165543Z\", \"created_time\": \"2021-03-13T21:51:40.082063Z\", \"created_time_dt\": \"2021-03-13T21:51:40.082063Z\", \"duration\": \"0:04:06\", \"iteration\": \"31\", \"goal\": \"accuracy_max\", \"run_name\": \"SparseNormalizer, XGBoostClassifier\", \"run_properties\": \"<azureml.automl.runtime.shared.model_wrappers.SparseNormalizer object at 0x7f870cf39dd8\", \"primary_metric\": 0.88885656, \"best_metric\": 0.88957515}, {\"run_id\": \"AutoML_3c68e43a-bb2a-4c74-96e1-40f97c633e82_32\", \"run_number\": 38, \"metric\": null, \"status\": \"Canceled\", \"run_type\": \"azureml.scriptrun\", \"training_percent\": \"100\", \"start_time\": \"2021-03-13T21:53:45.207762Z\", \"end_time\": \"2021-03-13T21:58:41.533752Z\", \"created_time\": \"2021-03-13T21:53:32.104385Z\", \"created_time_dt\": \"2021-03-13T21:53:32.104385Z\", \"duration\": \"0:05:09\", \"iteration\": \"32\", \"goal\": null, \"run_name\": \"SparseNormalizer, XGBoostClassifier\", \"run_properties\": null}, {\"run_id\": \"AutoML_3c68e43a-bb2a-4c74-96e1-40f97c633e82_33\", \"run_number\": 39, \"metric\": null, \"status\": \"Completed\", \"run_type\": \"azureml.scriptrun\", \"training_percent\": \"100\", \"start_time\": \"2021-03-13T21:55:16.124971Z\", \"end_time\": \"2021-03-13T21:58:28.824167Z\", \"created_time\": \"2021-03-13T21:55:05.864256Z\", \"created_time_dt\": \"2021-03-13T21:55:05.864256Z\", \"duration\": \"0:03:22\", \"iteration\": \"33\", \"goal\": \"accuracy_max\", \"run_name\": \"SparseNormalizer, XGBoostClassifier\", \"run_properties\": \"<azureml.automl.runtime.shared.model_wrappers.SparseNormalizer object at 0x7fd70b36f748\", \"primary_metric\": 0.8889021, \"best_metric\": 0.88957515}, {\"run_id\": \"AutoML_3c68e43a-bb2a-4c74-96e1-40f97c633e82_34\", \"run_number\": 40, \"metric\": null, \"status\": \"Completed\", \"run_type\": \"azureml.scriptrun\", \"training_percent\": \"100\", \"start_time\": \"2021-03-13T21:56:02.02724Z\", \"end_time\": \"2021-03-13T21:58:07.902155Z\", \"created_time\": \"2021-03-13T21:55:48.031516Z\", \"created_time_dt\": \"2021-03-13T21:55:48.031516Z\", \"duration\": \"0:02:19\", \"iteration\": \"34\", \"goal\": \"accuracy_max\", \"run_name\": \"MaxAbsScaler, LightGBM\", \"run_properties\": \"copy=True\", \"primary_metric\": 0.88878065, \"best_metric\": 0.88957515}, {\"run_id\": \"AutoML_3c68e43a-bb2a-4c74-96e1-40f97c633e82_35\", \"run_number\": 41, \"metric\": null, \"status\": \"Canceled\", \"run_type\": \"azureml.scriptrun\", \"training_percent\": \"100\", \"start_time\": \"2021-03-13T21:58:20.816992Z\", \"end_time\": \"2021-03-13T21:58:37.745546Z\", \"created_time\": \"2021-03-13T21:58:10.745313Z\", \"created_time_dt\": \"2021-03-13T21:58:10.745313Z\", \"duration\": \"0:00:27\", \"iteration\": \"35\", \"goal\": null, \"run_name\": \"Canceled\", \"run_properties\": null}, {\"run_id\": \"AutoML_3c68e43a-bb2a-4c74-96e1-40f97c633e82_37\", \"run_number\": 42, \"metric\": null, \"status\": \"Completed\", \"run_type\": \"azureml.scriptrun\", \"training_percent\": \"100\", \"start_time\": \"2021-03-13T21:58:55.174241Z\", \"end_time\": \"2021-03-13T22:05:08.239238Z\", \"created_time\": \"2021-03-13T21:58:42.6343Z\", \"created_time_dt\": \"2021-03-13T21:58:42.6343Z\", \"duration\": \"0:06:25\", \"iteration\": \"37\", \"goal\": \"accuracy_max\", \"run_name\": \"StackEnsemble\", \"run_properties\": \"base_learners=[('0',\\n                                        Pipeline(memory=None,\\n                                                 steps=[('maxabsscaler',\\n                                                         MaxAbsScaler(copy=True\", \"primary_metric\": 0.88948659, \"best_metric\": 0.88967636}, {\"run_id\": \"AutoML_3c68e43a-bb2a-4c74-96e1-40f97c633e82_36\", \"run_number\": 43, \"metric\": null, \"status\": \"Completed\", \"run_type\": \"azureml.scriptrun\", \"training_percent\": \"100\", \"start_time\": \"2021-03-13T21:58:52.672974Z\", \"end_time\": \"2021-03-13T22:03:20.917233Z\", \"created_time\": \"2021-03-13T21:58:42.774339Z\", \"created_time_dt\": \"2021-03-13T21:58:42.774339Z\", \"duration\": \"0:04:38\", \"iteration\": \"36\", \"goal\": \"accuracy_max\", \"run_name\": \"VotingEnsemble\", \"run_properties\": \"classification_labels=None,\\n                              estimators=[('0',\\n                                           Pipeline(memory=None,\\n                                                    steps=[('maxabsscaler',\\n                                                            MaxAbsScaler(copy=True\", \"primary_metric\": 0.88967636, \"best_metric\": 0.88967636}], \"children_metrics\": {\"categories\": [0], \"series\": {\"recall_score_weighted\": [{\"categories\": [\"0\", \"1\", \"2\", \"3\", \"4\", \"5\", \"6\", \"7\", \"8\", \"9\", \"10\", \"11\", \"12\", \"13\", \"14\", \"15\", \"16\", \"17\", \"18\", \"19\", \"20\", \"21\", \"22\", \"23\", \"24\", \"25\", \"26\", \"27\", \"28\", \"30\", \"31\", \"33\", \"34\", \"36\", \"37\"], \"mode\": \"markers\", \"name\": \"recall_score_weighted\", \"stepped\": false, \"type\": \"scatter\", \"data\": [0.8895751488886843, 0.8884744927649998, 0.8658136631539203, 0.8038479936348374, 0.7657526802503805, 0.7296537127236657, 0.8882872543551095, 0.8888363180382375, 0.8889147553450774, 0.8880924261005366, 0.8594880269205237, 0.8038479936348374, 0.8849878260732802, 0.8038479936348374, 0.8887680015422489, 0.8038479936348374, 0.8038479936348374, 0.8038479936348374, 0.8887604100842258, 0.8888843922787113, 0.8554902774597047, 0.8045260969696889, 0.8885706418029339, 0.8890286163253766, 0.8068969364144277, 0.8038479936348374, 0.8881227889940448, 0.8889096947379841, 0.8888768018194226, 0.8653961492112913, 0.888856559967243, 0.8889021040098055, 0.8887806520900571, 0.8896763581495829, 0.889486590406071]}, {\"categories\": [\"0\", \"1\", \"2\", \"3\", \"4\", \"5\", \"6\", \"7\", \"8\", \"9\", \"10\", \"11\", \"12\", \"13\", \"14\", \"15\", \"16\", \"17\", \"18\", \"19\", \"20\", \"21\", \"22\", \"23\", \"24\", \"25\", \"26\", \"27\", \"28\", \"30\", \"31\", \"33\", \"34\", \"36\", \"37\"], \"mode\": \"lines\", \"name\": \"recall_score_weighted_max\", \"stepped\": true, \"type\": \"scatter\", \"data\": [0.8895751488886843, 0.8895751488886843, 0.8895751488886843, 0.8895751488886843, 0.8895751488886843, 0.8895751488886843, 0.8895751488886843, 0.8895751488886843, 0.8895751488886843, 0.8895751488886843, 0.8895751488886843, 0.8895751488886843, 0.8895751488886843, 0.8895751488886843, 0.8895751488886843, 0.8895751488886843, 0.8895751488886843, 0.8895751488886843, 0.8895751488886843, 0.8895751488886843, 0.8895751488886843, 0.8895751488886843, 0.8895751488886843, 0.8895751488886843, 0.8895751488886843, 0.8895751488886843, 0.8895751488886843, 0.8895751488886843, 0.8895751488886843, 0.8895751488886843, 0.8895751488886843, 0.8895751488886843, 0.8895751488886843, 0.8896763581495829, 0.8896763581495829]}], \"average_precision_score_macro\": [{\"categories\": [\"0\", \"1\", \"2\", \"3\", \"4\", \"5\", \"6\", \"7\", \"8\", \"9\", \"10\", \"11\", \"12\", \"13\", \"14\", \"15\", \"16\", \"17\", \"18\", \"19\", \"20\", \"21\", \"22\", \"23\", \"24\", \"25\", \"26\", \"27\", \"28\", \"30\", \"31\", \"33\", \"34\", \"36\", \"37\"], \"mode\": \"markers\", \"name\": \"average_precision_score_macro\", \"stepped\": false, \"type\": \"scatter\", \"data\": [0.8782465991679397, 0.8740024788928576, 0.8617660951988831, 0.686010286226847, 0.8157343773795747, 0.803834871130079, 0.8708910672245609, 0.8748136296013116, 0.8747200729138104, 0.8668509156113408, 0.8593845918135271, 0.6983740887785678, 0.870533593202422, 0.6245859325817656, 0.8750780290914845, 0.7841105235063921, 0.7167185273759973, 0.719141630210583, 0.8726019969658695, 0.8751314133913229, 0.866982483370555, 0.8074627328913103, 0.8730826705317233, 0.8756291625089313, 0.6541333872382219, 0.6779867624931342, 0.8706499508335864, 0.8763948954639341, 0.8761966622002809, 0.8503275708194402, 0.8752746257822733, 0.8758560766395652, 0.875305233572914, 0.8782794185386845, 0.8778978087866433]}, {\"categories\": [\"0\", \"1\", \"2\", \"3\", \"4\", \"5\", \"6\", \"7\", \"8\", \"9\", \"10\", \"11\", \"12\", \"13\", \"14\", \"15\", \"16\", \"17\", \"18\", \"19\", \"20\", \"21\", \"22\", \"23\", \"24\", \"25\", \"26\", \"27\", \"28\", \"30\", \"31\", \"33\", \"34\", \"36\", \"37\"], \"mode\": \"lines\", \"name\": \"average_precision_score_macro_max\", \"stepped\": true, \"type\": \"scatter\", \"data\": [0.8782465991679397, 0.8782465991679397, 0.8782465991679397, 0.8782465991679397, 0.8782465991679397, 0.8782465991679397, 0.8782465991679397, 0.8782465991679397, 0.8782465991679397, 0.8782465991679397, 0.8782465991679397, 0.8782465991679397, 0.8782465991679397, 0.8782465991679397, 0.8782465991679397, 0.8782465991679397, 0.8782465991679397, 0.8782465991679397, 0.8782465991679397, 0.8782465991679397, 0.8782465991679397, 0.8782465991679397, 0.8782465991679397, 0.8782465991679397, 0.8782465991679397, 0.8782465991679397, 0.8782465991679397, 0.8782465991679397, 0.8782465991679397, 0.8782465991679397, 0.8782465991679397, 0.8782465991679397, 0.8782465991679397, 0.8782794185386845, 0.8782794185386845]}], \"precision_score_weighted\": [{\"categories\": [\"0\", \"1\", \"2\", \"3\", \"4\", \"5\", \"6\", \"7\", \"8\", \"9\", \"10\", \"11\", \"12\", \"13\", \"14\", \"15\", \"16\", \"17\", \"18\", \"19\", \"20\", \"21\", \"22\", \"23\", \"24\", \"25\", \"26\", \"27\", \"28\", \"30\", \"31\", \"33\", \"34\", \"36\", \"37\"], \"mode\": \"markers\", \"name\": \"precision_score_weighted\", \"stepped\": false, \"type\": \"scatter\", \"data\": [0.8951811342751425, 0.9009247327472999, 0.8850498294741747, 0.6461716839104973, 0.845192005368351, 0.8317674678203374, 0.901144334409965, 0.8973746889504319, 0.8977430391716842, 0.901768671838608, 0.8803972510415914, 0.6461716839104973, 0.8993963570370319, 0.6461716839104973, 0.8967527177543847, 0.6461716839104973, 0.6461716839104973, 0.6461716839104973, 0.8992786615821551, 0.8968194185508778, 0.8775916318740112, 0.7119214492618156, 0.9002136491058629, 0.8963903919112206, 0.771716696695736, 0.6461716839104973, 0.9016668919017846, 0.8933090897532603, 0.8958195469348001, 0.8666104109917084, 0.8970418720356436, 0.892231672214951, 0.8995849070663074, 0.8961557294726914, 0.8933655757834713]}, {\"categories\": [\"0\", \"1\", \"2\", \"3\", \"4\", \"5\", \"6\", \"7\", \"8\", \"9\", \"10\", \"11\", \"12\", \"13\", \"14\", \"15\", \"16\", \"17\", \"18\", \"19\", \"20\", \"21\", \"22\", \"23\", \"24\", \"25\", \"26\", \"27\", \"28\", \"30\", \"31\", \"33\", \"34\", \"36\", \"37\"], \"mode\": \"lines\", \"name\": \"precision_score_weighted_max\", \"stepped\": true, \"type\": \"scatter\", \"data\": [0.8951811342751425, 0.9009247327472999, 0.9009247327472999, 0.9009247327472999, 0.9009247327472999, 0.9009247327472999, 0.901144334409965, 0.901144334409965, 0.901144334409965, 0.901768671838608, 0.901768671838608, 0.901768671838608, 0.901768671838608, 0.901768671838608, 0.901768671838608, 0.901768671838608, 0.901768671838608, 0.901768671838608, 0.901768671838608, 0.901768671838608, 0.901768671838608, 0.901768671838608, 0.901768671838608, 0.901768671838608, 0.901768671838608, 0.901768671838608, 0.901768671838608, 0.901768671838608, 0.901768671838608, 0.901768671838608, 0.901768671838608, 0.901768671838608, 0.901768671838608, 0.901768671838608, 0.901768671838608]}], \"log_loss\": [{\"categories\": [\"0\", \"1\", \"2\", \"3\", \"4\", \"5\", \"6\", \"7\", \"8\", \"9\", \"10\", \"11\", \"12\", \"13\", \"14\", \"15\", \"16\", \"17\", \"18\", \"19\", \"20\", \"21\", \"22\", \"23\", \"24\", \"25\", \"26\", \"27\", \"28\", \"30\", \"31\", \"33\", \"34\", \"36\", \"37\"], \"mode\": \"markers\", \"name\": \"log_loss\", \"stepped\": false, \"type\": \"scatter\", \"data\": [0.2550077315004325, 0.2607464396943002, 0.35197444380160964, 0.45137517595983345, 0.5533018741152727, 0.5635275339836102, 0.2832750473611525, 0.2583387809744469, 0.2590934400803931, 0.39018129419063935, 0.33799998403307563, 0.45598608576224, 0.3146523873187293, 0.4217517799697263, 0.25749248850806733, 0.3856602794819632, 0.4310554623742162, 0.4229671282409136, 0.28174768955934054, 0.25805056799583537, 0.36623634303087466, 0.3685253946256298, 0.2735852006452818, 0.25882722884858606, 0.44216984346069094, 0.44145681824188926, 0.26435013836413596, 0.2566367005773677, 0.25676907174408636, 0.31529294638219635, 0.2590369603810763, 0.2571786696759593, 0.264985942275183, 0.2553457903479506, 0.27804254082914603]}, {\"categories\": [\"0\", \"1\", \"2\", \"3\", \"4\", \"5\", \"6\", \"7\", \"8\", \"9\", \"10\", \"11\", \"12\", \"13\", \"14\", \"15\", \"16\", \"17\", \"18\", \"19\", \"20\", \"21\", \"22\", \"23\", \"24\", \"25\", \"26\", \"27\", \"28\", \"30\", \"31\", \"33\", \"34\", \"36\", \"37\"], \"mode\": \"lines\", \"name\": \"log_loss_min\", \"stepped\": true, \"type\": \"scatter\", \"data\": [0.2550077315004325, 0.2550077315004325, 0.2550077315004325, 0.2550077315004325, 0.2550077315004325, 0.2550077315004325, 0.2550077315004325, 0.2550077315004325, 0.2550077315004325, 0.2550077315004325, 0.2550077315004325, 0.2550077315004325, 0.2550077315004325, 0.2550077315004325, 0.2550077315004325, 0.2550077315004325, 0.2550077315004325, 0.2550077315004325, 0.2550077315004325, 0.2550077315004325, 0.2550077315004325, 0.2550077315004325, 0.2550077315004325, 0.2550077315004325, 0.2550077315004325, 0.2550077315004325, 0.2550077315004325, 0.2550077315004325, 0.2550077315004325, 0.2550077315004325, 0.2550077315004325, 0.2550077315004325, 0.2550077315004325, 0.2550077315004325, 0.2550077315004325]}], \"balanced_accuracy\": [{\"categories\": [\"0\", \"1\", \"2\", \"3\", \"4\", \"5\", \"6\", \"7\", \"8\", \"9\", \"10\", \"11\", \"12\", \"13\", \"14\", \"15\", \"16\", \"17\", \"18\", \"19\", \"20\", \"21\", \"22\", \"23\", \"24\", \"25\", \"26\", \"27\", \"28\", \"30\", \"31\", \"33\", \"34\", \"36\", \"37\"], \"mode\": \"markers\", \"name\": \"balanced_accuracy\", \"stepped\": false, \"type\": \"scatter\", \"data\": [0.729632436582555, 0.7170802047151925, 0.6579645697163506, 0.5, 0.7828858750139313, 0.7562645903636098, 0.7161571063265292, 0.7231748303545685, 0.7229266193336402, 0.7147457979336966, 0.6418307886395689, 0.5, 0.7068426699440034, 0.5, 0.7238606923397555, 0.5, 0.5, 0.5, 0.7202160980800748, 0.7241800795256537, 0.631672743935281, 0.5017304612841572, 0.7183045005449896, 0.7254165451570925, 0.5173910478428513, 0.5, 0.7149694823564633, 0.730237444435467, 0.7257262086245545, 0.6766334819142097, 0.7237341161004714, 0.7323343718752509, 0.7198744967992309, 0.7283740908121333, 0.7326497993958458]}, {\"categories\": [\"0\", \"1\", \"2\", \"3\", \"4\", \"5\", \"6\", \"7\", \"8\", \"9\", \"10\", \"11\", \"12\", \"13\", \"14\", \"15\", \"16\", \"17\", \"18\", \"19\", \"20\", \"21\", \"22\", \"23\", \"24\", \"25\", \"26\", \"27\", \"28\", \"30\", \"31\", \"33\", \"34\", \"36\", \"37\"], \"mode\": \"lines\", \"name\": \"balanced_accuracy_max\", \"stepped\": true, \"type\": \"scatter\", \"data\": [0.729632436582555, 0.729632436582555, 0.729632436582555, 0.729632436582555, 0.7828858750139313, 0.7828858750139313, 0.7828858750139313, 0.7828858750139313, 0.7828858750139313, 0.7828858750139313, 0.7828858750139313, 0.7828858750139313, 0.7828858750139313, 0.7828858750139313, 0.7828858750139313, 0.7828858750139313, 0.7828858750139313, 0.7828858750139313, 0.7828858750139313, 0.7828858750139313, 0.7828858750139313, 0.7828858750139313, 0.7828858750139313, 0.7828858750139313, 0.7828858750139313, 0.7828858750139313, 0.7828858750139313, 0.7828858750139313, 0.7828858750139313, 0.7828858750139313, 0.7828858750139313, 0.7828858750139313, 0.7828858750139313, 0.7828858750139313, 0.7828858750139313]}], \"recall_score_micro\": [{\"categories\": [\"0\", \"1\", \"2\", \"3\", \"4\", \"5\", \"6\", \"7\", \"8\", \"9\", \"10\", \"11\", \"12\", \"13\", \"14\", \"15\", \"16\", \"17\", \"18\", \"19\", \"20\", \"21\", \"22\", \"23\", \"24\", \"25\", \"26\", \"27\", \"28\", \"30\", \"31\", \"33\", \"34\", \"36\", \"37\"], \"mode\": \"markers\", \"name\": \"recall_score_micro\", \"stepped\": false, \"type\": \"scatter\", \"data\": [0.8895751488886843, 0.8884744927649998, 0.8658136631539203, 0.8038479936348374, 0.7657526802503805, 0.7296537127236657, 0.8882872543551095, 0.8888363180382375, 0.8889147553450774, 0.8880924261005366, 0.8594880269205237, 0.8038479936348374, 0.8849878260732802, 0.8038479936348374, 0.8887680015422489, 0.8038479936348374, 0.8038479936348374, 0.8038479936348374, 0.8887604100842258, 0.8888843922787113, 0.8554902774597047, 0.8045260969696889, 0.8885706418029339, 0.8890286163253766, 0.8068969364144277, 0.8038479936348374, 0.8881227889940448, 0.8889096947379841, 0.8888768018194226, 0.8653961492112913, 0.888856559967243, 0.8889021040098055, 0.8887806520900571, 0.8896763581495829, 0.889486590406071]}, {\"categories\": [\"0\", \"1\", \"2\", \"3\", \"4\", \"5\", \"6\", \"7\", \"8\", \"9\", \"10\", \"11\", \"12\", \"13\", \"14\", \"15\", \"16\", \"17\", \"18\", \"19\", \"20\", \"21\", \"22\", \"23\", \"24\", \"25\", \"26\", \"27\", \"28\", \"30\", \"31\", \"33\", \"34\", \"36\", \"37\"], \"mode\": \"lines\", \"name\": \"recall_score_micro_max\", \"stepped\": true, \"type\": \"scatter\", \"data\": [0.8895751488886843, 0.8895751488886843, 0.8895751488886843, 0.8895751488886843, 0.8895751488886843, 0.8895751488886843, 0.8895751488886843, 0.8895751488886843, 0.8895751488886843, 0.8895751488886843, 0.8895751488886843, 0.8895751488886843, 0.8895751488886843, 0.8895751488886843, 0.8895751488886843, 0.8895751488886843, 0.8895751488886843, 0.8895751488886843, 0.8895751488886843, 0.8895751488886843, 0.8895751488886843, 0.8895751488886843, 0.8895751488886843, 0.8895751488886843, 0.8895751488886843, 0.8895751488886843, 0.8895751488886843, 0.8895751488886843, 0.8895751488886843, 0.8895751488886843, 0.8895751488886843, 0.8895751488886843, 0.8895751488886843, 0.8896763581495829, 0.8896763581495829]}], \"precision_score_macro\": [{\"categories\": [\"0\", \"1\", \"2\", \"3\", \"4\", \"5\", \"6\", \"7\", \"8\", \"9\", \"10\", \"11\", \"12\", \"13\", \"14\", \"15\", \"16\", \"17\", \"18\", \"19\", \"20\", \"21\", \"22\", \"23\", \"24\", \"25\", \"26\", \"27\", \"28\", \"30\", \"31\", \"33\", \"34\", \"36\", \"37\"], \"mode\": \"markers\", \"name\": \"precision_score_macro\", \"stepped\": false, \"type\": \"scatter\", \"data\": [0.9124014658774077, 0.9352751198561579, 0.928499513583111, 0.4019239968174187, 0.6945646701359655, 0.6702851158185732, 0.9364130913048871, 0.922219016983772, 0.9233413462279118, 0.9388991358074746, 0.9256059891109317, 0.4019239968174187, 0.9374230534253902, 0.4019239968174187, 0.9201493268294821, 0.4019239968174187, 0.4019239968174187, 0.4019239968174187, 0.9290457808405402, 0.9201332275096741, 0.9238594920178872, 0.5688638400161764, 0.9326670565037721, 0.9182313990237269, 0.7133414138923819, 0.4019239968174187, 0.9384972969023098, 0.9070637460449628, 0.9165343747321618, 0.8698367243223261, 0.9209963350324095, 0.9028726378736328, 0.930057418609553, 0.9157672356411058, 0.9056803374699008]}, {\"categories\": [\"0\", \"1\", \"2\", \"3\", \"4\", \"5\", \"6\", \"7\", \"8\", \"9\", \"10\", \"11\", \"12\", \"13\", \"14\", \"15\", \"16\", \"17\", \"18\", \"19\", \"20\", \"21\", \"22\", \"23\", \"24\", \"25\", \"26\", \"27\", \"28\", \"30\", \"31\", \"33\", \"34\", \"36\", \"37\"], \"mode\": \"lines\", \"name\": \"precision_score_macro_max\", \"stepped\": true, \"type\": \"scatter\", \"data\": [0.9124014658774077, 0.9352751198561579, 0.9352751198561579, 0.9352751198561579, 0.9352751198561579, 0.9352751198561579, 0.9364130913048871, 0.9364130913048871, 0.9364130913048871, 0.9388991358074746, 0.9388991358074746, 0.9388991358074746, 0.9388991358074746, 0.9388991358074746, 0.9388991358074746, 0.9388991358074746, 0.9388991358074746, 0.9388991358074746, 0.9388991358074746, 0.9388991358074746, 0.9388991358074746, 0.9388991358074746, 0.9388991358074746, 0.9388991358074746, 0.9388991358074746, 0.9388991358074746, 0.9388991358074746, 0.9388991358074746, 0.9388991358074746, 0.9388991358074746, 0.9388991358074746, 0.9388991358074746, 0.9388991358074746, 0.9388991358074746, 0.9388991358074746]}], \"recall_score_macro\": [{\"categories\": [\"0\", \"1\", \"2\", \"3\", \"4\", \"5\", \"6\", \"7\", \"8\", \"9\", \"10\", \"11\", \"12\", \"13\", \"14\", \"15\", \"16\", \"17\", \"18\", \"19\", \"20\", \"21\", \"22\", \"23\", \"24\", \"25\", \"26\", \"27\", \"28\", \"30\", \"31\", \"33\", \"34\", \"36\", \"37\"], \"mode\": \"markers\", \"name\": \"recall_score_macro\", \"stepped\": false, \"type\": \"scatter\", \"data\": [0.729632436582555, 0.7170802047151925, 0.6579645697163506, 0.5, 0.7828858750139313, 0.7562645903636098, 0.7161571063265292, 0.7231748303545685, 0.7229266193336402, 0.7147457979336966, 0.6418307886395689, 0.5, 0.7068426699440034, 0.5, 0.7238606923397555, 0.5, 0.5, 0.5, 0.7202160980800748, 0.7241800795256537, 0.631672743935281, 0.5017304612841572, 0.7183045005449896, 0.7254165451570925, 0.5173910478428513, 0.5, 0.7149694823564633, 0.730237444435467, 0.7257262086245545, 0.6766334819142097, 0.7237341161004714, 0.7323343718752509, 0.7198744967992309, 0.7283740908121333, 0.7326497993958458]}, {\"categories\": [\"0\", \"1\", \"2\", \"3\", \"4\", \"5\", \"6\", \"7\", \"8\", \"9\", \"10\", \"11\", \"12\", \"13\", \"14\", \"15\", \"16\", \"17\", \"18\", \"19\", \"20\", \"21\", \"22\", \"23\", \"24\", \"25\", \"26\", \"27\", \"28\", \"30\", \"31\", \"33\", \"34\", \"36\", \"37\"], \"mode\": \"lines\", \"name\": \"recall_score_macro_max\", \"stepped\": true, \"type\": \"scatter\", \"data\": [0.729632436582555, 0.729632436582555, 0.729632436582555, 0.729632436582555, 0.7828858750139313, 0.7828858750139313, 0.7828858750139313, 0.7828858750139313, 0.7828858750139313, 0.7828858750139313, 0.7828858750139313, 0.7828858750139313, 0.7828858750139313, 0.7828858750139313, 0.7828858750139313, 0.7828858750139313, 0.7828858750139313, 0.7828858750139313, 0.7828858750139313, 0.7828858750139313, 0.7828858750139313, 0.7828858750139313, 0.7828858750139313, 0.7828858750139313, 0.7828858750139313, 0.7828858750139313, 0.7828858750139313, 0.7828858750139313, 0.7828858750139313, 0.7828858750139313, 0.7828858750139313, 0.7828858750139313, 0.7828858750139313, 0.7828858750139313, 0.7828858750139313]}], \"AUC_macro\": [{\"categories\": [\"0\", \"1\", \"2\", \"3\", \"4\", \"5\", \"6\", \"7\", \"8\", \"9\", \"10\", \"11\", \"12\", \"13\", \"14\", \"15\", \"16\", \"17\", \"18\", \"19\", \"20\", \"21\", \"22\", \"23\", \"24\", \"25\", \"26\", \"27\", \"28\", \"30\", \"31\", \"33\", \"34\", \"36\", \"37\"], \"mode\": \"markers\", \"name\": \"AUC_macro\", \"stepped\": false, \"type\": \"scatter\", \"data\": [0.9078045427051528, 0.9037297164104219, 0.8900079058031821, 0.7750817449996664, 0.8698758000583723, 0.8487323684921465, 0.9001276340039555, 0.9046802635427832, 0.904628164025277, 0.8963509640753804, 0.8968752015956271, 0.7812345842379225, 0.8999204948875318, 0.7339776199061073, 0.9051147118667946, 0.8648440657553681, 0.8083543796313474, 0.8196176672037079, 0.902100814380013, 0.9050195368181653, 0.8955353479697834, 0.8746563639894092, 0.902696165317093, 0.9053520823045048, 0.7305230202488181, 0.8094447641265727, 0.8998028337943732, 0.906258422345886, 0.9060593120809962, 0.895337979398632, 0.9051528967900945, 0.9057074668249653, 0.9052743413032482, 0.9079691307352178, 0.9076431411497872]}, {\"categories\": [\"0\", \"1\", \"2\", \"3\", \"4\", \"5\", \"6\", \"7\", \"8\", \"9\", \"10\", \"11\", \"12\", \"13\", \"14\", \"15\", \"16\", \"17\", \"18\", \"19\", \"20\", \"21\", \"22\", \"23\", \"24\", \"25\", \"26\", \"27\", \"28\", \"30\", \"31\", \"33\", \"34\", \"36\", \"37\"], \"mode\": \"lines\", \"name\": \"AUC_macro_max\", \"stepped\": true, \"type\": \"scatter\", \"data\": [0.9078045427051528, 0.9078045427051528, 0.9078045427051528, 0.9078045427051528, 0.9078045427051528, 0.9078045427051528, 0.9078045427051528, 0.9078045427051528, 0.9078045427051528, 0.9078045427051528, 0.9078045427051528, 0.9078045427051528, 0.9078045427051528, 0.9078045427051528, 0.9078045427051528, 0.9078045427051528, 0.9078045427051528, 0.9078045427051528, 0.9078045427051528, 0.9078045427051528, 0.9078045427051528, 0.9078045427051528, 0.9078045427051528, 0.9078045427051528, 0.9078045427051528, 0.9078045427051528, 0.9078045427051528, 0.9078045427051528, 0.9078045427051528, 0.9078045427051528, 0.9078045427051528, 0.9078045427051528, 0.9078045427051528, 0.9079691307352178, 0.9079691307352178]}], \"matthews_correlation\": [{\"categories\": [\"0\", \"1\", \"2\", \"3\", \"4\", \"5\", \"6\", \"7\", \"8\", \"9\", \"10\", \"11\", \"12\", \"13\", \"14\", \"15\", \"16\", \"17\", \"18\", \"19\", \"20\", \"21\", \"22\", \"23\", \"24\", \"25\", \"26\", \"27\", \"28\", \"30\", \"31\", \"33\", \"34\", \"36\", \"37\"], \"mode\": \"markers\", \"name\": \"matthews_correlation\", \"stepped\": false, \"type\": \"scatter\", \"data\": [0.6154653862239455, 0.6147764457724464, 0.5196238496701833, 0.0, 0.46920594531088183, 0.41778808298575987, 0.6142737650983039, 0.6139266842629962, 0.6144014911429445, 0.6140034397629945, 0.4913345040585922, 0.0, 0.6014606536977237, 0.0, 0.6133476274576829, 0.0, 0.0, 0.0, 0.6147540742316501, 0.6137908591102116, 0.47039528618617216, 0.030487658106263752, 0.6146606533365513, 0.6140811760552128, 0.12179974667431094, 0.0, 0.6140412814600477, 0.612275417950734, 0.6132567515307787, 0.5111715604170303, 0.6138093981826312, 0.6118799840046812, 0.6150014034633154, 0.6162761178655801, 0.6144233319632558]}, {\"categories\": [\"0\", \"1\", \"2\", \"3\", \"4\", \"5\", \"6\", \"7\", \"8\", \"9\", \"10\", \"11\", \"12\", \"13\", \"14\", \"15\", \"16\", \"17\", \"18\", \"19\", \"20\", \"21\", \"22\", \"23\", \"24\", \"25\", \"26\", \"27\", \"28\", \"30\", \"31\", \"33\", \"34\", \"36\", \"37\"], \"mode\": \"lines\", \"name\": \"matthews_correlation_max\", \"stepped\": true, \"type\": \"scatter\", \"data\": [0.6154653862239455, 0.6154653862239455, 0.6154653862239455, 0.6154653862239455, 0.6154653862239455, 0.6154653862239455, 0.6154653862239455, 0.6154653862239455, 0.6154653862239455, 0.6154653862239455, 0.6154653862239455, 0.6154653862239455, 0.6154653862239455, 0.6154653862239455, 0.6154653862239455, 0.6154653862239455, 0.6154653862239455, 0.6154653862239455, 0.6154653862239455, 0.6154653862239455, 0.6154653862239455, 0.6154653862239455, 0.6154653862239455, 0.6154653862239455, 0.6154653862239455, 0.6154653862239455, 0.6154653862239455, 0.6154653862239455, 0.6154653862239455, 0.6154653862239455, 0.6154653862239455, 0.6154653862239455, 0.6154653862239455, 0.6162761178655801, 0.6162761178655801]}], \"precision_score_micro\": [{\"categories\": [\"0\", \"1\", \"2\", \"3\", \"4\", \"5\", \"6\", \"7\", \"8\", \"9\", \"10\", \"11\", \"12\", \"13\", \"14\", \"15\", \"16\", \"17\", \"18\", \"19\", \"20\", \"21\", \"22\", \"23\", \"24\", \"25\", \"26\", \"27\", \"28\", \"30\", \"31\", \"33\", \"34\", \"36\", \"37\"], \"mode\": \"markers\", \"name\": \"precision_score_micro\", \"stepped\": false, \"type\": \"scatter\", \"data\": [0.8895751488886843, 0.8884744927649998, 0.8658136631539203, 0.8038479936348374, 0.7657526802503805, 0.7296537127236657, 0.8882872543551095, 0.8888363180382375, 0.8889147553450774, 0.8880924261005366, 0.8594880269205237, 0.8038479936348374, 0.8849878260732802, 0.8038479936348374, 0.8887680015422489, 0.8038479936348374, 0.8038479936348374, 0.8038479936348374, 0.8887604100842258, 0.8888843922787113, 0.8554902774597047, 0.8045260969696889, 0.8885706418029339, 0.8890286163253766, 0.8068969364144277, 0.8038479936348374, 0.8881227889940448, 0.8889096947379841, 0.8888768018194226, 0.8653961492112913, 0.888856559967243, 0.8889021040098055, 0.8887806520900571, 0.8896763581495829, 0.889486590406071]}, {\"categories\": [\"0\", \"1\", \"2\", \"3\", \"4\", \"5\", \"6\", \"7\", \"8\", \"9\", \"10\", \"11\", \"12\", \"13\", \"14\", \"15\", \"16\", \"17\", \"18\", \"19\", \"20\", \"21\", \"22\", \"23\", \"24\", \"25\", \"26\", \"27\", \"28\", \"30\", \"31\", \"33\", \"34\", \"36\", \"37\"], \"mode\": \"lines\", \"name\": \"precision_score_micro_max\", \"stepped\": true, \"type\": \"scatter\", \"data\": [0.8895751488886843, 0.8895751488886843, 0.8895751488886843, 0.8895751488886843, 0.8895751488886843, 0.8895751488886843, 0.8895751488886843, 0.8895751488886843, 0.8895751488886843, 0.8895751488886843, 0.8895751488886843, 0.8895751488886843, 0.8895751488886843, 0.8895751488886843, 0.8895751488886843, 0.8895751488886843, 0.8895751488886843, 0.8895751488886843, 0.8895751488886843, 0.8895751488886843, 0.8895751488886843, 0.8895751488886843, 0.8895751488886843, 0.8895751488886843, 0.8895751488886843, 0.8895751488886843, 0.8895751488886843, 0.8895751488886843, 0.8895751488886843, 0.8895751488886843, 0.8895751488886843, 0.8895751488886843, 0.8895751488886843, 0.8896763581495829, 0.8896763581495829]}], \"average_precision_score_micro\": [{\"categories\": [\"0\", \"1\", \"2\", \"3\", \"4\", \"5\", \"6\", \"7\", \"8\", \"9\", \"10\", \"11\", \"12\", \"13\", \"14\", \"15\", \"16\", \"17\", \"18\", \"19\", \"20\", \"21\", \"22\", \"23\", \"24\", \"25\", \"26\", \"27\", \"28\", \"30\", \"31\", \"33\", \"34\", \"36\", \"37\"], \"mode\": \"markers\", \"name\": \"average_precision_score_micro\", \"stepped\": false, \"type\": \"scatter\", \"data\": [0.9601761025094196, 0.9589231190455271, 0.9350447738689117, 0.8919703146904964, 0.8651618581786878, 0.8399806871837966, 0.9577865270638428, 0.9592140206292955, 0.9591962588095866, 0.9534269454192419, 0.9378101297106559, 0.893454138399615, 0.9454124685997346, 0.8705639294597725, 0.9592852677072402, 0.9235988945077814, 0.9035943147405474, 0.9088219728805216, 0.9584090972647076, 0.9593226281281185, 0.9351124534690961, 0.9262157241150462, 0.9581839986768111, 0.9593160773019406, 0.870846939160534, 0.893514449409523, 0.9576952420618275, 0.9596946497379251, 0.9596323470002909, 0.9425220237519087, 0.9593579886552082, 0.9594955400456753, 0.9582535483246485, 0.9602300361284177, 0.960126687628352]}, {\"categories\": [\"0\", \"1\", \"2\", \"3\", \"4\", \"5\", \"6\", \"7\", \"8\", \"9\", \"10\", \"11\", \"12\", \"13\", \"14\", \"15\", \"16\", \"17\", \"18\", \"19\", \"20\", \"21\", \"22\", \"23\", \"24\", \"25\", \"26\", \"27\", \"28\", \"30\", \"31\", \"33\", \"34\", \"36\", \"37\"], \"mode\": \"lines\", \"name\": \"average_precision_score_micro_max\", \"stepped\": true, \"type\": \"scatter\", \"data\": [0.9601761025094196, 0.9601761025094196, 0.9601761025094196, 0.9601761025094196, 0.9601761025094196, 0.9601761025094196, 0.9601761025094196, 0.9601761025094196, 0.9601761025094196, 0.9601761025094196, 0.9601761025094196, 0.9601761025094196, 0.9601761025094196, 0.9601761025094196, 0.9601761025094196, 0.9601761025094196, 0.9601761025094196, 0.9601761025094196, 0.9601761025094196, 0.9601761025094196, 0.9601761025094196, 0.9601761025094196, 0.9601761025094196, 0.9601761025094196, 0.9601761025094196, 0.9601761025094196, 0.9601761025094196, 0.9601761025094196, 0.9601761025094196, 0.9601761025094196, 0.9601761025094196, 0.9601761025094196, 0.9601761025094196, 0.9602300361284177, 0.9602300361284177]}], \"f1_score_weighted\": [{\"categories\": [\"0\", \"1\", \"2\", \"3\", \"4\", \"5\", \"6\", \"7\", \"8\", \"9\", \"10\", \"11\", \"12\", \"13\", \"14\", \"15\", \"16\", \"17\", \"18\", \"19\", \"20\", \"21\", \"22\", \"23\", \"24\", \"25\", \"26\", \"27\", \"28\", \"30\", \"31\", \"33\", \"34\", \"36\", \"37\"], \"mode\": \"markers\", \"name\": \"f1_score_weighted\", \"stepped\": false, \"type\": \"scatter\", \"data\": [0.8741628981052386, 0.8702874187156215, 0.8358947994706322, 0.7164368903628001, 0.7867422726035537, 0.7556867844952548, 0.8699126603247325, 0.8720732084307156, 0.8720730007888245, 0.8694003255938944, 0.8259162754871071, 0.7164368903628001, 0.8649296015562778, 0.7164368903628001, 0.8721816478159045, 0.7164368903628001, 0.7164368903628001, 0.7164368903628001, 0.8712924512100653, 0.8723519923286517, 0.8188154636685326, 0.7180488698982148, 0.8706707970452746, 0.8727559249126132, 0.7322485372451166, 0.7164368903628001, 0.8694809485916757, 0.8737854726951345, 0.8727132436074324, 0.842247914971197, 0.8722232373770155, 0.8742526682708479, 0.871221658917535, 0.8739508514202043, 0.8747768581502334]}, {\"categories\": [\"0\", \"1\", \"2\", \"3\", \"4\", \"5\", \"6\", \"7\", \"8\", \"9\", \"10\", \"11\", \"12\", \"13\", \"14\", \"15\", \"16\", \"17\", \"18\", \"19\", \"20\", \"21\", \"22\", \"23\", \"24\", \"25\", \"26\", \"27\", \"28\", \"30\", \"31\", \"33\", \"34\", \"36\", \"37\"], \"mode\": \"lines\", \"name\": \"f1_score_weighted_max\", \"stepped\": true, \"type\": \"scatter\", \"data\": [0.8741628981052386, 0.8741628981052386, 0.8741628981052386, 0.8741628981052386, 0.8741628981052386, 0.8741628981052386, 0.8741628981052386, 0.8741628981052386, 0.8741628981052386, 0.8741628981052386, 0.8741628981052386, 0.8741628981052386, 0.8741628981052386, 0.8741628981052386, 0.8741628981052386, 0.8741628981052386, 0.8741628981052386, 0.8741628981052386, 0.8741628981052386, 0.8741628981052386, 0.8741628981052386, 0.8741628981052386, 0.8741628981052386, 0.8741628981052386, 0.8741628981052386, 0.8741628981052386, 0.8741628981052386, 0.8741628981052386, 0.8741628981052386, 0.8741628981052386, 0.8741628981052386, 0.8742526682708479, 0.8742526682708479, 0.8742526682708479, 0.8747768581502334]}], \"AUC_weighted\": [{\"categories\": [\"0\", \"1\", \"2\", \"3\", \"4\", \"5\", \"6\", \"7\", \"8\", \"9\", \"10\", \"11\", \"12\", \"13\", \"14\", \"15\", \"16\", \"17\", \"18\", \"19\", \"20\", \"21\", \"22\", \"23\", \"24\", \"25\", \"26\", \"27\", \"28\", \"30\", \"31\", \"33\", \"34\", \"36\", \"37\"], \"mode\": \"markers\", \"name\": \"AUC_weighted\", \"stepped\": false, \"type\": \"scatter\", \"data\": [0.9078045427051528, 0.9037297164104219, 0.8900079058031821, 0.7750817449996662, 0.8698758000583723, 0.8487323684921465, 0.9001276340039555, 0.904680263561315, 0.904628164025277, 0.8963509640753804, 0.896875201595627, 0.7812345842379225, 0.8999204948875318, 0.7339776199061073, 0.9051147118667946, 0.864844065755368, 0.8083543796313474, 0.8196176672037079, 0.902100814380013, 0.9050195368181653, 0.8955353479697834, 0.8746563639894092, 0.902696165317093, 0.9053520823045048, 0.7305230202488181, 0.8094447641265726, 0.8998028337943732, 0.906258422345886, 0.9060593120624643, 0.895337979398632, 0.9051528967900945, 0.9057074668249653, 0.9052743413032484, 0.9079691307352177, 0.9076431411497872]}, {\"categories\": [\"0\", \"1\", \"2\", \"3\", \"4\", \"5\", \"6\", \"7\", \"8\", \"9\", \"10\", \"11\", \"12\", \"13\", \"14\", \"15\", \"16\", \"17\", \"18\", \"19\", \"20\", \"21\", \"22\", \"23\", \"24\", \"25\", \"26\", \"27\", \"28\", \"30\", \"31\", \"33\", \"34\", \"36\", \"37\"], \"mode\": \"lines\", \"name\": \"AUC_weighted_max\", \"stepped\": true, \"type\": \"scatter\", \"data\": [0.9078045427051528, 0.9078045427051528, 0.9078045427051528, 0.9078045427051528, 0.9078045427051528, 0.9078045427051528, 0.9078045427051528, 0.9078045427051528, 0.9078045427051528, 0.9078045427051528, 0.9078045427051528, 0.9078045427051528, 0.9078045427051528, 0.9078045427051528, 0.9078045427051528, 0.9078045427051528, 0.9078045427051528, 0.9078045427051528, 0.9078045427051528, 0.9078045427051528, 0.9078045427051528, 0.9078045427051528, 0.9078045427051528, 0.9078045427051528, 0.9078045427051528, 0.9078045427051528, 0.9078045427051528, 0.9078045427051528, 0.9078045427051528, 0.9078045427051528, 0.9078045427051528, 0.9078045427051528, 0.9078045427051528, 0.9079691307352177, 0.9079691307352177]}], \"AUC_micro\": [{\"categories\": [\"0\", \"1\", \"2\", \"3\", \"4\", \"5\", \"6\", \"7\", \"8\", \"9\", \"10\", \"11\", \"12\", \"13\", \"14\", \"15\", \"16\", \"17\", \"18\", \"19\", \"20\", \"21\", \"22\", \"23\", \"24\", \"25\", \"26\", \"27\", \"28\", \"30\", \"31\", \"33\", \"34\", \"36\", \"37\"], \"mode\": \"markers\", \"name\": \"AUC_micro\", \"stepped\": false, \"type\": \"scatter\", \"data\": [0.9584358548991682, 0.957118426371319, 0.9334939873055074, 0.8905857322295961, 0.8589987403834645, 0.8297563783616041, 0.95598173764944, 0.9574299869663153, 0.9574131824177817, 0.9520150526473684, 0.935021111378752, 0.8925360187518986, 0.9436983654229224, 0.8776324036083247, 0.9575577043680972, 0.9189030417741568, 0.9010882431630286, 0.9046403863854584, 0.9566081127020777, 0.9575398287765903, 0.9326560051546334, 0.9219965598766021, 0.9564647115922024, 0.9576371954592812, 0.8766482021176768, 0.9014319158096006, 0.9558780395250746, 0.9579258285161644, 0.9578712426612075, 0.9402205633287123, 0.957580097193944, 0.9577258384116747, 0.9565785346897693, 0.9584883658716872, 0.9583811608826519]}, {\"categories\": [\"0\", \"1\", \"2\", \"3\", \"4\", \"5\", \"6\", \"7\", \"8\", \"9\", \"10\", \"11\", \"12\", \"13\", \"14\", \"15\", \"16\", \"17\", \"18\", \"19\", \"20\", \"21\", \"22\", \"23\", \"24\", \"25\", \"26\", \"27\", \"28\", \"30\", \"31\", \"33\", \"34\", \"36\", \"37\"], \"mode\": \"lines\", \"name\": \"AUC_micro_max\", \"stepped\": true, \"type\": \"scatter\", \"data\": [0.9584358548991682, 0.9584358548991682, 0.9584358548991682, 0.9584358548991682, 0.9584358548991682, 0.9584358548991682, 0.9584358548991682, 0.9584358548991682, 0.9584358548991682, 0.9584358548991682, 0.9584358548991682, 0.9584358548991682, 0.9584358548991682, 0.9584358548991682, 0.9584358548991682, 0.9584358548991682, 0.9584358548991682, 0.9584358548991682, 0.9584358548991682, 0.9584358548991682, 0.9584358548991682, 0.9584358548991682, 0.9584358548991682, 0.9584358548991682, 0.9584358548991682, 0.9584358548991682, 0.9584358548991682, 0.9584358548991682, 0.9584358548991682, 0.9584358548991682, 0.9584358548991682, 0.9584358548991682, 0.9584358548991682, 0.9584883658716872, 0.9584883658716872]}], \"f1_score_macro\": [{\"categories\": [\"0\", \"1\", \"2\", \"3\", \"4\", \"5\", \"6\", \"7\", \"8\", \"9\", \"10\", \"11\", \"12\", \"13\", \"14\", \"15\", \"16\", \"17\", \"18\", \"19\", \"20\", \"21\", \"22\", \"23\", \"24\", \"25\", \"26\", \"27\", \"28\", \"30\", \"31\", \"33\", \"34\", \"36\", \"37\"], \"mode\": \"markers\", \"name\": \"f1_score_macro\", \"stepped\": false, \"type\": \"scatter\", \"data\": [0.7794686384881543, 0.7699281182278751, 0.7010076956614495, 0.4456295484534374, 0.7071051211489275, 0.6731185945369712, 0.7691026636998619, 0.7744894148020077, 0.7743951757739315, 0.7679061010033995, 0.6807579707868472, 0.4456295484534374, 0.7591236364258513, 0.4456295484534374, 0.774876165888562, 0.4456295484534374, 0.4456295484534374, 0.4456295484534374, 0.772394434923879, 0.7752128239352313, 0.665900578320689, 0.44922262170477717, 0.7708833892632664, 0.7761734863468762, 0.4845213486834153, 0.4456295484534374, 0.7680949053430842, 0.7792123188005751, 0.7762358427859452, 0.7189827177286645, 0.7748856821558309, 0.780539786786289, 0.7721735927390615, 0.7787498257789158, 0.7813070637149111]}, {\"categories\": [\"0\", \"1\", \"2\", \"3\", \"4\", \"5\", \"6\", \"7\", \"8\", \"9\", \"10\", \"11\", \"12\", \"13\", \"14\", \"15\", \"16\", \"17\", \"18\", \"19\", \"20\", \"21\", \"22\", \"23\", \"24\", \"25\", \"26\", \"27\", \"28\", \"30\", \"31\", \"33\", \"34\", \"36\", \"37\"], \"mode\": \"lines\", \"name\": \"f1_score_macro_max\", \"stepped\": true, \"type\": \"scatter\", \"data\": [0.7794686384881543, 0.7794686384881543, 0.7794686384881543, 0.7794686384881543, 0.7794686384881543, 0.7794686384881543, 0.7794686384881543, 0.7794686384881543, 0.7794686384881543, 0.7794686384881543, 0.7794686384881543, 0.7794686384881543, 0.7794686384881543, 0.7794686384881543, 0.7794686384881543, 0.7794686384881543, 0.7794686384881543, 0.7794686384881543, 0.7794686384881543, 0.7794686384881543, 0.7794686384881543, 0.7794686384881543, 0.7794686384881543, 0.7794686384881543, 0.7794686384881543, 0.7794686384881543, 0.7794686384881543, 0.7794686384881543, 0.7794686384881543, 0.7794686384881543, 0.7794686384881543, 0.780539786786289, 0.780539786786289, 0.780539786786289, 0.7813070637149111]}], \"f1_score_micro\": [{\"categories\": [\"0\", \"1\", \"2\", \"3\", \"4\", \"5\", \"6\", \"7\", \"8\", \"9\", \"10\", \"11\", \"12\", \"13\", \"14\", \"15\", \"16\", \"17\", \"18\", \"19\", \"20\", \"21\", \"22\", \"23\", \"24\", \"25\", \"26\", \"27\", \"28\", \"30\", \"31\", \"33\", \"34\", \"36\", \"37\"], \"mode\": \"markers\", \"name\": \"f1_score_micro\", \"stepped\": false, \"type\": \"scatter\", \"data\": [0.8895751488886843, 0.8884744927649998, 0.8658136631539203, 0.8038479936348374, 0.7657526802503806, 0.7296537127236659, 0.8882872543551095, 0.8888363180382375, 0.8889147553450774, 0.8880924261005366, 0.8594880269205237, 0.8038479936348374, 0.8849878260732802, 0.8038479936348374, 0.8887680015422489, 0.8038479936348374, 0.8038479936348374, 0.8038479936348374, 0.8887604100842258, 0.8888843922787113, 0.8554902774597047, 0.8045260969696889, 0.8885706418029339, 0.8890286163253766, 0.8068969364144277, 0.8038479936348374, 0.8881227889940448, 0.8889096947379841, 0.8888768018194226, 0.8653961492112913, 0.888856559967243, 0.8889021040098055, 0.8887806520900569, 0.8896763581495829, 0.8894865904060709]}, {\"categories\": [\"0\", \"1\", \"2\", \"3\", \"4\", \"5\", \"6\", \"7\", \"8\", \"9\", \"10\", \"11\", \"12\", \"13\", \"14\", \"15\", \"16\", \"17\", \"18\", \"19\", \"20\", \"21\", \"22\", \"23\", \"24\", \"25\", \"26\", \"27\", \"28\", \"30\", \"31\", \"33\", \"34\", \"36\", \"37\"], \"mode\": \"lines\", \"name\": \"f1_score_micro_max\", \"stepped\": true, \"type\": \"scatter\", \"data\": [0.8895751488886843, 0.8895751488886843, 0.8895751488886843, 0.8895751488886843, 0.8895751488886843, 0.8895751488886843, 0.8895751488886843, 0.8895751488886843, 0.8895751488886843, 0.8895751488886843, 0.8895751488886843, 0.8895751488886843, 0.8895751488886843, 0.8895751488886843, 0.8895751488886843, 0.8895751488886843, 0.8895751488886843, 0.8895751488886843, 0.8895751488886843, 0.8895751488886843, 0.8895751488886843, 0.8895751488886843, 0.8895751488886843, 0.8895751488886843, 0.8895751488886843, 0.8895751488886843, 0.8895751488886843, 0.8895751488886843, 0.8895751488886843, 0.8895751488886843, 0.8895751488886843, 0.8895751488886843, 0.8895751488886843, 0.8896763581495829, 0.8896763581495829]}], \"weighted_accuracy\": [{\"categories\": [\"0\", \"1\", \"2\", \"3\", \"4\", \"5\", \"6\", \"7\", \"8\", \"9\", \"10\", \"11\", \"12\", \"13\", \"14\", \"15\", \"16\", \"17\", \"18\", \"19\", \"20\", \"21\", \"22\", \"23\", \"24\", \"25\", \"26\", \"27\", \"28\", \"30\", \"31\", \"33\", \"34\", \"36\", \"37\"], \"mode\": \"markers\", \"name\": \"weighted_accuracy\", \"stepped\": false, \"type\": \"scatter\", \"data\": [0.963246554484862, 0.9674206480940724, 0.9615536246481392, 0.9438020666781256, 0.7578598055315844, 0.7173894156902808, 0.967571632454792, 0.9651415303077832, 0.9653705891349822, 0.96793779492095, 0.9597427534010422, 0.9438020666781256, 0.9670467075286496, 0.9438020666781256, 0.9647265328105957, 0.9438020666781256, 0.9438020666781256, 0.9438020666781256, 0.9663932931787138, 0.9647488290407953, 0.9585924747666633, 0.9439960493396532, 0.9669968837840122, 0.9643903009253628, 0.9402446031591012, 0.9438020666781256, 0.967879121748768, 0.9619958854455084, 0.9640256982842926, 0.952341949548836, 0.964913707388774, 0.961019015506435, 0.9665808066975172, 0.9639740190741936, 0.961727636336939]}, {\"categories\": [\"0\", \"1\", \"2\", \"3\", \"4\", \"5\", \"6\", \"7\", \"8\", \"9\", \"10\", \"11\", \"12\", \"13\", \"14\", \"15\", \"16\", \"17\", \"18\", \"19\", \"20\", \"21\", \"22\", \"23\", \"24\", \"25\", \"26\", \"27\", \"28\", \"30\", \"31\", \"33\", \"34\", \"36\", \"37\"], \"mode\": \"lines\", \"name\": \"weighted_accuracy_max\", \"stepped\": true, \"type\": \"scatter\", \"data\": [0.963246554484862, 0.9674206480940724, 0.9674206480940724, 0.9674206480940724, 0.9674206480940724, 0.9674206480940724, 0.967571632454792, 0.967571632454792, 0.967571632454792, 0.96793779492095, 0.96793779492095, 0.96793779492095, 0.96793779492095, 0.96793779492095, 0.96793779492095, 0.96793779492095, 0.96793779492095, 0.96793779492095, 0.96793779492095, 0.96793779492095, 0.96793779492095, 0.96793779492095, 0.96793779492095, 0.96793779492095, 0.96793779492095, 0.96793779492095, 0.96793779492095, 0.96793779492095, 0.96793779492095, 0.96793779492095, 0.96793779492095, 0.96793779492095, 0.96793779492095, 0.96793779492095, 0.96793779492095]}], \"accuracy\": [{\"categories\": [\"0\", \"1\", \"2\", \"3\", \"4\", \"5\", \"6\", \"7\", \"8\", \"9\", \"10\", \"11\", \"12\", \"13\", \"14\", \"15\", \"16\", \"17\", \"18\", \"19\", \"20\", \"21\", \"22\", \"23\", \"24\", \"25\", \"26\", \"27\", \"28\", \"30\", \"31\", \"33\", \"34\", \"36\", \"37\"], \"mode\": \"markers\", \"name\": \"accuracy\", \"stepped\": false, \"type\": \"scatter\", \"data\": [0.8895751488886843, 0.8884744927649998, 0.8658136631539203, 0.8038479936348374, 0.7657526802503805, 0.7296537127236657, 0.8882872543551095, 0.8888363180382375, 0.8889147553450774, 0.8880924261005366, 0.8594880269205237, 0.8038479936348374, 0.8849878260732802, 0.8038479936348374, 0.8887680015422489, 0.8038479936348374, 0.8038479936348374, 0.8038479936348374, 0.8887604100842258, 0.8888843922787113, 0.8554902774597047, 0.8045260969696889, 0.8885706418029339, 0.8890286163253766, 0.8068969364144277, 0.8038479936348374, 0.8881227889940448, 0.8889096947379841, 0.8888768018194226, 0.8653961492112913, 0.888856559967243, 0.8889021040098055, 0.8887806520900571, 0.8896763581495829, 0.889486590406071]}, {\"categories\": [\"0\", \"1\", \"2\", \"3\", \"4\", \"5\", \"6\", \"7\", \"8\", \"9\", \"10\", \"11\", \"12\", \"13\", \"14\", \"15\", \"16\", \"17\", \"18\", \"19\", \"20\", \"21\", \"22\", \"23\", \"24\", \"25\", \"26\", \"27\", \"28\", \"30\", \"31\", \"33\", \"34\", \"36\", \"37\"], \"mode\": \"lines\", \"name\": \"accuracy_max\", \"stepped\": true, \"type\": \"scatter\", \"data\": [0.8895751488886843, 0.8895751488886843, 0.8895751488886843, 0.8895751488886843, 0.8895751488886843, 0.8895751488886843, 0.8895751488886843, 0.8895751488886843, 0.8895751488886843, 0.8895751488886843, 0.8895751488886843, 0.8895751488886843, 0.8895751488886843, 0.8895751488886843, 0.8895751488886843, 0.8895751488886843, 0.8895751488886843, 0.8895751488886843, 0.8895751488886843, 0.8895751488886843, 0.8895751488886843, 0.8895751488886843, 0.8895751488886843, 0.8895751488886843, 0.8895751488886843, 0.8895751488886843, 0.8895751488886843, 0.8895751488886843, 0.8895751488886843, 0.8895751488886843, 0.8895751488886843, 0.8895751488886843, 0.8895751488886843, 0.8896763581495829, 0.8896763581495829]}], \"norm_macro_recall\": [{\"categories\": [\"0\", \"1\", \"2\", \"3\", \"4\", \"5\", \"6\", \"7\", \"8\", \"9\", \"10\", \"11\", \"12\", \"13\", \"14\", \"15\", \"16\", \"17\", \"18\", \"19\", \"20\", \"21\", \"22\", \"23\", \"24\", \"25\", \"26\", \"27\", \"28\", \"30\", \"31\", \"33\", \"34\", \"36\", \"37\"], \"mode\": \"markers\", \"name\": \"norm_macro_recall\", \"stepped\": false, \"type\": \"scatter\", \"data\": [0.45926487316511005, 0.4341604094303852, 0.31592913943270123, 0.0, 0.5657717500278624, 0.5125291807272196, 0.43231421265305836, 0.44634966070913723, 0.44585323866728044, 0.42949159586739327, 0.2836615772791376, 0.0, 0.4136853398880065, 0.0, 0.4477213846795108, 0.0, 0.0, 0.0, 0.44043219616014945, 0.4483601590513074, 0.2633454878705619, 0.0034609225683145026, 0.436609001089979, 0.450833090314185, 0.03478209568570249, 0.0, 0.4299389647129266, 0.460474888870934, 0.4514524172491092, 0.35326696382841943, 0.4474682322009429, 0.4646687437505017, 0.4397489935984618, 0.4567481816242666, 0.4652995987916915]}, {\"categories\": [\"0\", \"1\", \"2\", \"3\", \"4\", \"5\", \"6\", \"7\", \"8\", \"9\", \"10\", \"11\", \"12\", \"13\", \"14\", \"15\", \"16\", \"17\", \"18\", \"19\", \"20\", \"21\", \"22\", \"23\", \"24\", \"25\", \"26\", \"27\", \"28\", \"30\", \"31\", \"33\", \"34\", \"36\", \"37\"], \"mode\": \"lines\", \"name\": \"norm_macro_recall_max\", \"stepped\": true, \"type\": \"scatter\", \"data\": [0.45926487316511005, 0.45926487316511005, 0.45926487316511005, 0.45926487316511005, 0.5657717500278624, 0.5657717500278624, 0.5657717500278624, 0.5657717500278624, 0.5657717500278624, 0.5657717500278624, 0.5657717500278624, 0.5657717500278624, 0.5657717500278624, 0.5657717500278624, 0.5657717500278624, 0.5657717500278624, 0.5657717500278624, 0.5657717500278624, 0.5657717500278624, 0.5657717500278624, 0.5657717500278624, 0.5657717500278624, 0.5657717500278624, 0.5657717500278624, 0.5657717500278624, 0.5657717500278624, 0.5657717500278624, 0.5657717500278624, 0.5657717500278624, 0.5657717500278624, 0.5657717500278624, 0.5657717500278624, 0.5657717500278624, 0.5657717500278624, 0.5657717500278624]}], \"average_precision_score_weighted\": [{\"categories\": [\"0\", \"1\", \"2\", \"3\", \"4\", \"5\", \"6\", \"7\", \"8\", \"9\", \"10\", \"11\", \"12\", \"13\", \"14\", \"15\", \"16\", \"17\", \"18\", \"19\", \"20\", \"21\", \"22\", \"23\", \"24\", \"25\", \"26\", \"27\", \"28\", \"30\", \"31\", \"33\", \"34\", \"36\", \"37\"], \"mode\": \"markers\", \"name\": \"average_precision_score_weighted\", \"stepped\": false, \"type\": \"scatter\", \"data\": [0.9370244989347082, 0.9346774676252635, 0.9266273006839016, 0.8370678633538882, 0.9055782320770683, 0.8960170003584444, 0.932774405576767, 0.93514879612658, 0.9351015400731187, 0.930334444734351, 0.9279556418026712, 0.8425599830959055, 0.9324976179967427, 0.8026183716458797, 0.9353059126450503, 0.8940079479676205, 0.8558875211402514, 0.8602799863823233, 0.9338118942873131, 0.9353366700728821, 0.9301081755436038, 0.9042963232480093, 0.9341143717342716, 0.9355154109132441, 0.8109128677222383, 0.8364720395005163, 0.9326276190262037, 0.9360461989436533, 0.9359214655260276, 0.9242980468895062, 0.9354109462236524, 0.9357277016744137, 0.9354633467834246, 0.9370724412638832, 0.9368666517086973]}, {\"categories\": [\"0\", \"1\", \"2\", \"3\", \"4\", \"5\", \"6\", \"7\", \"8\", \"9\", \"10\", \"11\", \"12\", \"13\", \"14\", \"15\", \"16\", \"17\", \"18\", \"19\", \"20\", \"21\", \"22\", \"23\", \"24\", \"25\", \"26\", \"27\", \"28\", \"30\", \"31\", \"33\", \"34\", \"36\", \"37\"], \"mode\": \"lines\", \"name\": \"average_precision_score_weighted_max\", \"stepped\": true, \"type\": \"scatter\", \"data\": [0.9370244989347082, 0.9370244989347082, 0.9370244989347082, 0.9370244989347082, 0.9370244989347082, 0.9370244989347082, 0.9370244989347082, 0.9370244989347082, 0.9370244989347082, 0.9370244989347082, 0.9370244989347082, 0.9370244989347082, 0.9370244989347082, 0.9370244989347082, 0.9370244989347082, 0.9370244989347082, 0.9370244989347082, 0.9370244989347082, 0.9370244989347082, 0.9370244989347082, 0.9370244989347082, 0.9370244989347082, 0.9370244989347082, 0.9370244989347082, 0.9370244989347082, 0.9370244989347082, 0.9370244989347082, 0.9370244989347082, 0.9370244989347082, 0.9370244989347082, 0.9370244989347082, 0.9370244989347082, 0.9370244989347082, 0.9370724412638832, 0.9370724412638832]}]}, \"metricName\": null, \"primaryMetricName\": \"accuracy\", \"showLegend\": false}, \"run_metrics\": [{\"name\": \"experiment_status\", \"run_id\": \"AutoML_3c68e43a-bb2a-4c74-96e1-40f97c633e82\", \"categories\": [0, 1, 2, 3, 4, 5, 6, 7, 8, 9, 10, 11, 12, 13], \"series\": [{\"data\": [\"DatasetEvaluation\", \"FeaturesGeneration\", \"DatasetFeaturization\", \"DatasetFeaturizationCompleted\", \"DatasetCrossValidationSplit\", \"ModelSelection\", \"BestRunExplainModel\", \"ModelExplanationDataSetSetup\", \"PickSurrogateModel\", \"EngineeredFeatureExplanations\", \"EngineeredFeatureExplanations\", \"RawFeaturesExplanations\", \"RawFeaturesExplanations\", \"BestRunExplainModel\"]}]}, {\"name\": \"experiment_status_description\", \"run_id\": \"AutoML_3c68e43a-bb2a-4c74-96e1-40f97c633e82\", \"categories\": [0, 1, 2, 3, 4, 5, 6, 7, 8, 9, 10, 11, 12, 13], \"series\": [{\"data\": [\"Gathering dataset statistics.\", \"Generating features for the dataset.\", \"Beginning to fit featurizers and featurize the dataset.\", \"Completed fit featurizers and featurizing the dataset.\", \"Generating individually featurized CV splits.\", \"Beginning model selection.\", \"Best run model explanations started\", \"Model explanations data setup completed\", \"Choosing LightGBM as the surrogate model for explanations\", \"Computation of engineered features started\", \"Computation of engineered features completed\", \"Computation of raw features started\", \"Computation of raw features completed\", \"Best run model explanations completed\"]}]}, {\"name\": \"f1_score_macro\", \"run_id\": \"AutoML_3c68e43a-bb2a-4c74-96e1-40f97c633e82\", \"categories\": [0], \"series\": [{\"data\": [0.7787498257789158]}]}, {\"name\": \"AUC_micro\", \"run_id\": \"AutoML_3c68e43a-bb2a-4c74-96e1-40f97c633e82\", \"categories\": [0], \"series\": [{\"data\": [0.9584883658716872]}]}, {\"name\": \"weighted_accuracy\", \"run_id\": \"AutoML_3c68e43a-bb2a-4c74-96e1-40f97c633e82\", \"categories\": [0], \"series\": [{\"data\": [0.9639740190741936]}]}, {\"name\": \"recall_score_macro\", \"run_id\": \"AutoML_3c68e43a-bb2a-4c74-96e1-40f97c633e82\", \"categories\": [0], \"series\": [{\"data\": [0.7283740908121333]}]}, {\"name\": \"AUC_weighted\", \"run_id\": \"AutoML_3c68e43a-bb2a-4c74-96e1-40f97c633e82\", \"categories\": [0], \"series\": [{\"data\": [0.9079691307352177]}]}, {\"name\": \"AUC_macro\", \"run_id\": \"AutoML_3c68e43a-bb2a-4c74-96e1-40f97c633e82\", \"categories\": [0], \"series\": [{\"data\": [0.9079691307352178]}]}, {\"name\": \"average_precision_score_weighted\", \"run_id\": \"AutoML_3c68e43a-bb2a-4c74-96e1-40f97c633e82\", \"categories\": [0], \"series\": [{\"data\": [0.9370724412638832]}]}, {\"name\": \"balanced_accuracy\", \"run_id\": \"AutoML_3c68e43a-bb2a-4c74-96e1-40f97c633e82\", \"categories\": [0], \"series\": [{\"data\": [0.7283740908121333]}]}, {\"name\": \"f1_score_micro\", \"run_id\": \"AutoML_3c68e43a-bb2a-4c74-96e1-40f97c633e82\", \"categories\": [0], \"series\": [{\"data\": [0.8896763581495829]}]}, {\"name\": \"recall_score_micro\", \"run_id\": \"AutoML_3c68e43a-bb2a-4c74-96e1-40f97c633e82\", \"categories\": [0], \"series\": [{\"data\": [0.8896763581495829]}]}, {\"name\": \"precision_score_macro\", \"run_id\": \"AutoML_3c68e43a-bb2a-4c74-96e1-40f97c633e82\", \"categories\": [0], \"series\": [{\"data\": [0.9157672356411058]}]}, {\"name\": \"precision_score_weighted\", \"run_id\": \"AutoML_3c68e43a-bb2a-4c74-96e1-40f97c633e82\", \"categories\": [0], \"series\": [{\"data\": [0.8961557294726914]}]}, {\"name\": \"recall_score_weighted\", \"run_id\": \"AutoML_3c68e43a-bb2a-4c74-96e1-40f97c633e82\", \"categories\": [0], \"series\": [{\"data\": [0.8896763581495829]}]}, {\"name\": \"norm_macro_recall\", \"run_id\": \"AutoML_3c68e43a-bb2a-4c74-96e1-40f97c633e82\", \"categories\": [0], \"series\": [{\"data\": [0.4567481816242666]}]}, {\"name\": \"average_precision_score_macro\", \"run_id\": \"AutoML_3c68e43a-bb2a-4c74-96e1-40f97c633e82\", \"categories\": [0], \"series\": [{\"data\": [0.8782794185386845]}]}, {\"name\": \"f1_score_weighted\", \"run_id\": \"AutoML_3c68e43a-bb2a-4c74-96e1-40f97c633e82\", \"categories\": [0], \"series\": [{\"data\": [0.8739508514202043]}]}, {\"name\": \"log_loss\", \"run_id\": \"AutoML_3c68e43a-bb2a-4c74-96e1-40f97c633e82\", \"categories\": [0], \"series\": [{\"data\": [0.2553457903479506]}]}, {\"name\": \"accuracy\", \"run_id\": \"AutoML_3c68e43a-bb2a-4c74-96e1-40f97c633e82\", \"categories\": [0], \"series\": [{\"data\": [0.8896763581495829]}]}, {\"name\": \"average_precision_score_micro\", \"run_id\": \"AutoML_3c68e43a-bb2a-4c74-96e1-40f97c633e82\", \"categories\": [0], \"series\": [{\"data\": [0.9602300361284177]}]}, {\"name\": \"precision_score_micro\", \"run_id\": \"AutoML_3c68e43a-bb2a-4c74-96e1-40f97c633e82\", \"categories\": [0], \"series\": [{\"data\": [0.8896763581495829]}]}, {\"name\": \"matthews_correlation\", \"run_id\": \"AutoML_3c68e43a-bb2a-4c74-96e1-40f97c633e82\", \"categories\": [0], \"series\": [{\"data\": [0.6162761178655801]}]}], \"run_logs\": \"\\nRun is completed.\", \"graph\": {}, \"widget_settings\": {\"childWidgetDisplay\": \"popup\", \"send_telemetry\": false, \"log_level\": \"INFO\", \"sdk_version\": \"1.22.0\"}, \"loading\": false}"
     },
     "metadata": {},
     "output_type": "display_data"
    }
   ],
   "source": [
    "RunDetails(remote_run).show()"
   ]
  },
  {
   "cell_type": "markdown",
   "metadata": {},
   "source": [
    "## Best Model\n",
    "\n",
    "TODO: In the cell below, get the best model from the automl experiments and display all the properties of the model."
   ]
  },
  {
   "cell_type": "code",
   "execution_count": 11,
   "metadata": {
    "gather": {
     "logged": 1615136952534
    }
   },
   "outputs": [
    {
     "name": "stderr",
     "output_type": "stream",
     "text": [
      "WARNING:root:The version of the SDK does not match the version the model was trained on.\n",
      "WARNING:root:The consistency in the result may not be guaranteed.\n",
      "WARNING:root:Package:azureml-automl-core, training version:1.23.0, current version:1.22.0\n",
      "Package:azureml-automl-runtime, training version:1.23.0, current version:1.22.0\n",
      "Package:azureml-core, training version:1.23.0, current version:1.22.0\n",
      "Package:azureml-dataprep, training version:2.10.1, current version:2.9.1\n",
      "Package:azureml-dataprep-native, training version:30.0.0, current version:29.0.0\n",
      "Package:azureml-dataprep-rslex, training version:1.8.0, current version:1.7.0\n",
      "Package:azureml-dataset-runtime, training version:1.23.0, current version:1.22.0\n",
      "Package:azureml-defaults, training version:1.23.0, current version:1.22.0\n",
      "Package:azureml-interpret, training version:1.23.0, current version:1.22.0\n",
      "Package:azureml-mlflow, training version:1.23.0, current version:1.22.0\n",
      "Package:azureml-pipeline-core, training version:1.23.0, current version:1.22.0\n",
      "Package:azureml-telemetry, training version:1.23.0, current version:1.22.0\n",
      "Package:azureml-train-automl-client, training version:1.23.0, current version:1.22.0\n",
      "Package:azureml-train-automl-runtime, training version:1.23.0, current version:1.22.0\n",
      "WARNING:root:Please ensure the version of your local conda dependencies match the version on which your model was trained in order to properly retrieve your model.\n"
     ]
    },
    {
     "name": "stdout",
     "output_type": "stream",
     "text": [
      "Best Run Id:  AutoML_3c68e43a-bb2a-4c74-96e1-40f97c633e82_36\n",
      "\n",
      "Accuracy:  0.8896763581495829\n",
      "Pipeline(memory=None,\n",
      "         steps=[('datatransformer',\n",
      "                 DataTransformer(enable_dnn=None, enable_feature_sweeping=None,\n",
      "                                 feature_sweeping_config=None,\n",
      "                                 feature_sweeping_timeout=None,\n",
      "                                 featurization_config=None, force_text_dnn=None,\n",
      "                                 is_cross_validation=None,\n",
      "                                 is_onnx_compatible=None, logger=None,\n",
      "                                 observer=None, task=None, working_dir=None)),\n",
      "                ('prefittedsoftvotingclassifier',...\n",
      "                                                                                               objective='reg:logistic',\n",
      "                                                                                               random_state=0,\n",
      "                                                                                               reg_alpha=2.5,\n",
      "                                                                                               reg_lambda=2.0833333333333335,\n",
      "                                                                                               scale_pos_weight=1,\n",
      "                                                                                               seed=None,\n",
      "                                                                                               silent=None,\n",
      "                                                                                               subsample=0.7,\n",
      "                                                                                               tree_method='hist',\n",
      "                                                                                               verbose=-10,\n",
      "                                                                                               verbosity=0))],\n",
      "                                                                     verbose=False))],\n",
      "                                               flatten_transform=None,\n",
      "                                               weights=[0.38461538461538464,\n",
      "                                                        0.15384615384615385,\n",
      "                                                        0.07692307692307693,\n",
      "                                                        0.15384615384615385,\n",
      "                                                        0.23076923076923078]))],\n",
      "         verbose=False)\n"
     ]
    }
   ],
   "source": [
    "# Retrieve and save your best automl model.\n",
    "\n",
    "best_run, fitted_model = remote_run.get_output()\n",
    "print('Best Run Id: ', best_run.id)\n",
    "print('\\nAccuracy: ', best_run.get_metrics()['accuracy'])\n",
    "# print(fitted_model)\n",
    "print(fitted_model)"
   ]
  },
  {
   "cell_type": "code",
   "execution_count": 12,
   "metadata": {
    "gather": {
     "logged": 1615136999175
    },
    "jupyter": {
     "outputs_hidden": false,
     "source_hidden": false
    },
    "nteract": {
     "transient": {
      "deleting": false
     }
    }
   },
   "outputs": [],
   "source": [
    "# Download the model file\n",
    "\n",
    "best_run.download_file('outputs/model.pkl', 'automl_model.pkl')"
   ]
  },
  {
   "cell_type": "markdown",
   "metadata": {},
   "source": [
    "## Model Deployment\n",
    "\n",
    "Remember you have to deploy only one of the two models you trained.. Perform the steps in the rest of this notebook only if you wish to deploy this model.\n",
    "\n",
    "TODO: In the cell below, register the model, create an inference config and deploy the model as a web service."
   ]
  },
  {
   "cell_type": "code",
   "execution_count": 16,
   "metadata": {
    "gather": {
     "logged": 1615137233453
    },
    "jupyter": {
     "outputs_hidden": false,
     "source_hidden": false
    },
    "nteract": {
     "transient": {
      "deleting": false
     }
    }
   },
   "outputs": [
    {
     "name": "stdout",
     "output_type": "stream",
     "text": [
      "Tips: You can try get_logs(): https://aka.ms/debugimage#dockerlog or local deployment: https://aka.ms/debugimage#debug-locally to debug if deployment takes longer than 10 minutes.\n",
      "Running............................................\n",
      "Succeeded\n",
      "ACI service creation operation finished, operation \"Succeeded\"\n"
     ]
    }
   ],
   "source": [
    "# Get best model\n",
    "model_name = 'bm_automl.pkl'\n",
    "best_run.register_model(model_name = model_name, model_path = './outputs/')\n",
    "best_run.get_file_names()\n",
    "best_run.download_file('outputs/conda_env_v_1_0_0.yml', 'env.yml')\n",
    "\n",
    "# Register the model\n",
    "model = remote_run.register_model(model_name = model_name)\n",
    "\n",
    "# Create inference\n",
    "environment = best_run.get_environment()\n",
    "entry_script='scoring.py'\n",
    "best_run.download_file('outputs/scoring_file_v_1_0_0.py', entry_script)\n",
    "inference_config = InferenceConfig(entry_script = entry_script, environment = environment)\n",
    "\n",
    "# Deploy model as web service (ACI)\n",
    "deployment_config = AciWebservice.deploy_configuration(cpu_cores = 1, \n",
    "                                                    memory_gb = 1, \n",
    "                                                    auth_enabled= True, \n",
    "                                                    enable_app_insights= True)\n",
    "\n",
    "service_name = 'aciservice'\n",
    "service = Model.deploy(ws, service_name, [model], inference_config, deployment_config)\n",
    "service.wait_for_deployment(show_output = True)"
   ]
  },
  {
   "cell_type": "code",
   "execution_count": 17,
   "metadata": {
    "gather": {
     "logged": 1615137246472
    },
    "jupyter": {
     "outputs_hidden": false,
     "source_hidden": false
    },
    "nteract": {
     "transient": {
      "deleting": false
     }
    }
   },
   "outputs": [
    {
     "name": "stdout",
     "output_type": "stream",
     "text": [
      "Service state: Healthy\n",
      "Service scoring URI: http://c8226628-e64f-43be-bfa4-aaaecb926dee.southcentralus.azurecontainer.io/score\n",
      "Service Swagger URI: http://c8226628-e64f-43be-bfa4-aaaecb926dee.southcentralus.azurecontainer.io/swagger.json\n",
      "Service primary authentication key: Z3PFe2gL1mLnva59a73qWhbxPVTrxPZu\n"
     ]
    }
   ],
   "source": [
    "# Getting the service parameters\n",
    "\n",
    "primary, secondary = service.get_keys()\n",
    "\n",
    "print('Service state: ' + service.state)\n",
    "print('Service scoring URI: ' + service.scoring_uri)\n",
    "print('Service Swagger URI: ' + service.swagger_uri)\n",
    "print('Service primary authentication key: ' + primary)"
   ]
  },
  {
   "cell_type": "code",
   "execution_count": 21,
   "metadata": {
    "gather": {
     "logged": 1615138898756
    }
   },
   "outputs": [
    {
     "name": "stdout",
     "output_type": "stream",
     "text": [
      "data = {'data': [{'loan_amnt': 24375.0, 'term': 60, 'int_rate': 17.27, 'installment': 609.33, 'annual_inc': 55000.0, 'dti': 33.95, 'earliest_cr_line': 1999, 'open_acc': 13.0, 'pub_rec': 0.0, 'revol_bal': 24584.0, 'revol_util': 69.8, 'total_acc': 43.0, 'mort_acc': 1.0, 'pub_rec_bankruptcies': 0.0, 'zip_code': '11650', 'sub_grade_A2': 0, 'sub_grade_A3': 0, 'sub_grade_A4': 0, 'sub_grade_A5': 0, 'sub_grade_B1': 0, 'sub_grade_B2': 0, 'sub_grade_B3': 0, 'sub_grade_B4': 0, 'sub_grade_B5': 0, 'sub_grade_C1': 0, 'sub_grade_C2': 0, 'sub_grade_C3': 0, 'sub_grade_C4': 0, 'sub_grade_C5': 1, 'sub_grade_D1': 0, 'sub_grade_D2': 0, 'sub_grade_D3': 0, 'sub_grade_D4': 0, 'sub_grade_D5': 0, 'sub_grade_E1': 0, 'sub_grade_E2': 0, 'sub_grade_E3': 0, 'sub_grade_E4': 0, 'sub_grade_E5': 0, 'sub_grade_F1': 0, 'sub_grade_F2': 0, 'sub_grade_F3': 0, 'sub_grade_F4': 0, 'sub_grade_F5': 0, 'sub_grade_G1': 0, 'sub_grade_G2': 0, 'sub_grade_G3': 0, 'sub_grade_G4': 0, 'sub_grade_G5': 0, 'verification_status_Source Verified': 0, 'verification_status_Verified': 1, 'application_type_INDIVIDUAL': 1, 'application_type_JOINT': 0, 'initial_list_status_w': 0, 'home_ownership_OTHER': 0, 'home_ownership_OWN': 0, 'home_ownership_RENT': 0, 'purpose_credit_card': 1, 'purpose_debt_consolidation': 0, 'purpose_educational': 0, 'purpose_home_improvement': 0, 'purpose_house': 0, 'purpose_major_purchase': 0, 'purpose_medical': 0, 'purpose_moving': 0, 'purpose_other': 0, 'purpose_renewable_energy': 0, 'purpose_small_business': 0, 'purpose_vacation': 0, 'purpose_wedding': 0}, {'loan_amnt': 8000.0, 'term': 36, 'int_rate': 15.31, 'installment': 278.54, 'annual_inc': 22050.0, 'dti': 25.75, 'earliest_cr_line': 2005, 'open_acc': 8.0, 'pub_rec': 0.0, 'revol_bal': 4030.0, 'revol_util': 56.0, 'total_acc': 15.0, 'mort_acc': 0.0, 'pub_rec_bankruptcies': 0.0, 'zip_code': '30723', 'sub_grade_A2': 0, 'sub_grade_A3': 0, 'sub_grade_A4': 0, 'sub_grade_A5': 0, 'sub_grade_B1': 0, 'sub_grade_B2': 0, 'sub_grade_B3': 0, 'sub_grade_B4': 0, 'sub_grade_B5': 0, 'sub_grade_C1': 0, 'sub_grade_C2': 0, 'sub_grade_C3': 0, 'sub_grade_C4': 1, 'sub_grade_C5': 0, 'sub_grade_D1': 0, 'sub_grade_D2': 0, 'sub_grade_D3': 0, 'sub_grade_D4': 0, 'sub_grade_D5': 0, 'sub_grade_E1': 0, 'sub_grade_E2': 0, 'sub_grade_E3': 0, 'sub_grade_E4': 0, 'sub_grade_E5': 0, 'sub_grade_F1': 0, 'sub_grade_F2': 0, 'sub_grade_F3': 0, 'sub_grade_F4': 0, 'sub_grade_F5': 0, 'sub_grade_G1': 0, 'sub_grade_G2': 0, 'sub_grade_G3': 0, 'sub_grade_G4': 0, 'sub_grade_G5': 0, 'verification_status_Source Verified': 0, 'verification_status_Verified': 1, 'application_type_INDIVIDUAL': 1, 'application_type_JOINT': 0, 'initial_list_status_w': 1, 'home_ownership_OTHER': 0, 'home_ownership_OWN': 0, 'home_ownership_RENT': 1, 'purpose_credit_card': 0, 'purpose_debt_consolidation': 1, 'purpose_educational': 0, 'purpose_home_improvement': 0, 'purpose_house': 0, 'purpose_major_purchase': 0, 'purpose_medical': 0, 'purpose_moving': 0, 'purpose_other': 0, 'purpose_renewable_energy': 0, 'purpose_small_business': 0, 'purpose_vacation': 0, 'purpose_wedding': 0}]}\n"
     ]
    }
   ],
   "source": [
    "# Getting two different values from the data to test the deployed model\n",
    "# The data in the script.py has to be modified with these new dictionaires\n",
    "\n",
    "# Loan defaulted\n",
    "test_1 = x.iloc[4]\n",
    "result_1 = test_1.to_json()\n",
    "parsed_1 = json.loads(result_1)\n",
    "\n",
    "# Loan repaid\n",
    "test_2 = x.iloc[278]\n",
    "result_2 = test_2.to_json()\n",
    "parsed_2 = json.loads(result_2)\n",
    "\n",
    "data = {'data': [parsed_1,parsed_2]}\n",
    "\n",
    "print('data = {}'.format(data))\n"
   ]
  },
  {
   "cell_type": "markdown",
   "metadata": {},
   "source": [
    "TODO: In the cell below, send a request to the web service you deployed to test it."
   ]
  },
  {
   "cell_type": "code",
   "execution_count": 22,
   "metadata": {
    "gather": {
     "logged": 1615138916943
    },
    "jupyter": {
     "outputs_hidden": false,
     "source_hidden": false
    },
    "nteract": {
     "transient": {
      "deleting": false
     }
    }
   },
   "outputs": [
    {
     "name": "stdout",
     "output_type": "stream",
     "text": [
      "If result is 1, loan has been repaid\n",
      "{\"result\": [0, 1]}\n"
     ]
    }
   ],
   "source": [
    "# Consuming model endpoint\n",
    "# Send request to deployed service.\n",
    "# The endpoint.py has been modified to contain the REST point URL,\n",
    "# primary key and the two new JSON strings for testing\n",
    "\n",
    "%run endpoint.py"
   ]
  },
  {
   "cell_type": "markdown",
   "metadata": {},
   "source": [
    "TODO: In the cell below, print the logs of the web service and delete the service"
   ]
  },
  {
   "cell_type": "code",
   "execution_count": 23,
   "metadata": {
    "gather": {
     "logged": 1615138934538
    }
   },
   "outputs": [
    {
     "name": "stdout",
     "output_type": "stream",
     "text": [
      "2021-03-13T22:17:41,205270900+00:00 - gunicorn/run \n",
      "2021-03-13T22:17:41,204202200+00:00 - iot-server/run \n",
      "2021-03-13T22:17:41,207724600+00:00 - rsyslog/run \n",
      "2021-03-13T22:17:41,308206200+00:00 - nginx/run \n",
      "/usr/sbin/nginx: /azureml-envs/azureml_661474bbe74e96b5d8added5888dfc85/lib/libcrypto.so.1.0.0: no version information available (required by /usr/sbin/nginx)\n",
      "/usr/sbin/nginx: /azureml-envs/azureml_661474bbe74e96b5d8added5888dfc85/lib/libcrypto.so.1.0.0: no version information available (required by /usr/sbin/nginx)\n",
      "/usr/sbin/nginx: /azureml-envs/azureml_661474bbe74e96b5d8added5888dfc85/lib/libssl.so.1.0.0: no version information available (required by /usr/sbin/nginx)\n",
      "/usr/sbin/nginx: /azureml-envs/azureml_661474bbe74e96b5d8added5888dfc85/lib/libssl.so.1.0.0: no version information available (required by /usr/sbin/nginx)\n",
      "/usr/sbin/nginx: /azureml-envs/azureml_661474bbe74e96b5d8added5888dfc85/lib/libssl.so.1.0.0: no version information available (required by /usr/sbin/nginx)\n",
      "rsyslogd: /azureml-envs/azureml_661474bbe74e96b5d8added5888dfc85/lib/libuuid.so.1: no version information available (required by rsyslogd)\n",
      "EdgeHubConnectionString and IOTEDGE_IOTHUBHOSTNAME are not set. Exiting...\n",
      "2021-03-13T22:17:42,581292900+00:00 - iot-server/finish 1 0\n",
      "2021-03-13T22:17:42,589628900+00:00 - Exit code 1 is normal. Not restarting iot-server.\n",
      "Starting gunicorn 19.9.0\n",
      "Listening at: http://127.0.0.1:31311 (65)\n",
      "Using worker: sync\n",
      "worker timeout is set to 300\n",
      "Booting worker with pid: 94\n",
      "SPARK_HOME not set. Skipping PySpark Initialization.\n",
      "Generating new fontManager, this may take some time...\n",
      "Initializing logger\n",
      "2021-03-13 22:17:47,763 | root | INFO | Starting up app insights client\n",
      "2021-03-13 22:17:47,764 | root | INFO | Starting up request id generator\n",
      "2021-03-13 22:17:47,764 | root | INFO | Starting up app insight hooks\n",
      "2021-03-13 22:17:47,764 | root | INFO | Invoking user's init function\n",
      "2021-03-13 22:17:56,525 | azureml.core | WARNING | Failure while loading azureml_run_type_providers. Failed to load entrypoint automl = azureml.train.automl.run:AutoMLRun._from_run_dto with exception (cryptography 3.2 (/azureml-envs/azureml_661474bbe74e96b5d8added5888dfc85/lib/python3.6/site-packages), Requirement.parse('cryptography<4.0.0,>=3.3.1; extra == \"crypto\"'), {'PyJWT'}).\n",
      "Failure while loading azureml_run_type_providers. Failed to load entrypoint automl = azureml.train.automl.run:AutoMLRun._from_run_dto with exception (cryptography 3.2 (/azureml-envs/azureml_661474bbe74e96b5d8added5888dfc85/lib/python3.6/site-packages), Requirement.parse('cryptography<4.0.0,>=3.3.1; extra == \"crypto\"'), {'PyJWT'}).\n",
      "2021-03-13 22:17:57,076 | root | INFO | Users's init has completed successfully\n",
      "2021-03-13 22:17:57,126 | root | INFO | Skipping middleware: dbg_model_info as it's not enabled.\n",
      "2021-03-13 22:17:57,126 | root | INFO | Skipping middleware: dbg_resource_usage as it's not enabled.\n",
      "2021-03-13 22:17:57,129 | root | INFO | Scoring timeout is found from os.environ: 60000 ms\n",
      "2021-03-13 22:17:57,149 | root | INFO | 200\n",
      "127.0.0.1 - - [13/Mar/2021:22:17:57 +0000] \"GET /swagger.json HTTP/1.0\" 200 7510 \"-\" \"Go-http-client/1.1\"\n",
      "2021-03-13 22:18:00,172 | root | INFO | 200\n",
      "127.0.0.1 - - [13/Mar/2021:22:18:00 +0000] \"GET /swagger.json HTTP/1.0\" 200 7510 \"-\" \"Go-http-client/1.1\"\n",
      "2021-03-13 22:23:37,956 | root | INFO | Validation Request Content-Type\n",
      "2021-03-13 22:23:37,957 | root | INFO | Scoring Timer is set to 60.0 seconds\n",
      "2021-03-13 22:23:38,455 | root | INFO | 200\n",
      "127.0.0.1 - - [13/Mar/2021:22:23:38 +0000] \"POST /score HTTP/1.0\" 200 22 \"-\" \"python-requests/2.25.1\"\n",
      "2021-03-13 22:48:02,014 | root | INFO | Validation Request Content-Type\n",
      "2021-03-13 22:48:02,015 | root | INFO | Scoring Timer is set to 60.0 seconds\n",
      "2021-03-13 22:48:02,526 | root | INFO | 200\n",
      "127.0.0.1 - - [13/Mar/2021:22:48:02 +0000] \"POST /score HTTP/1.0\" 200 22 \"-\" \"python-requests/2.25.1\"\n",
      "\n"
     ]
    }
   ],
   "source": [
    "# Logging\n",
    "\n",
    "print(service.get_logs())"
   ]
  },
  {
   "cell_type": "code",
   "execution_count": null,
   "metadata": {},
   "outputs": [],
   "source": [
    "# Deleting service\n",
    "\n",
    "service.delete()"
   ]
  },
  {
   "cell_type": "code",
   "execution_count": 17,
   "metadata": {},
   "outputs": [],
   "source": [
    "# Cluster clean-up\n",
    "\n",
    "compute_target.delete()"
   ]
  },
  {
   "cell_type": "code",
   "execution_count": null,
   "metadata": {},
   "outputs": [],
   "source": []
  }
 ],
 "metadata": {
  "kernel_info": {
   "name": "python3"
  },
  "kernelspec": {
   "display_name": "Python 3",
   "language": "python",
   "name": "python3"
  },
  "language_info": {
   "codemirror_mode": {
    "name": "ipython",
    "version": 3
   },
   "file_extension": ".py",
   "mimetype": "text/x-python",
   "name": "python",
   "nbconvert_exporter": "python",
   "pygments_lexer": "ipython3",
   "version": "3.6.9"
  },
  "microsoft": {
   "host": {
    "AzureML": {
     "notebookHasBeenCompleted": true
    }
   }
  },
  "nteract": {
   "version": "nteract-front-end@1.0.0"
  }
 },
 "nbformat": 4,
 "nbformat_minor": 4
}
