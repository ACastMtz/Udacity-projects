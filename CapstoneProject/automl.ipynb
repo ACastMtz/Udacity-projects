{
  "cells": [
    {
      "source": [
        "# Automated ML\n"
      ],
      "cell_type": "markdown",
      "metadata": {}
    },
    {
      "source": [
        "Due to the new update to the xgboost framework, models are now saved differently.\n",
        "This however has not been taken into consideration in the azure core package so problems arose\n",
        "when trying to retrieve and save the trained model. Hence, the xgboost version is changed to the last one still handling models in .pkl format. "
      ],
      "cell_type": "markdown",
      "metadata": {}
    },
    {
      "cell_type": "code",
      "source": [
        "# Pin the xgboost dependency to an older version\n",
        "%conda remove xgboost\n",
        "%pip install xgboost==0.90\n",
        "\n",
        "import xgboost\n",
        "print(xgboost.__version__)"
      ],
      "outputs": [
        {
          "output_type": "stream",
          "name": "stdout",
          "text": [
            "Collecting package metadata (repodata.json): - \b\b\\ \b\b| \b\b/ \b\b- \b\b\\ \b\b| \b\b/ \b\b- \b\b\\ \b\b| \b\b/ \b\b- \b\b\\ \b\b| \b\b/ \b\b- \b\b\\ \b\b| \b\b/ \b\b- \b\b\\ \b\b| \b\b/ \b\b- \b\b\\ \b\b| \b\b/ \b\b- \b\b\\ \b\b| \b\b/ \b\b- \b\b\\ \b\b| \b\b/ \b\b- \b\b\\ \b\b| \b\b/ \b\b- \b\b\\ \b\b| \b\b/ \b\b- \b\b\\ \b\bdone\n",
            "Solving environment: / \b\bfailed\n",
            "\n",
            "PackagesNotFoundError: The following packages are missing from the target environment:\n",
            "  - xgboost\n",
            "\n",
            "\n",
            "\n",
            "Note: you may need to restart the kernel to use updated packages.\n",
            "Collecting xgboost==0.90\n",
            "  Downloading xgboost-0.90-py2.py3-none-manylinux1_x86_64.whl (142.8 MB)\n",
            "\u001b[K     |████████████████████████████████| 142.8 MB 26 kB/s s eta 0:00:011\n",
            "\u001b[?25hRequirement already satisfied: numpy in /anaconda/envs/azureml_py36/lib/python3.6/site-packages (from xgboost==0.90) (1.18.5)\n",
            "Requirement already satisfied: scipy in /anaconda/envs/azureml_py36/lib/python3.6/site-packages (from xgboost==0.90) (1.5.2)\n",
            "Installing collected packages: xgboost\n",
            "  Attempting uninstall: xgboost\n",
            "    Found existing installation: xgboost 1.3.3\n",
            "    Uninstalling xgboost-1.3.3:\n",
            "      Successfully uninstalled xgboost-1.3.3\n",
            "Successfully installed xgboost-0.90\n",
            "Note: you may need to restart the kernel to use updated packages.\n",
            "0.90\n"
          ]
        }
      ],
      "execution_count": 1,
      "metadata": {
        "collapsed": true,
        "jupyter": {
          "source_hidden": false,
          "outputs_hidden": false
        },
        "nteract": {
          "transient": {
            "deleting": false
          }
        },
        "gather": {
          "logged": 1615132311882
        }
      }
    },
    {
      "source": [
        "TODO: Import Dependencies. In the cell below, import all the dependencies that you will need to complete the project."
      ],
      "cell_type": "markdown",
      "metadata": {}
    },
    {
      "cell_type": "code",
      "source": [
        "from azureml.core import Workspace, Experiment\n",
        "from azureml.core.compute import ComputeTarget, AmlCompute\n",
        "from azureml.core.compute_target import ComputeTargetException\n",
        "from azureml.widgets import RunDetails\n",
        "from azureml.train.sklearn import SKLearn\n",
        "from azureml.core.environment import Environment \n",
        "from azureml.train.automl import AutoMLConfig\n",
        "from azureml.core.dataset import Dataset\n",
        "from azureml.core.model import InferenceConfig \n",
        "from azureml.core.webservice import AciWebservice, Webservice\n",
        "from azureml.core.model import Model\n",
        "\n",
        "\n",
        "import os\n",
        "import joblib\n",
        "import pandas as pd\n",
        "import json\n",
        "import logging\n",
        "from train import data_process"
      ],
      "outputs": [],
      "execution_count": 2,
      "metadata": {
        "collapsed": true,
        "jupyter": {
          "source_hidden": false,
          "outputs_hidden": false
        },
        "nteract": {
          "transient": {
            "deleting": false
          }
        },
        "gather": {
          "logged": 1615132344048
        }
      }
    },
    {
      "source": [
        "## Workspace Configuration"
      ],
      "cell_type": "markdown",
      "metadata": {}
    },
    {
      "cell_type": "code",
      "source": [
        "ws = Workspace.from_config()\n",
        "exp = Experiment(workspace=ws, name=\"udacity-project\")\n",
        "\n",
        "print('Workspace name: ' + ws.name, \n",
        "      'Azure region: ' + ws.location, \n",
        "      'Subscription id: ' + ws.subscription_id, \n",
        "      'Resource group: ' + ws.resource_group, sep = '\\n')\n",
        "\n",
        "run = exp.start_logging()"
      ],
      "outputs": [
        {
          "output_type": "stream",
          "name": "stdout",
          "text": [
            "Performing interactive authentication. Please follow the instructions on the terminal.\n",
            "To sign in, use a web browser to open the page https://microsoft.com/devicelogin and enter the code EEHW8F8RD to authenticate.\n",
            "You have logged in. Now let us find all the subscriptions to which you have access...\n",
            "Interactive authentication successfully completed.\n",
            "Workspace name: quick-starts-ws-140005\n",
            "Azure region: southcentralus\n",
            "Subscription id: 9e65f93e-bdd8-437b-b1e8-0647cd6098f7\n",
            "Resource group: aml-quickstarts-140005\n"
          ]
        }
      ],
      "execution_count": 3,
      "metadata": {
        "gather": {
          "logged": 1615132381858
        }
      }
    },
    {
      "source": [
        "## Create compute cluster"
      ],
      "cell_type": "markdown",
      "metadata": {}
    },
    {
      "cell_type": "code",
      "source": [
        "# Choose a name for your cluster.\n",
        "cpu_cluster_name = \"cpu-cluster\"\n",
        "\n",
        "# Verify that cluster does not exist already\n",
        "try:\n",
        "    compute_target = ComputeTarget(workspace=ws, name=cpu_cluster_name)\n",
        "    print('Found existing cluster, use it.')\n",
        "except ComputeTargetException:\n",
        "    compute_config = AmlCompute.provisioning_configuration(vm_size='STANDARD_D2_V2',\n",
        "                                                           max_nodes=4)\n",
        "    compute_target = ComputeTarget.create(ws, cpu_cluster_name, compute_config)\n",
        "\n",
        "compute_target.wait_for_completion(show_output=True)"
      ],
      "outputs": [
        {
          "output_type": "stream",
          "name": "stdout",
          "text": [
            "Found existing cluster, use it.\n",
            "Succeeded\n",
            "AmlCompute wait for completion finished\n",
            "\n",
            "Minimum number of nodes requested have been provisioned\n"
          ]
        }
      ],
      "execution_count": 5,
      "metadata": {
        "collapsed": true,
        "jupyter": {
          "source_hidden": false,
          "outputs_hidden": false
        },
        "nteract": {
          "transient": {
            "deleting": false
          }
        },
        "gather": {
          "logged": 1615132426283
        }
      }
    },
    {
      "source": [
        "## Dataset\n",
        "\n",
        "### Overview\n",
        "\n",
        "In this project, the *lending club* dataset from the LendingClub American peer-to-peer lending company was used. The purpose is to use data for risk analytics and minimization in a banking and financial context. To achieve that, statistical information about past loan applicants is used to build a model using supervised learning, where the labels are whether or not the applicant failed to fully repay the loan, to be able to predict if a new applicant is likely to repay the loan. The aim is for the model to identify patterns in the dataset that can be used to determine the outcome of the new application based on the financial history of the applicant. In this way, the probability of defaulting the loan can be assessed and lenders can make an informed decision accordingly that may reduce the loss of business for the company by cutting down the credit loss, e.g. by denying the loan, raising interest rates, offering a different loan amount, etc.\n",
        "\n",
        "The task at hand is therefore, not only to train an accurate predicitive model usin a logistic regression algorithm, but also to gain an insight into the most important features that determine the result yielded by the model. This allows the company to understand which variables are strong indicators of loan default and apply this knowledge in future risk assessment.\n",
        "\n",
        "Please note that here only an overview of the dataset is provided and the actual EDA process is carried out in the `train.py` script.\n",
        "\n",
        "Below is a table with all the inormation available in the dataset for training the model.\n",
        "\n",
        "\n",
        "|      LoanStatNew     |                                                                                                Description                                                                                               |\n",
        "|:--------------------:|:--------------------------------------------------------------------------------------------------------------------------------------------------------------------------------------------------------:|\n",
        "|--------------------| ---------------------------------------------------------------------------------|\n",
        "| loan_amnt            | The listed amount of the loan applied for by the borrower. If at some point in time, the credit department reduces the loan amount, then it will be reflected in this value.                             |\n",
        "| term                 | The number of payments on the loan. Values are in months and can be either 36 or 60.                                                                                                                     |\n",
        "| int_rate             | Interest Rate on the loan                                                                                                                                                                                |\n",
        "| installment          | The monthly payment owed by the borrower if the loan originates.                                                                                                                                         |\n",
        "| grade                | LC assigned loan grade                                                                                                                                                                                   |\n",
        "| sub_grade            | LC assigned loan subgrade                                                                                                                                                                                |\n",
        "| emp_title            | The job title supplied by the Borrower when applying for the loan.*                                                                                                                                      |\n",
        "| emp_length           | Employment length in years. Possible values are between 0 and 10 where 0 means less than one year and 10 means ten or more years.                                                                        |\n",
        "| home_ownership       | The home ownership status provided by the borrower during registration or obtained from the credit report. Our values are: RENT, OWN, MORTGAGE, OTHER                                                    |\n",
        "| annual_inc           | The self-reported annual income provided by the borrower during registration.                                                                                                                            |\n",
        "| verification_status  | Indicates if income was verified by LC, not verified, or if the income source was verified                                                                                                               |\n",
        "| issue_d              | The month which the loan was funded                                                                                                                                                                      |\n",
        "| loan_status          | Current status of the loan                                                                                                                                                                               |\n",
        "| purpose              | A category provided by the borrower for the loan request.                                                                                                                                                |\n",
        "| title                | The loan title provided by the borrower                                                                                                                                                                  |\n",
        "| zip_code             | The first 3 numbers of the zip code provided by the borrower in the loan application.                                                                                                                    |\n",
        "| addr_state           | The state provided by the borrower in the loan application                                                                                                                                               |\n",
        "| dti                  | A ratio calculated using the borrower’s total monthly debt payments on the total debt obligations, excluding mortgage and the requested LC loan, divided by the borrower’s self-reported monthly income. |\n",
        "| earliest_cr_line     | The month the borrower's earliest reported credit line was opened                                                                                                                                        |\n",
        "| open_acc             | The number of open credit lines in the borrower's credit file.                                                                                                                                           |\n",
        "| pub_rec              | Number of derogatory public records                                                                                                                                                                      |\n",
        "| revol_bal            | Total credit revolving balance                                                                                                                                                                           |\n",
        "| revol_util           | Revolving line utilization rate, or the amount of credit the borrower is using relative to all available revolving credit.                                                                               |\n",
        "| total_acc            | The total number of credit lines currently in the borrower's credit file                                                                                                                                 |\n",
        "| initial_list_status  | The initial listing status of the loan. Possible values are – W, F                                                                                                                                       |\n",
        "| application_type     | Indicates whether the loan is an individual application or a joint application with two co-borrowers                                                                                                     |\n",
        "| mort_acc             | Number of mortgage accounts.                                                                                                                                                                             |\n",
        "| pub_rec_bankruptcies | Number of public record bankruptcies                                                                                                                                                                     |\n"
      ],
      "cell_type": "markdown",
      "metadata": {}
    },
    {
      "source": [
        "TODO: Get data. In the cell below, write code to access the data you will be using in this project. Remember that the dataset needs to be external."
      ],
      "cell_type": "markdown",
      "metadata": {}
    },
    {
      "cell_type": "code",
      "source": [
        "# Data was uploaded from a local file\n",
        "df = pd.read_csv('./Data/lending_club_loan.csv')\n",
        "\n",
        "# Use the clean_data function to clean your data.\n",
        "x, y = data_process(df)\n",
        "ds_df = pd.concat([x,y],axis=1)\n",
        "\n",
        "# Save data to a csv and then upload it for the automl run\n",
        "pd.DataFrame(ds_df).to_csv('./data.csv', index=False)\n",
        "\n",
        "dataset = ws.get_default_datastore()\n",
        "dataset.upload(src_dir = './', overwrite = True, show_progress = True)\n",
        "train_data = Dataset.Tabular.from_delimited_files(\n",
        "    path = dataset.path('./data.csv')\n",
        ")"
      ],
      "outputs": [
        {
          "output_type": "stream",
          "name": "stdout",
          "text": [
            "Uploading an estimated of 11 files\n",
            "Uploading ./.amlignore\n",
            "Uploaded ./.amlignore, 1 files out of an estimated total of 11\n",
            "Uploading ./.amlignore.amltmp\n",
            "Uploaded ./.amlignore.amltmp, 2 files out of an estimated total of 11\n",
            "Uploading ./automl.ipynb\n",
            "Uploaded ./automl.ipynb, 3 files out of an estimated total of 11\n",
            "Uploading ./automl.ipynb.amltmp\n",
            "Uploaded ./automl.ipynb.amltmp, 4 files out of an estimated total of 11\n",
            "Uploading ./endpoint.py\n",
            "Uploaded ./endpoint.py, 5 files out of an estimated total of 11\n",
            "Uploading ./hyperparameter_tuning.ipynb\n",
            "Uploaded ./hyperparameter_tuning.ipynb, 6 files out of an estimated total of 11\n",
            "Uploading ./train.py\n",
            "Uploaded ./train.py, 7 files out of an estimated total of 11\n",
            "Uploading ./.ipynb_aml_checkpoints/automl-checkpoint2021-2-7-16-48-27.ipynb\n",
            "Uploaded ./.ipynb_aml_checkpoints/automl-checkpoint2021-2-7-16-48-27.ipynb, 8 files out of an estimated total of 11\n",
            "Uploading ./__pycache__/train.cpython-36.pyc\n",
            "Uploaded ./__pycache__/train.cpython-36.pyc, 9 files out of an estimated total of 11\n",
            "Uploading ./data.csv\n",
            "Uploaded ./data.csv, 10 files out of an estimated total of 11\n",
            "Uploading ./Data/lending_club_loan.csv\n",
            "Uploaded ./Data/lending_club_loan.csv, 11 files out of an estimated total of 11\n",
            "Uploaded 11 files\n"
          ]
        }
      ],
      "execution_count": 6,
      "metadata": {
        "scrolled": false,
        "gather": {
          "logged": 1615132481818
        }
      }
    },
    {
      "source": [
        "## AutoML Configuration\n",
        "\n",
        "The automl settings and cofiguration in order of appearance are:\n",
        "\n",
        "`enable_early_stopping` : this parameter allows for the run to be stopped if the model's score has not benn iteratively improving.\n",
        "\n",
        "`max_concurrent_iterations': the maximum number of iterations allowed to be executed parallelly.\n",
        "\n",
        "`max_cores_per_iteration`: cores from compute that are to be used per each iteration during training (-1 means all available).\n",
        "\n",
        "`verbosity` : amount of information included in the training logs\n",
        "\n",
        "`compute_traget` : compute to be used for training\n",
        "\n",
        "`experiment_timeout_minutes` : defines how long the experiment can be run, if too low the experiment might not run, if too high experiment time out failures may occur and lead to unnecessary expenses.\n",
        "\n",
        "`task` : type of experiment, in this case, regression.\n",
        "\n",
        "`primary_metric` : main metric for the model to look at during training.\n",
        "\n",
        "`training_data` : data to use for training the model.\n",
        "\n",
        "`label_column_name` : name of column containing the labels for supervised training.\n",
        "\n",
        "`n_cross_validations` : number of cross validations to perform after the normal training run. Useful if no validation set is provided, the metrics' values are averaged over (in this case 3) different sets of values. \n",
        "\n"
      ],
      "cell_type": "markdown",
      "metadata": {}
    },
    {
      "cell_type": "code",
      "source": [
        "# TODO: Put your automl settings here\n",
        "automl_settings = {\n",
        "    'enable_early_stopping': True,\n",
        "    'max_concurrent_iterations': 4,\n",
        "    'max_cores_per_iteration': -1,\n",
        "    'verbosity' : logging.INFO\n",
        "}\n",
        "\n",
        "# TODO: Put your automl config here\n",
        "automl_config = AutoMLConfig(\n",
        "    compute_target = compute_target,\n",
        "    experiment_timeout_minutes=60,\n",
        "    task='classification',\n",
        "    primary_metric = 'accuracy',\n",
        "    training_data=train_data,\n",
        "    label_column_name='loan_repaid',\n",
        "    n_cross_validations = 3,\n",
        "    **automl_settings\n",
        ")"
      ],
      "outputs": [],
      "execution_count": 7,
      "metadata": {
        "gather": {
          "logged": 1615132512400
        }
      }
    },
    {
      "cell_type": "code",
      "source": [
        "# Submit your automl run\n",
        "\n",
        "remote_run = exp.submit(config= automl_config, show_output=True)\n",
        "remote_run.wait_for_completion()"
      ],
      "outputs": [
        {
          "output_type": "stream",
          "name": "stdout",
          "text": [
            "Running on remote.\n",
            "No run_configuration provided, running on cpu-cluster with default configuration\n",
            "Running on remote compute: cpu-cluster\n",
            "Parent Run ID: AutoML_41dee557-4822-4d8a-8bba-d12b26a0af4f\n",
            "\n",
            "Current status: DatasetEvaluation. Gathering dataset statistics.\n",
            "Current status: FeaturesGeneration. Generating features for the dataset.\n",
            "Current status: DatasetFeaturization. Beginning to fit featurizers and featurize the dataset.\n",
            "Current status: DatasetCrossValidationSplit. Generating individually featurized CV splits.\n",
            "Current status: ModelSelection. Beginning model selection.\n",
            "\n",
            "****************************************************************************************************\n",
            "DATA GUARDRAILS: \n",
            "\n",
            "TYPE:         Class balancing detection\n",
            "STATUS:       PASSED\n",
            "DESCRIPTION:  Your inputs were analyzed, and all classes are balanced in your training data.\n",
            "              Learn more about imbalanced data: https://aka.ms/AutomatedMLImbalancedData\n",
            "\n",
            "****************************************************************************************************\n",
            "\n",
            "TYPE:         Missing feature values imputation\n",
            "STATUS:       PASSED\n",
            "DESCRIPTION:  No feature missing values were detected in the training data.\n",
            "              Learn more about missing value imputation: https://aka.ms/AutomatedMLFeaturization\n",
            "\n",
            "****************************************************************************************************\n",
            "\n",
            "TYPE:         High cardinality feature detection\n",
            "STATUS:       PASSED\n",
            "DESCRIPTION:  Your inputs were analyzed, and no high cardinality features were detected.\n",
            "              Learn more about high cardinality feature handling: https://aka.ms/AutomatedMLFeaturization\n",
            "\n",
            "****************************************************************************************************\n",
            "\n",
            "****************************************************************************************************\n",
            "ITERATION: The iteration being evaluated.\n",
            "PIPELINE: A summary description of the pipeline being evaluated.\n",
            "DURATION: Time taken for the current iteration.\n",
            "METRIC: The result of computing score on the fitted pipeline.\n",
            "BEST: The best observed score thus far.\n",
            "****************************************************************************************************\n",
            "\n",
            " ITERATION   PIPELINE                                       DURATION      METRIC      BEST\n",
            "         2   MaxAbsScaler RandomForest                      0:01:21       0.8483    0.8483\n",
            "         1   MaxAbsScaler XGBoostClassifier                 0:02:16       0.8885    0.8885\n",
            "         5   MaxAbsScaler RandomForest                      0:01:14       0.7674    0.8885\n",
            "         3   MaxAbsScaler RandomForest                      0:03:33       0.8038    0.8885\n",
            "         0   MaxAbsScaler LightGBM                          0:03:46       0.8896    0.8896\n",
            "         4   MaxAbsScaler RandomForest                      0:03:59       0.7606    0.8896\n",
            "         9   SparseNormalizer XGBoostClassifier             0:01:33       0.8881    0.8896\n",
            "         7   SparseNormalizer XGBoostClassifier             0:02:20       0.8883    0.8896\n",
            "         6   SparseNormalizer XGBoostClassifier             0:03:30       0.8889    0.8896\n",
            "        11   StandardScalerWrapper RandomForest             0:01:31       0.8861    0.8896\n",
            "         8   SparseNormalizer XGBoostClassifier             0:03:50       0.8888    0.8896\n",
            "        12   MaxAbsScaler RandomForest                      0:01:56       0.8038    0.8896\n",
            "        14   MaxAbsScaler LightGBM                          0:01:11       0.8038    0.8896\n",
            "        13   MaxAbsScaler LogisticRegression                0:02:02       0.8888    0.8896\n",
            "        10   MaxAbsScaler RandomForest                      0:04:22       0.8038    0.8896\n",
            "        16   SparseNormalizer LightGBM                      0:01:11       0.8095    0.8896\n",
            "        17   MaxAbsScaler LightGBM                          0:01:16       0.8038    0.8896\n",
            "        19   SparseNormalizer XGBoostClassifier             0:01:25       0.8881    0.8896\n",
            "        18   SparseNormalizer XGBoostClassifier             0:02:31       0.8888    0.8896\n",
            "        22   SparseNormalizer ExtremeRandomTrees            0:01:15       0.7357    0.8896\n",
            "        21   StandardScalerWrapper ExtremeRandomTrees       0:02:10       0.8488    0.8896\n",
            "        20   SparseNormalizer XGBoostClassifier             0:03:13       0.8886    0.8896\n",
            "        15   MaxAbsScaler ExtremeRandomTrees                0:05:55       0.8038    0.8896\n",
            "        25   StandardScalerWrapper LightGBM                 0:01:07       0.8038    0.8896\n",
            "        23   StandardScalerWrapper LightGBM                 0:02:17       0.8892    0.8896\n",
            "        26   SparseNormalizer XGBoostClassifier             0:02:01       0.8883    0.8896\n",
            "        24   SparseNormalizer XGBoostClassifier             0:05:25       0.8885    0.8896\n",
            "        30   StandardScalerWrapper LightGBM                 0:01:26       0.8890    0.8896\n",
            "        29   SparseNormalizer XGBoostClassifier             0:05:17       0.8890    0.8896\n",
            "        28   SparseNormalizer XGBoostClassifier             0:06:44       0.8891    0.8896\n",
            "        33   StandardScalerWrapper XGBoostClassifier        0:01:25       0.8881    0.8896\n",
            "        32   StandardScalerWrapper XGBoostClassifier        0:03:28       0.8892    0.8896\n",
            "        34   StandardScalerWrapper LightGBM                 0:01:16       0.8881    0.8896\n",
            "        27   StandardScalerWrapper XGBoostClassifier        0:10:39          nan    0.8896\n",
            "        31   StandardScalerWrapper XGBoostClassifier        0:04:57       0.8896    0.8896\n",
            "        35                                                  0:00:16          nan    0.8896\n",
            "        36    VotingEnsemble                                0:05:03       0.8898    0.8898\n",
            "        37    StackEnsemble                                 0:06:23       0.8895    0.8898\n"
          ]
        },
        {
          "output_type": "execute_result",
          "execution_count": 8,
          "data": {
            "text/plain": "{'runId': 'AutoML_41dee557-4822-4d8a-8bba-d12b26a0af4f',\n 'target': 'cpu-cluster',\n 'status': 'Completed',\n 'startTimeUtc': '2021-03-07T15:55:36.7088Z',\n 'endTimeUtc': '2021-03-07T17:02:45.806493Z',\n 'properties': {'num_iterations': '1000',\n  'training_type': 'TrainFull',\n  'acquisition_function': 'EI',\n  'primary_metric': 'accuracy',\n  'train_split': '0',\n  'acquisition_parameter': '0',\n  'num_cross_validation': '3',\n  'target': 'cpu-cluster',\n  'AMLSettingsJsonString': '{\"path\":null,\"name\":\"udacity-project\",\"subscription_id\":\"9e65f93e-bdd8-437b-b1e8-0647cd6098f7\",\"resource_group\":\"aml-quickstarts-140005\",\"workspace_name\":\"quick-starts-ws-140005\",\"region\":\"southcentralus\",\"compute_target\":\"cpu-cluster\",\"spark_service\":null,\"azure_service\":\"remote\",\"many_models\":false,\"pipeline_fetch_max_batch_size\":1,\"iterations\":1000,\"primary_metric\":\"accuracy\",\"task_type\":\"classification\",\"data_script\":null,\"validation_size\":0.0,\"n_cross_validations\":3,\"y_min\":null,\"y_max\":null,\"num_classes\":null,\"featurization\":\"auto\",\"_ignore_package_version_incompatibilities\":false,\"is_timeseries\":false,\"max_cores_per_iteration\":-1,\"max_concurrent_iterations\":4,\"iteration_timeout_minutes\":null,\"mem_in_mb\":null,\"enforce_time_on_windows\":false,\"experiment_timeout_minutes\":60,\"experiment_exit_score\":null,\"whitelist_models\":null,\"blacklist_algos\":[\"TensorFlowLinearClassifier\",\"TensorFlowDNN\"],\"supported_models\":[\"MultinomialNaiveBayes\",\"KNN\",\"GradientBoosting\",\"SVM\",\"DecisionTree\",\"LogisticRegression\",\"BernoulliNaiveBayes\",\"LinearSVM\",\"XGBoostClassifier\",\"RandomForest\",\"TensorFlowLinearClassifier\",\"TensorFlowDNN\",\"AveragedPerceptronClassifier\",\"ExtremeRandomTrees\",\"LightGBM\",\"SGD\"],\"private_models\":[],\"auto_blacklist\":true,\"blacklist_samples_reached\":false,\"exclude_nan_labels\":true,\"verbosity\":20,\"_debug_log\":\"azureml_automl.log\",\"show_warnings\":false,\"model_explainability\":true,\"service_url\":null,\"sdk_url\":null,\"sdk_packages\":null,\"enable_onnx_compatible_models\":false,\"enable_split_onnx_featurizer_estimator_models\":false,\"vm_type\":\"STANDARD_D2_V2\",\"telemetry_verbosity\":20,\"send_telemetry\":true,\"enable_dnn\":false,\"scenario\":\"SDK-1.13.0\",\"environment_label\":null,\"force_text_dnn\":false,\"enable_feature_sweeping\":true,\"enable_early_stopping\":true,\"early_stopping_n_iters\":10,\"metrics\":null,\"enable_ensembling\":true,\"enable_stack_ensembling\":true,\"ensemble_iterations\":15,\"enable_tf\":false,\"enable_subsampling\":null,\"subsample_seed\":null,\"enable_nimbusml\":false,\"enable_streaming\":false,\"force_streaming\":false,\"track_child_runs\":true,\"allowed_private_models\":[],\"label_column_name\":\"loan_repaid\",\"weight_column_name\":null,\"cv_split_column_names\":null,\"enable_local_managed\":false,\"_local_managed_run_id\":null,\"cost_mode\":1,\"lag_length\":0,\"metric_operation\":\"maximize\",\"preprocess\":true}',\n  'DataPrepJsonString': '{\\\\\"training_data\\\\\": \\\\\"{\\\\\\\\\\\\\"blocks\\\\\\\\\\\\\": [{\\\\\\\\\\\\\"id\\\\\\\\\\\\\": \\\\\\\\\\\\\"8611c307-e3eb-426a-b644-527cec71a470\\\\\\\\\\\\\", \\\\\\\\\\\\\"type\\\\\\\\\\\\\": \\\\\\\\\\\\\"Microsoft.DPrep.GetDatastoreFilesBlock\\\\\\\\\\\\\", \\\\\\\\\\\\\"arguments\\\\\\\\\\\\\": {\\\\\\\\\\\\\"datastores\\\\\\\\\\\\\": [{\\\\\\\\\\\\\"datastoreName\\\\\\\\\\\\\": \\\\\\\\\\\\\"workspaceblobstore\\\\\\\\\\\\\", \\\\\\\\\\\\\"path\\\\\\\\\\\\\": \\\\\\\\\\\\\"./data.csv\\\\\\\\\\\\\", \\\\\\\\\\\\\"resourceGroup\\\\\\\\\\\\\": \\\\\\\\\\\\\"aml-quickstarts-140005\\\\\\\\\\\\\", \\\\\\\\\\\\\"subscription\\\\\\\\\\\\\": \\\\\\\\\\\\\"9e65f93e-bdd8-437b-b1e8-0647cd6098f7\\\\\\\\\\\\\", \\\\\\\\\\\\\"workspaceName\\\\\\\\\\\\\": \\\\\\\\\\\\\"quick-starts-ws-140005\\\\\\\\\\\\\"}]}, \\\\\\\\\\\\\"localData\\\\\\\\\\\\\": {}, \\\\\\\\\\\\\"isEnabled\\\\\\\\\\\\\": true, \\\\\\\\\\\\\"name\\\\\\\\\\\\\": null, \\\\\\\\\\\\\"annotation\\\\\\\\\\\\\": null}, {\\\\\\\\\\\\\"id\\\\\\\\\\\\\": \\\\\\\\\\\\\"c44371ba-f892-40da-8ee9-2f5274528f26\\\\\\\\\\\\\", \\\\\\\\\\\\\"type\\\\\\\\\\\\\": \\\\\\\\\\\\\"Microsoft.DPrep.ParseDelimitedBlock\\\\\\\\\\\\\", \\\\\\\\\\\\\"arguments\\\\\\\\\\\\\": {\\\\\\\\\\\\\"columnHeadersMode\\\\\\\\\\\\\": 3, \\\\\\\\\\\\\"fileEncoding\\\\\\\\\\\\\": 0, \\\\\\\\\\\\\"handleQuotedLineBreaks\\\\\\\\\\\\\": false, \\\\\\\\\\\\\"preview\\\\\\\\\\\\\": false, \\\\\\\\\\\\\"separator\\\\\\\\\\\\\": \\\\\\\\\\\\\",\\\\\\\\\\\\\", \\\\\\\\\\\\\"skipRows\\\\\\\\\\\\\": 0, \\\\\\\\\\\\\"skipRowsMode\\\\\\\\\\\\\": 0}, \\\\\\\\\\\\\"localData\\\\\\\\\\\\\": {}, \\\\\\\\\\\\\"isEnabled\\\\\\\\\\\\\": true, \\\\\\\\\\\\\"name\\\\\\\\\\\\\": null, \\\\\\\\\\\\\"annotation\\\\\\\\\\\\\": null}, {\\\\\\\\\\\\\"id\\\\\\\\\\\\\": \\\\\\\\\\\\\"7b909f85-d0be-4f94-878f-f629feb2aee1\\\\\\\\\\\\\", \\\\\\\\\\\\\"type\\\\\\\\\\\\\": \\\\\\\\\\\\\"Microsoft.DPrep.DropColumnsBlock\\\\\\\\\\\\\", \\\\\\\\\\\\\"arguments\\\\\\\\\\\\\": {\\\\\\\\\\\\\"columns\\\\\\\\\\\\\": {\\\\\\\\\\\\\"type\\\\\\\\\\\\\": 0, \\\\\\\\\\\\\"details\\\\\\\\\\\\\": {\\\\\\\\\\\\\"selectedColumns\\\\\\\\\\\\\": [\\\\\\\\\\\\\"Path\\\\\\\\\\\\\"]}}}, \\\\\\\\\\\\\"localData\\\\\\\\\\\\\": {}, \\\\\\\\\\\\\"isEnabled\\\\\\\\\\\\\": true, \\\\\\\\\\\\\"name\\\\\\\\\\\\\": null, \\\\\\\\\\\\\"annotation\\\\\\\\\\\\\": null}, {\\\\\\\\\\\\\"id\\\\\\\\\\\\\": \\\\\\\\\\\\\"b2ddfb3c-9355-4eb6-8a9b-49ea7ae23379\\\\\\\\\\\\\", \\\\\\\\\\\\\"type\\\\\\\\\\\\\": \\\\\\\\\\\\\"Microsoft.DPrep.SetColumnTypesBlock\\\\\\\\\\\\\", \\\\\\\\\\\\\"arguments\\\\\\\\\\\\\": {\\\\\\\\\\\\\"columnConversion\\\\\\\\\\\\\": [{\\\\\\\\\\\\\"column\\\\\\\\\\\\\": {\\\\\\\\\\\\\"type\\\\\\\\\\\\\": 2, \\\\\\\\\\\\\"details\\\\\\\\\\\\\": {\\\\\\\\\\\\\"selectedColumn\\\\\\\\\\\\\": \\\\\\\\\\\\\"loan_amnt\\\\\\\\\\\\\"}}, \\\\\\\\\\\\\"typeProperty\\\\\\\\\\\\\": 3}, {\\\\\\\\\\\\\"column\\\\\\\\\\\\\": {\\\\\\\\\\\\\"type\\\\\\\\\\\\\": 2, \\\\\\\\\\\\\"details\\\\\\\\\\\\\": {\\\\\\\\\\\\\"selectedColumn\\\\\\\\\\\\\": \\\\\\\\\\\\\"term\\\\\\\\\\\\\"}}, \\\\\\\\\\\\\"typeProperty\\\\\\\\\\\\\": 2}, {\\\\\\\\\\\\\"column\\\\\\\\\\\\\": {\\\\\\\\\\\\\"type\\\\\\\\\\\\\": 2, \\\\\\\\\\\\\"details\\\\\\\\\\\\\": {\\\\\\\\\\\\\"selectedColumn\\\\\\\\\\\\\": \\\\\\\\\\\\\"int_rate\\\\\\\\\\\\\"}}, \\\\\\\\\\\\\"typeProperty\\\\\\\\\\\\\": 3}, {\\\\\\\\\\\\\"column\\\\\\\\\\\\\": {\\\\\\\\\\\\\"type\\\\\\\\\\\\\": 2, \\\\\\\\\\\\\"details\\\\\\\\\\\\\": {\\\\\\\\\\\\\"selectedColumn\\\\\\\\\\\\\": \\\\\\\\\\\\\"installment\\\\\\\\\\\\\"}}, \\\\\\\\\\\\\"typeProperty\\\\\\\\\\\\\": 3}, {\\\\\\\\\\\\\"column\\\\\\\\\\\\\": {\\\\\\\\\\\\\"type\\\\\\\\\\\\\": 2, \\\\\\\\\\\\\"details\\\\\\\\\\\\\": {\\\\\\\\\\\\\"selectedColumn\\\\\\\\\\\\\": \\\\\\\\\\\\\"annual_inc\\\\\\\\\\\\\"}}, \\\\\\\\\\\\\"typeProperty\\\\\\\\\\\\\": 3}, {\\\\\\\\\\\\\"column\\\\\\\\\\\\\": {\\\\\\\\\\\\\"type\\\\\\\\\\\\\": 2, \\\\\\\\\\\\\"details\\\\\\\\\\\\\": {\\\\\\\\\\\\\"selectedColumn\\\\\\\\\\\\\": \\\\\\\\\\\\\"dti\\\\\\\\\\\\\"}}, \\\\\\\\\\\\\"typeProperty\\\\\\\\\\\\\": 3}, {\\\\\\\\\\\\\"column\\\\\\\\\\\\\": {\\\\\\\\\\\\\"type\\\\\\\\\\\\\": 2, \\\\\\\\\\\\\"details\\\\\\\\\\\\\": {\\\\\\\\\\\\\"selectedColumn\\\\\\\\\\\\\": \\\\\\\\\\\\\"earliest_cr_line\\\\\\\\\\\\\"}}, \\\\\\\\\\\\\"typeProperty\\\\\\\\\\\\\": 2}, {\\\\\\\\\\\\\"column\\\\\\\\\\\\\": {\\\\\\\\\\\\\"type\\\\\\\\\\\\\": 2, \\\\\\\\\\\\\"details\\\\\\\\\\\\\": {\\\\\\\\\\\\\"selectedColumn\\\\\\\\\\\\\": \\\\\\\\\\\\\"open_acc\\\\\\\\\\\\\"}}, \\\\\\\\\\\\\"typeProperty\\\\\\\\\\\\\": 3}, {\\\\\\\\\\\\\"column\\\\\\\\\\\\\": {\\\\\\\\\\\\\"type\\\\\\\\\\\\\": 2, \\\\\\\\\\\\\"details\\\\\\\\\\\\\": {\\\\\\\\\\\\\"selectedColumn\\\\\\\\\\\\\": \\\\\\\\\\\\\"pub_rec\\\\\\\\\\\\\"}}, \\\\\\\\\\\\\"typeProperty\\\\\\\\\\\\\": 3}, {\\\\\\\\\\\\\"column\\\\\\\\\\\\\": {\\\\\\\\\\\\\"type\\\\\\\\\\\\\": 2, \\\\\\\\\\\\\"details\\\\\\\\\\\\\": {\\\\\\\\\\\\\"selectedColumn\\\\\\\\\\\\\": \\\\\\\\\\\\\"revol_bal\\\\\\\\\\\\\"}}, \\\\\\\\\\\\\"typeProperty\\\\\\\\\\\\\": 3}, {\\\\\\\\\\\\\"column\\\\\\\\\\\\\": {\\\\\\\\\\\\\"type\\\\\\\\\\\\\": 2, \\\\\\\\\\\\\"details\\\\\\\\\\\\\": {\\\\\\\\\\\\\"selectedColumn\\\\\\\\\\\\\": \\\\\\\\\\\\\"revol_util\\\\\\\\\\\\\"}}, \\\\\\\\\\\\\"typeProperty\\\\\\\\\\\\\": 3}, {\\\\\\\\\\\\\"column\\\\\\\\\\\\\": {\\\\\\\\\\\\\"type\\\\\\\\\\\\\": 2, \\\\\\\\\\\\\"details\\\\\\\\\\\\\": {\\\\\\\\\\\\\"selectedColumn\\\\\\\\\\\\\": \\\\\\\\\\\\\"total_acc\\\\\\\\\\\\\"}}, \\\\\\\\\\\\\"typeProperty\\\\\\\\\\\\\": 3}, {\\\\\\\\\\\\\"column\\\\\\\\\\\\\": {\\\\\\\\\\\\\"type\\\\\\\\\\\\\": 2, \\\\\\\\\\\\\"details\\\\\\\\\\\\\": {\\\\\\\\\\\\\"selectedColumn\\\\\\\\\\\\\": \\\\\\\\\\\\\"mort_acc\\\\\\\\\\\\\"}}, \\\\\\\\\\\\\"typeProperty\\\\\\\\\\\\\": 3}, {\\\\\\\\\\\\\"column\\\\\\\\\\\\\": {\\\\\\\\\\\\\"type\\\\\\\\\\\\\": 2, \\\\\\\\\\\\\"details\\\\\\\\\\\\\": {\\\\\\\\\\\\\"selectedColumn\\\\\\\\\\\\\": \\\\\\\\\\\\\"pub_rec_bankruptcies\\\\\\\\\\\\\"}}, \\\\\\\\\\\\\"typeProperty\\\\\\\\\\\\\": 3}, {\\\\\\\\\\\\\"column\\\\\\\\\\\\\": {\\\\\\\\\\\\\"type\\\\\\\\\\\\\": 2, \\\\\\\\\\\\\"details\\\\\\\\\\\\\": {\\\\\\\\\\\\\"selectedColumn\\\\\\\\\\\\\": \\\\\\\\\\\\\"zip_code\\\\\\\\\\\\\"}}, \\\\\\\\\\\\\"typeProperty\\\\\\\\\\\\\": 2}, {\\\\\\\\\\\\\"column\\\\\\\\\\\\\": {\\\\\\\\\\\\\"type\\\\\\\\\\\\\": 2, \\\\\\\\\\\\\"details\\\\\\\\\\\\\": {\\\\\\\\\\\\\"selectedColumn\\\\\\\\\\\\\": \\\\\\\\\\\\\"sub_grade_A2\\\\\\\\\\\\\"}}, \\\\\\\\\\\\\"typeProperty\\\\\\\\\\\\\": 2}, {\\\\\\\\\\\\\"column\\\\\\\\\\\\\": {\\\\\\\\\\\\\"type\\\\\\\\\\\\\": 2, \\\\\\\\\\\\\"details\\\\\\\\\\\\\": {\\\\\\\\\\\\\"selectedColumn\\\\\\\\\\\\\": \\\\\\\\\\\\\"sub_grade_A3\\\\\\\\\\\\\"}}, \\\\\\\\\\\\\"typeProperty\\\\\\\\\\\\\": 2}, {\\\\\\\\\\\\\"column\\\\\\\\\\\\\": {\\\\\\\\\\\\\"type\\\\\\\\\\\\\": 2, \\\\\\\\\\\\\"details\\\\\\\\\\\\\": {\\\\\\\\\\\\\"selectedColumn\\\\\\\\\\\\\": \\\\\\\\\\\\\"sub_grade_A4\\\\\\\\\\\\\"}}, \\\\\\\\\\\\\"typeProperty\\\\\\\\\\\\\": 2}, {\\\\\\\\\\\\\"column\\\\\\\\\\\\\": {\\\\\\\\\\\\\"type\\\\\\\\\\\\\": 2, \\\\\\\\\\\\\"details\\\\\\\\\\\\\": {\\\\\\\\\\\\\"selectedColumn\\\\\\\\\\\\\": \\\\\\\\\\\\\"sub_grade_A5\\\\\\\\\\\\\"}}, \\\\\\\\\\\\\"typeProperty\\\\\\\\\\\\\": 2}, {\\\\\\\\\\\\\"column\\\\\\\\\\\\\": {\\\\\\\\\\\\\"type\\\\\\\\\\\\\": 2, \\\\\\\\\\\\\"details\\\\\\\\\\\\\": {\\\\\\\\\\\\\"selectedColumn\\\\\\\\\\\\\": \\\\\\\\\\\\\"sub_grade_B1\\\\\\\\\\\\\"}}, \\\\\\\\\\\\\"typeProperty\\\\\\\\\\\\\": 2}, {\\\\\\\\\\\\\"column\\\\\\\\\\\\\": {\\\\\\\\\\\\\"type\\\\\\\\\\\\\": 2, \\\\\\\\\\\\\"details\\\\\\\\\\\\\": {\\\\\\\\\\\\\"selectedColumn\\\\\\\\\\\\\": \\\\\\\\\\\\\"sub_grade_B2\\\\\\\\\\\\\"}}, \\\\\\\\\\\\\"typeProperty\\\\\\\\\\\\\": 2}, {\\\\\\\\\\\\\"column\\\\\\\\\\\\\": {\\\\\\\\\\\\\"type\\\\\\\\\\\\\": 2, \\\\\\\\\\\\\"details\\\\\\\\\\\\\": {\\\\\\\\\\\\\"selectedColumn\\\\\\\\\\\\\": \\\\\\\\\\\\\"sub_grade_B3\\\\\\\\\\\\\"}}, \\\\\\\\\\\\\"typeProperty\\\\\\\\\\\\\": 2}, {\\\\\\\\\\\\\"column\\\\\\\\\\\\\": {\\\\\\\\\\\\\"type\\\\\\\\\\\\\": 2, \\\\\\\\\\\\\"details\\\\\\\\\\\\\": {\\\\\\\\\\\\\"selectedColumn\\\\\\\\\\\\\": \\\\\\\\\\\\\"sub_grade_B4\\\\\\\\\\\\\"}}, \\\\\\\\\\\\\"typeProperty\\\\\\\\\\\\\": 2}, {\\\\\\\\\\\\\"column\\\\\\\\\\\\\": {\\\\\\\\\\\\\"type\\\\\\\\\\\\\": 2, \\\\\\\\\\\\\"details\\\\\\\\\\\\\": {\\\\\\\\\\\\\"selectedColumn\\\\\\\\\\\\\": \\\\\\\\\\\\\"sub_grade_B5\\\\\\\\\\\\\"}}, \\\\\\\\\\\\\"typeProperty\\\\\\\\\\\\\": 2}, {\\\\\\\\\\\\\"column\\\\\\\\\\\\\": {\\\\\\\\\\\\\"type\\\\\\\\\\\\\": 2, \\\\\\\\\\\\\"details\\\\\\\\\\\\\": {\\\\\\\\\\\\\"selectedColumn\\\\\\\\\\\\\": \\\\\\\\\\\\\"sub_grade_C1\\\\\\\\\\\\\"}}, \\\\\\\\\\\\\"typeProperty\\\\\\\\\\\\\": 2}, {\\\\\\\\\\\\\"column\\\\\\\\\\\\\": {\\\\\\\\\\\\\"type\\\\\\\\\\\\\": 2, \\\\\\\\\\\\\"details\\\\\\\\\\\\\": {\\\\\\\\\\\\\"selectedColumn\\\\\\\\\\\\\": \\\\\\\\\\\\\"sub_grade_C2\\\\\\\\\\\\\"}}, \\\\\\\\\\\\\"typeProperty\\\\\\\\\\\\\": 2}, {\\\\\\\\\\\\\"column\\\\\\\\\\\\\": {\\\\\\\\\\\\\"type\\\\\\\\\\\\\": 2, \\\\\\\\\\\\\"details\\\\\\\\\\\\\": {\\\\\\\\\\\\\"selectedColumn\\\\\\\\\\\\\": \\\\\\\\\\\\\"sub_grade_C3\\\\\\\\\\\\\"}}, \\\\\\\\\\\\\"typeProperty\\\\\\\\\\\\\": 2}, {\\\\\\\\\\\\\"column\\\\\\\\\\\\\": {\\\\\\\\\\\\\"type\\\\\\\\\\\\\": 2, \\\\\\\\\\\\\"details\\\\\\\\\\\\\": {\\\\\\\\\\\\\"selectedColumn\\\\\\\\\\\\\": \\\\\\\\\\\\\"sub_grade_C4\\\\\\\\\\\\\"}}, \\\\\\\\\\\\\"typeProperty\\\\\\\\\\\\\": 2}, {\\\\\\\\\\\\\"column\\\\\\\\\\\\\": {\\\\\\\\\\\\\"type\\\\\\\\\\\\\": 2, \\\\\\\\\\\\\"details\\\\\\\\\\\\\": {\\\\\\\\\\\\\"selectedColumn\\\\\\\\\\\\\": \\\\\\\\\\\\\"sub_grade_C5\\\\\\\\\\\\\"}}, \\\\\\\\\\\\\"typeProperty\\\\\\\\\\\\\": 2}, {\\\\\\\\\\\\\"column\\\\\\\\\\\\\": {\\\\\\\\\\\\\"type\\\\\\\\\\\\\": 2, \\\\\\\\\\\\\"details\\\\\\\\\\\\\": {\\\\\\\\\\\\\"selectedColumn\\\\\\\\\\\\\": \\\\\\\\\\\\\"sub_grade_D1\\\\\\\\\\\\\"}}, \\\\\\\\\\\\\"typeProperty\\\\\\\\\\\\\": 2}, {\\\\\\\\\\\\\"column\\\\\\\\\\\\\": {\\\\\\\\\\\\\"type\\\\\\\\\\\\\": 2, \\\\\\\\\\\\\"details\\\\\\\\\\\\\": {\\\\\\\\\\\\\"selectedColumn\\\\\\\\\\\\\": \\\\\\\\\\\\\"sub_grade_D2\\\\\\\\\\\\\"}}, \\\\\\\\\\\\\"typeProperty\\\\\\\\\\\\\": 2}, {\\\\\\\\\\\\\"column\\\\\\\\\\\\\": {\\\\\\\\\\\\\"type\\\\\\\\\\\\\": 2, \\\\\\\\\\\\\"details\\\\\\\\\\\\\": {\\\\\\\\\\\\\"selectedColumn\\\\\\\\\\\\\": \\\\\\\\\\\\\"sub_grade_D3\\\\\\\\\\\\\"}}, \\\\\\\\\\\\\"typeProperty\\\\\\\\\\\\\": 2}, {\\\\\\\\\\\\\"column\\\\\\\\\\\\\": {\\\\\\\\\\\\\"type\\\\\\\\\\\\\": 2, \\\\\\\\\\\\\"details\\\\\\\\\\\\\": {\\\\\\\\\\\\\"selectedColumn\\\\\\\\\\\\\": \\\\\\\\\\\\\"sub_grade_D4\\\\\\\\\\\\\"}}, \\\\\\\\\\\\\"typeProperty\\\\\\\\\\\\\": 2}, {\\\\\\\\\\\\\"column\\\\\\\\\\\\\": {\\\\\\\\\\\\\"type\\\\\\\\\\\\\": 2, \\\\\\\\\\\\\"details\\\\\\\\\\\\\": {\\\\\\\\\\\\\"selectedColumn\\\\\\\\\\\\\": \\\\\\\\\\\\\"sub_grade_D5\\\\\\\\\\\\\"}}, \\\\\\\\\\\\\"typeProperty\\\\\\\\\\\\\": 2}, {\\\\\\\\\\\\\"column\\\\\\\\\\\\\": {\\\\\\\\\\\\\"type\\\\\\\\\\\\\": 2, \\\\\\\\\\\\\"details\\\\\\\\\\\\\": {\\\\\\\\\\\\\"selectedColumn\\\\\\\\\\\\\": \\\\\\\\\\\\\"sub_grade_E1\\\\\\\\\\\\\"}}, \\\\\\\\\\\\\"typeProperty\\\\\\\\\\\\\": 2}, {\\\\\\\\\\\\\"column\\\\\\\\\\\\\": {\\\\\\\\\\\\\"type\\\\\\\\\\\\\": 2, \\\\\\\\\\\\\"details\\\\\\\\\\\\\": {\\\\\\\\\\\\\"selectedColumn\\\\\\\\\\\\\": \\\\\\\\\\\\\"sub_grade_E2\\\\\\\\\\\\\"}}, \\\\\\\\\\\\\"typeProperty\\\\\\\\\\\\\": 2}, {\\\\\\\\\\\\\"column\\\\\\\\\\\\\": {\\\\\\\\\\\\\"type\\\\\\\\\\\\\": 2, \\\\\\\\\\\\\"details\\\\\\\\\\\\\": {\\\\\\\\\\\\\"selectedColumn\\\\\\\\\\\\\": \\\\\\\\\\\\\"sub_grade_E3\\\\\\\\\\\\\"}}, \\\\\\\\\\\\\"typeProperty\\\\\\\\\\\\\": 2}, {\\\\\\\\\\\\\"column\\\\\\\\\\\\\": {\\\\\\\\\\\\\"type\\\\\\\\\\\\\": 2, \\\\\\\\\\\\\"details\\\\\\\\\\\\\": {\\\\\\\\\\\\\"selectedColumn\\\\\\\\\\\\\": \\\\\\\\\\\\\"sub_grade_E4\\\\\\\\\\\\\"}}, \\\\\\\\\\\\\"typeProperty\\\\\\\\\\\\\": 2}, {\\\\\\\\\\\\\"column\\\\\\\\\\\\\": {\\\\\\\\\\\\\"type\\\\\\\\\\\\\": 2, \\\\\\\\\\\\\"details\\\\\\\\\\\\\": {\\\\\\\\\\\\\"selectedColumn\\\\\\\\\\\\\": \\\\\\\\\\\\\"sub_grade_E5\\\\\\\\\\\\\"}}, \\\\\\\\\\\\\"typeProperty\\\\\\\\\\\\\": 2}, {\\\\\\\\\\\\\"column\\\\\\\\\\\\\": {\\\\\\\\\\\\\"type\\\\\\\\\\\\\": 2, \\\\\\\\\\\\\"details\\\\\\\\\\\\\": {\\\\\\\\\\\\\"selectedColumn\\\\\\\\\\\\\": \\\\\\\\\\\\\"sub_grade_F1\\\\\\\\\\\\\"}}, \\\\\\\\\\\\\"typeProperty\\\\\\\\\\\\\": 2}, {\\\\\\\\\\\\\"column\\\\\\\\\\\\\": {\\\\\\\\\\\\\"type\\\\\\\\\\\\\": 2, \\\\\\\\\\\\\"details\\\\\\\\\\\\\": {\\\\\\\\\\\\\"selectedColumn\\\\\\\\\\\\\": \\\\\\\\\\\\\"sub_grade_F2\\\\\\\\\\\\\"}}, \\\\\\\\\\\\\"typeProperty\\\\\\\\\\\\\": 2}, {\\\\\\\\\\\\\"column\\\\\\\\\\\\\": {\\\\\\\\\\\\\"type\\\\\\\\\\\\\": 2, \\\\\\\\\\\\\"details\\\\\\\\\\\\\": {\\\\\\\\\\\\\"selectedColumn\\\\\\\\\\\\\": \\\\\\\\\\\\\"sub_grade_F3\\\\\\\\\\\\\"}}, \\\\\\\\\\\\\"typeProperty\\\\\\\\\\\\\": 2}, {\\\\\\\\\\\\\"column\\\\\\\\\\\\\": {\\\\\\\\\\\\\"type\\\\\\\\\\\\\": 2, \\\\\\\\\\\\\"details\\\\\\\\\\\\\": {\\\\\\\\\\\\\"selectedColumn\\\\\\\\\\\\\": \\\\\\\\\\\\\"sub_grade_F4\\\\\\\\\\\\\"}}, \\\\\\\\\\\\\"typeProperty\\\\\\\\\\\\\": 2}, {\\\\\\\\\\\\\"column\\\\\\\\\\\\\": {\\\\\\\\\\\\\"type\\\\\\\\\\\\\": 2, \\\\\\\\\\\\\"details\\\\\\\\\\\\\": {\\\\\\\\\\\\\"selectedColumn\\\\\\\\\\\\\": \\\\\\\\\\\\\"sub_grade_F5\\\\\\\\\\\\\"}}, \\\\\\\\\\\\\"typeProperty\\\\\\\\\\\\\": 2}, {\\\\\\\\\\\\\"column\\\\\\\\\\\\\": {\\\\\\\\\\\\\"type\\\\\\\\\\\\\": 2, \\\\\\\\\\\\\"details\\\\\\\\\\\\\": {\\\\\\\\\\\\\"selectedColumn\\\\\\\\\\\\\": \\\\\\\\\\\\\"sub_grade_G1\\\\\\\\\\\\\"}}, \\\\\\\\\\\\\"typeProperty\\\\\\\\\\\\\": 2}, {\\\\\\\\\\\\\"column\\\\\\\\\\\\\": {\\\\\\\\\\\\\"type\\\\\\\\\\\\\": 2, \\\\\\\\\\\\\"details\\\\\\\\\\\\\": {\\\\\\\\\\\\\"selectedColumn\\\\\\\\\\\\\": \\\\\\\\\\\\\"sub_grade_G2\\\\\\\\\\\\\"}}, \\\\\\\\\\\\\"typeProperty\\\\\\\\\\\\\": 2}, {\\\\\\\\\\\\\"column\\\\\\\\\\\\\": {\\\\\\\\\\\\\"type\\\\\\\\\\\\\": 2, \\\\\\\\\\\\\"details\\\\\\\\\\\\\": {\\\\\\\\\\\\\"selectedColumn\\\\\\\\\\\\\": \\\\\\\\\\\\\"sub_grade_G3\\\\\\\\\\\\\"}}, \\\\\\\\\\\\\"typeProperty\\\\\\\\\\\\\": 2}, {\\\\\\\\\\\\\"column\\\\\\\\\\\\\": {\\\\\\\\\\\\\"type\\\\\\\\\\\\\": 2, \\\\\\\\\\\\\"details\\\\\\\\\\\\\": {\\\\\\\\\\\\\"selectedColumn\\\\\\\\\\\\\": \\\\\\\\\\\\\"sub_grade_G4\\\\\\\\\\\\\"}}, \\\\\\\\\\\\\"typeProperty\\\\\\\\\\\\\": 2}, {\\\\\\\\\\\\\"column\\\\\\\\\\\\\": {\\\\\\\\\\\\\"type\\\\\\\\\\\\\": 2, \\\\\\\\\\\\\"details\\\\\\\\\\\\\": {\\\\\\\\\\\\\"selectedColumn\\\\\\\\\\\\\": \\\\\\\\\\\\\"sub_grade_G5\\\\\\\\\\\\\"}}, \\\\\\\\\\\\\"typeProperty\\\\\\\\\\\\\": 2}, {\\\\\\\\\\\\\"column\\\\\\\\\\\\\": {\\\\\\\\\\\\\"type\\\\\\\\\\\\\": 2, \\\\\\\\\\\\\"details\\\\\\\\\\\\\": {\\\\\\\\\\\\\"selectedColumn\\\\\\\\\\\\\": \\\\\\\\\\\\\"verification_status_Source Verified\\\\\\\\\\\\\"}}, \\\\\\\\\\\\\"typeProperty\\\\\\\\\\\\\": 2}, {\\\\\\\\\\\\\"column\\\\\\\\\\\\\": {\\\\\\\\\\\\\"type\\\\\\\\\\\\\": 2, \\\\\\\\\\\\\"details\\\\\\\\\\\\\": {\\\\\\\\\\\\\"selectedColumn\\\\\\\\\\\\\": \\\\\\\\\\\\\"verification_status_Verified\\\\\\\\\\\\\"}}, \\\\\\\\\\\\\"typeProperty\\\\\\\\\\\\\": 2}, {\\\\\\\\\\\\\"column\\\\\\\\\\\\\": {\\\\\\\\\\\\\"type\\\\\\\\\\\\\": 2, \\\\\\\\\\\\\"details\\\\\\\\\\\\\": {\\\\\\\\\\\\\"selectedColumn\\\\\\\\\\\\\": \\\\\\\\\\\\\"application_type_INDIVIDUAL\\\\\\\\\\\\\"}}, \\\\\\\\\\\\\"typeProperty\\\\\\\\\\\\\": 2}, {\\\\\\\\\\\\\"column\\\\\\\\\\\\\": {\\\\\\\\\\\\\"type\\\\\\\\\\\\\": 2, \\\\\\\\\\\\\"details\\\\\\\\\\\\\": {\\\\\\\\\\\\\"selectedColumn\\\\\\\\\\\\\": \\\\\\\\\\\\\"application_type_JOINT\\\\\\\\\\\\\"}}, \\\\\\\\\\\\\"typeProperty\\\\\\\\\\\\\": 2}, {\\\\\\\\\\\\\"column\\\\\\\\\\\\\": {\\\\\\\\\\\\\"type\\\\\\\\\\\\\": 2, \\\\\\\\\\\\\"details\\\\\\\\\\\\\": {\\\\\\\\\\\\\"selectedColumn\\\\\\\\\\\\\": \\\\\\\\\\\\\"initial_list_status_w\\\\\\\\\\\\\"}}, \\\\\\\\\\\\\"typeProperty\\\\\\\\\\\\\": 2}, {\\\\\\\\\\\\\"column\\\\\\\\\\\\\": {\\\\\\\\\\\\\"type\\\\\\\\\\\\\": 2, \\\\\\\\\\\\\"details\\\\\\\\\\\\\": {\\\\\\\\\\\\\"selectedColumn\\\\\\\\\\\\\": \\\\\\\\\\\\\"home_ownership_OTHER\\\\\\\\\\\\\"}}, \\\\\\\\\\\\\"typeProperty\\\\\\\\\\\\\": 2}, {\\\\\\\\\\\\\"column\\\\\\\\\\\\\": {\\\\\\\\\\\\\"type\\\\\\\\\\\\\": 2, \\\\\\\\\\\\\"details\\\\\\\\\\\\\": {\\\\\\\\\\\\\"selectedColumn\\\\\\\\\\\\\": \\\\\\\\\\\\\"home_ownership_OWN\\\\\\\\\\\\\"}}, \\\\\\\\\\\\\"typeProperty\\\\\\\\\\\\\": 2}, {\\\\\\\\\\\\\"column\\\\\\\\\\\\\": {\\\\\\\\\\\\\"type\\\\\\\\\\\\\": 2, \\\\\\\\\\\\\"details\\\\\\\\\\\\\": {\\\\\\\\\\\\\"selectedColumn\\\\\\\\\\\\\": \\\\\\\\\\\\\"home_ownership_RENT\\\\\\\\\\\\\"}}, \\\\\\\\\\\\\"typeProperty\\\\\\\\\\\\\": 2}, {\\\\\\\\\\\\\"column\\\\\\\\\\\\\": {\\\\\\\\\\\\\"type\\\\\\\\\\\\\": 2, \\\\\\\\\\\\\"details\\\\\\\\\\\\\": {\\\\\\\\\\\\\"selectedColumn\\\\\\\\\\\\\": \\\\\\\\\\\\\"purpose_credit_card\\\\\\\\\\\\\"}}, \\\\\\\\\\\\\"typeProperty\\\\\\\\\\\\\": 2}, {\\\\\\\\\\\\\"column\\\\\\\\\\\\\": {\\\\\\\\\\\\\"type\\\\\\\\\\\\\": 2, \\\\\\\\\\\\\"details\\\\\\\\\\\\\": {\\\\\\\\\\\\\"selectedColumn\\\\\\\\\\\\\": \\\\\\\\\\\\\"purpose_debt_consolidation\\\\\\\\\\\\\"}}, \\\\\\\\\\\\\"typeProperty\\\\\\\\\\\\\": 2}, {\\\\\\\\\\\\\"column\\\\\\\\\\\\\": {\\\\\\\\\\\\\"type\\\\\\\\\\\\\": 2, \\\\\\\\\\\\\"details\\\\\\\\\\\\\": {\\\\\\\\\\\\\"selectedColumn\\\\\\\\\\\\\": \\\\\\\\\\\\\"purpose_educational\\\\\\\\\\\\\"}}, \\\\\\\\\\\\\"typeProperty\\\\\\\\\\\\\": 2}, {\\\\\\\\\\\\\"column\\\\\\\\\\\\\": {\\\\\\\\\\\\\"type\\\\\\\\\\\\\": 2, \\\\\\\\\\\\\"details\\\\\\\\\\\\\": {\\\\\\\\\\\\\"selectedColumn\\\\\\\\\\\\\": \\\\\\\\\\\\\"purpose_home_improvement\\\\\\\\\\\\\"}}, \\\\\\\\\\\\\"typeProperty\\\\\\\\\\\\\": 2}, {\\\\\\\\\\\\\"column\\\\\\\\\\\\\": {\\\\\\\\\\\\\"type\\\\\\\\\\\\\": 2, \\\\\\\\\\\\\"details\\\\\\\\\\\\\": {\\\\\\\\\\\\\"selectedColumn\\\\\\\\\\\\\": \\\\\\\\\\\\\"purpose_house\\\\\\\\\\\\\"}}, \\\\\\\\\\\\\"typeProperty\\\\\\\\\\\\\": 2}, {\\\\\\\\\\\\\"column\\\\\\\\\\\\\": {\\\\\\\\\\\\\"type\\\\\\\\\\\\\": 2, \\\\\\\\\\\\\"details\\\\\\\\\\\\\": {\\\\\\\\\\\\\"selectedColumn\\\\\\\\\\\\\": \\\\\\\\\\\\\"purpose_major_purchase\\\\\\\\\\\\\"}}, \\\\\\\\\\\\\"typeProperty\\\\\\\\\\\\\": 2}, {\\\\\\\\\\\\\"column\\\\\\\\\\\\\": {\\\\\\\\\\\\\"type\\\\\\\\\\\\\": 2, \\\\\\\\\\\\\"details\\\\\\\\\\\\\": {\\\\\\\\\\\\\"selectedColumn\\\\\\\\\\\\\": \\\\\\\\\\\\\"purpose_medical\\\\\\\\\\\\\"}}, \\\\\\\\\\\\\"typeProperty\\\\\\\\\\\\\": 2}, {\\\\\\\\\\\\\"column\\\\\\\\\\\\\": {\\\\\\\\\\\\\"type\\\\\\\\\\\\\": 2, \\\\\\\\\\\\\"details\\\\\\\\\\\\\": {\\\\\\\\\\\\\"selectedColumn\\\\\\\\\\\\\": \\\\\\\\\\\\\"purpose_moving\\\\\\\\\\\\\"}}, \\\\\\\\\\\\\"typeProperty\\\\\\\\\\\\\": 2}, {\\\\\\\\\\\\\"column\\\\\\\\\\\\\": {\\\\\\\\\\\\\"type\\\\\\\\\\\\\": 2, \\\\\\\\\\\\\"details\\\\\\\\\\\\\": {\\\\\\\\\\\\\"selectedColumn\\\\\\\\\\\\\": \\\\\\\\\\\\\"purpose_other\\\\\\\\\\\\\"}}, \\\\\\\\\\\\\"typeProperty\\\\\\\\\\\\\": 2}, {\\\\\\\\\\\\\"column\\\\\\\\\\\\\": {\\\\\\\\\\\\\"type\\\\\\\\\\\\\": 2, \\\\\\\\\\\\\"details\\\\\\\\\\\\\": {\\\\\\\\\\\\\"selectedColumn\\\\\\\\\\\\\": \\\\\\\\\\\\\"purpose_renewable_energy\\\\\\\\\\\\\"}}, \\\\\\\\\\\\\"typeProperty\\\\\\\\\\\\\": 2}, {\\\\\\\\\\\\\"column\\\\\\\\\\\\\": {\\\\\\\\\\\\\"type\\\\\\\\\\\\\": 2, \\\\\\\\\\\\\"details\\\\\\\\\\\\\": {\\\\\\\\\\\\\"selectedColumn\\\\\\\\\\\\\": \\\\\\\\\\\\\"purpose_small_business\\\\\\\\\\\\\"}}, \\\\\\\\\\\\\"typeProperty\\\\\\\\\\\\\": 2}, {\\\\\\\\\\\\\"column\\\\\\\\\\\\\": {\\\\\\\\\\\\\"type\\\\\\\\\\\\\": 2, \\\\\\\\\\\\\"details\\\\\\\\\\\\\": {\\\\\\\\\\\\\"selectedColumn\\\\\\\\\\\\\": \\\\\\\\\\\\\"purpose_vacation\\\\\\\\\\\\\"}}, \\\\\\\\\\\\\"typeProperty\\\\\\\\\\\\\": 2}, {\\\\\\\\\\\\\"column\\\\\\\\\\\\\": {\\\\\\\\\\\\\"type\\\\\\\\\\\\\": 2, \\\\\\\\\\\\\"details\\\\\\\\\\\\\": {\\\\\\\\\\\\\"selectedColumn\\\\\\\\\\\\\": \\\\\\\\\\\\\"purpose_wedding\\\\\\\\\\\\\"}}, \\\\\\\\\\\\\"typeProperty\\\\\\\\\\\\\": 2}, {\\\\\\\\\\\\\"column\\\\\\\\\\\\\": {\\\\\\\\\\\\\"type\\\\\\\\\\\\\": 2, \\\\\\\\\\\\\"details\\\\\\\\\\\\\": {\\\\\\\\\\\\\"selectedColumn\\\\\\\\\\\\\": \\\\\\\\\\\\\"loan_repaid\\\\\\\\\\\\\"}}, \\\\\\\\\\\\\"typeProperty\\\\\\\\\\\\\": 2}]}, \\\\\\\\\\\\\"localData\\\\\\\\\\\\\": {}, \\\\\\\\\\\\\"isEnabled\\\\\\\\\\\\\": true, \\\\\\\\\\\\\"name\\\\\\\\\\\\\": null, \\\\\\\\\\\\\"annotation\\\\\\\\\\\\\": null}], \\\\\\\\\\\\\"inspectors\\\\\\\\\\\\\": [], \\\\\\\\\\\\\"meta\\\\\\\\\\\\\": {\\\\\\\\\\\\\"savedDatasetId\\\\\\\\\\\\\": \\\\\\\\\\\\\"3c1e230e-38a6-41cd-9f77-8e8d3a333935\\\\\\\\\\\\\", \\\\\\\\\\\\\"datasetType\\\\\\\\\\\\\": \\\\\\\\\\\\\"tabular\\\\\\\\\\\\\", \\\\\\\\\\\\\"subscriptionId\\\\\\\\\\\\\": \\\\\\\\\\\\\"9e65f93e-bdd8-437b-b1e8-0647cd6098f7\\\\\\\\\\\\\", \\\\\\\\\\\\\"workspaceId\\\\\\\\\\\\\": \\\\\\\\\\\\\"079b61bc-1ae3-4366-a7a5-5ba038de6f8d\\\\\\\\\\\\\", \\\\\\\\\\\\\"workspaceLocation\\\\\\\\\\\\\": \\\\\\\\\\\\\"southcentralus\\\\\\\\\\\\\"}}\\\\\", \\\\\"activities\\\\\": 0}',\n  'EnableSubsampling': None,\n  'runTemplate': 'AutoML',\n  'azureml.runsource': 'automl',\n  'display_task_type': 'classification',\n  'dependencies_versions': '{\"azureml-widgets\": \"1.22.0\", \"azureml-train\": \"1.22.0\", \"azureml-train-restclients-hyperdrive\": \"1.22.0\", \"azureml-train-core\": \"1.22.0\", \"azureml-train-automl\": \"1.22.0\", \"azureml-train-automl-runtime\": \"1.22.0\", \"azureml-train-automl-client\": \"1.22.0\", \"azureml-tensorboard\": \"1.22.0\", \"azureml-telemetry\": \"1.22.0\", \"azureml-sdk\": \"1.22.0\", \"azureml-samples\": \"0+unknown\", \"azureml-pipeline\": \"1.22.0\", \"azureml-pipeline-steps\": \"1.22.0\", \"azureml-pipeline-core\": \"1.22.0\", \"azureml-opendatasets\": \"1.22.0\", \"azureml-model-management-sdk\": \"1.0.1b6.post1\", \"azureml-mlflow\": \"1.22.0\", \"azureml-interpret\": \"1.22.0\", \"azureml-explain-model\": \"1.22.0\", \"azureml-defaults\": \"1.22.0\", \"azureml-dataset-runtime\": \"1.22.0\", \"azureml-dataprep\": \"2.9.1\", \"azureml-dataprep-rslex\": \"1.7.0\", \"azureml-dataprep-native\": \"29.0.0\", \"azureml-datadrift\": \"1.22.0\", \"azureml-core\": \"1.22.0\", \"azureml-contrib-services\": \"1.22.0\", \"azureml-contrib-server\": \"1.22.0\", \"azureml-contrib-reinforcementlearning\": \"1.22.0\", \"azureml-contrib-pipeline-steps\": \"1.22.0\", \"azureml-contrib-notebook\": \"1.22.0\", \"azureml-contrib-interpret\": \"1.22.0\", \"azureml-contrib-gbdt\": \"1.22.0\", \"azureml-contrib-fairness\": \"1.22.0\", \"azureml-contrib-dataset\": \"1.22.0\", \"azureml-cli-common\": \"1.22.0\", \"azureml-automl-runtime\": \"1.22.0\", \"azureml-automl-core\": \"1.22.0\", \"azureml-accel-models\": \"1.22.0\"}',\n  '_aml_system_scenario_identification': 'Remote.Parent',\n  'ClientType': 'SDK',\n  'environment_cpu_name': 'AzureML-AutoML',\n  'environment_cpu_label': 'prod',\n  'environment_gpu_name': 'AzureML-AutoML-GPU',\n  'environment_gpu_label': 'prod',\n  'root_attribution': 'automl',\n  'attribution': 'AutoML',\n  'Orchestrator': 'AutoML',\n  'CancelUri': 'https://southcentralus.experiments.azureml.net/jasmine/v1.0/subscriptions/9e65f93e-bdd8-437b-b1e8-0647cd6098f7/resourceGroups/aml-quickstarts-140005/providers/Microsoft.MachineLearningServices/workspaces/quick-starts-ws-140005/experimentids/926e8c42-0d60-4fed-ac0c-1601d1c71f20/cancel/AutoML_41dee557-4822-4d8a-8bba-d12b26a0af4f',\n  'ClientSdkVersion': '1.23.0',\n  'snapshotId': '00000000-0000-0000-0000-000000000000',\n  'SetupRunId': 'AutoML_41dee557-4822-4d8a-8bba-d12b26a0af4f_setup',\n  'SetupRunContainerId': 'dcid.AutoML_41dee557-4822-4d8a-8bba-d12b26a0af4f_setup',\n  'FeaturizationRunJsonPath': 'featurizer_container.json',\n  'FeaturizationRunId': 'AutoML_41dee557-4822-4d8a-8bba-d12b26a0af4f_featurize',\n  'ProblemInfoJsonString': '{\"dataset_num_categorical\": 0, \"is_sparse\": true, \"subsampling\": false, \"dataset_classes\": 2, \"dataset_features\": 79, \"dataset_samples\": 395219, \"single_frequency_class_detected\": false}',\n  'ModelExplainRunId': 'AutoML_41dee557-4822-4d8a-8bba-d12b26a0af4f_ModelExplain'},\n 'inputDatasets': [{'dataset': {'id': '3c1e230e-38a6-41cd-9f77-8e8d3a333935'}, 'consumptionDetails': {'type': 'RunInput', 'inputName': 'training_data', 'mechanism': 'Direct'}}],\n 'outputDatasets': [],\n 'logFiles': {},\n 'submittedBy': 'ODL_User 140005'}"
          },
          "metadata": {}
        }
      ],
      "execution_count": 8,
      "metadata": {
        "gather": {
          "logged": 1615136579669
        }
      }
    },
    {
      "source": [
        "## Run Details\n",
        "\n",
        "OPTIONAL: Write about the different models trained and their performance. Why do you think some models did better than others?\n",
        "\n",
        "TODO: In the cell below, use the `RunDetails` widget to show the different experiments."
      ],
      "cell_type": "markdown",
      "metadata": {}
    },
    {
      "cell_type": "code",
      "source": [
        "RunDetails(remote_run).show()\n",
        "for child_run in remote_run.get_children():\n",
        "    print(child_run)"
      ],
      "outputs": [
        {
          "output_type": "display_data",
          "data": {
            "text/plain": "_AutoMLWidget(widget_settings={'childWidgetDisplay': 'popup', 'send_telemetry': False, 'log_level': 'INFO', 's…",
            "application/vnd.jupyter.widget-view+json": {
              "version_major": 2,
              "version_minor": 0,
              "model_id": "075543f4144440fa8982006e90089288"
            }
          },
          "metadata": {}
        },
        {
          "output_type": "display_data",
          "data": {
            "application/aml.mini.widget.v1": "{\"status\": \"Completed\", \"workbench_run_details_uri\": \"https://ml.azure.com/experiments/udacity-project/runs/AutoML_41dee557-4822-4d8a-8bba-d12b26a0af4f?wsid=/subscriptions/9e65f93e-bdd8-437b-b1e8-0647cd6098f7/resourcegroups/aml-quickstarts-140005/workspaces/quick-starts-ws-140005\", \"run_id\": \"AutoML_41dee557-4822-4d8a-8bba-d12b26a0af4f\", \"run_properties\": {\"run_id\": \"AutoML_41dee557-4822-4d8a-8bba-d12b26a0af4f\", \"created_utc\": \"2021-03-07T15:55:20.368469Z\", \"properties\": {\"num_iterations\": \"1000\", \"training_type\": \"TrainFull\", \"acquisition_function\": \"EI\", \"primary_metric\": \"accuracy\", \"train_split\": \"0\", \"acquisition_parameter\": \"0\", \"num_cross_validation\": \"3\", \"target\": \"cpu-cluster\", \"AMLSettingsJsonString\": \"{\\\"path\\\":null,\\\"name\\\":\\\"udacity-project\\\",\\\"subscription_id\\\":\\\"9e65f93e-bdd8-437b-b1e8-0647cd6098f7\\\",\\\"resource_group\\\":\\\"aml-quickstarts-140005\\\",\\\"workspace_name\\\":\\\"quick-starts-ws-140005\\\",\\\"region\\\":\\\"southcentralus\\\",\\\"compute_target\\\":\\\"cpu-cluster\\\",\\\"spark_service\\\":null,\\\"azure_service\\\":\\\"remote\\\",\\\"many_models\\\":false,\\\"pipeline_fetch_max_batch_size\\\":1,\\\"iterations\\\":1000,\\\"primary_metric\\\":\\\"accuracy\\\",\\\"task_type\\\":\\\"classification\\\",\\\"data_script\\\":null,\\\"validation_size\\\":0.0,\\\"n_cross_validations\\\":3,\\\"y_min\\\":null,\\\"y_max\\\":null,\\\"num_classes\\\":null,\\\"featurization\\\":\\\"auto\\\",\\\"_ignore_package_version_incompatibilities\\\":false,\\\"is_timeseries\\\":false,\\\"max_cores_per_iteration\\\":-1,\\\"max_concurrent_iterations\\\":4,\\\"iteration_timeout_minutes\\\":null,\\\"mem_in_mb\\\":null,\\\"enforce_time_on_windows\\\":false,\\\"experiment_timeout_minutes\\\":60,\\\"experiment_exit_score\\\":null,\\\"whitelist_models\\\":null,\\\"blacklist_algos\\\":[\\\"TensorFlowLinearClassifier\\\",\\\"TensorFlowDNN\\\"],\\\"supported_models\\\":[\\\"MultinomialNaiveBayes\\\",\\\"KNN\\\",\\\"GradientBoosting\\\",\\\"SVM\\\",\\\"DecisionTree\\\",\\\"LogisticRegression\\\",\\\"BernoulliNaiveBayes\\\",\\\"LinearSVM\\\",\\\"XGBoostClassifier\\\",\\\"RandomForest\\\",\\\"TensorFlowLinearClassifier\\\",\\\"TensorFlowDNN\\\",\\\"AveragedPerceptronClassifier\\\",\\\"ExtremeRandomTrees\\\",\\\"LightGBM\\\",\\\"SGD\\\"],\\\"private_models\\\":[],\\\"auto_blacklist\\\":true,\\\"blacklist_samples_reached\\\":false,\\\"exclude_nan_labels\\\":true,\\\"verbosity\\\":20,\\\"_debug_log\\\":\\\"azureml_automl.log\\\",\\\"show_warnings\\\":false,\\\"model_explainability\\\":true,\\\"service_url\\\":null,\\\"sdk_url\\\":null,\\\"sdk_packages\\\":null,\\\"enable_onnx_compatible_models\\\":false,\\\"enable_split_onnx_featurizer_estimator_models\\\":false,\\\"vm_type\\\":\\\"STANDARD_D2_V2\\\",\\\"telemetry_verbosity\\\":20,\\\"send_telemetry\\\":true,\\\"enable_dnn\\\":false,\\\"scenario\\\":\\\"SDK-1.13.0\\\",\\\"environment_label\\\":null,\\\"force_text_dnn\\\":false,\\\"enable_feature_sweeping\\\":true,\\\"enable_early_stopping\\\":true,\\\"early_stopping_n_iters\\\":10,\\\"metrics\\\":null,\\\"enable_ensembling\\\":true,\\\"enable_stack_ensembling\\\":true,\\\"ensemble_iterations\\\":15,\\\"enable_tf\\\":false,\\\"enable_subsampling\\\":null,\\\"subsample_seed\\\":null,\\\"enable_nimbusml\\\":false,\\\"enable_streaming\\\":false,\\\"force_streaming\\\":false,\\\"track_child_runs\\\":true,\\\"allowed_private_models\\\":[],\\\"label_column_name\\\":\\\"loan_repaid\\\",\\\"weight_column_name\\\":null,\\\"cv_split_column_names\\\":null,\\\"enable_local_managed\\\":false,\\\"_local_managed_run_id\\\":null,\\\"cost_mode\\\":1,\\\"lag_length\\\":0,\\\"metric_operation\\\":\\\"maximize\\\",\\\"preprocess\\\":true}\", \"DataPrepJsonString\": \"{\\\\\\\"training_data\\\\\\\": \\\\\\\"{\\\\\\\\\\\\\\\"blocks\\\\\\\\\\\\\\\": [{\\\\\\\\\\\\\\\"id\\\\\\\\\\\\\\\": \\\\\\\\\\\\\\\"8611c307-e3eb-426a-b644-527cec71a470\\\\\\\\\\\\\\\", \\\\\\\\\\\\\\\"type\\\\\\\\\\\\\\\": \\\\\\\\\\\\\\\"Microsoft.DPrep.GetDatastoreFilesBlock\\\\\\\\\\\\\\\", \\\\\\\\\\\\\\\"arguments\\\\\\\\\\\\\\\": {\\\\\\\\\\\\\\\"datastores\\\\\\\\\\\\\\\": [{\\\\\\\\\\\\\\\"datastoreName\\\\\\\\\\\\\\\": \\\\\\\\\\\\\\\"workspaceblobstore\\\\\\\\\\\\\\\", \\\\\\\\\\\\\\\"path\\\\\\\\\\\\\\\": \\\\\\\\\\\\\\\"./data.csv\\\\\\\\\\\\\\\", \\\\\\\\\\\\\\\"resourceGroup\\\\\\\\\\\\\\\": \\\\\\\\\\\\\\\"aml-quickstarts-140005\\\\\\\\\\\\\\\", \\\\\\\\\\\\\\\"subscription\\\\\\\\\\\\\\\": \\\\\\\\\\\\\\\"9e65f93e-bdd8-437b-b1e8-0647cd6098f7\\\\\\\\\\\\\\\", \\\\\\\\\\\\\\\"workspaceName\\\\\\\\\\\\\\\": \\\\\\\\\\\\\\\"quick-starts-ws-140005\\\\\\\\\\\\\\\"}]}, \\\\\\\\\\\\\\\"localData\\\\\\\\\\\\\\\": {}, \\\\\\\\\\\\\\\"isEnabled\\\\\\\\\\\\\\\": true, \\\\\\\\\\\\\\\"name\\\\\\\\\\\\\\\": null, \\\\\\\\\\\\\\\"annotation\\\\\\\\\\\\\\\": null}, {\\\\\\\\\\\\\\\"id\\\\\\\\\\\\\\\": \\\\\\\\\\\\\\\"c44371ba-f892-40da-8ee9-2f5274528f26\\\\\\\\\\\\\\\", \\\\\\\\\\\\\\\"type\\\\\\\\\\\\\\\": \\\\\\\\\\\\\\\"Microsoft.DPrep.ParseDelimitedBlock\\\\\\\\\\\\\\\", \\\\\\\\\\\\\\\"arguments\\\\\\\\\\\\\\\": {\\\\\\\\\\\\\\\"columnHeadersMode\\\\\\\\\\\\\\\": 3, \\\\\\\\\\\\\\\"fileEncoding\\\\\\\\\\\\\\\": 0, \\\\\\\\\\\\\\\"handleQuotedLineBreaks\\\\\\\\\\\\\\\": false, \\\\\\\\\\\\\\\"preview\\\\\\\\\\\\\\\": false, \\\\\\\\\\\\\\\"separator\\\\\\\\\\\\\\\": \\\\\\\\\\\\\\\",\\\\\\\\\\\\\\\", \\\\\\\\\\\\\\\"skipRows\\\\\\\\\\\\\\\": 0, \\\\\\\\\\\\\\\"skipRowsMode\\\\\\\\\\\\\\\": 0}, \\\\\\\\\\\\\\\"localData\\\\\\\\\\\\\\\": {}, \\\\\\\\\\\\\\\"isEnabled\\\\\\\\\\\\\\\": true, \\\\\\\\\\\\\\\"name\\\\\\\\\\\\\\\": null, \\\\\\\\\\\\\\\"annotation\\\\\\\\\\\\\\\": null}, {\\\\\\\\\\\\\\\"id\\\\\\\\\\\\\\\": \\\\\\\\\\\\\\\"7b909f85-d0be-4f94-878f-f629feb2aee1\\\\\\\\\\\\\\\", \\\\\\\\\\\\\\\"type\\\\\\\\\\\\\\\": \\\\\\\\\\\\\\\"Microsoft.DPrep.DropColumnsBlock\\\\\\\\\\\\\\\", \\\\\\\\\\\\\\\"arguments\\\\\\\\\\\\\\\": {\\\\\\\\\\\\\\\"columns\\\\\\\\\\\\\\\": {\\\\\\\\\\\\\\\"type\\\\\\\\\\\\\\\": 0, \\\\\\\\\\\\\\\"details\\\\\\\\\\\\\\\": {\\\\\\\\\\\\\\\"selectedColumns\\\\\\\\\\\\\\\": [\\\\\\\\\\\\\\\"Path\\\\\\\\\\\\\\\"]}}}, \\\\\\\\\\\\\\\"localData\\\\\\\\\\\\\\\": {}, \\\\\\\\\\\\\\\"isEnabled\\\\\\\\\\\\\\\": true, \\\\\\\\\\\\\\\"name\\\\\\\\\\\\\\\": null, \\\\\\\\\\\\\\\"annotation\\\\\\\\\\\\\\\": null}, {\\\\\\\\\\\\\\\"id\\\\\\\\\\\\\\\": \\\\\\\\\\\\\\\"b2ddfb3c-9355-4eb6-8a9b-49ea7ae23379\\\\\\\\\\\\\\\", \\\\\\\\\\\\\\\"type\\\\\\\\\\\\\\\": \\\\\\\\\\\\\\\"Microsoft.DPrep.SetColumnTypesBlock\\\\\\\\\\\\\\\", \\\\\\\\\\\\\\\"arguments\\\\\\\\\\\\\\\": {\\\\\\\\\\\\\\\"columnConversion\\\\\\\\\\\\\\\": [{\\\\\\\\\\\\\\\"column\\\\\\\\\\\\\\\": {\\\\\\\\\\\\\\\"type\\\\\\\\\\\\\\\": 2, \\\\\\\\\\\\\\\"details\\\\\\\\\\\\\\\": {\\\\\\\\\\\\\\\"selectedColumn\\\\\\\\\\\\\\\": \\\\\\\\\\\\\\\"loan_amnt\\\\\\\\\\\\\\\"}}, \\\\\\\\\\\\\\\"typeProperty\\\\\\\\\\\\\\\": 3}, {\\\\\\\\\\\\\\\"column\\\\\\\\\\\\\\\": {\\\\\\\\\\\\\\\"type\\\\\\\\\\\\\\\": 2, \\\\\\\\\\\\\\\"details\\\\\\\\\\\\\\\": {\\\\\\\\\\\\\\\"selectedColumn\\\\\\\\\\\\\\\": \\\\\\\\\\\\\\\"term\\\\\\\\\\\\\\\"}}, \\\\\\\\\\\\\\\"typeProperty\\\\\\\\\\\\\\\": 2}, {\\\\\\\\\\\\\\\"column\\\\\\\\\\\\\\\": {\\\\\\\\\\\\\\\"type\\\\\\\\\\\\\\\": 2, \\\\\\\\\\\\\\\"details\\\\\\\\\\\\\\\": {\\\\\\\\\\\\\\\"selectedColumn\\\\\\\\\\\\\\\": \\\\\\\\\\\\\\\"int_rate\\\\\\\\\\\\\\\"}}, \\\\\\\\\\\\\\\"typeProperty\\\\\\\\\\\\\\\": 3}, {\\\\\\\\\\\\\\\"column\\\\\\\\\\\\\\\": {\\\\\\\\\\\\\\\"type\\\\\\\\\\\\\\\": 2, \\\\\\\\\\\\\\\"details\\\\\\\\\\\\\\\": {\\\\\\\\\\\\\\\"selectedColumn\\\\\\\\\\\\\\\": \\\\\\\\\\\\\\\"installment\\\\\\\\\\\\\\\"}}, \\\\\\\\\\\\\\\"typeProperty\\\\\\\\\\\\\\\": 3}, {\\\\\\\\\\\\\\\"column\\\\\\\\\\\\\\\": {\\\\\\\\\\\\\\\"type\\\\\\\\\\\\\\\": 2, \\\\\\\\\\\\\\\"details\\\\\\\\\\\\\\\": {\\\\\\\\\\\\\\\"selectedColumn\\\\\\\\\\\\\\\": \\\\\\\\\\\\\\\"annual_inc\\\\\\\\\\\\\\\"}}, \\\\\\\\\\\\\\\"typeProperty\\\\\\\\\\\\\\\": 3}, {\\\\\\\\\\\\\\\"column\\\\\\\\\\\\\\\": {\\\\\\\\\\\\\\\"type\\\\\\\\\\\\\\\": 2, \\\\\\\\\\\\\\\"details\\\\\\\\\\\\\\\": {\\\\\\\\\\\\\\\"selectedColumn\\\\\\\\\\\\\\\": \\\\\\\\\\\\\\\"dti\\\\\\\\\\\\\\\"}}, \\\\\\\\\\\\\\\"typeProperty\\\\\\\\\\\\\\\": 3}, {\\\\\\\\\\\\\\\"column\\\\\\\\\\\\\\\": {\\\\\\\\\\\\\\\"type\\\\\\\\\\\\\\\": 2, \\\\\\\\\\\\\\\"details\\\\\\\\\\\\\\\": {\\\\\\\\\\\\\\\"selectedColumn\\\\\\\\\\\\\\\": \\\\\\\\\\\\\\\"earliest_cr_line\\\\\\\\\\\\\\\"}}, \\\\\\\\\\\\\\\"typeProperty\\\\\\\\\\\\\\\": 2}, {\\\\\\\\\\\\\\\"column\\\\\\\\\\\\\\\": {\\\\\\\\\\\\\\\"type\\\\\\\\\\\\\\\": 2, \\\\\\\\\\\\\\\"details\\\\\\\\\\\\\\\": {\\\\\\\\\\\\\\\"selectedColumn\\\\\\\\\\\\\\\": \\\\\\\\\\\\\\\"open_acc\\\\\\\\\\\\\\\"}}, \\\\\\\\\\\\\\\"typeProperty\\\\\\\\\\\\\\\": 3}, {\\\\\\\\\\\\\\\"column\\\\\\\\\\\\\\\": {\\\\\\\\\\\\\\\"type\\\\\\\\\\\\\\\": 2, \\\\\\\\\\\\\\\"details\\\\\\\\\\\\\\\": {\\\\\\\\\\\\\\\"selectedColumn\\\\\\\\\\\\\\\": \\\\\\\\\\\\\\\"pub_rec\\\\\\\\\\\\\\\"}}, \\\\\\\\\\\\\\\"typeProperty\\\\\\\\\\\\\\\": 3}, {\\\\\\\\\\\\\\\"column\\\\\\\\\\\\\\\": {\\\\\\\\\\\\\\\"type\\\\\\\\\\\\\\\": 2, \\\\\\\\\\\\\\\"details\\\\\\\\\\\\\\\": {\\\\\\\\\\\\\\\"selectedColumn\\\\\\\\\\\\\\\": \\\\\\\\\\\\\\\"revol_bal\\\\\\\\\\\\\\\"}}, \\\\\\\\\\\\\\\"typeProperty\\\\\\\\\\\\\\\": 3}, {\\\\\\\\\\\\\\\"column\\\\\\\\\\\\\\\": {\\\\\\\\\\\\\\\"type\\\\\\\\\\\\\\\": 2, \\\\\\\\\\\\\\\"details\\\\\\\\\\\\\\\": {\\\\\\\\\\\\\\\"selectedColumn\\\\\\\\\\\\\\\": \\\\\\\\\\\\\\\"revol_util\\\\\\\\\\\\\\\"}}, \\\\\\\\\\\\\\\"typeProperty\\\\\\\\\\\\\\\": 3}, {\\\\\\\\\\\\\\\"column\\\\\\\\\\\\\\\": {\\\\\\\\\\\\\\\"type\\\\\\\\\\\\\\\": 2, \\\\\\\\\\\\\\\"details\\\\\\\\\\\\\\\": {\\\\\\\\\\\\\\\"selectedColumn\\\\\\\\\\\\\\\": \\\\\\\\\\\\\\\"total_acc\\\\\\\\\\\\\\\"}}, \\\\\\\\\\\\\\\"typeProperty\\\\\\\\\\\\\\\": 3}, {\\\\\\\\\\\\\\\"column\\\\\\\\\\\\\\\": {\\\\\\\\\\\\\\\"type\\\\\\\\\\\\\\\": 2, \\\\\\\\\\\\\\\"details\\\\\\\\\\\\\\\": {\\\\\\\\\\\\\\\"selectedColumn\\\\\\\\\\\\\\\": \\\\\\\\\\\\\\\"mort_acc\\\\\\\\\\\\\\\"}}, \\\\\\\\\\\\\\\"typeProperty\\\\\\\\\\\\\\\": 3}, {\\\\\\\\\\\\\\\"column\\\\\\\\\\\\\\\": {\\\\\\\\\\\\\\\"type\\\\\\\\\\\\\\\": 2, \\\\\\\\\\\\\\\"details\\\\\\\\\\\\\\\": {\\\\\\\\\\\\\\\"selectedColumn\\\\\\\\\\\\\\\": \\\\\\\\\\\\\\\"pub_rec_bankruptcies\\\\\\\\\\\\\\\"}}, \\\\\\\\\\\\\\\"typeProperty\\\\\\\\\\\\\\\": 3}, {\\\\\\\\\\\\\\\"column\\\\\\\\\\\\\\\": {\\\\\\\\\\\\\\\"type\\\\\\\\\\\\\\\": 2, \\\\\\\\\\\\\\\"details\\\\\\\\\\\\\\\": {\\\\\\\\\\\\\\\"selectedColumn\\\\\\\\\\\\\\\": \\\\\\\\\\\\\\\"zip_code\\\\\\\\\\\\\\\"}}, \\\\\\\\\\\\\\\"typeProperty\\\\\\\\\\\\\\\": 2}, {\\\\\\\\\\\\\\\"column\\\\\\\\\\\\\\\": {\\\\\\\\\\\\\\\"type\\\\\\\\\\\\\\\": 2, \\\\\\\\\\\\\\\"details\\\\\\\\\\\\\\\": {\\\\\\\\\\\\\\\"selectedColumn\\\\\\\\\\\\\\\": \\\\\\\\\\\\\\\"sub_grade_A2\\\\\\\\\\\\\\\"}}, \\\\\\\\\\\\\\\"typeProperty\\\\\\\\\\\\\\\": 2}, {\\\\\\\\\\\\\\\"column\\\\\\\\\\\\\\\": {\\\\\\\\\\\\\\\"type\\\\\\\\\\\\\\\": 2, \\\\\\\\\\\\\\\"details\\\\\\\\\\\\\\\": {\\\\\\\\\\\\\\\"selectedColumn\\\\\\\\\\\\\\\": \\\\\\\\\\\\\\\"sub_grade_A3\\\\\\\\\\\\\\\"}}, \\\\\\\\\\\\\\\"typeProperty\\\\\\\\\\\\\\\": 2}, {\\\\\\\\\\\\\\\"column\\\\\\\\\\\\\\\": {\\\\\\\\\\\\\\\"type\\\\\\\\\\\\\\\": 2, \\\\\\\\\\\\\\\"details\\\\\\\\\\\\\\\": {\\\\\\\\\\\\\\\"selectedColumn\\\\\\\\\\\\\\\": \\\\\\\\\\\\\\\"sub_grade_A4\\\\\\\\\\\\\\\"}}, \\\\\\\\\\\\\\\"typeProperty\\\\\\\\\\\\\\\": 2}, {\\\\\\\\\\\\\\\"column\\\\\\\\\\\\\\\": {\\\\\\\\\\\\\\\"type\\\\\\\\\\\\\\\": 2, \\\\\\\\\\\\\\\"details\\\\\\\\\\\\\\\": {\\\\\\\\\\\\\\\"selectedColumn\\\\\\\\\\\\\\\": \\\\\\\\\\\\\\\"sub_grade_A5\\\\\\\\\\\\\\\"}}, \\\\\\\\\\\\\\\"typeProperty\\\\\\\\\\\\\\\": 2}, {\\\\\\\\\\\\\\\"column\\\\\\\\\\\\\\\": {\\\\\\\\\\\\\\\"type\\\\\\\\\\\\\\\": 2, \\\\\\\\\\\\\\\"details\\\\\\\\\\\\\\\": {\\\\\\\\\\\\\\\"selectedColumn\\\\\\\\\\\\\\\": \\\\\\\\\\\\\\\"sub_grade_B1\\\\\\\\\\\\\\\"}}, \\\\\\\\\\\\\\\"typeProperty\\\\\\\\\\\\\\\": 2}, {\\\\\\\\\\\\\\\"column\\\\\\\\\\\\\\\": {\\\\\\\\\\\\\\\"type\\\\\\\\\\\\\\\": 2, \\\\\\\\\\\\\\\"details\\\\\\\\\\\\\\\": {\\\\\\\\\\\\\\\"selectedColumn\\\\\\\\\\\\\\\": \\\\\\\\\\\\\\\"sub_grade_B2\\\\\\\\\\\\\\\"}}, \\\\\\\\\\\\\\\"typeProperty\\\\\\\\\\\\\\\": 2}, {\\\\\\\\\\\\\\\"column\\\\\\\\\\\\\\\": {\\\\\\\\\\\\\\\"type\\\\\\\\\\\\\\\": 2, \\\\\\\\\\\\\\\"details\\\\\\\\\\\\\\\": {\\\\\\\\\\\\\\\"selectedColumn\\\\\\\\\\\\\\\": \\\\\\\\\\\\\\\"sub_grade_B3\\\\\\\\\\\\\\\"}}, \\\\\\\\\\\\\\\"typeProperty\\\\\\\\\\\\\\\": 2}, {\\\\\\\\\\\\\\\"column\\\\\\\\\\\\\\\": {\\\\\\\\\\\\\\\"type\\\\\\\\\\\\\\\": 2, \\\\\\\\\\\\\\\"details\\\\\\\\\\\\\\\": {\\\\\\\\\\\\\\\"selectedColumn\\\\\\\\\\\\\\\": \\\\\\\\\\\\\\\"sub_grade_B4\\\\\\\\\\\\\\\"}}, \\\\\\\\\\\\\\\"typeProperty\\\\\\\\\\\\\\\": 2}, {\\\\\\\\\\\\\\\"column\\\\\\\\\\\\\\\": {\\\\\\\\\\\\\\\"type\\\\\\\\\\\\\\\": 2, \\\\\\\\\\\\\\\"details\\\\\\\\\\\\\\\": {\\\\\\\\\\\\\\\"selectedColumn\\\\\\\\\\\\\\\": \\\\\\\\\\\\\\\"sub_grade_B5\\\\\\\\\\\\\\\"}}, \\\\\\\\\\\\\\\"typeProperty\\\\\\\\\\\\\\\": 2}, {\\\\\\\\\\\\\\\"column\\\\\\\\\\\\\\\": {\\\\\\\\\\\\\\\"type\\\\\\\\\\\\\\\": 2, \\\\\\\\\\\\\\\"details\\\\\\\\\\\\\\\": {\\\\\\\\\\\\\\\"selectedColumn\\\\\\\\\\\\\\\": \\\\\\\\\\\\\\\"sub_grade_C1\\\\\\\\\\\\\\\"}}, \\\\\\\\\\\\\\\"typeProperty\\\\\\\\\\\\\\\": 2}, {\\\\\\\\\\\\\\\"column\\\\\\\\\\\\\\\": {\\\\\\\\\\\\\\\"type\\\\\\\\\\\\\\\": 2, \\\\\\\\\\\\\\\"details\\\\\\\\\\\\\\\": {\\\\\\\\\\\\\\\"selectedColumn\\\\\\\\\\\\\\\": \\\\\\\\\\\\\\\"sub_grade_C2\\\\\\\\\\\\\\\"}}, \\\\\\\\\\\\\\\"typeProperty\\\\\\\\\\\\\\\": 2}, {\\\\\\\\\\\\\\\"column\\\\\\\\\\\\\\\": {\\\\\\\\\\\\\\\"type\\\\\\\\\\\\\\\": 2, \\\\\\\\\\\\\\\"details\\\\\\\\\\\\\\\": {\\\\\\\\\\\\\\\"selectedColumn\\\\\\\\\\\\\\\": \\\\\\\\\\\\\\\"sub_grade_C3\\\\\\\\\\\\\\\"}}, \\\\\\\\\\\\\\\"typeProperty\\\\\\\\\\\\\\\": 2}, {\\\\\\\\\\\\\\\"column\\\\\\\\\\\\\\\": {\\\\\\\\\\\\\\\"type\\\\\\\\\\\\\\\": 2, \\\\\\\\\\\\\\\"details\\\\\\\\\\\\\\\": {\\\\\\\\\\\\\\\"selectedColumn\\\\\\\\\\\\\\\": \\\\\\\\\\\\\\\"sub_grade_C4\\\\\\\\\\\\\\\"}}, \\\\\\\\\\\\\\\"typeProperty\\\\\\\\\\\\\\\": 2}, {\\\\\\\\\\\\\\\"column\\\\\\\\\\\\\\\": {\\\\\\\\\\\\\\\"type\\\\\\\\\\\\\\\": 2, \\\\\\\\\\\\\\\"details\\\\\\\\\\\\\\\": {\\\\\\\\\\\\\\\"selectedColumn\\\\\\\\\\\\\\\": \\\\\\\\\\\\\\\"sub_grade_C5\\\\\\\\\\\\\\\"}}, \\\\\\\\\\\\\\\"typeProperty\\\\\\\\\\\\\\\": 2}, {\\\\\\\\\\\\\\\"column\\\\\\\\\\\\\\\": {\\\\\\\\\\\\\\\"type\\\\\\\\\\\\\\\": 2, \\\\\\\\\\\\\\\"details\\\\\\\\\\\\\\\": {\\\\\\\\\\\\\\\"selectedColumn\\\\\\\\\\\\\\\": \\\\\\\\\\\\\\\"sub_grade_D1\\\\\\\\\\\\\\\"}}, \\\\\\\\\\\\\\\"typeProperty\\\\\\\\\\\\\\\": 2}, {\\\\\\\\\\\\\\\"column\\\\\\\\\\\\\\\": {\\\\\\\\\\\\\\\"type\\\\\\\\\\\\\\\": 2, \\\\\\\\\\\\\\\"details\\\\\\\\\\\\\\\": {\\\\\\\\\\\\\\\"selectedColumn\\\\\\\\\\\\\\\": \\\\\\\\\\\\\\\"sub_grade_D2\\\\\\\\\\\\\\\"}}, \\\\\\\\\\\\\\\"typeProperty\\\\\\\\\\\\\\\": 2}, {\\\\\\\\\\\\\\\"column\\\\\\\\\\\\\\\": {\\\\\\\\\\\\\\\"type\\\\\\\\\\\\\\\": 2, \\\\\\\\\\\\\\\"details\\\\\\\\\\\\\\\": {\\\\\\\\\\\\\\\"selectedColumn\\\\\\\\\\\\\\\": \\\\\\\\\\\\\\\"sub_grade_D3\\\\\\\\\\\\\\\"}}, \\\\\\\\\\\\\\\"typeProperty\\\\\\\\\\\\\\\": 2}, {\\\\\\\\\\\\\\\"column\\\\\\\\\\\\\\\": {\\\\\\\\\\\\\\\"type\\\\\\\\\\\\\\\": 2, \\\\\\\\\\\\\\\"details\\\\\\\\\\\\\\\": {\\\\\\\\\\\\\\\"selectedColumn\\\\\\\\\\\\\\\": \\\\\\\\\\\\\\\"sub_grade_D4\\\\\\\\\\\\\\\"}}, \\\\\\\\\\\\\\\"typeProperty\\\\\\\\\\\\\\\": 2}, {\\\\\\\\\\\\\\\"column\\\\\\\\\\\\\\\": {\\\\\\\\\\\\\\\"type\\\\\\\\\\\\\\\": 2, \\\\\\\\\\\\\\\"details\\\\\\\\\\\\\\\": {\\\\\\\\\\\\\\\"selectedColumn\\\\\\\\\\\\\\\": \\\\\\\\\\\\\\\"sub_grade_D5\\\\\\\\\\\\\\\"}}, \\\\\\\\\\\\\\\"typeProperty\\\\\\\\\\\\\\\": 2}, {\\\\\\\\\\\\\\\"column\\\\\\\\\\\\\\\": {\\\\\\\\\\\\\\\"type\\\\\\\\\\\\\\\": 2, \\\\\\\\\\\\\\\"details\\\\\\\\\\\\\\\": {\\\\\\\\\\\\\\\"selectedColumn\\\\\\\\\\\\\\\": \\\\\\\\\\\\\\\"sub_grade_E1\\\\\\\\\\\\\\\"}}, \\\\\\\\\\\\\\\"typeProperty\\\\\\\\\\\\\\\": 2}, {\\\\\\\\\\\\\\\"column\\\\\\\\\\\\\\\": {\\\\\\\\\\\\\\\"type\\\\\\\\\\\\\\\": 2, \\\\\\\\\\\\\\\"details\\\\\\\\\\\\\\\": {\\\\\\\\\\\\\\\"selectedColumn\\\\\\\\\\\\\\\": \\\\\\\\\\\\\\\"sub_grade_E2\\\\\\\\\\\\\\\"}}, \\\\\\\\\\\\\\\"typeProperty\\\\\\\\\\\\\\\": 2}, {\\\\\\\\\\\\\\\"column\\\\\\\\\\\\\\\": {\\\\\\\\\\\\\\\"type\\\\\\\\\\\\\\\": 2, \\\\\\\\\\\\\\\"details\\\\\\\\\\\\\\\": {\\\\\\\\\\\\\\\"selectedColumn\\\\\\\\\\\\\\\": \\\\\\\\\\\\\\\"sub_grade_E3\\\\\\\\\\\\\\\"}}, \\\\\\\\\\\\\\\"typeProperty\\\\\\\\\\\\\\\": 2}, {\\\\\\\\\\\\\\\"column\\\\\\\\\\\\\\\": {\\\\\\\\\\\\\\\"type\\\\\\\\\\\\\\\": 2, \\\\\\\\\\\\\\\"details\\\\\\\\\\\\\\\": {\\\\\\\\\\\\\\\"selectedColumn\\\\\\\\\\\\\\\": \\\\\\\\\\\\\\\"sub_grade_E4\\\\\\\\\\\\\\\"}}, \\\\\\\\\\\\\\\"typeProperty\\\\\\\\\\\\\\\": 2}, {\\\\\\\\\\\\\\\"column\\\\\\\\\\\\\\\": {\\\\\\\\\\\\\\\"type\\\\\\\\\\\\\\\": 2, \\\\\\\\\\\\\\\"details\\\\\\\\\\\\\\\": {\\\\\\\\\\\\\\\"selectedColumn\\\\\\\\\\\\\\\": \\\\\\\\\\\\\\\"sub_grade_E5\\\\\\\\\\\\\\\"}}, \\\\\\\\\\\\\\\"typeProperty\\\\\\\\\\\\\\\": 2}, {\\\\\\\\\\\\\\\"column\\\\\\\\\\\\\\\": {\\\\\\\\\\\\\\\"type\\\\\\\\\\\\\\\": 2, \\\\\\\\\\\\\\\"details\\\\\\\\\\\\\\\": {\\\\\\\\\\\\\\\"selectedColumn\\\\\\\\\\\\\\\": \\\\\\\\\\\\\\\"sub_grade_F1\\\\\\\\\\\\\\\"}}, \\\\\\\\\\\\\\\"typeProperty\\\\\\\\\\\\\\\": 2}, {\\\\\\\\\\\\\\\"column\\\\\\\\\\\\\\\": {\\\\\\\\\\\\\\\"type\\\\\\\\\\\\\\\": 2, \\\\\\\\\\\\\\\"details\\\\\\\\\\\\\\\": {\\\\\\\\\\\\\\\"selectedColumn\\\\\\\\\\\\\\\": \\\\\\\\\\\\\\\"sub_grade_F2\\\\\\\\\\\\\\\"}}, \\\\\\\\\\\\\\\"typeProperty\\\\\\\\\\\\\\\": 2}, {\\\\\\\\\\\\\\\"column\\\\\\\\\\\\\\\": {\\\\\\\\\\\\\\\"type\\\\\\\\\\\\\\\": 2, \\\\\\\\\\\\\\\"details\\\\\\\\\\\\\\\": {\\\\\\\\\\\\\\\"selectedColumn\\\\\\\\\\\\\\\": \\\\\\\\\\\\\\\"sub_grade_F3\\\\\\\\\\\\\\\"}}, \\\\\\\\\\\\\\\"typeProperty\\\\\\\\\\\\\\\": 2}, {\\\\\\\\\\\\\\\"column\\\\\\\\\\\\\\\": {\\\\\\\\\\\\\\\"type\\\\\\\\\\\\\\\": 2, \\\\\\\\\\\\\\\"details\\\\\\\\\\\\\\\": {\\\\\\\\\\\\\\\"selectedColumn\\\\\\\\\\\\\\\": \\\\\\\\\\\\\\\"sub_grade_F4\\\\\\\\\\\\\\\"}}, \\\\\\\\\\\\\\\"typeProperty\\\\\\\\\\\\\\\": 2}, {\\\\\\\\\\\\\\\"column\\\\\\\\\\\\\\\": {\\\\\\\\\\\\\\\"type\\\\\\\\\\\\\\\": 2, \\\\\\\\\\\\\\\"details\\\\\\\\\\\\\\\": {\\\\\\\\\\\\\\\"selectedColumn\\\\\\\\\\\\\\\": \\\\\\\\\\\\\\\"sub_grade_F5\\\\\\\\\\\\\\\"}}, \\\\\\\\\\\\\\\"typeProperty\\\\\\\\\\\\\\\": 2}, {\\\\\\\\\\\\\\\"column\\\\\\\\\\\\\\\": {\\\\\\\\\\\\\\\"type\\\\\\\\\\\\\\\": 2, \\\\\\\\\\\\\\\"details\\\\\\\\\\\\\\\": {\\\\\\\\\\\\\\\"selectedColumn\\\\\\\\\\\\\\\": \\\\\\\\\\\\\\\"sub_grade_G1\\\\\\\\\\\\\\\"}}, \\\\\\\\\\\\\\\"typeProperty\\\\\\\\\\\\\\\": 2}, {\\\\\\\\\\\\\\\"column\\\\\\\\\\\\\\\": {\\\\\\\\\\\\\\\"type\\\\\\\\\\\\\\\": 2, \\\\\\\\\\\\\\\"details\\\\\\\\\\\\\\\": {\\\\\\\\\\\\\\\"selectedColumn\\\\\\\\\\\\\\\": \\\\\\\\\\\\\\\"sub_grade_G2\\\\\\\\\\\\\\\"}}, \\\\\\\\\\\\\\\"typeProperty\\\\\\\\\\\\\\\": 2}, {\\\\\\\\\\\\\\\"column\\\\\\\\\\\\\\\": {\\\\\\\\\\\\\\\"type\\\\\\\\\\\\\\\": 2, \\\\\\\\\\\\\\\"details\\\\\\\\\\\\\\\": {\\\\\\\\\\\\\\\"selectedColumn\\\\\\\\\\\\\\\": \\\\\\\\\\\\\\\"sub_grade_G3\\\\\\\\\\\\\\\"}}, \\\\\\\\\\\\\\\"typeProperty\\\\\\\\\\\\\\\": 2}, {\\\\\\\\\\\\\\\"column\\\\\\\\\\\\\\\": {\\\\\\\\\\\\\\\"type\\\\\\\\\\\\\\\": 2, \\\\\\\\\\\\\\\"details\\\\\\\\\\\\\\\": {\\\\\\\\\\\\\\\"selectedColumn\\\\\\\\\\\\\\\": \\\\\\\\\\\\\\\"sub_grade_G4\\\\\\\\\\\\\\\"}}, \\\\\\\\\\\\\\\"typeProperty\\\\\\\\\\\\\\\": 2}, {\\\\\\\\\\\\\\\"column\\\\\\\\\\\\\\\": {\\\\\\\\\\\\\\\"type\\\\\\\\\\\\\\\": 2, \\\\\\\\\\\\\\\"details\\\\\\\\\\\\\\\": {\\\\\\\\\\\\\\\"selectedColumn\\\\\\\\\\\\\\\": \\\\\\\\\\\\\\\"sub_grade_G5\\\\\\\\\\\\\\\"}}, \\\\\\\\\\\\\\\"typeProperty\\\\\\\\\\\\\\\": 2}, {\\\\\\\\\\\\\\\"column\\\\\\\\\\\\\\\": {\\\\\\\\\\\\\\\"type\\\\\\\\\\\\\\\": 2, \\\\\\\\\\\\\\\"details\\\\\\\\\\\\\\\": {\\\\\\\\\\\\\\\"selectedColumn\\\\\\\\\\\\\\\": \\\\\\\\\\\\\\\"verification_status_Source Verified\\\\\\\\\\\\\\\"}}, \\\\\\\\\\\\\\\"typeProperty\\\\\\\\\\\\\\\": 2}, {\\\\\\\\\\\\\\\"column\\\\\\\\\\\\\\\": {\\\\\\\\\\\\\\\"type\\\\\\\\\\\\\\\": 2, \\\\\\\\\\\\\\\"details\\\\\\\\\\\\\\\": {\\\\\\\\\\\\\\\"selectedColumn\\\\\\\\\\\\\\\": \\\\\\\\\\\\\\\"verification_status_Verified\\\\\\\\\\\\\\\"}}, \\\\\\\\\\\\\\\"typeProperty\\\\\\\\\\\\\\\": 2}, {\\\\\\\\\\\\\\\"column\\\\\\\\\\\\\\\": {\\\\\\\\\\\\\\\"type\\\\\\\\\\\\\\\": 2, \\\\\\\\\\\\\\\"details\\\\\\\\\\\\\\\": {\\\\\\\\\\\\\\\"selectedColumn\\\\\\\\\\\\\\\": \\\\\\\\\\\\\\\"application_type_INDIVIDUAL\\\\\\\\\\\\\\\"}}, \\\\\\\\\\\\\\\"typeProperty\\\\\\\\\\\\\\\": 2}, {\\\\\\\\\\\\\\\"column\\\\\\\\\\\\\\\": {\\\\\\\\\\\\\\\"type\\\\\\\\\\\\\\\": 2, \\\\\\\\\\\\\\\"details\\\\\\\\\\\\\\\": {\\\\\\\\\\\\\\\"selectedColumn\\\\\\\\\\\\\\\": \\\\\\\\\\\\\\\"application_type_JOINT\\\\\\\\\\\\\\\"}}, \\\\\\\\\\\\\\\"typeProperty\\\\\\\\\\\\\\\": 2}, {\\\\\\\\\\\\\\\"column\\\\\\\\\\\\\\\": {\\\\\\\\\\\\\\\"type\\\\\\\\\\\\\\\": 2, \\\\\\\\\\\\\\\"details\\\\\\\\\\\\\\\": {\\\\\\\\\\\\\\\"selectedColumn\\\\\\\\\\\\\\\": \\\\\\\\\\\\\\\"initial_list_status_w\\\\\\\\\\\\\\\"}}, \\\\\\\\\\\\\\\"typeProperty\\\\\\\\\\\\\\\": 2}, {\\\\\\\\\\\\\\\"column\\\\\\\\\\\\\\\": {\\\\\\\\\\\\\\\"type\\\\\\\\\\\\\\\": 2, \\\\\\\\\\\\\\\"details\\\\\\\\\\\\\\\": {\\\\\\\\\\\\\\\"selectedColumn\\\\\\\\\\\\\\\": \\\\\\\\\\\\\\\"home_ownership_OTHER\\\\\\\\\\\\\\\"}}, \\\\\\\\\\\\\\\"typeProperty\\\\\\\\\\\\\\\": 2}, {\\\\\\\\\\\\\\\"column\\\\\\\\\\\\\\\": {\\\\\\\\\\\\\\\"type\\\\\\\\\\\\\\\": 2, \\\\\\\\\\\\\\\"details\\\\\\\\\\\\\\\": {\\\\\\\\\\\\\\\"selectedColumn\\\\\\\\\\\\\\\": \\\\\\\\\\\\\\\"home_ownership_OWN\\\\\\\\\\\\\\\"}}, \\\\\\\\\\\\\\\"typeProperty\\\\\\\\\\\\\\\": 2}, {\\\\\\\\\\\\\\\"column\\\\\\\\\\\\\\\": {\\\\\\\\\\\\\\\"type\\\\\\\\\\\\\\\": 2, \\\\\\\\\\\\\\\"details\\\\\\\\\\\\\\\": {\\\\\\\\\\\\\\\"selectedColumn\\\\\\\\\\\\\\\": \\\\\\\\\\\\\\\"home_ownership_RENT\\\\\\\\\\\\\\\"}}, \\\\\\\\\\\\\\\"typeProperty\\\\\\\\\\\\\\\": 2}, {\\\\\\\\\\\\\\\"column\\\\\\\\\\\\\\\": {\\\\\\\\\\\\\\\"type\\\\\\\\\\\\\\\": 2, \\\\\\\\\\\\\\\"details\\\\\\\\\\\\\\\": {\\\\\\\\\\\\\\\"selectedColumn\\\\\\\\\\\\\\\": \\\\\\\\\\\\\\\"purpose_credit_card\\\\\\\\\\\\\\\"}}, \\\\\\\\\\\\\\\"typeProperty\\\\\\\\\\\\\\\": 2}, {\\\\\\\\\\\\\\\"column\\\\\\\\\\\\\\\": {\\\\\\\\\\\\\\\"type\\\\\\\\\\\\\\\": 2, \\\\\\\\\\\\\\\"details\\\\\\\\\\\\\\\": {\\\\\\\\\\\\\\\"selectedColumn\\\\\\\\\\\\\\\": \\\\\\\\\\\\\\\"purpose_debt_consolidation\\\\\\\\\\\\\\\"}}, \\\\\\\\\\\\\\\"typeProperty\\\\\\\\\\\\\\\": 2}, {\\\\\\\\\\\\\\\"column\\\\\\\\\\\\\\\": {\\\\\\\\\\\\\\\"type\\\\\\\\\\\\\\\": 2, \\\\\\\\\\\\\\\"details\\\\\\\\\\\\\\\": {\\\\\\\\\\\\\\\"selectedColumn\\\\\\\\\\\\\\\": \\\\\\\\\\\\\\\"purpose_educational\\\\\\\\\\\\\\\"}}, \\\\\\\\\\\\\\\"typeProperty\\\\\\\\\\\\\\\": 2}, {\\\\\\\\\\\\\\\"column\\\\\\\\\\\\\\\": {\\\\\\\\\\\\\\\"type\\\\\\\\\\\\\\\": 2, \\\\\\\\\\\\\\\"details\\\\\\\\\\\\\\\": {\\\\\\\\\\\\\\\"selectedColumn\\\\\\\\\\\\\\\": \\\\\\\\\\\\\\\"purpose_home_improvement\\\\\\\\\\\\\\\"}}, \\\\\\\\\\\\\\\"typeProperty\\\\\\\\\\\\\\\": 2}, {\\\\\\\\\\\\\\\"column\\\\\\\\\\\\\\\": {\\\\\\\\\\\\\\\"type\\\\\\\\\\\\\\\": 2, \\\\\\\\\\\\\\\"details\\\\\\\\\\\\\\\": {\\\\\\\\\\\\\\\"selectedColumn\\\\\\\\\\\\\\\": \\\\\\\\\\\\\\\"purpose_house\\\\\\\\\\\\\\\"}}, \\\\\\\\\\\\\\\"typeProperty\\\\\\\\\\\\\\\": 2}, {\\\\\\\\\\\\\\\"column\\\\\\\\\\\\\\\": {\\\\\\\\\\\\\\\"type\\\\\\\\\\\\\\\": 2, \\\\\\\\\\\\\\\"details\\\\\\\\\\\\\\\": {\\\\\\\\\\\\\\\"selectedColumn\\\\\\\\\\\\\\\": \\\\\\\\\\\\\\\"purpose_major_purchase\\\\\\\\\\\\\\\"}}, \\\\\\\\\\\\\\\"typeProperty\\\\\\\\\\\\\\\": 2}, {\\\\\\\\\\\\\\\"column\\\\\\\\\\\\\\\": {\\\\\\\\\\\\\\\"type\\\\\\\\\\\\\\\": 2, \\\\\\\\\\\\\\\"details\\\\\\\\\\\\\\\": {\\\\\\\\\\\\\\\"selectedColumn\\\\\\\\\\\\\\\": \\\\\\\\\\\\\\\"purpose_medical\\\\\\\\\\\\\\\"}}, \\\\\\\\\\\\\\\"typeProperty\\\\\\\\\\\\\\\": 2}, {\\\\\\\\\\\\\\\"column\\\\\\\\\\\\\\\": {\\\\\\\\\\\\\\\"type\\\\\\\\\\\\\\\": 2, \\\\\\\\\\\\\\\"details\\\\\\\\\\\\\\\": {\\\\\\\\\\\\\\\"selectedColumn\\\\\\\\\\\\\\\": \\\\\\\\\\\\\\\"purpose_moving\\\\\\\\\\\\\\\"}}, \\\\\\\\\\\\\\\"typeProperty\\\\\\\\\\\\\\\": 2}, {\\\\\\\\\\\\\\\"column\\\\\\\\\\\\\\\": {\\\\\\\\\\\\\\\"type\\\\\\\\\\\\\\\": 2, \\\\\\\\\\\\\\\"details\\\\\\\\\\\\\\\": {\\\\\\\\\\\\\\\"selectedColumn\\\\\\\\\\\\\\\": \\\\\\\\\\\\\\\"purpose_other\\\\\\\\\\\\\\\"}}, \\\\\\\\\\\\\\\"typeProperty\\\\\\\\\\\\\\\": 2}, {\\\\\\\\\\\\\\\"column\\\\\\\\\\\\\\\": {\\\\\\\\\\\\\\\"type\\\\\\\\\\\\\\\": 2, \\\\\\\\\\\\\\\"details\\\\\\\\\\\\\\\": {\\\\\\\\\\\\\\\"selectedColumn\\\\\\\\\\\\\\\": \\\\\\\\\\\\\\\"purpose_renewable_energy\\\\\\\\\\\\\\\"}}, \\\\\\\\\\\\\\\"typeProperty\\\\\\\\\\\\\\\": 2}, {\\\\\\\\\\\\\\\"column\\\\\\\\\\\\\\\": {\\\\\\\\\\\\\\\"type\\\\\\\\\\\\\\\": 2, \\\\\\\\\\\\\\\"details\\\\\\\\\\\\\\\": {\\\\\\\\\\\\\\\"selectedColumn\\\\\\\\\\\\\\\": \\\\\\\\\\\\\\\"purpose_small_business\\\\\\\\\\\\\\\"}}, \\\\\\\\\\\\\\\"typeProperty\\\\\\\\\\\\\\\": 2}, {\\\\\\\\\\\\\\\"column\\\\\\\\\\\\\\\": {\\\\\\\\\\\\\\\"type\\\\\\\\\\\\\\\": 2, \\\\\\\\\\\\\\\"details\\\\\\\\\\\\\\\": {\\\\\\\\\\\\\\\"selectedColumn\\\\\\\\\\\\\\\": \\\\\\\\\\\\\\\"purpose_vacation\\\\\\\\\\\\\\\"}}, \\\\\\\\\\\\\\\"typeProperty\\\\\\\\\\\\\\\": 2}, {\\\\\\\\\\\\\\\"column\\\\\\\\\\\\\\\": {\\\\\\\\\\\\\\\"type\\\\\\\\\\\\\\\": 2, \\\\\\\\\\\\\\\"details\\\\\\\\\\\\\\\": {\\\\\\\\\\\\\\\"selectedColumn\\\\\\\\\\\\\\\": \\\\\\\\\\\\\\\"purpose_wedding\\\\\\\\\\\\\\\"}}, \\\\\\\\\\\\\\\"typeProperty\\\\\\\\\\\\\\\": 2}, {\\\\\\\\\\\\\\\"column\\\\\\\\\\\\\\\": {\\\\\\\\\\\\\\\"type\\\\\\\\\\\\\\\": 2, \\\\\\\\\\\\\\\"details\\\\\\\\\\\\\\\": {\\\\\\\\\\\\\\\"selectedColumn\\\\\\\\\\\\\\\": \\\\\\\\\\\\\\\"loan_repaid\\\\\\\\\\\\\\\"}}, \\\\\\\\\\\\\\\"typeProperty\\\\\\\\\\\\\\\": 2}]}, \\\\\\\\\\\\\\\"localData\\\\\\\\\\\\\\\": {}, \\\\\\\\\\\\\\\"isEnabled\\\\\\\\\\\\\\\": true, \\\\\\\\\\\\\\\"name\\\\\\\\\\\\\\\": null, \\\\\\\\\\\\\\\"annotation\\\\\\\\\\\\\\\": null}], \\\\\\\\\\\\\\\"inspectors\\\\\\\\\\\\\\\": [], \\\\\\\\\\\\\\\"meta\\\\\\\\\\\\\\\": {\\\\\\\\\\\\\\\"savedDatasetId\\\\\\\\\\\\\\\": \\\\\\\\\\\\\\\"3c1e230e-38a6-41cd-9f77-8e8d3a333935\\\\\\\\\\\\\\\", \\\\\\\\\\\\\\\"datasetType\\\\\\\\\\\\\\\": \\\\\\\\\\\\\\\"tabular\\\\\\\\\\\\\\\", \\\\\\\\\\\\\\\"subscriptionId\\\\\\\\\\\\\\\": \\\\\\\\\\\\\\\"9e65f93e-bdd8-437b-b1e8-0647cd6098f7\\\\\\\\\\\\\\\", \\\\\\\\\\\\\\\"workspaceId\\\\\\\\\\\\\\\": \\\\\\\\\\\\\\\"079b61bc-1ae3-4366-a7a5-5ba038de6f8d\\\\\\\\\\\\\\\", \\\\\\\\\\\\\\\"workspaceLocation\\\\\\\\\\\\\\\": \\\\\\\\\\\\\\\"southcentralus\\\\\\\\\\\\\\\"}}\\\\\\\", \\\\\\\"activities\\\\\\\": 0}\", \"EnableSubsampling\": null, \"runTemplate\": \"AutoML\", \"azureml.runsource\": \"automl\", \"display_task_type\": \"classification\", \"dependencies_versions\": \"{\\\"azureml-widgets\\\": \\\"1.22.0\\\", \\\"azureml-train\\\": \\\"1.22.0\\\", \\\"azureml-train-restclients-hyperdrive\\\": \\\"1.22.0\\\", \\\"azureml-train-core\\\": \\\"1.22.0\\\", \\\"azureml-train-automl\\\": \\\"1.22.0\\\", \\\"azureml-train-automl-runtime\\\": \\\"1.22.0\\\", \\\"azureml-train-automl-client\\\": \\\"1.22.0\\\", \\\"azureml-tensorboard\\\": \\\"1.22.0\\\", \\\"azureml-telemetry\\\": \\\"1.22.0\\\", \\\"azureml-sdk\\\": \\\"1.22.0\\\", \\\"azureml-samples\\\": \\\"0+unknown\\\", \\\"azureml-pipeline\\\": \\\"1.22.0\\\", \\\"azureml-pipeline-steps\\\": \\\"1.22.0\\\", \\\"azureml-pipeline-core\\\": \\\"1.22.0\\\", \\\"azureml-opendatasets\\\": \\\"1.22.0\\\", \\\"azureml-model-management-sdk\\\": \\\"1.0.1b6.post1\\\", \\\"azureml-mlflow\\\": \\\"1.22.0\\\", \\\"azureml-interpret\\\": \\\"1.22.0\\\", \\\"azureml-explain-model\\\": \\\"1.22.0\\\", \\\"azureml-defaults\\\": \\\"1.22.0\\\", \\\"azureml-dataset-runtime\\\": \\\"1.22.0\\\", \\\"azureml-dataprep\\\": \\\"2.9.1\\\", \\\"azureml-dataprep-rslex\\\": \\\"1.7.0\\\", \\\"azureml-dataprep-native\\\": \\\"29.0.0\\\", \\\"azureml-datadrift\\\": \\\"1.22.0\\\", \\\"azureml-core\\\": \\\"1.22.0\\\", \\\"azureml-contrib-services\\\": \\\"1.22.0\\\", \\\"azureml-contrib-server\\\": \\\"1.22.0\\\", \\\"azureml-contrib-reinforcementlearning\\\": \\\"1.22.0\\\", \\\"azureml-contrib-pipeline-steps\\\": \\\"1.22.0\\\", \\\"azureml-contrib-notebook\\\": \\\"1.22.0\\\", \\\"azureml-contrib-interpret\\\": \\\"1.22.0\\\", \\\"azureml-contrib-gbdt\\\": \\\"1.22.0\\\", \\\"azureml-contrib-fairness\\\": \\\"1.22.0\\\", \\\"azureml-contrib-dataset\\\": \\\"1.22.0\\\", \\\"azureml-cli-common\\\": \\\"1.22.0\\\", \\\"azureml-automl-runtime\\\": \\\"1.22.0\\\", \\\"azureml-automl-core\\\": \\\"1.22.0\\\", \\\"azureml-accel-models\\\": \\\"1.22.0\\\"}\", \"_aml_system_scenario_identification\": \"Remote.Parent\", \"ClientType\": \"SDK\", \"environment_cpu_name\": \"AzureML-AutoML\", \"environment_cpu_label\": \"prod\", \"environment_gpu_name\": \"AzureML-AutoML-GPU\", \"environment_gpu_label\": \"prod\", \"root_attribution\": \"automl\", \"attribution\": \"AutoML\", \"Orchestrator\": \"AutoML\", \"CancelUri\": \"https://southcentralus.experiments.azureml.net/jasmine/v1.0/subscriptions/9e65f93e-bdd8-437b-b1e8-0647cd6098f7/resourceGroups/aml-quickstarts-140005/providers/Microsoft.MachineLearningServices/workspaces/quick-starts-ws-140005/experimentids/926e8c42-0d60-4fed-ac0c-1601d1c71f20/cancel/AutoML_41dee557-4822-4d8a-8bba-d12b26a0af4f\", \"ClientSdkVersion\": \"1.23.0\", \"snapshotId\": \"00000000-0000-0000-0000-000000000000\", \"SetupRunId\": \"AutoML_41dee557-4822-4d8a-8bba-d12b26a0af4f_setup\", \"SetupRunContainerId\": \"dcid.AutoML_41dee557-4822-4d8a-8bba-d12b26a0af4f_setup\", \"FeaturizationRunJsonPath\": \"featurizer_container.json\", \"FeaturizationRunId\": \"AutoML_41dee557-4822-4d8a-8bba-d12b26a0af4f_featurize\", \"ProblemInfoJsonString\": \"{\\\"dataset_num_categorical\\\": 0, \\\"is_sparse\\\": true, \\\"subsampling\\\": false, \\\"dataset_classes\\\": 2, \\\"dataset_features\\\": 79, \\\"dataset_samples\\\": 395219, \\\"single_frequency_class_detected\\\": false}\", \"ModelExplainRunId\": \"AutoML_41dee557-4822-4d8a-8bba-d12b26a0af4f_ModelExplain\"}, \"tags\": {\"model_explain_run\": \"best_run\", \"_aml_system_azureml.automlComponent\": \"AutoML\", \"pipeline_id\": \"\", \"score\": \"\", \"predicted_cost\": \"\", \"fit_time\": \"\", \"training_percent\": \"\", \"iteration\": \"\", \"run_preprocessor\": \"\", \"run_algorithm\": \"\", \"dynamic_whitelisting_iterations\": \"<25>;<30>;<35>;\", \"automl_best_child_run_id\": \"AutoML_41dee557-4822-4d8a-8bba-d12b26a0af4f_36\", \"model_explain_best_run_child_id\": \"AutoML_41dee557-4822-4d8a-8bba-d12b26a0af4f_36\"}, \"end_time_utc\": \"2021-03-07T17:02:45.806493Z\", \"status\": \"Completed\", \"log_files\": {}, \"log_groups\": [], \"run_duration\": \"1:07:25\", \"run_number\": \"2\", \"run_queued_details\": {\"status\": \"Completed\", \"details\": null}}, \"child_runs\": [{\"run_id\": \"AutoML_41dee557-4822-4d8a-8bba-d12b26a0af4f_3\", \"run_number\": 6, \"metric\": null, \"status\": \"Completed\", \"run_type\": \"azureml.scriptrun\", \"training_percent\": \"100\", \"start_time\": \"2021-03-07T16:29:00.443113Z\", \"end_time\": \"2021-03-07T16:32:32.949438Z\", \"created_time\": \"2021-03-07T16:26:53.734175Z\", \"created_time_dt\": \"2021-03-07T16:26:53.734175Z\", \"duration\": \"0:05:39\", \"iteration\": \"3\", \"goal\": \"accuracy_max\", \"run_name\": \"MaxAbsScaler, RandomForest\", \"run_properties\": \"copy=True\", \"primary_metric\": 0.80384799, \"best_metric\": 0.88957515}, {\"run_id\": \"AutoML_41dee557-4822-4d8a-8bba-d12b26a0af4f_2\", \"run_number\": 7, \"metric\": null, \"status\": \"Completed\", \"run_type\": \"azureml.scriptrun\", \"training_percent\": \"100\", \"start_time\": \"2021-03-07T16:27:02.07174Z\", \"end_time\": \"2021-03-07T16:28:23.217719Z\", \"created_time\": \"2021-03-07T16:26:53.751688Z\", \"created_time_dt\": \"2021-03-07T16:26:53.751688Z\", \"duration\": \"0:01:29\", \"iteration\": \"2\", \"goal\": \"accuracy_max\", \"run_name\": \"MaxAbsScaler, RandomForest\", \"run_properties\": \"copy=True\", \"primary_metric\": 0.84831196, \"best_metric\": 0.88957515}, {\"run_id\": \"AutoML_41dee557-4822-4d8a-8bba-d12b26a0af4f_0\", \"run_number\": 8, \"metric\": null, \"status\": \"Completed\", \"run_type\": \"azureml.scriptrun\", \"training_percent\": \"100\", \"start_time\": \"2021-03-07T16:29:00.413735Z\", \"end_time\": \"2021-03-07T16:32:46.522104Z\", \"created_time\": \"2021-03-07T16:26:53.751583Z\", \"created_time_dt\": \"2021-03-07T16:26:53.751583Z\", \"duration\": \"0:05:52\", \"iteration\": \"0\", \"goal\": \"accuracy_max\", \"run_name\": \"MaxAbsScaler, LightGBM\", \"run_properties\": \"copy=True\", \"primary_metric\": 0.88957515, \"best_metric\": 0.88957515}, {\"run_id\": \"AutoML_41dee557-4822-4d8a-8bba-d12b26a0af4f_1\", \"run_number\": 9, \"metric\": null, \"status\": \"Completed\", \"run_type\": \"azureml.scriptrun\", \"training_percent\": \"100\", \"start_time\": \"2021-03-07T16:28:27.44045Z\", \"end_time\": \"2021-03-07T16:30:43.036875Z\", \"created_time\": \"2021-03-07T16:26:53.747725Z\", \"created_time_dt\": \"2021-03-07T16:26:53.747725Z\", \"duration\": \"0:03:49\", \"iteration\": \"1\", \"goal\": \"accuracy_max\", \"run_name\": \"MaxAbsScaler, XGBoostClassifier\", \"run_properties\": \"copy=True\", \"primary_metric\": 0.88847449, \"best_metric\": 0.88957515}, {\"run_id\": \"AutoML_41dee557-4822-4d8a-8bba-d12b26a0af4f_4\", \"run_number\": 10, \"metric\": null, \"status\": \"Completed\", \"run_type\": \"azureml.scriptrun\", \"training_percent\": \"100\", \"start_time\": \"2021-03-07T16:29:01.532187Z\", \"end_time\": \"2021-03-07T16:33:00.478199Z\", \"created_time\": \"2021-03-07T16:28:26.81412Z\", \"created_time_dt\": \"2021-03-07T16:28:26.81412Z\", \"duration\": \"0:04:33\", \"iteration\": \"4\", \"goal\": \"accuracy_max\", \"run_name\": \"MaxAbsScaler, RandomForest\", \"run_properties\": \"copy=True\", \"primary_metric\": 0.76063651, \"best_metric\": 0.88957515}, {\"run_id\": \"AutoML_41dee557-4822-4d8a-8bba-d12b26a0af4f_5\", \"run_number\": 11, \"metric\": null, \"status\": \"Completed\", \"run_type\": \"azureml.scriptrun\", \"training_percent\": \"100\", \"start_time\": \"2021-03-07T16:30:55.941788Z\", \"end_time\": \"2021-03-07T16:32:10.185319Z\", \"created_time\": \"2021-03-07T16:30:46.183162Z\", \"created_time_dt\": \"2021-03-07T16:30:46.183162Z\", \"duration\": \"0:01:24\", \"iteration\": \"5\", \"goal\": \"accuracy_max\", \"run_name\": \"MaxAbsScaler, RandomForest\", \"run_properties\": \"copy=True\", \"primary_metric\": 0.76739227, \"best_metric\": 0.88957515}, {\"run_id\": \"AutoML_41dee557-4822-4d8a-8bba-d12b26a0af4f_6\", \"run_number\": 12, \"metric\": null, \"status\": \"Completed\", \"run_type\": \"azureml.scriptrun\", \"training_percent\": \"100\", \"start_time\": \"2021-03-07T16:32:20.959289Z\", \"end_time\": \"2021-03-07T16:35:50.685139Z\", \"created_time\": \"2021-03-07T16:32:12.527901Z\", \"created_time_dt\": \"2021-03-07T16:32:12.527901Z\", \"duration\": \"0:03:38\", \"iteration\": \"6\", \"goal\": \"accuracy_max\", \"run_name\": \"SparseNormalizer, XGBoostClassifier\", \"run_properties\": \"<azureml.automl.runtime.shared.model_wrappers.SparseNormalizer object at 0x7f6a2646b278\", \"primary_metric\": 0.88891476, \"best_metric\": 0.88957515}, {\"run_id\": \"AutoML_41dee557-4822-4d8a-8bba-d12b26a0af4f_7\", \"run_number\": 13, \"metric\": null, \"status\": \"Completed\", \"run_type\": \"azureml.scriptrun\", \"training_percent\": \"100\", \"start_time\": \"2021-03-07T16:32:46.128958Z\", \"end_time\": \"2021-03-07T16:35:05.76427Z\", \"created_time\": \"2021-03-07T16:32:34.809391Z\", \"created_time_dt\": \"2021-03-07T16:32:34.809391Z\", \"duration\": \"0:02:30\", \"iteration\": \"7\", \"goal\": \"accuracy_max\", \"run_name\": \"SparseNormalizer, XGBoostClassifier\", \"run_properties\": \"<azureml.automl.runtime.shared.model_wrappers.SparseNormalizer object at 0x7ff81a2ce8d0\", \"primary_metric\": 0.88828725, \"best_metric\": 0.88957515}, {\"run_id\": \"AutoML_41dee557-4822-4d8a-8bba-d12b26a0af4f_8\", \"run_number\": 14, \"metric\": null, \"status\": \"Completed\", \"run_type\": \"azureml.scriptrun\", \"training_percent\": \"100\", \"start_time\": \"2021-03-07T16:32:59.025274Z\", \"end_time\": \"2021-03-07T16:36:49.035555Z\", \"created_time\": \"2021-03-07T16:32:50.437611Z\", \"created_time_dt\": \"2021-03-07T16:32:50.437611Z\", \"duration\": \"0:03:58\", \"iteration\": \"8\", \"goal\": \"accuracy_max\", \"run_name\": \"SparseNormalizer, XGBoostClassifier\", \"run_properties\": \"<azureml.automl.runtime.shared.model_wrappers.SparseNormalizer object at 0x7ffacac3ea58\", \"primary_metric\": 0.88883632, \"best_metric\": 0.88957515}, {\"run_id\": \"AutoML_41dee557-4822-4d8a-8bba-d12b26a0af4f_9\", \"run_number\": 15, \"metric\": null, \"status\": \"Completed\", \"run_type\": \"azureml.scriptrun\", \"training_percent\": \"100\", \"start_time\": \"2021-03-07T16:33:09.76844Z\", \"end_time\": \"2021-03-07T16:34:42.349083Z\", \"created_time\": \"2021-03-07T16:33:02.185274Z\", \"created_time_dt\": \"2021-03-07T16:33:02.185274Z\", \"duration\": \"0:01:40\", \"iteration\": \"9\", \"goal\": \"accuracy_max\", \"run_name\": \"SparseNormalizer, XGBoostClassifier\", \"run_properties\": \"<azureml.automl.runtime.shared.model_wrappers.SparseNormalizer object at 0x7fdfd5e8f0b8\", \"primary_metric\": 0.88809243, \"best_metric\": 0.88957515}, {\"run_id\": \"AutoML_41dee557-4822-4d8a-8bba-d12b26a0af4f_10\", \"run_number\": 16, \"metric\": null, \"status\": \"Completed\", \"run_type\": \"azureml.scriptrun\", \"training_percent\": \"100\", \"start_time\": \"2021-03-07T16:34:53.36311Z\", \"end_time\": \"2021-03-07T16:39:15.783994Z\", \"created_time\": \"2021-03-07T16:34:44.616303Z\", \"created_time_dt\": \"2021-03-07T16:34:44.616303Z\", \"duration\": \"0:04:31\", \"iteration\": \"10\", \"goal\": \"accuracy_max\", \"run_name\": \"MaxAbsScaler, RandomForest\", \"run_properties\": \"copy=True\", \"primary_metric\": 0.80384799, \"best_metric\": 0.88957515}, {\"run_id\": \"AutoML_41dee557-4822-4d8a-8bba-d12b26a0af4f_11\", \"run_number\": 17, \"metric\": null, \"status\": \"Completed\", \"run_type\": \"azureml.scriptrun\", \"training_percent\": \"100\", \"start_time\": \"2021-03-07T16:35:16.953778Z\", \"end_time\": \"2021-03-07T16:36:48.150042Z\", \"created_time\": \"2021-03-07T16:35:08.329125Z\", \"created_time_dt\": \"2021-03-07T16:35:08.329125Z\", \"duration\": \"0:01:39\", \"iteration\": \"11\", \"goal\": \"accuracy_max\", \"run_name\": \"StandardScalerWrapper, RandomForest\", \"run_properties\": \"<azureml.automl.runtime.shared.model_wrappers.StandardScalerWrapper object at 0x7fded6e16588\", \"primary_metric\": 0.88606065, \"best_metric\": 0.88957515}, {\"run_id\": \"AutoML_41dee557-4822-4d8a-8bba-d12b26a0af4f_12\", \"run_number\": 18, \"metric\": null, \"status\": \"Completed\", \"run_type\": \"azureml.scriptrun\", \"training_percent\": \"100\", \"start_time\": \"2021-03-07T16:36:04.288599Z\", \"end_time\": \"2021-03-07T16:38:00.307157Z\", \"created_time\": \"2021-03-07T16:35:53.781079Z\", \"created_time_dt\": \"2021-03-07T16:35:53.781079Z\", \"duration\": \"0:02:06\", \"iteration\": \"12\", \"goal\": \"accuracy_max\", \"run_name\": \"MaxAbsScaler, RandomForest\", \"run_properties\": \"copy=True\", \"primary_metric\": 0.80384799, \"best_metric\": 0.88957515}, {\"run_id\": \"AutoML_41dee557-4822-4d8a-8bba-d12b26a0af4f_13\", \"run_number\": 19, \"metric\": null, \"status\": \"Completed\", \"run_type\": \"azureml.scriptrun\", \"training_percent\": \"100\", \"start_time\": \"2021-03-07T16:37:01.756197Z\", \"end_time\": \"2021-03-07T16:39:03.342458Z\", \"created_time\": \"2021-03-07T16:36:50.226221Z\", \"created_time_dt\": \"2021-03-07T16:36:50.226221Z\", \"duration\": \"0:02:13\", \"iteration\": \"13\", \"goal\": \"accuracy_max\", \"run_name\": \"MaxAbsScaler, LogisticRegression\", \"run_properties\": \"copy=True\", \"primary_metric\": 0.888768, \"best_metric\": 0.88957515}, {\"run_id\": \"AutoML_41dee557-4822-4d8a-8bba-d12b26a0af4f_14\", \"run_number\": 20, \"metric\": null, \"status\": \"Completed\", \"run_type\": \"azureml.scriptrun\", \"training_percent\": \"100\", \"start_time\": \"2021-03-07T16:37:04.128579Z\", \"end_time\": \"2021-03-07T16:38:15.557639Z\", \"created_time\": \"2021-03-07T16:36:55.385446Z\", \"created_time_dt\": \"2021-03-07T16:36:55.385446Z\", \"duration\": \"0:01:20\", \"iteration\": \"14\", \"goal\": \"accuracy_max\", \"run_name\": \"MaxAbsScaler, LightGBM\", \"run_properties\": \"copy=True\", \"primary_metric\": 0.80384799, \"best_metric\": 0.88957515}, {\"run_id\": \"AutoML_41dee557-4822-4d8a-8bba-d12b26a0af4f_15\", \"run_number\": 21, \"metric\": null, \"status\": \"Completed\", \"run_type\": \"azureml.scriptrun\", \"training_percent\": \"100\", \"start_time\": \"2021-03-07T16:38:14.109675Z\", \"end_time\": \"2021-03-07T16:44:09.423418Z\", \"created_time\": \"2021-03-07T16:38:03.538254Z\", \"created_time_dt\": \"2021-03-07T16:38:03.538254Z\", \"duration\": \"0:06:05\", \"iteration\": \"15\", \"goal\": \"accuracy_max\", \"run_name\": \"MaxAbsScaler, ExtremeRandomTrees\", \"run_properties\": \"copy=True\", \"primary_metric\": 0.80384799, \"best_metric\": 0.88957515}, {\"run_id\": \"AutoML_41dee557-4822-4d8a-8bba-d12b26a0af4f_16\", \"run_number\": 22, \"metric\": null, \"status\": \"Completed\", \"run_type\": \"azureml.scriptrun\", \"training_percent\": \"100\", \"start_time\": \"2021-03-07T16:38:26.151812Z\", \"end_time\": \"2021-03-07T16:39:37.310173Z\", \"created_time\": \"2021-03-07T16:38:17.994467Z\", \"created_time_dt\": \"2021-03-07T16:38:17.994467Z\", \"duration\": \"0:01:19\", \"iteration\": \"16\", \"goal\": \"accuracy_max\", \"run_name\": \"SparseNormalizer, LightGBM\", \"run_properties\": \"<azureml.automl.runtime.shared.model_wrappers.SparseNormalizer object at 0x7f40ccb65978\", \"primary_metric\": 0.80947778, \"best_metric\": 0.88957515}, {\"run_id\": \"AutoML_41dee557-4822-4d8a-8bba-d12b26a0af4f_17\", \"run_number\": 23, \"metric\": null, \"status\": \"Completed\", \"run_type\": \"azureml.scriptrun\", \"training_percent\": \"100\", \"start_time\": \"2021-03-07T16:39:14.882296Z\", \"end_time\": \"2021-03-07T16:40:30.457558Z\", \"created_time\": \"2021-03-07T16:39:05.399021Z\", \"created_time_dt\": \"2021-03-07T16:39:05.399021Z\", \"duration\": \"0:01:25\", \"iteration\": \"17\", \"goal\": \"accuracy_max\", \"run_name\": \"MaxAbsScaler, LightGBM\", \"run_properties\": \"copy=True\", \"primary_metric\": 0.80384799, \"best_metric\": 0.88957515}, {\"run_id\": \"AutoML_41dee557-4822-4d8a-8bba-d12b26a0af4f_18\", \"run_number\": 24, \"metric\": null, \"status\": \"Completed\", \"run_type\": \"azureml.scriptrun\", \"training_percent\": \"100\", \"start_time\": \"2021-03-07T16:39:26.190921Z\", \"end_time\": \"2021-03-07T16:41:56.809987Z\", \"created_time\": \"2021-03-07T16:39:18.288066Z\", \"created_time_dt\": \"2021-03-07T16:39:18.288066Z\", \"duration\": \"0:02:38\", \"iteration\": \"18\", \"goal\": \"accuracy_max\", \"run_name\": \"SparseNormalizer, XGBoostClassifier\", \"run_properties\": \"<azureml.automl.runtime.shared.model_wrappers.SparseNormalizer object at 0x7f43de7025c0\", \"primary_metric\": 0.88876041, \"best_metric\": 0.88957515}, {\"run_id\": \"AutoML_41dee557-4822-4d8a-8bba-d12b26a0af4f_19\", \"run_number\": 25, \"metric\": null, \"status\": \"Completed\", \"run_type\": \"azureml.scriptrun\", \"training_percent\": \"100\", \"start_time\": \"2021-03-07T16:39:48.347433Z\", \"end_time\": \"2021-03-07T16:41:13.003196Z\", \"created_time\": \"2021-03-07T16:39:39.649818Z\", \"created_time_dt\": \"2021-03-07T16:39:39.649818Z\", \"duration\": \"0:01:33\", \"iteration\": \"19\", \"goal\": \"accuracy_max\", \"run_name\": \"SparseNormalizer, XGBoostClassifier\", \"run_properties\": \"<azureml.automl.runtime.shared.model_wrappers.SparseNormalizer object at 0x7fa70d352c88\", \"primary_metric\": 0.88809243, \"best_metric\": 0.88957515}, {\"run_id\": \"AutoML_41dee557-4822-4d8a-8bba-d12b26a0af4f_20\", \"run_number\": 26, \"metric\": null, \"status\": \"Completed\", \"run_type\": \"azureml.scriptrun\", \"training_percent\": \"100\", \"start_time\": \"2021-03-07T16:40:43.171982Z\", \"end_time\": \"2021-03-07T16:43:55.930802Z\", \"created_time\": \"2021-03-07T16:40:32.995576Z\", \"created_time_dt\": \"2021-03-07T16:40:32.995576Z\", \"duration\": \"0:03:22\", \"iteration\": \"20\", \"goal\": \"accuracy_max\", \"run_name\": \"SparseNormalizer, XGBoostClassifier\", \"run_properties\": \"<azureml.automl.runtime.shared.model_wrappers.SparseNormalizer object at 0x7fa9d092a5c0\", \"primary_metric\": 0.88856558, \"best_metric\": 0.88957515}, {\"run_id\": \"AutoML_41dee557-4822-4d8a-8bba-d12b26a0af4f_21\", \"run_number\": 27, \"metric\": null, \"status\": \"Completed\", \"run_type\": \"azureml.scriptrun\", \"training_percent\": \"100\", \"start_time\": \"2021-03-07T16:41:27.85981Z\", \"end_time\": \"2021-03-07T16:43:37.469274Z\", \"created_time\": \"2021-03-07T16:41:15.690299Z\", \"created_time_dt\": \"2021-03-07T16:41:15.690299Z\", \"duration\": \"0:02:21\", \"iteration\": \"21\", \"goal\": \"accuracy_max\", \"run_name\": \"StandardScalerWrapper, ExtremeRandomTrees\", \"run_properties\": \"<azureml.automl.runtime.shared.model_wrappers.StandardScalerWrapper object at 0x7fcd3da6b710\", \"primary_metric\": 0.84875978, \"best_metric\": 0.88957515}, {\"run_id\": \"AutoML_41dee557-4822-4d8a-8bba-d12b26a0af4f_22\", \"run_number\": 28, \"metric\": null, \"status\": \"Completed\", \"run_type\": \"azureml.scriptrun\", \"training_percent\": \"100\", \"start_time\": \"2021-03-07T16:42:08.823959Z\", \"end_time\": \"2021-03-07T16:43:24.31549Z\", \"created_time\": \"2021-03-07T16:41:59.082325Z\", \"created_time_dt\": \"2021-03-07T16:41:59.082325Z\", \"duration\": \"0:01:25\", \"iteration\": \"22\", \"goal\": \"accuracy_max\", \"run_name\": \"SparseNormalizer, ExtremeRandomTrees\", \"run_properties\": \"<azureml.automl.runtime.shared.model_wrappers.SparseNormalizer object at 0x7fe26d2a2438\", \"primary_metric\": 0.73574648, \"best_metric\": 0.88957515}, {\"run_id\": \"AutoML_41dee557-4822-4d8a-8bba-d12b26a0af4f_23\", \"run_number\": 29, \"metric\": null, \"status\": \"Completed\", \"run_type\": \"azureml.scriptrun\", \"training_percent\": \"100\", \"start_time\": \"2021-03-07T16:43:36.917605Z\", \"end_time\": \"2021-03-07T16:45:53.744669Z\", \"created_time\": \"2021-03-07T16:43:27.108496Z\", \"created_time_dt\": \"2021-03-07T16:43:27.108496Z\", \"duration\": \"0:02:26\", \"iteration\": \"23\", \"goal\": \"accuracy_max\", \"run_name\": \"StandardScalerWrapper, LightGBM\", \"run_properties\": \"<azureml.automl.runtime.shared.model_wrappers.StandardScalerWrapper object at 0x7f3f5e553470\", \"primary_metric\": 0.8891526, \"best_metric\": 0.88957515}, {\"run_id\": \"AutoML_41dee557-4822-4d8a-8bba-d12b26a0af4f_24\", \"run_number\": 30, \"metric\": null, \"status\": \"Completed\", \"run_type\": \"azureml.scriptrun\", \"training_percent\": \"100\", \"start_time\": \"2021-03-07T16:43:47.70834Z\", \"end_time\": \"2021-03-07T16:49:12.386631Z\", \"created_time\": \"2021-03-07T16:43:39.881003Z\", \"created_time_dt\": \"2021-03-07T16:43:39.881003Z\", \"duration\": \"0:05:32\", \"iteration\": \"24\", \"goal\": \"accuracy_max\", \"run_name\": \"SparseNormalizer, XGBoostClassifier\", \"run_properties\": \"<azureml.automl.runtime.shared.model_wrappers.SparseNormalizer object at 0x7f0032ee6208\", \"primary_metric\": 0.88850739, \"best_metric\": 0.88957515}, {\"run_id\": \"AutoML_41dee557-4822-4d8a-8bba-d12b26a0af4f_25\", \"run_number\": 31, \"metric\": null, \"status\": \"Completed\", \"run_type\": \"azureml.scriptrun\", \"training_percent\": \"100\", \"start_time\": \"2021-03-07T16:44:08.55582Z\", \"end_time\": \"2021-03-07T16:45:15.278813Z\", \"created_time\": \"2021-03-07T16:43:59.182372Z\", \"created_time_dt\": \"2021-03-07T16:43:59.182372Z\", \"duration\": \"0:01:16\", \"iteration\": \"25\", \"goal\": \"accuracy_max\", \"run_name\": \"StandardScalerWrapper, LightGBM\", \"run_properties\": \"<azureml.automl.runtime.shared.model_wrappers.StandardScalerWrapper object at 0x7f16464be470\", \"primary_metric\": 0.80384799, \"best_metric\": 0.88957515}, {\"run_id\": \"AutoML_41dee557-4822-4d8a-8bba-d12b26a0af4f_26\", \"run_number\": 32, \"metric\": null, \"status\": \"Completed\", \"run_type\": \"azureml.scriptrun\", \"training_percent\": \"100\", \"start_time\": \"2021-03-07T16:44:19.867721Z\", \"end_time\": \"2021-03-07T16:46:20.369684Z\", \"created_time\": \"2021-03-07T16:44:11.736711Z\", \"created_time_dt\": \"2021-03-07T16:44:11.736711Z\", \"duration\": \"0:02:08\", \"iteration\": \"26\", \"goal\": \"accuracy_max\", \"run_name\": \"SparseNormalizer, XGBoostClassifier\", \"run_properties\": \"<azureml.automl.runtime.shared.model_wrappers.SparseNormalizer object at 0x7f90a3e02518\", \"primary_metric\": 0.88834798, \"best_metric\": 0.88957515}, {\"run_id\": \"AutoML_41dee557-4822-4d8a-8bba-d12b26a0af4f_27\", \"run_number\": 33, \"metric\": null, \"status\": \"Canceled\", \"run_type\": \"azureml.scriptrun\", \"training_percent\": \"100\", \"start_time\": \"2021-03-07T16:45:26.985581Z\", \"end_time\": \"2021-03-07T16:56:06.077418Z\", \"created_time\": \"2021-03-07T16:45:17.657336Z\", \"created_time_dt\": \"2021-03-07T16:45:17.657336Z\", \"duration\": \"0:10:48\", \"iteration\": \"27\", \"goal\": null, \"run_name\": \"StandardScalerWrapper, XGBoostClassifier\", \"run_properties\": null}, {\"run_id\": \"AutoML_41dee557-4822-4d8a-8bba-d12b26a0af4f_28\", \"run_number\": 34, \"metric\": null, \"status\": \"Completed\", \"run_type\": \"azureml.scriptrun\", \"training_percent\": \"100\", \"start_time\": \"2021-03-07T16:46:05.526685Z\", \"end_time\": \"2021-03-07T16:52:49.908817Z\", \"created_time\": \"2021-03-07T16:45:55.986291Z\", \"created_time_dt\": \"2021-03-07T16:45:55.986291Z\", \"duration\": \"0:06:53\", \"iteration\": \"28\", \"goal\": \"accuracy_max\", \"run_name\": \"SparseNormalizer, XGBoostClassifier\", \"run_properties\": \"<azureml.automl.runtime.shared.model_wrappers.SparseNormalizer object at 0x7f1a18e63400\", \"primary_metric\": 0.8890691, \"best_metric\": 0.88957515}, {\"run_id\": \"AutoML_41dee557-4822-4d8a-8bba-d12b26a0af4f_29\", \"run_number\": 35, \"metric\": null, \"status\": \"Completed\", \"run_type\": \"azureml.scriptrun\", \"training_percent\": \"100\", \"start_time\": \"2021-03-07T16:46:35.131725Z\", \"end_time\": \"2021-03-07T16:51:51.847076Z\", \"created_time\": \"2021-03-07T16:46:22.573773Z\", \"created_time_dt\": \"2021-03-07T16:46:22.573773Z\", \"duration\": \"0:05:29\", \"iteration\": \"29\", \"goal\": \"accuracy_max\", \"run_name\": \"SparseNormalizer, XGBoostClassifier\", \"run_properties\": \"<azureml.automl.runtime.shared.model_wrappers.SparseNormalizer object at 0x7fdca0cb3b00\", \"primary_metric\": 0.88899572, \"best_metric\": 0.88957515}, {\"run_id\": \"AutoML_41dee557-4822-4d8a-8bba-d12b26a0af4f_30\", \"run_number\": 36, \"metric\": null, \"status\": \"Completed\", \"run_type\": \"azureml.scriptrun\", \"training_percent\": \"100\", \"start_time\": \"2021-03-07T16:49:26.05481Z\", \"end_time\": \"2021-03-07T16:50:51.908205Z\", \"created_time\": \"2021-03-07T16:49:15.469636Z\", \"created_time_dt\": \"2021-03-07T16:49:15.469636Z\", \"duration\": \"0:01:36\", \"iteration\": \"30\", \"goal\": \"accuracy_max\", \"run_name\": \"StandardScalerWrapper, LightGBM\", \"run_properties\": \"<azureml.automl.runtime.shared.model_wrappers.StandardScalerWrapper object at 0x7fbe16badd68\", \"primary_metric\": 0.88897548, \"best_metric\": 0.88957515}, {\"run_id\": \"AutoML_41dee557-4822-4d8a-8bba-d12b26a0af4f_31\", \"run_number\": 37, \"metric\": null, \"status\": \"Canceled\", \"run_type\": \"azureml.scriptrun\", \"training_percent\": \"100\", \"start_time\": \"2021-03-07T16:51:06.821073Z\", \"end_time\": \"2021-03-07T16:56:04.290567Z\", \"created_time\": \"2021-03-07T16:50:54.013069Z\", \"created_time_dt\": \"2021-03-07T16:50:54.013069Z\", \"duration\": \"0:05:10\", \"iteration\": \"31\", \"goal\": \"accuracy_max\", \"run_name\": \"StandardScalerWrapper, XGBoostClassifier\", \"run_properties\": \"<azureml.automl.runtime.shared.model_wrappers.StandardScalerWrapper object at 0x7fd682ce3f60\", \"primary_metric\": 0.88957515, \"best_metric\": 0.88957515}, {\"run_id\": \"AutoML_41dee557-4822-4d8a-8bba-d12b26a0af4f_32\", \"run_number\": 38, \"metric\": null, \"status\": \"Completed\", \"run_type\": \"azureml.scriptrun\", \"training_percent\": \"100\", \"start_time\": \"2021-03-07T16:52:04.151591Z\", \"end_time\": \"2021-03-07T16:55:32.057794Z\", \"created_time\": \"2021-03-07T16:51:54.558459Z\", \"created_time_dt\": \"2021-03-07T16:51:54.558459Z\", \"duration\": \"0:03:37\", \"iteration\": \"32\", \"goal\": \"accuracy_max\", \"run_name\": \"StandardScalerWrapper, XGBoostClassifier\", \"run_properties\": \"<azureml.automl.runtime.shared.model_wrappers.StandardScalerWrapper object at 0x7fafa461dba8\", \"primary_metric\": 0.88923357, \"best_metric\": 0.88957515}, {\"run_id\": \"AutoML_41dee557-4822-4d8a-8bba-d12b26a0af4f_33\", \"run_number\": 39, \"metric\": null, \"status\": \"Completed\", \"run_type\": \"azureml.scriptrun\", \"training_percent\": \"100\", \"start_time\": \"2021-03-07T16:53:02.076691Z\", \"end_time\": \"2021-03-07T16:54:26.610345Z\", \"created_time\": \"2021-03-07T16:52:52.90471Z\", \"created_time_dt\": \"2021-03-07T16:52:52.90471Z\", \"duration\": \"0:01:33\", \"iteration\": \"33\", \"goal\": \"accuracy_max\", \"run_name\": \"StandardScalerWrapper, XGBoostClassifier\", \"run_properties\": \"<azureml.automl.runtime.shared.model_wrappers.StandardScalerWrapper object at 0x7f53c293cc50\", \"primary_metric\": 0.88809243, \"best_metric\": 0.88957515}, {\"run_id\": \"AutoML_41dee557-4822-4d8a-8bba-d12b26a0af4f_34\", \"run_number\": 40, \"metric\": null, \"status\": \"Completed\", \"run_type\": \"azureml.scriptrun\", \"training_percent\": \"100\", \"start_time\": \"2021-03-07T16:54:38.178119Z\", \"end_time\": \"2021-03-07T16:55:53.868811Z\", \"created_time\": \"2021-03-07T16:54:28.553343Z\", \"created_time_dt\": \"2021-03-07T16:54:28.553343Z\", \"duration\": \"0:01:25\", \"iteration\": \"34\", \"goal\": \"accuracy_max\", \"run_name\": \"StandardScalerWrapper, LightGBM\", \"run_properties\": \"<azureml.automl.runtime.shared.model_wrappers.StandardScalerWrapper object at 0x7f485e51a390\", \"primary_metric\": 0.88809243, \"best_metric\": 0.88957515}, {\"run_id\": \"AutoML_41dee557-4822-4d8a-8bba-d12b26a0af4f_35\", \"run_number\": 41, \"metric\": null, \"status\": \"Canceled\", \"run_type\": \"azureml.scriptrun\", \"training_percent\": \"100\", \"start_time\": \"2021-03-07T16:55:46.0707Z\", \"end_time\": \"2021-03-07T16:56:02.552511Z\", \"created_time\": \"2021-03-07T16:55:36.408519Z\", \"created_time_dt\": \"2021-03-07T16:55:36.408519Z\", \"duration\": \"0:00:26\", \"iteration\": \"35\", \"goal\": null, \"run_name\": \"Canceled\", \"run_properties\": null}, {\"run_id\": \"AutoML_41dee557-4822-4d8a-8bba-d12b26a0af4f_36\", \"run_number\": 42, \"metric\": null, \"status\": \"Completed\", \"run_type\": \"azureml.scriptrun\", \"training_percent\": \"100\", \"start_time\": \"2021-03-07T16:56:17.511228Z\", \"end_time\": \"2021-03-07T17:01:20.886838Z\", \"created_time\": \"2021-03-07T16:56:07.451014Z\", \"created_time_dt\": \"2021-03-07T16:56:07.451014Z\", \"duration\": \"0:05:13\", \"iteration\": \"36\", \"goal\": \"accuracy_max\", \"run_name\": \"VotingEnsemble\", \"run_properties\": \"classification_labels=None,\\n                              estimators=[('0',\\n                                           Pipeline(memory=None,\\n                                                    steps=[('maxabsscaler',\\n                                                            MaxAbsScaler(copy=True\", \"primary_metric\": 0.88980793, \"best_metric\": 0.88980793}, {\"run_id\": \"AutoML_41dee557-4822-4d8a-8bba-d12b26a0af4f_37\", \"run_number\": 43, \"metric\": null, \"status\": \"Completed\", \"run_type\": \"azureml.scriptrun\", \"training_percent\": \"100\", \"start_time\": \"2021-03-07T16:56:17.829794Z\", \"end_time\": \"2021-03-07T17:02:41.102302Z\", \"created_time\": \"2021-03-07T16:56:07.456581Z\", \"created_time_dt\": \"2021-03-07T16:56:07.456581Z\", \"duration\": \"0:06:33\", \"iteration\": \"37\", \"goal\": \"accuracy_max\", \"run_name\": \"StackEnsemble\", \"run_properties\": \"base_learners=[('0',\\n                                        Pipeline(memory=None,\\n                                                 steps=[('maxabsscaler',\\n                                                         MaxAbsScaler(copy=True\", \"primary_metric\": 0.88954226, \"best_metric\": 0.88980793}], \"children_metrics\": {\"categories\": [0], \"series\": {\"f1_score_macro\": [{\"categories\": [\"0\", \"1\", \"2\", \"3\", \"4\", \"5\", \"6\", \"7\", \"8\", \"9\", \"10\", \"11\", \"12\", \"13\", \"14\", \"15\", \"16\", \"17\", \"18\", \"19\", \"20\", \"21\", \"22\", \"23\", \"24\", \"25\", \"26\", \"28\", \"29\", \"30\", \"31\", \"32\", \"33\", \"34\", \"36\", \"37\"], \"mode\": \"markers\", \"name\": \"f1_score_macro\", \"stepped\": false, \"type\": \"scatter\", \"data\": [0.7794686384881543, 0.7699281182278751, 0.6406580520603035, 0.4456295484534374, 0.7049641305387239, 0.7083168681159049, 0.7743951757739315, 0.7691026636998619, 0.7744894148020077, 0.7679061010033995, 0.4456295484534374, 0.762158977765957, 0.4456295484534374, 0.774876165888562, 0.4456295484534374, 0.4456295484534374, 0.4872486610876201, 0.4456295484534374, 0.772394434923879, 0.7679061010033995, 0.7707931576190651, 0.6424517422269581, 0.6663822051457853, 0.7780525221978358, 0.7797493091917228, 0.4456295484534374, 0.7698887186241997, 0.7785987281971719, 0.7756913444116526, 0.7761217185840333, 0.7810432752287079, 0.7796556176988464, 0.7679061010033995, 0.7679061010033995, 0.7813859084067901, 0.78337382198395]}, {\"categories\": [\"0\", \"1\", \"2\", \"3\", \"4\", \"5\", \"6\", \"7\", \"8\", \"9\", \"10\", \"11\", \"12\", \"13\", \"14\", \"15\", \"16\", \"17\", \"18\", \"19\", \"20\", \"21\", \"22\", \"23\", \"24\", \"25\", \"26\", \"28\", \"29\", \"30\", \"31\", \"32\", \"33\", \"34\", \"36\", \"37\"], \"mode\": \"lines\", \"name\": \"f1_score_macro_max\", \"stepped\": true, \"type\": \"scatter\", \"data\": [0.7794686384881543, 0.7794686384881543, 0.7794686384881543, 0.7794686384881543, 0.7794686384881543, 0.7794686384881543, 0.7794686384881543, 0.7794686384881543, 0.7794686384881543, 0.7794686384881543, 0.7794686384881543, 0.7794686384881543, 0.7794686384881543, 0.7794686384881543, 0.7794686384881543, 0.7794686384881543, 0.7794686384881543, 0.7794686384881543, 0.7794686384881543, 0.7794686384881543, 0.7794686384881543, 0.7794686384881543, 0.7794686384881543, 0.7794686384881543, 0.7797493091917228, 0.7797493091917228, 0.7797493091917228, 0.7797493091917228, 0.7797493091917228, 0.7797493091917228, 0.7810432752287079, 0.7810432752287079, 0.7810432752287079, 0.7810432752287079, 0.7813859084067901, 0.78337382198395]}], \"average_precision_score_micro\": [{\"categories\": [\"0\", \"1\", \"2\", \"3\", \"4\", \"5\", \"6\", \"7\", \"8\", \"9\", \"10\", \"11\", \"12\", \"13\", \"14\", \"15\", \"16\", \"17\", \"18\", \"19\", \"20\", \"21\", \"22\", \"23\", \"24\", \"25\", \"26\", \"28\", \"29\", \"30\", \"31\", \"32\", \"33\", \"34\", \"36\", \"37\"], \"mode\": \"markers\", \"name\": \"average_precision_score_micro\", \"stepped\": false, \"type\": \"scatter\", \"data\": [0.9601761025094196, 0.9589231190455271, 0.927516919759834, 0.8839328248781522, 0.869670244718297, 0.8847293207857515, 0.9591962588095866, 0.9577865270638428, 0.9592140206292955, 0.9534269454192419, 0.8929883111160489, 0.9449589146217156, 0.8670173471159816, 0.959285239339066, 0.9088219728805216, 0.9235561538438222, 0.9021461288514722, 0.9089879415352918, 0.9584090972647076, 0.9538590822811758, 0.958410538271525, 0.9337450972994881, 0.8372687776292654, 0.9598754228137881, 0.9594067025334398, 0.9032607200264797, 0.9571696188828546, 0.9596359785711422, 0.9593513891245838, 0.9592009689982207, 0.9604127263060032, 0.9601617811036179, 0.958360180625475, 0.9587313063201425, 0.9604768835320133, 0.960351549735582]}, {\"categories\": [\"0\", \"1\", \"2\", \"3\", \"4\", \"5\", \"6\", \"7\", \"8\", \"9\", \"10\", \"11\", \"12\", \"13\", \"14\", \"15\", \"16\", \"17\", \"18\", \"19\", \"20\", \"21\", \"22\", \"23\", \"24\", \"25\", \"26\", \"28\", \"29\", \"30\", \"31\", \"32\", \"33\", \"34\", \"36\", \"37\"], \"mode\": \"lines\", \"name\": \"average_precision_score_micro_max\", \"stepped\": true, \"type\": \"scatter\", \"data\": [0.9601761025094196, 0.9601761025094196, 0.9601761025094196, 0.9601761025094196, 0.9601761025094196, 0.9601761025094196, 0.9601761025094196, 0.9601761025094196, 0.9601761025094196, 0.9601761025094196, 0.9601761025094196, 0.9601761025094196, 0.9601761025094196, 0.9601761025094196, 0.9601761025094196, 0.9601761025094196, 0.9601761025094196, 0.9601761025094196, 0.9601761025094196, 0.9601761025094196, 0.9601761025094196, 0.9601761025094196, 0.9601761025094196, 0.9601761025094196, 0.9601761025094196, 0.9601761025094196, 0.9601761025094196, 0.9601761025094196, 0.9601761025094196, 0.9601761025094196, 0.9604127263060032, 0.9604127263060032, 0.9604127263060032, 0.9604127263060032, 0.9604768835320133, 0.9604768835320133]}], \"precision_score_micro\": [{\"categories\": [\"0\", \"1\", \"2\", \"3\", \"4\", \"5\", \"6\", \"7\", \"8\", \"9\", \"10\", \"11\", \"12\", \"13\", \"14\", \"15\", \"16\", \"17\", \"18\", \"19\", \"20\", \"21\", \"22\", \"23\", \"24\", \"25\", \"26\", \"28\", \"29\", \"30\", \"31\", \"32\", \"33\", \"34\", \"36\", \"37\"], \"mode\": \"markers\", \"name\": \"precision_score_micro\", \"stepped\": false, \"type\": \"scatter\", \"data\": [0.8895751488886843, 0.8884744927649998, 0.8483119641076904, 0.8038479936348374, 0.7606365118072572, 0.7673922686635971, 0.8889147553450774, 0.8882872543551095, 0.8888363180382375, 0.8880924261005366, 0.8038479936348374, 0.8860606453911911, 0.8038479936348374, 0.8887680015422489, 0.8038479936348374, 0.8038479936348374, 0.8094777838991369, 0.8038479936348374, 0.8887604100842258, 0.8880924261005366, 0.8885655810421893, 0.8487597774473588, 0.7357464799412146, 0.8891525983662104, 0.8885073863941991, 0.8038479936348374, 0.8883479801613324, 0.8890690998760844, 0.8889957227922091, 0.8889754810168551, 0.8895751486197941, 0.8892335656596906, 0.8880924261005366, 0.8880924261005366, 0.8898079309185954, 0.8895422560085358]}, {\"categories\": [\"0\", \"1\", \"2\", \"3\", \"4\", \"5\", \"6\", \"7\", \"8\", \"9\", \"10\", \"11\", \"12\", \"13\", \"14\", \"15\", \"16\", \"17\", \"18\", \"19\", \"20\", \"21\", \"22\", \"23\", \"24\", \"25\", \"26\", \"28\", \"29\", \"30\", \"31\", \"32\", \"33\", \"34\", \"36\", \"37\"], \"mode\": \"lines\", \"name\": \"precision_score_micro_max\", \"stepped\": true, \"type\": \"scatter\", \"data\": [0.8895751488886843, 0.8895751488886843, 0.8895751488886843, 0.8895751488886843, 0.8895751488886843, 0.8895751488886843, 0.8895751488886843, 0.8895751488886843, 0.8895751488886843, 0.8895751488886843, 0.8895751488886843, 0.8895751488886843, 0.8895751488886843, 0.8895751488886843, 0.8895751488886843, 0.8895751488886843, 0.8895751488886843, 0.8895751488886843, 0.8895751488886843, 0.8895751488886843, 0.8895751488886843, 0.8895751488886843, 0.8895751488886843, 0.8895751488886843, 0.8895751488886843, 0.8895751488886843, 0.8895751488886843, 0.8895751488886843, 0.8895751488886843, 0.8895751488886843, 0.8895751488886843, 0.8895751488886843, 0.8895751488886843, 0.8895751488886843, 0.8898079309185954, 0.8898079309185954]}], \"AUC_weighted\": [{\"categories\": [\"0\", \"1\", \"2\", \"3\", \"4\", \"5\", \"6\", \"7\", \"8\", \"9\", \"10\", \"11\", \"12\", \"13\", \"14\", \"15\", \"16\", \"17\", \"18\", \"19\", \"20\", \"21\", \"22\", \"23\", \"24\", \"25\", \"26\", \"28\", \"29\", \"30\", \"31\", \"32\", \"33\", \"34\", \"36\", \"37\"], \"mode\": \"markers\", \"name\": \"AUC_weighted\", \"stepped\": false, \"type\": \"scatter\", \"data\": [0.9078045427051528, 0.9037297164104219, 0.8750441749878406, 0.7568027987686637, 0.8791769441770597, 0.8773567309562398, 0.904628164025277, 0.9001276340039555, 0.904680263561315, 0.8963509640753804, 0.7800649967567624, 0.8988398264576719, 0.7297060282315294, 0.9051145610132211, 0.8196176672037079, 0.8647449628256577, 0.8052373080327234, 0.8243921097493258, 0.902100814380013, 0.8931538449324564, 0.9020954217345727, 0.8927506179490056, 0.8158755177529079, 0.9067989549037568, 0.9054234953354084, 0.8033025806487327, 0.8987565713089625, 0.9060555376499314, 0.9051113937391128, 0.9050734471461673, 0.908571531858525, 0.9077791570214999, 0.901942213344848, 0.9032307970063878, 0.9087526585707221, 0.9083844115522814]}, {\"categories\": [\"0\", \"1\", \"2\", \"3\", \"4\", \"5\", \"6\", \"7\", \"8\", \"9\", \"10\", \"11\", \"12\", \"13\", \"14\", \"15\", \"16\", \"17\", \"18\", \"19\", \"20\", \"21\", \"22\", \"23\", \"24\", \"25\", \"26\", \"28\", \"29\", \"30\", \"31\", \"32\", \"33\", \"34\", \"36\", \"37\"], \"mode\": \"lines\", \"name\": \"AUC_weighted_max\", \"stepped\": true, \"type\": \"scatter\", \"data\": [0.9078045427051528, 0.9078045427051528, 0.9078045427051528, 0.9078045427051528, 0.9078045427051528, 0.9078045427051528, 0.9078045427051528, 0.9078045427051528, 0.9078045427051528, 0.9078045427051528, 0.9078045427051528, 0.9078045427051528, 0.9078045427051528, 0.9078045427051528, 0.9078045427051528, 0.9078045427051528, 0.9078045427051528, 0.9078045427051528, 0.9078045427051528, 0.9078045427051528, 0.9078045427051528, 0.9078045427051528, 0.9078045427051528, 0.9078045427051528, 0.9078045427051528, 0.9078045427051528, 0.9078045427051528, 0.9078045427051528, 0.9078045427051528, 0.9078045427051528, 0.908571531858525, 0.908571531858525, 0.908571531858525, 0.908571531858525, 0.9087526585707221, 0.9087526585707221]}], \"AUC_macro\": [{\"categories\": [\"0\", \"1\", \"2\", \"3\", \"4\", \"5\", \"6\", \"7\", \"8\", \"9\", \"10\", \"11\", \"12\", \"13\", \"14\", \"15\", \"16\", \"17\", \"18\", \"19\", \"20\", \"21\", \"22\", \"23\", \"24\", \"25\", \"26\", \"28\", \"29\", \"30\", \"31\", \"32\", \"33\", \"34\", \"36\", \"37\"], \"mode\": \"markers\", \"name\": \"AUC_macro\", \"stepped\": false, \"type\": \"scatter\", \"data\": [0.9078045427051528, 0.9037297164104219, 0.8750441749878406, 0.7568027987686636, 0.8791769441770595, 0.8773567309562399, 0.904628164025277, 0.9001276340039555, 0.9046802635427832, 0.8963509640753804, 0.7800649967567624, 0.8988398264576719, 0.7297060282315294, 0.905114561013221, 0.8196176672037079, 0.8647449628256577, 0.8052373080327236, 0.824392109749326, 0.902100814380013, 0.8931538449324566, 0.9020954217345728, 0.8927506179490052, 0.8158755177529079, 0.9067989549037568, 0.9054234953169576, 0.8033025806487326, 0.8987565713089625, 0.9060555376499314, 0.9051113937391128, 0.9050734471461673, 0.908571531858525, 0.9077791570214998, 0.9019422133448479, 0.9032307970063878, 0.9087526585707221, 0.9083844115522814]}, {\"categories\": [\"0\", \"1\", \"2\", \"3\", \"4\", \"5\", \"6\", \"7\", \"8\", \"9\", \"10\", \"11\", \"12\", \"13\", \"14\", \"15\", \"16\", \"17\", \"18\", \"19\", \"20\", \"21\", \"22\", \"23\", \"24\", \"25\", \"26\", \"28\", \"29\", \"30\", \"31\", \"32\", \"33\", \"34\", \"36\", \"37\"], \"mode\": \"lines\", \"name\": \"AUC_macro_max\", \"stepped\": true, \"type\": \"scatter\", \"data\": [0.9078045427051528, 0.9078045427051528, 0.9078045427051528, 0.9078045427051528, 0.9078045427051528, 0.9078045427051528, 0.9078045427051528, 0.9078045427051528, 0.9078045427051528, 0.9078045427051528, 0.9078045427051528, 0.9078045427051528, 0.9078045427051528, 0.9078045427051528, 0.9078045427051528, 0.9078045427051528, 0.9078045427051528, 0.9078045427051528, 0.9078045427051528, 0.9078045427051528, 0.9078045427051528, 0.9078045427051528, 0.9078045427051528, 0.9078045427051528, 0.9078045427051528, 0.9078045427051528, 0.9078045427051528, 0.9078045427051528, 0.9078045427051528, 0.9078045427051528, 0.908571531858525, 0.908571531858525, 0.908571531858525, 0.908571531858525, 0.9087526585707221, 0.9087526585707221]}], \"precision_score_macro\": [{\"categories\": [\"0\", \"1\", \"2\", \"3\", \"4\", \"5\", \"6\", \"7\", \"8\", \"9\", \"10\", \"11\", \"12\", \"13\", \"14\", \"15\", \"16\", \"17\", \"18\", \"19\", \"20\", \"21\", \"22\", \"23\", \"24\", \"25\", \"26\", \"28\", \"29\", \"30\", \"31\", \"32\", \"33\", \"34\", \"36\", \"37\"], \"mode\": \"markers\", \"name\": \"precision_score_macro\", \"stepped\": false, \"type\": \"scatter\", \"data\": [0.9124014658774077, 0.9352751198561579, 0.9206618658390812, 0.4019239968174187, 0.694732358920857, 0.695355535657533, 0.9233413462279118, 0.9364130913048871, 0.922219016983772, 0.9388991358074746, 0.4019239968174187, 0.9379333468852288, 0.4019239968174187, 0.9201493268294821, 0.4019239968174187, 0.4019239968174187, 0.7843213360689595, 0.4019239968174187, 0.9290457808405402, 0.9388991358074746, 0.9329792812603883, 0.9208508519190398, 0.6590080384931228, 0.9130820871073521, 0.9018149557680042, 0.4019239968174187, 0.9340519147890362, 0.9104961172590813, 0.9195882586167313, 0.9178931492565773, 0.9073131781886676, 0.9086098695899256, 0.9388991358074746, 0.9388991358074746, 0.9083336529040001, 0.8998534281439367]}, {\"categories\": [\"0\", \"1\", \"2\", \"3\", \"4\", \"5\", \"6\", \"7\", \"8\", \"9\", \"10\", \"11\", \"12\", \"13\", \"14\", \"15\", \"16\", \"17\", \"18\", \"19\", \"20\", \"21\", \"22\", \"23\", \"24\", \"25\", \"26\", \"28\", \"29\", \"30\", \"31\", \"32\", \"33\", \"34\", \"36\", \"37\"], \"mode\": \"lines\", \"name\": \"precision_score_macro_max\", \"stepped\": true, \"type\": \"scatter\", \"data\": [0.9124014658774077, 0.9352751198561579, 0.9352751198561579, 0.9352751198561579, 0.9352751198561579, 0.9352751198561579, 0.9352751198561579, 0.9364130913048871, 0.9364130913048871, 0.9388991358074746, 0.9388991358074746, 0.9388991358074746, 0.9388991358074746, 0.9388991358074746, 0.9388991358074746, 0.9388991358074746, 0.9388991358074746, 0.9388991358074746, 0.9388991358074746, 0.9388991358074746, 0.9388991358074746, 0.9388991358074746, 0.9388991358074746, 0.9388991358074746, 0.9388991358074746, 0.9388991358074746, 0.9388991358074746, 0.9388991358074746, 0.9388991358074746, 0.9388991358074746, 0.9388991358074746, 0.9388991358074746, 0.9388991358074746, 0.9388991358074746, 0.9388991358074746, 0.9388991358074746]}], \"average_precision_score_weighted\": [{\"categories\": [\"0\", \"1\", \"2\", \"3\", \"4\", \"5\", \"6\", \"7\", \"8\", \"9\", \"10\", \"11\", \"12\", \"13\", \"14\", \"15\", \"16\", \"17\", \"18\", \"19\", \"20\", \"21\", \"22\", \"23\", \"24\", \"25\", \"26\", \"28\", \"29\", \"30\", \"31\", \"32\", \"33\", \"34\", \"36\", \"37\"], \"mode\": \"markers\", \"name\": \"average_precision_score_weighted\", \"stepped\": false, \"type\": \"scatter\", \"data\": [0.9370244989347082, 0.9346774676252635, 0.918163863504671, 0.8255480692402074, 0.9118744445314748, 0.9161796767111872, 0.9351015400731187, 0.932774405576767, 0.93514879612658, 0.930334444734351, 0.8420204810028783, 0.9319662831303787, 0.7990418215525429, 0.9353058739671748, 0.8602799863823233, 0.8940816675293567, 0.8547158193281016, 0.8654472361460156, 0.9338118942873131, 0.9258918294561967, 0.9337778865716504, 0.92884715954023, 0.8768135226935075, 0.9363277141226067, 0.9355339446674596, 0.8515294631812784, 0.931691967294969, 0.9359252397611432, 0.9353981391838168, 0.9353746068873766, 0.9374316793044889, 0.9369271432415452, 0.9336337310879682, 0.9343546522863635, 0.9375462485051376, 0.9373169810755799]}, {\"categories\": [\"0\", \"1\", \"2\", \"3\", \"4\", \"5\", \"6\", \"7\", \"8\", \"9\", \"10\", \"11\", \"12\", \"13\", \"14\", \"15\", \"16\", \"17\", \"18\", \"19\", \"20\", \"21\", \"22\", \"23\", \"24\", \"25\", \"26\", \"28\", \"29\", \"30\", \"31\", \"32\", \"33\", \"34\", \"36\", \"37\"], \"mode\": \"lines\", \"name\": \"average_precision_score_weighted_max\", \"stepped\": true, \"type\": \"scatter\", \"data\": [0.9370244989347082, 0.9370244989347082, 0.9370244989347082, 0.9370244989347082, 0.9370244989347082, 0.9370244989347082, 0.9370244989347082, 0.9370244989347082, 0.9370244989347082, 0.9370244989347082, 0.9370244989347082, 0.9370244989347082, 0.9370244989347082, 0.9370244989347082, 0.9370244989347082, 0.9370244989347082, 0.9370244989347082, 0.9370244989347082, 0.9370244989347082, 0.9370244989347082, 0.9370244989347082, 0.9370244989347082, 0.9370244989347082, 0.9370244989347082, 0.9370244989347082, 0.9370244989347082, 0.9370244989347082, 0.9370244989347082, 0.9370244989347082, 0.9370244989347082, 0.9374316793044889, 0.9374316793044889, 0.9374316793044889, 0.9374316793044889, 0.9375462485051376, 0.9375462485051376]}], \"recall_score_weighted\": [{\"categories\": [\"0\", \"1\", \"2\", \"3\", \"4\", \"5\", \"6\", \"7\", \"8\", \"9\", \"10\", \"11\", \"12\", \"13\", \"14\", \"15\", \"16\", \"17\", \"18\", \"19\", \"20\", \"21\", \"22\", \"23\", \"24\", \"25\", \"26\", \"28\", \"29\", \"30\", \"31\", \"32\", \"33\", \"34\", \"36\", \"37\"], \"mode\": \"markers\", \"name\": \"recall_score_weighted\", \"stepped\": false, \"type\": \"scatter\", \"data\": [0.8895751488886843, 0.8884744927649998, 0.8483119641076904, 0.8038479936348374, 0.7606365118072572, 0.7673922686635971, 0.8889147553450774, 0.8882872543551095, 0.8888363180382375, 0.8880924261005366, 0.8038479936348374, 0.8860606453911911, 0.8038479936348374, 0.8887680015422489, 0.8038479936348374, 0.8038479936348374, 0.8094777838991369, 0.8038479936348374, 0.8887604100842258, 0.8880924261005366, 0.8885655810421893, 0.8487597774473588, 0.7357464799412146, 0.8891525983662104, 0.8885073863941991, 0.8038479936348374, 0.8883479801613324, 0.8890690998760844, 0.8889957227922091, 0.8889754810168551, 0.8895751486197941, 0.8892335656596906, 0.8880924261005366, 0.8880924261005366, 0.8898079309185954, 0.8895422560085358]}, {\"categories\": [\"0\", \"1\", \"2\", \"3\", \"4\", \"5\", \"6\", \"7\", \"8\", \"9\", \"10\", \"11\", \"12\", \"13\", \"14\", \"15\", \"16\", \"17\", \"18\", \"19\", \"20\", \"21\", \"22\", \"23\", \"24\", \"25\", \"26\", \"28\", \"29\", \"30\", \"31\", \"32\", \"33\", \"34\", \"36\", \"37\"], \"mode\": \"lines\", \"name\": \"recall_score_weighted_max\", \"stepped\": true, \"type\": \"scatter\", \"data\": [0.8895751488886843, 0.8895751488886843, 0.8895751488886843, 0.8895751488886843, 0.8895751488886843, 0.8895751488886843, 0.8895751488886843, 0.8895751488886843, 0.8895751488886843, 0.8895751488886843, 0.8895751488886843, 0.8895751488886843, 0.8895751488886843, 0.8895751488886843, 0.8895751488886843, 0.8895751488886843, 0.8895751488886843, 0.8895751488886843, 0.8895751488886843, 0.8895751488886843, 0.8895751488886843, 0.8895751488886843, 0.8895751488886843, 0.8895751488886843, 0.8895751488886843, 0.8895751488886843, 0.8895751488886843, 0.8895751488886843, 0.8895751488886843, 0.8895751488886843, 0.8895751488886843, 0.8895751488886843, 0.8895751488886843, 0.8895751488886843, 0.8898079309185954, 0.8898079309185954]}], \"precision_score_weighted\": [{\"categories\": [\"0\", \"1\", \"2\", \"3\", \"4\", \"5\", \"6\", \"7\", \"8\", \"9\", \"10\", \"11\", \"12\", \"13\", \"14\", \"15\", \"16\", \"17\", \"18\", \"19\", \"20\", \"21\", \"22\", \"23\", \"24\", \"25\", \"26\", \"28\", \"29\", \"30\", \"31\", \"32\", \"33\", \"34\", \"36\", \"37\"], \"mode\": \"markers\", \"name\": \"precision_score_weighted\", \"stepped\": false, \"type\": \"scatter\", \"data\": [0.8951811342751425, 0.9009247327472999, 0.8724507065279349, 0.6461716839104973, 0.8484517492002652, 0.844939833323263, 0.8977430391716842, 0.901144334409965, 0.8973746889504319, 0.901768671838608, 0.6461716839104973, 0.9002167093800538, 0.6461716839104973, 0.8967527177543847, 0.6461716839104973, 0.6461716839104973, 0.7999966854747989, 0.6461716839104973, 0.8992786615821551, 0.901768671838608, 0.9003067050108825, 0.8727506368147898, 0.8140134030030651, 0.8950701761013767, 0.8916771225945582, 0.6461716839104973, 0.9004814136894813, 0.894322583391725, 0.8967439454480098, 0.8962582052112609, 0.8938481829442552, 0.8939409284993868, 0.901768671838608, 0.901768671838608, 0.8942752299428975, 0.8919490792097853]}, {\"categories\": [\"0\", \"1\", \"2\", \"3\", \"4\", \"5\", \"6\", \"7\", \"8\", \"9\", \"10\", \"11\", \"12\", \"13\", \"14\", \"15\", \"16\", \"17\", \"18\", \"19\", \"20\", \"21\", \"22\", \"23\", \"24\", \"25\", \"26\", \"28\", \"29\", \"30\", \"31\", \"32\", \"33\", \"34\", \"36\", \"37\"], \"mode\": \"lines\", \"name\": \"precision_score_weighted_max\", \"stepped\": true, \"type\": \"scatter\", \"data\": [0.8951811342751425, 0.9009247327472999, 0.9009247327472999, 0.9009247327472999, 0.9009247327472999, 0.9009247327472999, 0.9009247327472999, 0.901144334409965, 0.901144334409965, 0.901768671838608, 0.901768671838608, 0.901768671838608, 0.901768671838608, 0.901768671838608, 0.901768671838608, 0.901768671838608, 0.901768671838608, 0.901768671838608, 0.901768671838608, 0.901768671838608, 0.901768671838608, 0.901768671838608, 0.901768671838608, 0.901768671838608, 0.901768671838608, 0.901768671838608, 0.901768671838608, 0.901768671838608, 0.901768671838608, 0.901768671838608, 0.901768671838608, 0.901768671838608, 0.901768671838608, 0.901768671838608, 0.901768671838608, 0.901768671838608]}], \"AUC_micro\": [{\"categories\": [\"0\", \"1\", \"2\", \"3\", \"4\", \"5\", \"6\", \"7\", \"8\", \"9\", \"10\", \"11\", \"12\", \"13\", \"14\", \"15\", \"16\", \"17\", \"18\", \"19\", \"20\", \"21\", \"22\", \"23\", \"24\", \"25\", \"26\", \"28\", \"29\", \"30\", \"31\", \"32\", \"33\", \"34\", \"36\", \"37\"], \"mode\": \"markers\", \"name\": \"AUC_micro\", \"stepped\": false, \"type\": \"scatter\", \"data\": [0.9584358548991682, 0.957118426371319, 0.9263444431916898, 0.8848299268409688, 0.8619078314243986, 0.8766433595931584, 0.9574131824177817, 0.95598173764944, 0.9574299869663153, 0.9520150526473684, 0.8921661043198567, 0.9435219686125244, 0.8762855045792376, 0.9575576596168763, 0.9046403863854584, 0.9188716243647829, 0.9002539804801101, 0.9061458425069157, 0.9566081127020777, 0.9537810003666992, 0.9566041488858575, 0.9314837855357352, 0.8295985306936999, 0.958106219844296, 0.9576291379406633, 0.8994952913123454, 0.9555492557363444, 0.9578685496975871, 0.957571774509712, 0.9574401222875831, 0.958678386672303, 0.9584168343411079, 0.9565522450671294, 0.9569302813200854, 0.9587450582926748, 0.9586126281674515]}, {\"categories\": [\"0\", \"1\", \"2\", \"3\", \"4\", \"5\", \"6\", \"7\", \"8\", \"9\", \"10\", \"11\", \"12\", \"13\", \"14\", \"15\", \"16\", \"17\", \"18\", \"19\", \"20\", \"21\", \"22\", \"23\", \"24\", \"25\", \"26\", \"28\", \"29\", \"30\", \"31\", \"32\", \"33\", \"34\", \"36\", \"37\"], \"mode\": \"lines\", \"name\": \"AUC_micro_max\", \"stepped\": true, \"type\": \"scatter\", \"data\": [0.9584358548991682, 0.9584358548991682, 0.9584358548991682, 0.9584358548991682, 0.9584358548991682, 0.9584358548991682, 0.9584358548991682, 0.9584358548991682, 0.9584358548991682, 0.9584358548991682, 0.9584358548991682, 0.9584358548991682, 0.9584358548991682, 0.9584358548991682, 0.9584358548991682, 0.9584358548991682, 0.9584358548991682, 0.9584358548991682, 0.9584358548991682, 0.9584358548991682, 0.9584358548991682, 0.9584358548991682, 0.9584358548991682, 0.9584358548991682, 0.9584358548991682, 0.9584358548991682, 0.9584358548991682, 0.9584358548991682, 0.9584358548991682, 0.9584358548991682, 0.958678386672303, 0.958678386672303, 0.958678386672303, 0.958678386672303, 0.9587450582926748, 0.9587450582926748]}], \"accuracy\": [{\"categories\": [\"0\", \"1\", \"2\", \"3\", \"4\", \"5\", \"6\", \"7\", \"8\", \"9\", \"10\", \"11\", \"12\", \"13\", \"14\", \"15\", \"16\", \"17\", \"18\", \"19\", \"20\", \"21\", \"22\", \"23\", \"24\", \"25\", \"26\", \"28\", \"29\", \"30\", \"31\", \"32\", \"33\", \"34\", \"36\", \"37\"], \"mode\": \"markers\", \"name\": \"accuracy\", \"stepped\": false, \"type\": \"scatter\", \"data\": [0.8895751488886843, 0.8884744927649998, 0.8483119641076904, 0.8038479936348374, 0.7606365118072572, 0.7673922686635971, 0.8889147553450774, 0.8882872543551095, 0.8888363180382375, 0.8880924261005366, 0.8038479936348374, 0.8860606453911911, 0.8038479936348374, 0.8887680015422489, 0.8038479936348374, 0.8038479936348374, 0.8094777838991369, 0.8038479936348374, 0.8887604100842258, 0.8880924261005366, 0.8885655810421893, 0.8487597774473588, 0.7357464799412146, 0.8891525983662104, 0.8885073863941991, 0.8038479936348374, 0.8883479801613324, 0.8890690998760844, 0.8889957227922091, 0.8889754810168551, 0.8895751486197941, 0.8892335656596906, 0.8880924261005366, 0.8880924261005366, 0.8898079309185954, 0.8895422560085358]}, {\"categories\": [\"0\", \"1\", \"2\", \"3\", \"4\", \"5\", \"6\", \"7\", \"8\", \"9\", \"10\", \"11\", \"12\", \"13\", \"14\", \"15\", \"16\", \"17\", \"18\", \"19\", \"20\", \"21\", \"22\", \"23\", \"24\", \"25\", \"26\", \"28\", \"29\", \"30\", \"31\", \"32\", \"33\", \"34\", \"36\", \"37\"], \"mode\": \"lines\", \"name\": \"accuracy_max\", \"stepped\": true, \"type\": \"scatter\", \"data\": [0.8895751488886843, 0.8895751488886843, 0.8895751488886843, 0.8895751488886843, 0.8895751488886843, 0.8895751488886843, 0.8895751488886843, 0.8895751488886843, 0.8895751488886843, 0.8895751488886843, 0.8895751488886843, 0.8895751488886843, 0.8895751488886843, 0.8895751488886843, 0.8895751488886843, 0.8895751488886843, 0.8895751488886843, 0.8895751488886843, 0.8895751488886843, 0.8895751488886843, 0.8895751488886843, 0.8895751488886843, 0.8895751488886843, 0.8895751488886843, 0.8895751488886843, 0.8895751488886843, 0.8895751488886843, 0.8895751488886843, 0.8895751488886843, 0.8895751488886843, 0.8895751488886843, 0.8895751488886843, 0.8895751488886843, 0.8895751488886843, 0.8898079309185954, 0.8898079309185954]}], \"f1_score_micro\": [{\"categories\": [\"0\", \"1\", \"2\", \"3\", \"4\", \"5\", \"6\", \"7\", \"8\", \"9\", \"10\", \"11\", \"12\", \"13\", \"14\", \"15\", \"16\", \"17\", \"18\", \"19\", \"20\", \"21\", \"22\", \"23\", \"24\", \"25\", \"26\", \"28\", \"29\", \"30\", \"31\", \"32\", \"33\", \"34\", \"36\", \"37\"], \"mode\": \"markers\", \"name\": \"f1_score_micro\", \"stepped\": false, \"type\": \"scatter\", \"data\": [0.8895751488886843, 0.8884744927649998, 0.8483119641076904, 0.8038479936348374, 0.7606365118072572, 0.7673922686635971, 0.8889147553450774, 0.8882872543551095, 0.8888363180382375, 0.8880924261005366, 0.8038479936348374, 0.8860606453911911, 0.8038479936348374, 0.8887680015422489, 0.8038479936348374, 0.8038479936348374, 0.8094777838991369, 0.8038479936348374, 0.8887604100842258, 0.8880924261005366, 0.8885655810421893, 0.8487597774473586, 0.7357464799412146, 0.8891525983662104, 0.8885073863941991, 0.8038479936348374, 0.8883479801613324, 0.8890690998760844, 0.8889957227922091, 0.8889754810168551, 0.8895751486197941, 0.8892335656596906, 0.8880924261005366, 0.8880924261005366, 0.8898079309185954, 0.8895422560085358]}, {\"categories\": [\"0\", \"1\", \"2\", \"3\", \"4\", \"5\", \"6\", \"7\", \"8\", \"9\", \"10\", \"11\", \"12\", \"13\", \"14\", \"15\", \"16\", \"17\", \"18\", \"19\", \"20\", \"21\", \"22\", \"23\", \"24\", \"25\", \"26\", \"28\", \"29\", \"30\", \"31\", \"32\", \"33\", \"34\", \"36\", \"37\"], \"mode\": \"lines\", \"name\": \"f1_score_micro_max\", \"stepped\": true, \"type\": \"scatter\", \"data\": [0.8895751488886843, 0.8895751488886843, 0.8895751488886843, 0.8895751488886843, 0.8895751488886843, 0.8895751488886843, 0.8895751488886843, 0.8895751488886843, 0.8895751488886843, 0.8895751488886843, 0.8895751488886843, 0.8895751488886843, 0.8895751488886843, 0.8895751488886843, 0.8895751488886843, 0.8895751488886843, 0.8895751488886843, 0.8895751488886843, 0.8895751488886843, 0.8895751488886843, 0.8895751488886843, 0.8895751488886843, 0.8895751488886843, 0.8895751488886843, 0.8895751488886843, 0.8895751488886843, 0.8895751488886843, 0.8895751488886843, 0.8895751488886843, 0.8895751488886843, 0.8895751488886843, 0.8895751488886843, 0.8895751488886843, 0.8895751488886843, 0.8898079309185954, 0.8898079309185954]}], \"norm_macro_recall\": [{\"categories\": [\"0\", \"1\", \"2\", \"3\", \"4\", \"5\", \"6\", \"7\", \"8\", \"9\", \"10\", \"11\", \"12\", \"13\", \"14\", \"15\", \"16\", \"17\", \"18\", \"19\", \"20\", \"21\", \"22\", \"23\", \"24\", \"25\", \"26\", \"28\", \"29\", \"30\", \"31\", \"32\", \"33\", \"34\", \"36\", \"37\"], \"mode\": \"markers\", \"name\": \"norm_macro_recall\", \"stepped\": false, \"type\": \"scatter\", \"data\": [0.45926487316511005, 0.4341604094303852, 0.22674746082648567, 0.0, 0.5749253293951144, 0.5650945216406761, 0.44585323866728044, 0.43231421265305836, 0.44634966070913723, 0.42949159586739327, 0.0, 0.41915340016379643, 0.0, 0.4477213846795108, 0.0, 0.0, 0.03928176549302206, 0.0, 0.44043219616014945, 0.42949159586739327, 0.4363783660572078, 0.2289151666363923, 0.45453932574427364, 0.45616453394599693, 0.46337775108741813, 0.0, 0.43436951809894836, 0.4580998062841715, 0.44947374027402737, 0.450812694207402, 0.4641900378782728, 0.4608781216082178, 0.42949159586739327, 0.42949159586739327, 0.4645474336646307, 0.47174712447528533]}, {\"categories\": [\"0\", \"1\", \"2\", \"3\", \"4\", \"5\", \"6\", \"7\", \"8\", \"9\", \"10\", \"11\", \"12\", \"13\", \"14\", \"15\", \"16\", \"17\", \"18\", \"19\", \"20\", \"21\", \"22\", \"23\", \"24\", \"25\", \"26\", \"28\", \"29\", \"30\", \"31\", \"32\", \"33\", \"34\", \"36\", \"37\"], \"mode\": \"lines\", \"name\": \"norm_macro_recall_max\", \"stepped\": true, \"type\": \"scatter\", \"data\": [0.45926487316511005, 0.45926487316511005, 0.45926487316511005, 0.45926487316511005, 0.5749253293951144, 0.5749253293951144, 0.5749253293951144, 0.5749253293951144, 0.5749253293951144, 0.5749253293951144, 0.5749253293951144, 0.5749253293951144, 0.5749253293951144, 0.5749253293951144, 0.5749253293951144, 0.5749253293951144, 0.5749253293951144, 0.5749253293951144, 0.5749253293951144, 0.5749253293951144, 0.5749253293951144, 0.5749253293951144, 0.5749253293951144, 0.5749253293951144, 0.5749253293951144, 0.5749253293951144, 0.5749253293951144, 0.5749253293951144, 0.5749253293951144, 0.5749253293951144, 0.5749253293951144, 0.5749253293951144, 0.5749253293951144, 0.5749253293951144, 0.5749253293951144, 0.5749253293951144]}], \"log_loss\": [{\"categories\": [\"0\", \"1\", \"2\", \"3\", \"4\", \"5\", \"6\", \"7\", \"8\", \"9\", \"10\", \"11\", \"12\", \"13\", \"14\", \"15\", \"16\", \"17\", \"18\", \"19\", \"20\", \"21\", \"22\", \"23\", \"24\", \"25\", \"26\", \"28\", \"29\", \"30\", \"31\", \"32\", \"33\", \"34\", \"36\", \"37\"], \"mode\": \"markers\", \"name\": \"log_loss\", \"stepped\": false, \"type\": \"scatter\", \"data\": [0.2550077315004325, 0.2607464396943002, 0.3702734388958329, 0.4572363300461446, 0.5386596021329818, 0.5485884271563043, 0.2590934400803931, 0.2832750473611525, 0.2583387809744469, 0.39018129419063935, 0.4561801260480465, 0.3160982958268683, 0.4229007971481879, 0.25749251257547506, 0.4229671282409136, 0.38526876839843743, 0.413562166277796, 0.4233584073054861, 0.28174768955934054, 0.2951940836554644, 0.2615994525080568, 0.3681446911847211, 0.6637780930219209, 0.2567410532191682, 0.25745006626567307, 0.4921204670024828, 0.37028778836634785, 0.256780724522045, 0.2576515549552499, 0.2606892258297333, 0.25448783913722006, 0.25516324706861154, 0.2683455058021002, 0.2676866117499807, 0.2651385662371372, 0.2758050259963347]}, {\"categories\": [\"0\", \"1\", \"2\", \"3\", \"4\", \"5\", \"6\", \"7\", \"8\", \"9\", \"10\", \"11\", \"12\", \"13\", \"14\", \"15\", \"16\", \"17\", \"18\", \"19\", \"20\", \"21\", \"22\", \"23\", \"24\", \"25\", \"26\", \"28\", \"29\", \"30\", \"31\", \"32\", \"33\", \"34\", \"36\", \"37\"], \"mode\": \"lines\", \"name\": \"log_loss_min\", \"stepped\": true, \"type\": \"scatter\", \"data\": [0.2550077315004325, 0.2550077315004325, 0.2550077315004325, 0.2550077315004325, 0.2550077315004325, 0.2550077315004325, 0.2550077315004325, 0.2550077315004325, 0.2550077315004325, 0.2550077315004325, 0.2550077315004325, 0.2550077315004325, 0.2550077315004325, 0.2550077315004325, 0.2550077315004325, 0.2550077315004325, 0.2550077315004325, 0.2550077315004325, 0.2550077315004325, 0.2550077315004325, 0.2550077315004325, 0.2550077315004325, 0.2550077315004325, 0.2550077315004325, 0.2550077315004325, 0.2550077315004325, 0.2550077315004325, 0.2550077315004325, 0.2550077315004325, 0.2550077315004325, 0.25448783913722006, 0.25448783913722006, 0.25448783913722006, 0.25448783913722006, 0.25448783913722006, 0.25448783913722006]}], \"balanced_accuracy\": [{\"categories\": [\"0\", \"1\", \"2\", \"3\", \"4\", \"5\", \"6\", \"7\", \"8\", \"9\", \"10\", \"11\", \"12\", \"13\", \"14\", \"15\", \"16\", \"17\", \"18\", \"19\", \"20\", \"21\", \"22\", \"23\", \"24\", \"25\", \"26\", \"28\", \"29\", \"30\", \"31\", \"32\", \"33\", \"34\", \"36\", \"37\"], \"mode\": \"markers\", \"name\": \"balanced_accuracy\", \"stepped\": false, \"type\": \"scatter\", \"data\": [0.729632436582555, 0.7170802047151925, 0.6133737304132428, 0.5, 0.7874626646975572, 0.782547260820338, 0.7229266193336402, 0.7161571063265292, 0.7231748303545685, 0.7147457979336966, 0.5, 0.7095767000818983, 0.5, 0.7238606923397555, 0.5, 0.5, 0.519640882746511, 0.5, 0.7202160980800748, 0.7147457979336966, 0.7181891830286039, 0.6144575833181961, 0.7272696628721368, 0.7280822669729985, 0.7316888755437091, 0.5, 0.7171847590494741, 0.7290499031420858, 0.7247368701370137, 0.725406347103701, 0.7320950189391363, 0.7304390608041089, 0.7147457979336966, 0.7147457979336966, 0.7322737168323153, 0.7358735622376426]}, {\"categories\": [\"0\", \"1\", \"2\", \"3\", \"4\", \"5\", \"6\", \"7\", \"8\", \"9\", \"10\", \"11\", \"12\", \"13\", \"14\", \"15\", \"16\", \"17\", \"18\", \"19\", \"20\", \"21\", \"22\", \"23\", \"24\", \"25\", \"26\", \"28\", \"29\", \"30\", \"31\", \"32\", \"33\", \"34\", \"36\", \"37\"], \"mode\": \"lines\", \"name\": \"balanced_accuracy_max\", \"stepped\": true, \"type\": \"scatter\", \"data\": [0.729632436582555, 0.729632436582555, 0.729632436582555, 0.729632436582555, 0.7874626646975572, 0.7874626646975572, 0.7874626646975572, 0.7874626646975572, 0.7874626646975572, 0.7874626646975572, 0.7874626646975572, 0.7874626646975572, 0.7874626646975572, 0.7874626646975572, 0.7874626646975572, 0.7874626646975572, 0.7874626646975572, 0.7874626646975572, 0.7874626646975572, 0.7874626646975572, 0.7874626646975572, 0.7874626646975572, 0.7874626646975572, 0.7874626646975572, 0.7874626646975572, 0.7874626646975572, 0.7874626646975572, 0.7874626646975572, 0.7874626646975572, 0.7874626646975572, 0.7874626646975572, 0.7874626646975572, 0.7874626646975572, 0.7874626646975572, 0.7874626646975572, 0.7874626646975572]}], \"weighted_accuracy\": [{\"categories\": [\"0\", \"1\", \"2\", \"3\", \"4\", \"5\", \"6\", \"7\", \"8\", \"9\", \"10\", \"11\", \"12\", \"13\", \"14\", \"15\", \"16\", \"17\", \"18\", \"19\", \"20\", \"21\", \"22\", \"23\", \"24\", \"25\", \"26\", \"28\", \"29\", \"30\", \"31\", \"32\", \"33\", \"34\", \"36\", \"37\"], \"mode\": \"markers\", \"name\": \"weighted_accuracy\", \"stepped\": false, \"type\": \"scatter\", \"data\": [0.963246554484862, 0.9674206480940724, 0.9565360534222798, 0.9438020666781256, 0.7482860600197877, 0.760411320626833, 0.9653705891349822, 0.967571632454792, 0.9651415303077832, 0.96793779492095, 0.9438020666781256, 0.9673541684900004, 0.9438020666781256, 0.9647265328105957, 0.9438020666781256, 0.9438020666781256, 0.9429783030176453, 0.9438020666781256, 0.9663932931787138, 0.96793779492095, 0.9670425956293913, 0.9566730996170653, 0.7396429571604966, 0.9633433624047205, 0.9607397016674941, 0.9438020666781256, 0.9671870034841877, 0.9627758781190418, 0.9646549569699001, 0.9643168340596149, 0.962112391053036, 0.9623761187328866, 0.96793779492095, 0.96793779492095, 0.9623699884311456, 0.9603241656334491]}, {\"categories\": [\"0\", \"1\", \"2\", \"3\", \"4\", \"5\", \"6\", \"7\", \"8\", \"9\", \"10\", \"11\", \"12\", \"13\", \"14\", \"15\", \"16\", \"17\", \"18\", \"19\", \"20\", \"21\", \"22\", \"23\", \"24\", \"25\", \"26\", \"28\", \"29\", \"30\", \"31\", \"32\", \"33\", \"34\", \"36\", \"37\"], \"mode\": \"lines\", \"name\": \"weighted_accuracy_max\", \"stepped\": true, \"type\": \"scatter\", \"data\": [0.963246554484862, 0.9674206480940724, 0.9674206480940724, 0.9674206480940724, 0.9674206480940724, 0.9674206480940724, 0.9674206480940724, 0.967571632454792, 0.967571632454792, 0.96793779492095, 0.96793779492095, 0.96793779492095, 0.96793779492095, 0.96793779492095, 0.96793779492095, 0.96793779492095, 0.96793779492095, 0.96793779492095, 0.96793779492095, 0.96793779492095, 0.96793779492095, 0.96793779492095, 0.96793779492095, 0.96793779492095, 0.96793779492095, 0.96793779492095, 0.96793779492095, 0.96793779492095, 0.96793779492095, 0.96793779492095, 0.96793779492095, 0.96793779492095, 0.96793779492095, 0.96793779492095, 0.96793779492095, 0.96793779492095]}], \"recall_score_macro\": [{\"categories\": [\"0\", \"1\", \"2\", \"3\", \"4\", \"5\", \"6\", \"7\", \"8\", \"9\", \"10\", \"11\", \"12\", \"13\", \"14\", \"15\", \"16\", \"17\", \"18\", \"19\", \"20\", \"21\", \"22\", \"23\", \"24\", \"25\", \"26\", \"28\", \"29\", \"30\", \"31\", \"32\", \"33\", \"34\", \"36\", \"37\"], \"mode\": \"markers\", \"name\": \"recall_score_macro\", \"stepped\": false, \"type\": \"scatter\", \"data\": [0.729632436582555, 0.7170802047151925, 0.6133737304132428, 0.5, 0.7874626646975572, 0.782547260820338, 0.7229266193336402, 0.7161571063265292, 0.7231748303545685, 0.7147457979336966, 0.5, 0.7095767000818983, 0.5, 0.7238606923397555, 0.5, 0.5, 0.519640882746511, 0.5, 0.7202160980800748, 0.7147457979336966, 0.7181891830286039, 0.6144575833181961, 0.7272696628721368, 0.7280822669729985, 0.7316888755437091, 0.5, 0.7171847590494741, 0.7290499031420858, 0.7247368701370137, 0.725406347103701, 0.7320950189391363, 0.7304390608041089, 0.7147457979336966, 0.7147457979336966, 0.7322737168323153, 0.7358735622376426]}, {\"categories\": [\"0\", \"1\", \"2\", \"3\", \"4\", \"5\", \"6\", \"7\", \"8\", \"9\", \"10\", \"11\", \"12\", \"13\", \"14\", \"15\", \"16\", \"17\", \"18\", \"19\", \"20\", \"21\", \"22\", \"23\", \"24\", \"25\", \"26\", \"28\", \"29\", \"30\", \"31\", \"32\", \"33\", \"34\", \"36\", \"37\"], \"mode\": \"lines\", \"name\": \"recall_score_macro_max\", \"stepped\": true, \"type\": \"scatter\", \"data\": [0.729632436582555, 0.729632436582555, 0.729632436582555, 0.729632436582555, 0.7874626646975572, 0.7874626646975572, 0.7874626646975572, 0.7874626646975572, 0.7874626646975572, 0.7874626646975572, 0.7874626646975572, 0.7874626646975572, 0.7874626646975572, 0.7874626646975572, 0.7874626646975572, 0.7874626646975572, 0.7874626646975572, 0.7874626646975572, 0.7874626646975572, 0.7874626646975572, 0.7874626646975572, 0.7874626646975572, 0.7874626646975572, 0.7874626646975572, 0.7874626646975572, 0.7874626646975572, 0.7874626646975572, 0.7874626646975572, 0.7874626646975572, 0.7874626646975572, 0.7874626646975572, 0.7874626646975572, 0.7874626646975572, 0.7874626646975572, 0.7874626646975572, 0.7874626646975572]}], \"average_precision_score_macro\": [{\"categories\": [\"0\", \"1\", \"2\", \"3\", \"4\", \"5\", \"6\", \"7\", \"8\", \"9\", \"10\", \"11\", \"12\", \"13\", \"14\", \"15\", \"16\", \"17\", \"18\", \"19\", \"20\", \"21\", \"22\", \"23\", \"24\", \"25\", \"26\", \"28\", \"29\", \"30\", \"31\", \"32\", \"33\", \"34\", \"36\", \"37\"], \"mode\": \"markers\", \"name\": \"average_precision_score_macro\", \"stepped\": false, \"type\": \"scatter\", \"data\": [0.8782465991679397, 0.8740024788928576, 0.8484055002910446, 0.6695822790263337, 0.8265628079937306, 0.8402863509763955, 0.8747200729138104, 0.8708910672245609, 0.8748136296013116, 0.8668509156113408, 0.6977354120907465, 0.8701764391191545, 0.6208086032422802, 0.8750779716426377, 0.719141630210583, 0.7843690997443216, 0.7163717952353607, 0.7332317507972537, 0.8726019969658695, 0.8592225856467142, 0.8725003474272018, 0.8655457632833095, 0.7715721157911949, 0.8768384992695135, 0.8754716397243018, 0.7050590381034674, 0.8690639427481637, 0.8761869245349195, 0.8752545592583698, 0.8751762236681829, 0.87893309942401, 0.8779907930574752, 0.8721760163926876, 0.8733986364558612, 0.8791435977432909, 0.8787159626677202]}, {\"categories\": [\"0\", \"1\", \"2\", \"3\", \"4\", \"5\", \"6\", \"7\", \"8\", \"9\", \"10\", \"11\", \"12\", \"13\", \"14\", \"15\", \"16\", \"17\", \"18\", \"19\", \"20\", \"21\", \"22\", \"23\", \"24\", \"25\", \"26\", \"28\", \"29\", \"30\", \"31\", \"32\", \"33\", \"34\", \"36\", \"37\"], \"mode\": \"lines\", \"name\": \"average_precision_score_macro_max\", \"stepped\": true, \"type\": \"scatter\", \"data\": [0.8782465991679397, 0.8782465991679397, 0.8782465991679397, 0.8782465991679397, 0.8782465991679397, 0.8782465991679397, 0.8782465991679397, 0.8782465991679397, 0.8782465991679397, 0.8782465991679397, 0.8782465991679397, 0.8782465991679397, 0.8782465991679397, 0.8782465991679397, 0.8782465991679397, 0.8782465991679397, 0.8782465991679397, 0.8782465991679397, 0.8782465991679397, 0.8782465991679397, 0.8782465991679397, 0.8782465991679397, 0.8782465991679397, 0.8782465991679397, 0.8782465991679397, 0.8782465991679397, 0.8782465991679397, 0.8782465991679397, 0.8782465991679397, 0.8782465991679397, 0.87893309942401, 0.87893309942401, 0.87893309942401, 0.87893309942401, 0.8791435977432909, 0.8791435977432909]}], \"recall_score_micro\": [{\"categories\": [\"0\", \"1\", \"2\", \"3\", \"4\", \"5\", \"6\", \"7\", \"8\", \"9\", \"10\", \"11\", \"12\", \"13\", \"14\", \"15\", \"16\", \"17\", \"18\", \"19\", \"20\", \"21\", \"22\", \"23\", \"24\", \"25\", \"26\", \"28\", \"29\", \"30\", \"31\", \"32\", \"33\", \"34\", \"36\", \"37\"], \"mode\": \"markers\", \"name\": \"recall_score_micro\", \"stepped\": false, \"type\": \"scatter\", \"data\": [0.8895751488886843, 0.8884744927649998, 0.8483119641076904, 0.8038479936348374, 0.7606365118072572, 0.7673922686635971, 0.8889147553450774, 0.8882872543551095, 0.8888363180382375, 0.8880924261005366, 0.8038479936348374, 0.8860606453911911, 0.8038479936348374, 0.8887680015422489, 0.8038479936348374, 0.8038479936348374, 0.8094777838991369, 0.8038479936348374, 0.8887604100842258, 0.8880924261005366, 0.8885655810421893, 0.8487597774473588, 0.7357464799412146, 0.8891525983662104, 0.8885073863941991, 0.8038479936348374, 0.8883479801613324, 0.8890690998760844, 0.8889957227922091, 0.8889754810168551, 0.8895751486197941, 0.8892335656596906, 0.8880924261005366, 0.8880924261005366, 0.8898079309185954, 0.8895422560085358]}, {\"categories\": [\"0\", \"1\", \"2\", \"3\", \"4\", \"5\", \"6\", \"7\", \"8\", \"9\", \"10\", \"11\", \"12\", \"13\", \"14\", \"15\", \"16\", \"17\", \"18\", \"19\", \"20\", \"21\", \"22\", \"23\", \"24\", \"25\", \"26\", \"28\", \"29\", \"30\", \"31\", \"32\", \"33\", \"34\", \"36\", \"37\"], \"mode\": \"lines\", \"name\": \"recall_score_micro_max\", \"stepped\": true, \"type\": \"scatter\", \"data\": [0.8895751488886843, 0.8895751488886843, 0.8895751488886843, 0.8895751488886843, 0.8895751488886843, 0.8895751488886843, 0.8895751488886843, 0.8895751488886843, 0.8895751488886843, 0.8895751488886843, 0.8895751488886843, 0.8895751488886843, 0.8895751488886843, 0.8895751488886843, 0.8895751488886843, 0.8895751488886843, 0.8895751488886843, 0.8895751488886843, 0.8895751488886843, 0.8895751488886843, 0.8895751488886843, 0.8895751488886843, 0.8895751488886843, 0.8895751488886843, 0.8895751488886843, 0.8895751488886843, 0.8895751488886843, 0.8895751488886843, 0.8895751488886843, 0.8895751488886843, 0.8895751488886843, 0.8895751488886843, 0.8895751488886843, 0.8895751488886843, 0.8898079309185954, 0.8898079309185954]}], \"matthews_correlation\": [{\"categories\": [\"0\", \"1\", \"2\", \"3\", \"4\", \"5\", \"6\", \"7\", \"8\", \"9\", \"10\", \"11\", \"12\", \"13\", \"14\", \"15\", \"16\", \"17\", \"18\", \"19\", \"20\", \"21\", \"22\", \"23\", \"24\", \"25\", \"26\", \"28\", \"29\", \"30\", \"31\", \"32\", \"33\", \"34\", \"36\", \"37\"], \"mode\": \"markers\", \"name\": \"matthews_correlation\", \"stepped\": false, \"type\": \"scatter\", \"data\": [0.6154653862239455, 0.6147764457724464, 0.4347232038431555, 0.0, 0.47318081178692156, 0.4698673526623513, 0.6144014911429445, 0.6142737650983039, 0.6139266842629962, 0.6140034397629945, 0.0, 0.6057977008038935, 0.0, 0.6133476274576829, 0.0, 0.0, 0.14914299668937844, 0.0, 0.6147540742316501, 0.6140034397629945, 0.6147081277305629, 0.43743817175035965, 0.3800874873755076, 0.613890941689751, 0.6102301132881099, 0.0, 0.614062223132454, 0.6132611918273477, 0.6141500448902596, 0.6138262585493435, 0.6149244979686829, 0.6137052973964751, 0.6140034397629945, 0.6140034397629945, 0.6159349987894541, 0.6142056609789025]}, {\"categories\": [\"0\", \"1\", \"2\", \"3\", \"4\", \"5\", \"6\", \"7\", \"8\", \"9\", \"10\", \"11\", \"12\", \"13\", \"14\", \"15\", \"16\", \"17\", \"18\", \"19\", \"20\", \"21\", \"22\", \"23\", \"24\", \"25\", \"26\", \"28\", \"29\", \"30\", \"31\", \"32\", \"33\", \"34\", \"36\", \"37\"], \"mode\": \"lines\", \"name\": \"matthews_correlation_max\", \"stepped\": true, \"type\": \"scatter\", \"data\": [0.6154653862239455, 0.6154653862239455, 0.6154653862239455, 0.6154653862239455, 0.6154653862239455, 0.6154653862239455, 0.6154653862239455, 0.6154653862239455, 0.6154653862239455, 0.6154653862239455, 0.6154653862239455, 0.6154653862239455, 0.6154653862239455, 0.6154653862239455, 0.6154653862239455, 0.6154653862239455, 0.6154653862239455, 0.6154653862239455, 0.6154653862239455, 0.6154653862239455, 0.6154653862239455, 0.6154653862239455, 0.6154653862239455, 0.6154653862239455, 0.6154653862239455, 0.6154653862239455, 0.6154653862239455, 0.6154653862239455, 0.6154653862239455, 0.6154653862239455, 0.6154653862239455, 0.6154653862239455, 0.6154653862239455, 0.6154653862239455, 0.6159349987894541, 0.6159349987894541]}], \"f1_score_weighted\": [{\"categories\": [\"0\", \"1\", \"2\", \"3\", \"4\", \"5\", \"6\", \"7\", \"8\", \"9\", \"10\", \"11\", \"12\", \"13\", \"14\", \"15\", \"16\", \"17\", \"18\", \"19\", \"20\", \"21\", \"22\", \"23\", \"24\", \"25\", \"26\", \"28\", \"29\", \"30\", \"31\", \"32\", \"33\", \"34\", \"36\", \"37\"], \"mode\": \"markers\", \"name\": \"f1_score_weighted\", \"stepped\": false, \"type\": \"scatter\", \"data\": [0.8741628981052386, 0.8702874187156215, 0.806632121996794, 0.7164368903628001, 0.7828140263502293, 0.7880514099021783, 0.8720730007888245, 0.8699126603247325, 0.8720732084307156, 0.8694003255938944, 0.7164368903628001, 0.8664736756041159, 0.7164368903628001, 0.8721816478159045, 0.7164368903628001, 0.7164368903628001, 0.7342626595591009, 0.7164368903628001, 0.8712924512100653, 0.8694003255938944, 0.8706361773020159, 0.8075027516722161, 0.7585896994461749, 0.8734780393558584, 0.8738020418925357, 0.7164368903628001, 0.8702202094811374, 0.8736361232559814, 0.872570151371646, 0.8727150799008673, 0.8747216983930813, 0.8740822817820391, 0.8694003255938944, 0.8694003255938944, 0.8749436747155427, 0.8755320501788285]}, {\"categories\": [\"0\", \"1\", \"2\", \"3\", \"4\", \"5\", \"6\", \"7\", \"8\", \"9\", \"10\", \"11\", \"12\", \"13\", \"14\", \"15\", \"16\", \"17\", \"18\", \"19\", \"20\", \"21\", \"22\", \"23\", \"24\", \"25\", \"26\", \"28\", \"29\", \"30\", \"31\", \"32\", \"33\", \"34\", \"36\", \"37\"], \"mode\": \"lines\", \"name\": \"f1_score_weighted_max\", \"stepped\": true, \"type\": \"scatter\", \"data\": [0.8741628981052386, 0.8741628981052386, 0.8741628981052386, 0.8741628981052386, 0.8741628981052386, 0.8741628981052386, 0.8741628981052386, 0.8741628981052386, 0.8741628981052386, 0.8741628981052386, 0.8741628981052386, 0.8741628981052386, 0.8741628981052386, 0.8741628981052386, 0.8741628981052386, 0.8741628981052386, 0.8741628981052386, 0.8741628981052386, 0.8741628981052386, 0.8741628981052386, 0.8741628981052386, 0.8741628981052386, 0.8741628981052386, 0.8741628981052386, 0.8741628981052386, 0.8741628981052386, 0.8741628981052386, 0.8741628981052386, 0.8741628981052386, 0.8741628981052386, 0.8747216983930813, 0.8747216983930813, 0.8747216983930813, 0.8747216983930813, 0.8749436747155427, 0.8755320501788285]}]}, \"metricName\": null, \"primaryMetricName\": \"accuracy\", \"showLegend\": false}, \"run_metrics\": [{\"name\": \"experiment_status\", \"run_id\": \"AutoML_41dee557-4822-4d8a-8bba-d12b26a0af4f\", \"categories\": [0, 1, 2, 3, 4, 5, 6, 7, 8, 9, 10, 11, 12, 13], \"series\": [{\"data\": [\"DatasetEvaluation\", \"FeaturesGeneration\", \"DatasetFeaturization\", \"DatasetFeaturizationCompleted\", \"DatasetCrossValidationSplit\", \"ModelSelection\", \"BestRunExplainModel\", \"ModelExplanationDataSetSetup\", \"PickSurrogateModel\", \"EngineeredFeatureExplanations\", \"EngineeredFeatureExplanations\", \"RawFeaturesExplanations\", \"RawFeaturesExplanations\", \"BestRunExplainModel\"]}]}, {\"name\": \"experiment_status_description\", \"run_id\": \"AutoML_41dee557-4822-4d8a-8bba-d12b26a0af4f\", \"categories\": [0, 1, 2, 3, 4, 5, 6, 7, 8, 9, 10, 11, 12, 13], \"series\": [{\"data\": [\"Gathering dataset statistics.\", \"Generating features for the dataset.\", \"Beginning to fit featurizers and featurize the dataset.\", \"Completed fit featurizers and featurizing the dataset.\", \"Generating individually featurized CV splits.\", \"Beginning model selection.\", \"Best run model explanations started\", \"Model explanations data setup completed\", \"Choosing LightGBM as the surrogate model for explanations\", \"Computation of engineered features started\", \"Computation of engineered features completed\", \"Computation of raw features started\", \"Computation of raw features completed\", \"Best run model explanations completed\"]}]}, {\"name\": \"AUC_weighted\", \"run_id\": \"AutoML_41dee557-4822-4d8a-8bba-d12b26a0af4f\", \"categories\": [0], \"series\": [{\"data\": [0.9087526585707221]}]}, {\"name\": \"precision_score_micro\", \"run_id\": \"AutoML_41dee557-4822-4d8a-8bba-d12b26a0af4f\", \"categories\": [0], \"series\": [{\"data\": [0.8898079309185954]}]}, {\"name\": \"weighted_accuracy\", \"run_id\": \"AutoML_41dee557-4822-4d8a-8bba-d12b26a0af4f\", \"categories\": [0], \"series\": [{\"data\": [0.9623699884311456]}]}, {\"name\": \"recall_score_macro\", \"run_id\": \"AutoML_41dee557-4822-4d8a-8bba-d12b26a0af4f\", \"categories\": [0], \"series\": [{\"data\": [0.7322737168323153]}]}, {\"name\": \"balanced_accuracy\", \"run_id\": \"AutoML_41dee557-4822-4d8a-8bba-d12b26a0af4f\", \"categories\": [0], \"series\": [{\"data\": [0.7322737168323153]}]}, {\"name\": \"average_precision_score_micro\", \"run_id\": \"AutoML_41dee557-4822-4d8a-8bba-d12b26a0af4f\", \"categories\": [0], \"series\": [{\"data\": [0.9604768835320133]}]}, {\"name\": \"norm_macro_recall\", \"run_id\": \"AutoML_41dee557-4822-4d8a-8bba-d12b26a0af4f\", \"categories\": [0], \"series\": [{\"data\": [0.4645474336646307]}]}, {\"name\": \"log_loss\", \"run_id\": \"AutoML_41dee557-4822-4d8a-8bba-d12b26a0af4f\", \"categories\": [0], \"series\": [{\"data\": [0.2651385662371372]}]}, {\"name\": \"average_precision_score_macro\", \"run_id\": \"AutoML_41dee557-4822-4d8a-8bba-d12b26a0af4f\", \"categories\": [0], \"series\": [{\"data\": [0.8791435977432909]}]}, {\"name\": \"f1_score_macro\", \"run_id\": \"AutoML_41dee557-4822-4d8a-8bba-d12b26a0af4f\", \"categories\": [0], \"series\": [{\"data\": [0.7813859084067901]}]}, {\"name\": \"precision_score_macro\", \"run_id\": \"AutoML_41dee557-4822-4d8a-8bba-d12b26a0af4f\", \"categories\": [0], \"series\": [{\"data\": [0.9083336529040001]}]}, {\"name\": \"f1_score_weighted\", \"run_id\": \"AutoML_41dee557-4822-4d8a-8bba-d12b26a0af4f\", \"categories\": [0], \"series\": [{\"data\": [0.8749436747155427]}]}, {\"name\": \"AUC_macro\", \"run_id\": \"AutoML_41dee557-4822-4d8a-8bba-d12b26a0af4f\", \"categories\": [0], \"series\": [{\"data\": [0.9087526585707221]}]}, {\"name\": \"recall_score_micro\", \"run_id\": \"AutoML_41dee557-4822-4d8a-8bba-d12b26a0af4f\", \"categories\": [0], \"series\": [{\"data\": [0.8898079309185954]}]}, {\"name\": \"precision_score_weighted\", \"run_id\": \"AutoML_41dee557-4822-4d8a-8bba-d12b26a0af4f\", \"categories\": [0], \"series\": [{\"data\": [0.8942752299428975]}]}, {\"name\": \"accuracy\", \"run_id\": \"AutoML_41dee557-4822-4d8a-8bba-d12b26a0af4f\", \"categories\": [0], \"series\": [{\"data\": [0.8898079309185954]}]}, {\"name\": \"AUC_micro\", \"run_id\": \"AutoML_41dee557-4822-4d8a-8bba-d12b26a0af4f\", \"categories\": [0], \"series\": [{\"data\": [0.9587450582926748]}]}, {\"name\": \"matthews_correlation\", \"run_id\": \"AutoML_41dee557-4822-4d8a-8bba-d12b26a0af4f\", \"categories\": [0], \"series\": [{\"data\": [0.6159349987894541]}]}, {\"name\": \"average_precision_score_weighted\", \"run_id\": \"AutoML_41dee557-4822-4d8a-8bba-d12b26a0af4f\", \"categories\": [0], \"series\": [{\"data\": [0.9375462485051376]}]}, {\"name\": \"recall_score_weighted\", \"run_id\": \"AutoML_41dee557-4822-4d8a-8bba-d12b26a0af4f\", \"categories\": [0], \"series\": [{\"data\": [0.8898079309185954]}]}, {\"name\": \"f1_score_micro\", \"run_id\": \"AutoML_41dee557-4822-4d8a-8bba-d12b26a0af4f\", \"categories\": [0], \"series\": [{\"data\": [0.8898079309185954]}]}], \"run_logs\": \"\\nRun is completed.\", \"graph\": {}, \"widget_settings\": {\"childWidgetDisplay\": \"popup\", \"send_telemetry\": false, \"log_level\": \"INFO\", \"sdk_version\": \"1.22.0\"}, \"loading\": false}"
          },
          "metadata": {}
        },
        {
          "output_type": "stream",
          "name": "stdout",
          "text": [
            "Run(Experiment: udacity-project,\n",
            "Id: AutoML_41dee557-4822-4d8a-8bba-d12b26a0af4f_37,\n",
            "Type: azureml.scriptrun,\n",
            "Status: Completed)\n",
            "Run(Experiment: udacity-project,\n",
            "Id: AutoML_41dee557-4822-4d8a-8bba-d12b26a0af4f_36,\n",
            "Type: azureml.scriptrun,\n",
            "Status: Completed)\n",
            "Run(Experiment: udacity-project,\n",
            "Id: AutoML_41dee557-4822-4d8a-8bba-d12b26a0af4f_35,\n",
            "Type: azureml.scriptrun,\n",
            "Status: Canceled)\n",
            "Run(Experiment: udacity-project,\n",
            "Id: AutoML_41dee557-4822-4d8a-8bba-d12b26a0af4f_34,\n",
            "Type: azureml.scriptrun,\n",
            "Status: Completed)\n",
            "Run(Experiment: udacity-project,\n",
            "Id: AutoML_41dee557-4822-4d8a-8bba-d12b26a0af4f_33,\n",
            "Type: azureml.scriptrun,\n",
            "Status: Completed)\n",
            "Run(Experiment: udacity-project,\n",
            "Id: AutoML_41dee557-4822-4d8a-8bba-d12b26a0af4f_32,\n",
            "Type: azureml.scriptrun,\n",
            "Status: Completed)\n",
            "Run(Experiment: udacity-project,\n",
            "Id: AutoML_41dee557-4822-4d8a-8bba-d12b26a0af4f_31,\n",
            "Type: azureml.scriptrun,\n",
            "Status: Canceled)\n",
            "Run(Experiment: udacity-project,\n",
            "Id: AutoML_41dee557-4822-4d8a-8bba-d12b26a0af4f_30,\n",
            "Type: azureml.scriptrun,\n",
            "Status: Completed)\n",
            "Run(Experiment: udacity-project,\n",
            "Id: AutoML_41dee557-4822-4d8a-8bba-d12b26a0af4f_29,\n",
            "Type: azureml.scriptrun,\n",
            "Status: Completed)\n",
            "Run(Experiment: udacity-project,\n",
            "Id: AutoML_41dee557-4822-4d8a-8bba-d12b26a0af4f_28,\n",
            "Type: azureml.scriptrun,\n",
            "Status: Completed)\n",
            "Run(Experiment: udacity-project,\n",
            "Id: AutoML_41dee557-4822-4d8a-8bba-d12b26a0af4f_27,\n",
            "Type: azureml.scriptrun,\n",
            "Status: Canceled)\n",
            "Run(Experiment: udacity-project,\n",
            "Id: AutoML_41dee557-4822-4d8a-8bba-d12b26a0af4f_26,\n",
            "Type: azureml.scriptrun,\n",
            "Status: Completed)\n",
            "Run(Experiment: udacity-project,\n",
            "Id: AutoML_41dee557-4822-4d8a-8bba-d12b26a0af4f_25,\n",
            "Type: azureml.scriptrun,\n",
            "Status: Completed)\n",
            "Run(Experiment: udacity-project,\n",
            "Id: AutoML_41dee557-4822-4d8a-8bba-d12b26a0af4f_24,\n",
            "Type: azureml.scriptrun,\n",
            "Status: Completed)\n",
            "Run(Experiment: udacity-project,\n",
            "Id: AutoML_41dee557-4822-4d8a-8bba-d12b26a0af4f_23,\n",
            "Type: azureml.scriptrun,\n",
            "Status: Completed)\n",
            "Run(Experiment: udacity-project,\n",
            "Id: AutoML_41dee557-4822-4d8a-8bba-d12b26a0af4f_22,\n",
            "Type: azureml.scriptrun,\n",
            "Status: Completed)\n",
            "Run(Experiment: udacity-project,\n",
            "Id: AutoML_41dee557-4822-4d8a-8bba-d12b26a0af4f_21,\n",
            "Type: azureml.scriptrun,\n",
            "Status: Completed)\n",
            "Run(Experiment: udacity-project,\n",
            "Id: AutoML_41dee557-4822-4d8a-8bba-d12b26a0af4f_20,\n",
            "Type: azureml.scriptrun,\n",
            "Status: Completed)\n",
            "Run(Experiment: udacity-project,\n",
            "Id: AutoML_41dee557-4822-4d8a-8bba-d12b26a0af4f_19,\n",
            "Type: azureml.scriptrun,\n",
            "Status: Completed)\n",
            "Run(Experiment: udacity-project,\n",
            "Id: AutoML_41dee557-4822-4d8a-8bba-d12b26a0af4f_18,\n",
            "Type: azureml.scriptrun,\n",
            "Status: Completed)\n",
            "Run(Experiment: udacity-project,\n",
            "Id: AutoML_41dee557-4822-4d8a-8bba-d12b26a0af4f_17,\n",
            "Type: azureml.scriptrun,\n",
            "Status: Completed)\n",
            "Run(Experiment: udacity-project,\n",
            "Id: AutoML_41dee557-4822-4d8a-8bba-d12b26a0af4f_16,\n",
            "Type: azureml.scriptrun,\n",
            "Status: Completed)\n",
            "Run(Experiment: udacity-project,\n",
            "Id: AutoML_41dee557-4822-4d8a-8bba-d12b26a0af4f_15,\n",
            "Type: azureml.scriptrun,\n",
            "Status: Completed)\n",
            "Run(Experiment: udacity-project,\n",
            "Id: AutoML_41dee557-4822-4d8a-8bba-d12b26a0af4f_14,\n",
            "Type: azureml.scriptrun,\n",
            "Status: Completed)\n",
            "Run(Experiment: udacity-project,\n",
            "Id: AutoML_41dee557-4822-4d8a-8bba-d12b26a0af4f_13,\n",
            "Type: azureml.scriptrun,\n",
            "Status: Completed)\n",
            "Run(Experiment: udacity-project,\n",
            "Id: AutoML_41dee557-4822-4d8a-8bba-d12b26a0af4f_12,\n",
            "Type: azureml.scriptrun,\n",
            "Status: Completed)\n",
            "Run(Experiment: udacity-project,\n",
            "Id: AutoML_41dee557-4822-4d8a-8bba-d12b26a0af4f_11,\n",
            "Type: azureml.scriptrun,\n",
            "Status: Completed)\n",
            "Run(Experiment: udacity-project,\n",
            "Id: AutoML_41dee557-4822-4d8a-8bba-d12b26a0af4f_10,\n",
            "Type: azureml.scriptrun,\n",
            "Status: Completed)\n",
            "Run(Experiment: udacity-project,\n",
            "Id: AutoML_41dee557-4822-4d8a-8bba-d12b26a0af4f_9,\n",
            "Type: azureml.scriptrun,\n",
            "Status: Completed)\n",
            "Run(Experiment: udacity-project,\n",
            "Id: AutoML_41dee557-4822-4d8a-8bba-d12b26a0af4f_8,\n",
            "Type: azureml.scriptrun,\n",
            "Status: Completed)\n",
            "Run(Experiment: udacity-project,\n",
            "Id: AutoML_41dee557-4822-4d8a-8bba-d12b26a0af4f_7,\n",
            "Type: azureml.scriptrun,\n",
            "Status: Completed)\n",
            "Run(Experiment: udacity-project,\n",
            "Id: AutoML_41dee557-4822-4d8a-8bba-d12b26a0af4f_6,\n",
            "Type: azureml.scriptrun,\n",
            "Status: Completed)\n",
            "Run(Experiment: udacity-project,\n",
            "Id: AutoML_41dee557-4822-4d8a-8bba-d12b26a0af4f_5,\n",
            "Type: azureml.scriptrun,\n",
            "Status: Completed)\n",
            "Run(Experiment: udacity-project,\n",
            "Id: AutoML_41dee557-4822-4d8a-8bba-d12b26a0af4f_4,\n",
            "Type: azureml.scriptrun,\n",
            "Status: Completed)\n",
            "Run(Experiment: udacity-project,\n",
            "Id: AutoML_41dee557-4822-4d8a-8bba-d12b26a0af4f_3,\n",
            "Type: azureml.scriptrun,\n",
            "Status: Completed)\n",
            "Run(Experiment: udacity-project,\n",
            "Id: AutoML_41dee557-4822-4d8a-8bba-d12b26a0af4f_0,\n",
            "Type: azureml.scriptrun,\n",
            "Status: Completed)\n",
            "Run(Experiment: udacity-project,\n",
            "Id: AutoML_41dee557-4822-4d8a-8bba-d12b26a0af4f_1,\n",
            "Type: azureml.scriptrun,\n",
            "Status: Completed)\n",
            "Run(Experiment: udacity-project,\n",
            "Id: AutoML_41dee557-4822-4d8a-8bba-d12b26a0af4f_2,\n",
            "Type: azureml.scriptrun,\n",
            "Status: Completed)\n"
          ]
        }
      ],
      "execution_count": 10,
      "metadata": {
        "gather": {
          "logged": 1615136928402
        }
      }
    },
    {
      "source": [
        "## Best Model\n",
        "\n",
        "TODO: In the cell below, get the best model from the automl experiments and display all the properties of the model."
      ],
      "cell_type": "markdown",
      "metadata": {}
    },
    {
      "cell_type": "code",
      "source": [
        "# Retrieve and save your best automl model.\n",
        "\n",
        "best_run, fitted_model = remote_run.get_output()\n",
        "print('Best Run Id: ', best_run.id)\n",
        "print('\\nAccuracy: ', best_run.get_metrics()['accuracy'])\n",
        "print(fitted_model)"
      ],
      "outputs": [
        {
          "output_type": "stream",
          "name": "stderr",
          "text": [
            "WARNING:root:The version of the SDK does not match the version the model was trained on.\n",
            "WARNING:root:The consistency in the result may not be guaranteed.\n",
            "WARNING:root:Package:azureml-automl-core, training version:1.23.0, current version:1.22.0\n",
            "Package:azureml-automl-runtime, training version:1.23.0, current version:1.22.0\n",
            "Package:azureml-core, training version:1.23.0, current version:1.22.0\n",
            "Package:azureml-dataprep, training version:2.10.1, current version:2.9.1\n",
            "Package:azureml-dataprep-native, training version:30.0.0, current version:29.0.0\n",
            "Package:azureml-dataprep-rslex, training version:1.8.0, current version:1.7.0\n",
            "Package:azureml-dataset-runtime, training version:1.23.0, current version:1.22.0\n",
            "Package:azureml-defaults, training version:1.23.0, current version:1.22.0\n",
            "Package:azureml-interpret, training version:1.23.0, current version:1.22.0\n",
            "Package:azureml-mlflow, training version:1.23.0, current version:1.22.0\n",
            "Package:azureml-pipeline-core, training version:1.23.0, current version:1.22.0\n",
            "Package:azureml-telemetry, training version:1.23.0, current version:1.22.0\n",
            "Package:azureml-train-automl-client, training version:1.23.0, current version:1.22.0\n",
            "Package:azureml-train-automl-runtime, training version:1.23.0, current version:1.22.0\n",
            "WARNING:root:Please ensure the version of your local conda dependencies match the version on which your model was trained in order to properly retrieve your model.\n"
          ]
        },
        {
          "output_type": "stream",
          "name": "stdout",
          "text": [
            "Best Run Id:  AutoML_41dee557-4822-4d8a-8bba-d12b26a0af4f_36\n",
            "\n",
            "Accuracy:  0.8898079309185954\n",
            "Pipeline(memory=None,\n",
            "         steps=[('datatransformer',\n",
            "                 DataTransformer(enable_dnn=None, enable_feature_sweeping=None,\n",
            "                                 feature_sweeping_config=None,\n",
            "                                 feature_sweeping_timeout=None,\n",
            "                                 featurization_config=None, force_text_dnn=None,\n",
            "                                 is_cross_validation=None,\n",
            "                                 is_onnx_compatible=None, logger=None,\n",
            "                                 observer=None, task=None, working_dir=None)),\n",
            "                ('prefittedsoftvotingclassifier',...\n",
            "                                                                                                    min_samples_leaf=0.01,\n",
            "                                                                                                    min_samples_split=0.01,\n",
            "                                                                                                    min_weight_fraction_leaf=0.0,\n",
            "                                                                                                    n_estimators=25,\n",
            "                                                                                                    n_jobs=-1,\n",
            "                                                                                                    oob_score=True,\n",
            "                                                                                                    random_state=None,\n",
            "                                                                                                    verbose=0,\n",
            "                                                                                                    warm_start=False))],\n",
            "                                                                     verbose=False))],\n",
            "                                               flatten_transform=None,\n",
            "                                               weights=[0.21428571428571427,\n",
            "                                                        0.35714285714285715,\n",
            "                                                        0.21428571428571427,\n",
            "                                                        0.07142857142857142,\n",
            "                                                        0.07142857142857142,\n",
            "                                                        0.07142857142857142]))],\n",
            "         verbose=False)\n"
          ]
        }
      ],
      "execution_count": 11,
      "metadata": {
        "gather": {
          "logged": 1615136952534
        }
      }
    },
    {
      "cell_type": "code",
      "source": [
        "# Download the model file\n",
        "\n",
        "best_run.download_file('outputs/model.pkl', 'Automl_model.pkl')"
      ],
      "outputs": [],
      "execution_count": 12,
      "metadata": {
        "collapsed": true,
        "jupyter": {
          "source_hidden": false,
          "outputs_hidden": false
        },
        "nteract": {
          "transient": {
            "deleting": false
          }
        },
        "gather": {
          "logged": 1615136999175
        }
      }
    },
    {
      "source": [
        "## Model Deployment\n",
        "\n",
        "Remember you have to deploy only one of the two models you trained.. Perform the steps in the rest of this notebook only if you wish to deploy this model.\n",
        "\n",
        "TODO: In the cell below, register the model, create an inference config and deploy the model as a web service."
      ],
      "cell_type": "markdown",
      "metadata": {}
    },
    {
      "cell_type": "code",
      "source": [
        "# Get best model\n",
        "best_run.register_model(model_name = \"best_run_automl.pkl\", model_path = './outputs/')\n",
        "best_run.get_file_names()\n",
        "best_run.download_file('outputs/conda_env_v_1_0_0.yml', 'env.yml')\n",
        "\n",
        "# Register the model\n",
        "model = remote_run.register_model(model_name = 'best_run_automl.pkl')\n",
        "\n",
        "# Create inference\n",
        "environment = best_run.get_environment()\n",
        "entry_script='inference/scoring.py'\n",
        "best_run.download_file('outputs/scoring_file_v_1_0_0.py', entry_script)\n",
        "inference_config = InferenceConfig(entry_script = entry_script, environment = environment)\n",
        "\n",
        "# Deploy model as web service (ACI)\n",
        "deployment_config = AciWebservice.deploy_configuration(cpu_cores = 1, \n",
        "                                                    memory_gb = 1, \n",
        "                                                    auth_enabled= True, \n",
        "                                                    enable_app_insights= True)\n",
        "\n",
        "service = Model.deploy(ws, \"aciservice\", [model], inference_config, deployment_config)\n",
        "service.wait_for_deployment(show_output = True)"
      ],
      "outputs": [
        {
          "output_type": "stream",
          "name": "stdout",
          "text": [
            "Tips: You can try get_logs(): https://aka.ms/debugimage#dockerlog or local deployment: https://aka.ms/debugimage#debug-locally to debug if deployment takes longer than 10 minutes.\n",
            "Running............................................\n",
            "Succeeded\n",
            "ACI service creation operation finished, operation \"Succeeded\"\n"
          ]
        }
      ],
      "execution_count": 13,
      "metadata": {
        "collapsed": true,
        "jupyter": {
          "source_hidden": false,
          "outputs_hidden": false
        },
        "nteract": {
          "transient": {
            "deleting": false
          }
        },
        "gather": {
          "logged": 1615137233453
        }
      }
    },
    {
      "cell_type": "code",
      "source": [
        "# Getting the service parameters\n",
        "\n",
        "primary, secondary = service.get_keys()\n",
        "\n",
        "print('Service state: ' + service.state)\n",
        "print('Service scoring URI: ' + service.scoring_uri)\n",
        "print('Service Swagger URI: ' + service.swagger_uri)\n",
        "print('Service primary authentication key: ' + primary)"
      ],
      "outputs": [
        {
          "output_type": "stream",
          "name": "stdout",
          "text": [
            "Service state: Healthy\n",
            "Service scoring URI: http://08dc83d0-246a-4281-a39b-82285f763de5.southcentralus.azurecontainer.io/score\n",
            "Service Swagger URI: http://08dc83d0-246a-4281-a39b-82285f763de5.southcentralus.azurecontainer.io/swagger.json\n",
            "Service primary authentication key: Qa3dicRCEK5IRa91sY3pMXm5BAdR210X\n"
          ]
        }
      ],
      "execution_count": 14,
      "metadata": {
        "collapsed": true,
        "jupyter": {
          "source_hidden": false,
          "outputs_hidden": false
        },
        "nteract": {
          "transient": {
            "deleting": false
          }
        },
        "gather": {
          "logged": 1615137246472
        }
      }
    },
    {
      "cell_type": "code",
      "source": [
        "# Getting two different values from the data to test the deployed model\n",
        "# The data in the script.py has to be modified with these new dictionaires\n",
        "\n",
        "# Loan defaulted\n",
        "test_1 = x.iloc[4]\n",
        "result_1 = test_1.to_json()\n",
        "parsed_1 = json.loads(result_1)\n",
        "\n",
        "# Loan repaid\n",
        "test_2 = x.iloc[278]\n",
        "result_2 = test_2.to_json()\n",
        "parsed_2 = json.loads(result_2)\n",
        "\n",
        "data = {'data': [parsed_1,parsed_2]}\n",
        "\n",
        "print('data = {}'.format(data))\n"
      ],
      "outputs": [
        {
          "output_type": "stream",
          "name": "stdout",
          "text": [
            "data = {'data': [{'loan_amnt': 24375.0, 'term': 60, 'int_rate': 17.27, 'installment': 609.33, 'annual_inc': 55000.0, 'dti': 33.95, 'earliest_cr_line': 1999, 'open_acc': 13.0, 'pub_rec': 0.0, 'revol_bal': 24584.0, 'revol_util': 69.8, 'total_acc': 43.0, 'mort_acc': 1.0, 'pub_rec_bankruptcies': 0.0, 'zip_code': '11650', 'sub_grade_A2': 0, 'sub_grade_A3': 0, 'sub_grade_A4': 0, 'sub_grade_A5': 0, 'sub_grade_B1': 0, 'sub_grade_B2': 0, 'sub_grade_B3': 0, 'sub_grade_B4': 0, 'sub_grade_B5': 0, 'sub_grade_C1': 0, 'sub_grade_C2': 0, 'sub_grade_C3': 0, 'sub_grade_C4': 0, 'sub_grade_C5': 1, 'sub_grade_D1': 0, 'sub_grade_D2': 0, 'sub_grade_D3': 0, 'sub_grade_D4': 0, 'sub_grade_D5': 0, 'sub_grade_E1': 0, 'sub_grade_E2': 0, 'sub_grade_E3': 0, 'sub_grade_E4': 0, 'sub_grade_E5': 0, 'sub_grade_F1': 0, 'sub_grade_F2': 0, 'sub_grade_F3': 0, 'sub_grade_F4': 0, 'sub_grade_F5': 0, 'sub_grade_G1': 0, 'sub_grade_G2': 0, 'sub_grade_G3': 0, 'sub_grade_G4': 0, 'sub_grade_G5': 0, 'verification_status_Source Verified': 0, 'verification_status_Verified': 1, 'application_type_INDIVIDUAL': 1, 'application_type_JOINT': 0, 'initial_list_status_w': 0, 'home_ownership_OTHER': 0, 'home_ownership_OWN': 0, 'home_ownership_RENT': 0, 'purpose_credit_card': 1, 'purpose_debt_consolidation': 0, 'purpose_educational': 0, 'purpose_home_improvement': 0, 'purpose_house': 0, 'purpose_major_purchase': 0, 'purpose_medical': 0, 'purpose_moving': 0, 'purpose_other': 0, 'purpose_renewable_energy': 0, 'purpose_small_business': 0, 'purpose_vacation': 0, 'purpose_wedding': 0}, {'loan_amnt': 8000.0, 'term': 36, 'int_rate': 15.31, 'installment': 278.54, 'annual_inc': 22050.0, 'dti': 25.75, 'earliest_cr_line': 2005, 'open_acc': 8.0, 'pub_rec': 0.0, 'revol_bal': 4030.0, 'revol_util': 56.0, 'total_acc': 15.0, 'mort_acc': 0.0, 'pub_rec_bankruptcies': 0.0, 'zip_code': '30723', 'sub_grade_A2': 0, 'sub_grade_A3': 0, 'sub_grade_A4': 0, 'sub_grade_A5': 0, 'sub_grade_B1': 0, 'sub_grade_B2': 0, 'sub_grade_B3': 0, 'sub_grade_B4': 0, 'sub_grade_B5': 0, 'sub_grade_C1': 0, 'sub_grade_C2': 0, 'sub_grade_C3': 0, 'sub_grade_C4': 1, 'sub_grade_C5': 0, 'sub_grade_D1': 0, 'sub_grade_D2': 0, 'sub_grade_D3': 0, 'sub_grade_D4': 0, 'sub_grade_D5': 0, 'sub_grade_E1': 0, 'sub_grade_E2': 0, 'sub_grade_E3': 0, 'sub_grade_E4': 0, 'sub_grade_E5': 0, 'sub_grade_F1': 0, 'sub_grade_F2': 0, 'sub_grade_F3': 0, 'sub_grade_F4': 0, 'sub_grade_F5': 0, 'sub_grade_G1': 0, 'sub_grade_G2': 0, 'sub_grade_G3': 0, 'sub_grade_G4': 0, 'sub_grade_G5': 0, 'verification_status_Source Verified': 0, 'verification_status_Verified': 1, 'application_type_INDIVIDUAL': 1, 'application_type_JOINT': 0, 'initial_list_status_w': 1, 'home_ownership_OTHER': 0, 'home_ownership_OWN': 0, 'home_ownership_RENT': 1, 'purpose_credit_card': 0, 'purpose_debt_consolidation': 1, 'purpose_educational': 0, 'purpose_home_improvement': 0, 'purpose_house': 0, 'purpose_major_purchase': 0, 'purpose_medical': 0, 'purpose_moving': 0, 'purpose_other': 0, 'purpose_renewable_energy': 0, 'purpose_small_business': 0, 'purpose_vacation': 0, 'purpose_wedding': 0}]}\n"
          ]
        }
      ],
      "execution_count": 18,
      "metadata": {
        "gather": {
          "logged": 1615138898756
        }
      }
    },
    {
      "source": [
        "TODO: In the cell below, send a request to the web service you deployed to test it."
      ],
      "cell_type": "markdown",
      "metadata": {}
    },
    {
      "cell_type": "code",
      "source": [
        "# Consuming model endpoint\n",
        "# Send request to deployed service.\n",
        "# The endpoint.py has been modified to contain the REST point URL,\n",
        "# primary key and the two new JSON strings for testing\n",
        "\n",
        "%run endpoint.py"
      ],
      "outputs": [
        {
          "output_type": "stream",
          "name": "stdout",
          "text": [
            "If result is 1, loan has been repaid\n",
            "{\"result\": [0, 1]}\n"
          ]
        }
      ],
      "execution_count": 19,
      "metadata": {
        "collapsed": true,
        "jupyter": {
          "source_hidden": false,
          "outputs_hidden": false
        },
        "nteract": {
          "transient": {
            "deleting": false
          }
        },
        "gather": {
          "logged": 1615138916943
        }
      }
    },
    {
      "source": [
        "TODO: In the cell below, print the logs of the web service and delete the service"
      ],
      "cell_type": "markdown",
      "metadata": {}
    },
    {
      "cell_type": "code",
      "source": [
        "# Logging\n",
        "\n",
        "print(service.get_logs())"
      ],
      "outputs": [
        {
          "output_type": "stream",
          "name": "stdout",
          "text": [
            "2021-03-07T17:13:31,212359000+00:00 - rsyslog/run \n",
            "2021-03-07T17:13:31,219495300+00:00 - nginx/run \n",
            "2021-03-07T17:13:31,215019000+00:00 - gunicorn/run \n",
            "2021-03-07T17:13:31,214124800+00:00 - iot-server/run \n",
            "/usr/sbin/nginx: /azureml-envs/azureml_661474bbe74e96b5d8added5888dfc85/lib/libcrypto.so.1.0.0: no version information available (required by /usr/sbin/nginx)\n",
            "/usr/sbin/nginx: /azureml-envs/azureml_661474bbe74e96b5d8added5888dfc85/lib/libcrypto.so.1.0.0: no version information available (required by /usr/sbin/nginx)\n",
            "/usr/sbin/nginx: /azureml-envs/azureml_661474bbe74e96b5d8added5888dfc85/lib/libssl.so.1.0.0: no version information available (required by /usr/sbin/nginx)\n",
            "/usr/sbin/nginx: /azureml-envs/azureml_661474bbe74e96b5d8added5888dfc85/lib/libssl.so.1.0.0: no version information available (required by /usr/sbin/nginx)\n",
            "/usr/sbin/nginx: /azureml-envs/azureml_661474bbe74e96b5d8added5888dfc85/lib/libssl.so.1.0.0: no version information available (required by /usr/sbin/nginx)\n",
            "rsyslogd: /azureml-envs/azureml_661474bbe74e96b5d8added5888dfc85/lib/libuuid.so.1: no version information available (required by rsyslogd)\n",
            "EdgeHubConnectionString and IOTEDGE_IOTHUBHOSTNAME are not set. Exiting...\n",
            "2021-03-07T17:13:32,959757800+00:00 - iot-server/finish 1 0\n",
            "2021-03-07T17:13:32,961541600+00:00 - Exit code 1 is normal. Not restarting iot-server.\n",
            "Starting gunicorn 19.9.0\n",
            "Listening at: http://127.0.0.1:31311 (68)\n",
            "Using worker: sync\n",
            "worker timeout is set to 300\n",
            "Booting worker with pid: 97\n",
            "SPARK_HOME not set. Skipping PySpark Initialization.\n",
            "Generating new fontManager, this may take some time...\n",
            "Initializing logger\n",
            "2021-03-07 17:13:38,005 | root | INFO | Starting up app insights client\n",
            "2021-03-07 17:13:38,006 | root | INFO | Starting up request id generator\n",
            "2021-03-07 17:13:38,006 | root | INFO | Starting up app insight hooks\n",
            "2021-03-07 17:13:38,008 | root | INFO | Invoking user's init function\n",
            "2021-03-07 17:13:47,563 | azureml.core | WARNING | Failure while loading azureml_run_type_providers. Failed to load entrypoint automl = azureml.train.automl.run:AutoMLRun._from_run_dto with exception (cryptography 3.2 (/azureml-envs/azureml_661474bbe74e96b5d8added5888dfc85/lib/python3.6/site-packages), Requirement.parse('cryptography<4.0.0,>=3.3.1; extra == \"crypto\"'), {'PyJWT'}).\n",
            "Failure while loading azureml_run_type_providers. Failed to load entrypoint automl = azureml.train.automl.run:AutoMLRun._from_run_dto with exception (cryptography 3.2 (/azureml-envs/azureml_661474bbe74e96b5d8added5888dfc85/lib/python3.6/site-packages), Requirement.parse('cryptography<4.0.0,>=3.3.1; extra == \"crypto\"'), {'PyJWT'}).\n",
            "2021-03-07 17:13:48,480 | root | INFO | Users's init has completed successfully\n",
            "2021-03-07 17:13:48,522 | root | INFO | Skipping middleware: dbg_model_info as it's not enabled.\n",
            "2021-03-07 17:13:48,522 | root | INFO | Skipping middleware: dbg_resource_usage as it's not enabled.\n",
            "2021-03-07 17:13:48,528 | root | INFO | Scoring timeout is found from os.environ: 60000 ms\n",
            "2021-03-07 17:13:48,549 | root | INFO | 200\n",
            "127.0.0.1 - - [07/Mar/2021:17:13:48 +0000] \"GET /swagger.json HTTP/1.0\" 200 7510 \"-\" \"Go-http-client/1.1\"\n",
            "2021-03-07 17:13:53,145 | root | INFO | 200\n",
            "127.0.0.1 - - [07/Mar/2021:17:13:53 +0000] \"GET /swagger.json HTTP/1.0\" 200 7510 \"-\" \"Go-http-client/1.1\"\n",
            "2021-03-07 17:15:37,399 | root | INFO | Validation Request Content-Type\n",
            "2021-03-07 17:15:37,400 | root | INFO | Scoring Timer is set to 60.0 seconds\n",
            "2021-03-07 17:15:38,107 | root | INFO | 200\n",
            "127.0.0.1 - - [07/Mar/2021:17:15:38 +0000] \"POST /score HTTP/1.0\" 200 22 \"-\" \"python-requests/2.25.1\"\n",
            "2021-03-07 17:36:35,581 | root | INFO | 200\n",
            "127.0.0.1 - - [07/Mar/2021:17:36:35 +0000] \"GET /swagger.json HTTP/1.0\" 200 7510 \"-\" \"Go-http-client/1.1\"\n",
            "2021-03-07 17:38:36,873 | root | INFO | 200\n",
            "127.0.0.1 - - [07/Mar/2021:17:38:36 +0000] \"GET /swagger.json HTTP/1.0\" 200 7510 \"-\" \"Go-http-client/1.1\"\n",
            "2021-03-07 17:41:56,186 | root | INFO | Validation Request Content-Type\n",
            "2021-03-07 17:41:56,188 | root | INFO | Scoring Timer is set to 60.0 seconds\n",
            "2021-03-07 17:41:56,803 | root | INFO | 200\n",
            "127.0.0.1 - - [07/Mar/2021:17:41:56 +0000] \"POST /score HTTP/1.0\" 200 22 \"-\" \"python-requests/2.25.1\"\n",
            "\n"
          ]
        }
      ],
      "execution_count": 20,
      "metadata": {
        "gather": {
          "logged": 1615138934538
        }
      }
    },
    {
      "cell_type": "code",
      "source": [
        "# Deleting service\n",
        "\n",
        "service.delete()"
      ],
      "outputs": [],
      "execution_count": null,
      "metadata": {}
    },
    {
      "cell_type": "code",
      "source": [
        "# Cluster clean-up\n",
        "\n",
        "compute_target.delete()"
      ],
      "outputs": [],
      "execution_count": 17,
      "metadata": {}
    },
    {
      "cell_type": "code",
      "source": [
        "compute_target"
      ],
      "outputs": [
        {
          "output_type": "execute_result",
          "execution_count": 18,
          "data": {
            "text/plain": "AmlCompute(workspace=Workspace.create(name='quick-starts-ws-126905', subscription_id='82648f26-b738-43a4-9ebb-f954c9f1ff3a', resource_group='aml-quickstarts-126905'), name=cpu-cluster, id=/subscriptions/82648f26-b738-43a4-9ebb-f954c9f1ff3a/resourceGroups/aml-quickstarts-126905/providers/Microsoft.MachineLearningServices/workspaces/quick-starts-ws-126905/computes/cpu-cluster, type=AmlCompute, provisioning_state=Deleting, location=southcentralus, tags=None)"
          },
          "metadata": {}
        },
        {
          "output_type": "stream",
          "name": "stdout",
          "text": [
            "Current provisioning state of AmlCompute is \"Deleting\"\n",
            "\n",
            "Current provisioning state of AmlCompute is \"Deleting\"\n",
            "\n"
          ]
        }
      ],
      "execution_count": 18,
      "metadata": {}
    },
    {
      "cell_type": "code",
      "source": [],
      "outputs": [],
      "execution_count": null,
      "metadata": {}
    }
  ],
  "metadata": {
    "kernelspec": {
      "name": "python3",
      "language": "python",
      "display_name": "Python 3"
    },
    "language_info": {
      "name": "python",
      "version": "3.6.9",
      "mimetype": "text/x-python",
      "codemirror_mode": {
        "name": "ipython",
        "version": 3
      },
      "pygments_lexer": "ipython3",
      "nbconvert_exporter": "python",
      "file_extension": ".py"
    },
    "kernel_info": {
      "name": "python3"
    },
    "nteract": {
      "version": "nteract-front-end@1.0.0"
    },
    "microsoft": {
      "host": {
        "AzureML": {
          "notebookHasBeenCompleted": true
        }
      }
    }
  },
  "nbformat": 4,
  "nbformat_minor": 4
}